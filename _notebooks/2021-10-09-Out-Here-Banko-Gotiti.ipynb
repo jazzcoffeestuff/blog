{
 "cells": [
  {
   "cell_type": "markdown",
   "metadata": {},
   "source": [
    "# \"Out Here and Banko Gotiti\"\n",
    "> \"This week we have a bit of a funky anaerobic 'strawberry' coffee from the Banko Gotito wet-mill in Yirgacheffe, Ethiopia. Expertly roasted by the folks at Crankhouse coffee. Alongside we serve up the 2013 Christian McBride release 'Out Here', a swinging trio affair.\"\n",
    "- toc: false\n",
    "- author: Lewis Cole (2021)\n",
    "- branch: master\n",
    "- badges: false\n",
    "- comments: false\n",
    "- categories: [Jazz, Coffee, Christian-McBride, 2010s, Crankhouse, Heirloom, Anaerobic, Ethiopia]\n",
    "- hide: false\n",
    "- search_exclude: false\n",
    "- image: https://github.com/jazzcoffeestuff/blog/raw/master/images/076-Out-Here/Out-Here.jpg"
   ]
  },
  {
   "cell_type": "markdown",
   "metadata": {},
   "source": [
    "> youtube: https://youtu.be/fQVeWl6hqDc\n",
    "\n",
    "This week we head back to Devon based roaster: Crankhouse Coffee. Crankhouse have appeared on the blog a few times before and they're a very dependable roaster and regularly provide stellar coffee. As of late I've noticed they're particularly good for the \"funkier\" styles of coffee with more ambitious processing methods. And this weeks coffee provides an example of this.\n",
    "\n",
    "This weeks coffee comes from Yirgacheffe, Eithiopia - one of the more recognizable and prized growing regions within Ethiopia. The name of this coffee is: \"Banko Gotiti Anaerobic (Strawberry)\". Banko Gotiti is the name of the wet-mill where the coffee is processed. As you would expect this coffee has undergone an anaerobic processing step within sealed containers at a specific temperature, this allows more complex and interesting flavours to develop. This particular lot has code-name \"strawberry\" which gives some indication as to what we can expect in the cup. As with many Ethiopian coffees the cultivar is just listed as \"heirloom\".\n",
    "\n",
    "Let's dive straight in to the coffee itself: on the dry aroma I am initially hit with a somewhat typical \"boozy\" note you'd expect from a Yirgacheffe natural, however alongside this are some strong fruity notes and hints of chocolate and baking spices. Before even making a cup you can tell this is going to be a very complex cup. \n",
    "\n",
    "As a filter the \"strawberry\" from the name is instantly apparent, along with the other notes we had on the nose. The best way I can describe the flavour is a dark chocolate liqueur with a strawberry cream type filling. But I could also be persuaded by a \"black forest gateau\" as a descriptor. As you would expect from a funky flavour profile such as this the cup is not the cleanest you'll ever have in your life but it is certainly not a \"farmyard\" natural either. The sweetness is very high and the acidity somewhat muted while the mouthfeel and body are fairly high. While the flavour profile is quite complex this cup is quite \"linear\" with temperature and the profile doesn't really change much as it cools. This quality means that while it's complex, you can enjoy it just as much as an everyday cup while doing other acitivities.\n",
    "\n",
    "Moving over to the espresso side of things now. As you may recall I recently bought a new espresso grinder and I'm still getting to grips with it. Usually I like to talk about how easy a coffee is to dial in, but that is hard until I get a good baseline with this grinder. That said I didn't have a single \"sink job\" with this coffee so I feel it can't be an absolute pig to dial in. I found that I liked a fairly short ratio with this one, around 1:2.1 or so, as with other coffees on this grinder I liked a pull time of 22s. Keeping things shorter emphasised the body and mouthfeel a bit more and going longer didn't really increase sweetness or clarity any more. The flavour profile is much the same as the filter and the \"dark chocolate strawberry liqueur\" comes through even stronger. To me this is really where this coffee shines, the filter was good but the espresso spectacular.\n",
    "\n",
    "As you'd expect from Crankhouse another good coffee that will be missed. I also like the price-point that Crankhouse hit with this (and other coffees) where it's a bit more expensive than your \"typical\" coffees but not an over-the-top unobtainium pricing. It allows you to try more of these super interesting quality coffees without busting the bank.\n",
    "\n",
    "On the jazz side this week I found myself digging out a 2013 release: \"Out Here\" from the Christian McBride Trio.\n",
    "\n",
    "![](https://github.com/jazzcoffeestuff/blog/raw/master/images/076-Out-Here/Out-Here.jpg)\n",
    "\n",
    "Christian McBride is one of the most critically acclaimed and in-demand jazz bassists out there today. His career started in the early 1990s and he has been consistently active ever since. He has worked with some of the greatest jazz musicians ever including:  Joe Henderson, Pat Metheny, Chick Corea, Freddie Hubbard, McCoy Tyner, Herbie Hancock, Roy Haynes and many more. Outside of jazz he has even worked with the likes of Paul McCartney, Sting, Isaac Hayes, Carly Simon and others. Through the 2000s and 2010s he saw his career shift from being a \"new kid on the block\" to one of the pre-eminent artists in the jazz world. This is something that does not come easily. His personality and demeanour likely helped with this as he is one of a select few jazz musicians who can combine chops with genuine charisma and stage presence. This is very evident in his radio show on NPR \"Jazz Night in America\" - which is well worth a listen as it is always fulled with insights, stories and of course great music.\n",
    "\n",
    "> youtube: https://youtu.be/51S2lWEUH\n",
    "\n",
    "On \"Out Here\" Christian is joined by two younger up and coming musicians in the form of: Christian Sands on the piano and Ulysses Owens Jr on the drums. Both of whom also appeared on McBride's other 2013 release \"People Music\". While \"People Music\" leant more into original compositions in the post-bop style within the quintet format; \"Out Here\" is more of a straight swinging trio affair with 7 of the 9 tracks being standards. I feel this makes \"Out Here\" very approachable as an album, but that is not a slight at the musicianship.\n",
    "\n",
    "Playing such \"simple\" swinging tunes there is no place to hide and as jazz has grown to become increasingly complex finding younger musicians who can really swing is increasingly rare. Under McBride's tutelage Sands and Owens do a fantastic job. The tunes are energetic amd the solos wild but respectful of the music. I'm sure many other young musicians would have come in and thrown down needlessly show-y solos which would feel out of place. Sands in particular really stands out to me and this was probably the album that made me really take notice of him as a musician.\n",
    "\n",
    "When curating an album of (mostly) standards track selection becomes crucially important. Obviously there are \"crowd pleaser\" standards that people want to hear, but an album consisting of these will typically get quickly forgotten. Instead you typically want to balance these with \"non-standard standards\" - tunes that few musicians have thought of interpreting. McBride has done a great job here, we have a few crowd pleasers: \"Cherokee\", \"East of the Sun\" and the fantastic rendition of \"My Favourite Things\" (above) along with some slightly more obscure standards like \"Hallelujah Time\" (at the start of this post) and \"Easy Walker\" and then perhaps the highlight of the album: a take on Johnnie Taylor's \"Who's Making Love?\" (a Stax record classic). \n",
    "\n",
    "> youtube: https://youtu.be/OvrHiNVNoTo\n",
    "\n",
    "Albums like \"Out Here\" are easy to forget about or overlook, so it is fun to look back at these every now and again. While not a \"groundbreaking\" album in any sense, it acts as a great example of what happens when you get three musicians into a room and just let them play. It is a joy to hear the energy between all the musicians here. Of course the real standout is McBride's band leading and it is a shining example for any bass player on how to drive a tune forward."
   ]
  },
  {
   "cell_type": "code",
   "execution_count": null,
   "metadata": {},
   "outputs": [],
   "source": []
  }
 ],
 "metadata": {
  "kernelspec": {
   "display_name": "Python 3",
   "language": "python",
   "name": "python3"
  },
  "language_info": {
   "codemirror_mode": {
    "name": "ipython",
    "version": 3
   },
   "file_extension": ".py",
   "mimetype": "text/x-python",
   "name": "python",
   "nbconvert_exporter": "python",
   "pygments_lexer": "ipython3",
   "version": "3.8.8"
  }
 },
 "nbformat": 4,
 "nbformat_minor": 2
}

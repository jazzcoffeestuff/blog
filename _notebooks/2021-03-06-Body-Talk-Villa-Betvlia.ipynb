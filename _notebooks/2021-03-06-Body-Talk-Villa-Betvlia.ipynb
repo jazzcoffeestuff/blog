{
 "cells": [
  {
   "cell_type": "markdown",
   "metadata": {},
   "source": [
    "# \"Body Talk and Villa Betvlia\"\n",
    "> \"Featuring a new roaster: Brew Coffee Plus on the blog we look at a naturally processed Colombian coffee. Served alongside is George Benson's 1973 release 'Body Talk'\"\n",
    "- toc: false\n",
    "- author: Lewis Cole (2021)\n",
    "- branch: master\n",
    "- badges: false\n",
    "- comments: false\n",
    "- categories: [Jazz, Coffee, George-Benson, 1970s, Brew-Coffee-Plus, Colombia, Natural, Caturra]\n",
    "- hide: false\n",
    "- search_exclude: false\n",
    "- image: https://github.com/jazzcoffeestuff/blog/raw/master/images/046-Body-Talk/Body-Talk.jpg"
   ]
  },
  {
   "cell_type": "markdown",
   "metadata": {},
   "source": [
    "> youtube: https://youtu.be/Z76Sl2rwlUw\n",
    "\n",
    "This week we are welcoming a new coffee roaster to the blog: Brew Coffee Plus. Located in Streatham, South London - these guys have been on my radar for a while but I haven't got round to trying them. They tick a few boxes for things I typically look for in a roaster: a concise offering, focusing on quality over quantity. Plus their packaging is attractive but simple. You can read more about them on their website: https://brewcoffeeplus.com/\n",
    "\n",
    "This time I opted for one of their Colombian offerings - Villa Betvlia - a Caturra microlot that has been naturally processed. The farm is located in Huila, a \"hotspot\" for coffee within the country. The bag/website does not offer much in the way of back story behind this coffee, fitting with Brew Plus Coffee's minimalist aesthetic, so I don't really know much more about this coffee. So I guess we should just dive right in.\n",
    "\n",
    "On the nose the first thing that hits you is big juicy tropical fruits. It is not a really intense \"fruit bomb\" aroma but more like a very nice tropical fruit salad. Although the tropical fruits hint towards natural processing methods you do not get the boozy/funky natural notes you often get. I also notice a caramel note in the supporting cast. Very appetising. In terms of roast level we are in a light range, but it is not super light/nordic by any means - not quite medium-light but getting there.\n",
    "\n",
    "Moving swiftly onto the filter: again the over-arching flavour notes are tropical fruits. I get mango and pineapple most of all - the sweeter end of the tropical fruit range. There is also the passion fruit type acidity to matters but primarily I would say this is on the sweeter end rather than the acidic end. If you imagine a tropical fruit salad covered in a sugar-syrup you wouldn't be far off. The body and mouthfeel are in the medium sort of range, it is not completely absent but neither is it a coffee you need to chew. The aftertaste is fairly intense and lingering. Temperature wise I find this coffee is fairly linear - it has the same character hotter or cooler so it's one you can drink at your leisure. Overall it is not hugely complex but is certainly very drinkable.\n",
    "\n",
    "As an espresso this might be one of the easiest coffees to dial in I've experienced. It can take pretty much whatever I threw at it in terms of recipe. In the end I found that I liked a 1:2.1 ratio with a 7s pre-infuse followed with a 32-34s pull - on the temperature scale I'm medium-high. This is not normally how I like to pull shots as it can introduce some bitterness or astringency to the finish but this is a coffee that can take it. You're rewarded with a thicker more luxurious shot and more intensity compared to my more usual longer/quicker style of pull. Again the tropical fruit salad and sugary sweetness comes through in the espresso, the acidity is slightly more noticable in the espresso but it is still a sweet coffee first and foremost.\n",
    "\n",
    "Overall a very enjoyable coffee, hopefully a sign of things to come from this roaster and one I'm sure I'll be heading back to based on this showing.\n",
    "\n",
    "For our jazz record this week we are heading back to 1973 and guitarist George Benson with his release: \"Body Talk\" on CTI records.\n",
    "\n",
    "![](https://github.com/jazzcoffeestuff/blog/raw/master/images/046-Body-Talk/Body-Talk.jpg)\n",
    "\n",
    "If you are new to the world of jazz you might be surprised to see George Benson recommended on a jazz-blog. For many he will be synonymous with pop records such as \"Give Me The Night\" or his \"crooner\" image from his later works. It is easy to forget he has some serious jazz under his belt also. When he burst onto the scene in the 1960s he was considered a protege to Wes Montgomery in some respects. George's \"twin careers\" of jazz star and pop star came to a head a few years ago at a gig in London whereby he was unable to sing so played a set of instrumental jazz pieces and the (non-jazz) crowd booed him for not playing his \"hits\" - a rather embarrassing incident for the London live music scene and those involved should be ashamed.\n",
    "\n",
    "> youtube: https://youtu.be/HV1Tfj8qqtI\n",
    "\n",
    "\"Body Talk\" is one of my favourite Benson albums. It marks a kind of \"cross-over\" period from the more straight ahead jazz he was playing before and the RnB and pop influenced music that came after. I wish he spent a bit more time exploring this soul-jazz kind of space as he was very good at it. On this album Benson entrusted James Brown alumni - saxophonist Pee Wee Ellis to write and arrange a few of the tunes. But it is clear that the James Brown DNA heavily influenced Benson at the time since all the tracks feature the strong grooves we associate with Brown.\n",
    "\n",
    "The album also features some heavyweight jazz icons in the supporting cast: Jack DeJohnette taking control of the drumming duties - one of the most prolific jazz drummers of all time. Jack manages to introduce a slight swing to proceedings while keeping the muscular grooves driving forward, something that is not easy to do by any means. Alongside is Ron Carter on the acoustic bass (the album also features Gary King on electric bass). We've spoken about Ron in the blog before, as a bass player he is completely reliable and can throw his hand at anything - another jazz legend. On the electric piano we also have Harold Mabern. He is one of the underappreciated greats, a lot of his work has been as a sideman rather than a leader. I was fortunate enough to be able to meet him before he passed away - a great musician and a great person. I'll save my Harold story for another day when we can focus on him.\n",
    "\n",
    "The album kicks off with \"Dance\" (embedded at the start of this post) and straight away gets into a deep groove. You can tell that Benson had an eye on making music you can move to here, it's almost impossible to not tap your foot along to the beat. However, it features an absolutely virtuousic guitar performance throughout. I consider Benson as one of the most naturally gifted guitar players of all time. There appears to be absolutely no filter between brain and guitar, it comes across as completely effortless. This is backed up by watching some of his incomprehensible guitar tuition videos - it is so natural he is completely unable to effectively explain what he does.\n",
    "\n",
    "Another track that is particularly interesting on the album is the third number: \"Plum\" (above). This really exemplifies the two worlds of jazz and RnB that Benson is trying to straddle. It starts off in a swinging jazz tune but eventually the horns and percussion come in, the groove hits and we're comfortably in foot-tapping mode again. This is not a jarring experience of slamming two styles together - the transition is seamless. Again Benson throws out some mindblowing guitar lines as all this is unfolding.\n",
    "\n",
    "> youtube: https://youtu.be/li5IDW_H_6s\n",
    "\n",
    "Perhaps the hardest hitting groove is the title track \"Body Talk\" (above). Here we have a piece that is part James Brown groove and part Latin jazz. It's 8 minutes of pure energy and intensity. While there is incredible musicianship on display, the main theme is itself catchy and something you'll likely be humming to yourself after hearing it.\n",
    "\n",
    "\"Body Talk\" is a bit of an underappreciated jazz album, from his \"jazz\" period other Benson albums such as \"Beyond Blue Horizon\" often get more publicity - but for me \"Body Talk\" is where Benson hits his stride. If you do not know anything of George Benson's jazz career I'd strongly suggest giving it a listen."
   ]
  },
  {
   "cell_type": "code",
   "execution_count": null,
   "metadata": {},
   "outputs": [],
   "source": []
  }
 ],
 "metadata": {
  "kernelspec": {
   "display_name": "Python 3",
   "language": "python",
   "name": "python3"
  },
  "language_info": {
   "codemirror_mode": {
    "name": "ipython",
    "version": 3
   },
   "file_extension": ".py",
   "mimetype": "text/x-python",
   "name": "python",
   "nbconvert_exporter": "python",
   "pygments_lexer": "ipython3",
   "version": "3.7.4"
  }
 },
 "nbformat": 4,
 "nbformat_minor": 2
}

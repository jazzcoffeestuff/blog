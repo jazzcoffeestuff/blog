{
 "cells": [
  {
   "cell_type": "markdown",
   "metadata": {},
   "source": [
    "# \"Times Tales and Bombe\"\n",
    "> \"Curve Coffee Roasters located in Margate are our featured roaster this week. We give their washed Ethiopian Bombe a taste. Alongside we serve up a 2014 release from Jeff Ballard Trio: 'Time's Tales' - a combination of free jazz, fusion, world music and a whole lot more.\"\n",
    "- toc: false\n",
    "- author: Lewis Cole (2021)\n",
    "- branch: master\n",
    "- badges: false\n",
    "- comments: false\n",
    "- categories: [Jazz, Coffee, Jeff-Ballard, 2010s, Curve, Heirloom, Washed, Ethiopia]\n",
    "- hide: false\n",
    "- search_exclude: false\n",
    "- image: https://github.com/jazzcoffeestuff/blog/raw/master/images/072-Times-Tales/Times-Tales.jpg"
   ]
  },
  {
   "cell_type": "markdown",
   "metadata": {},
   "source": [
    "> youtube: https://youtu.be/yCg8qGKJcFg\n",
    "\n",
    "This week we are heading back to a roaster who has appeared on the blog before: Curve Coffee Roasters located in Margate. The guys and girls at Curve really know what they're doing and I've not been disappointed from them in the past. I was, therefore, very much looking forward to this coffee.\n",
    "\n",
    "As the washed Ethiopian coffees have started to become available it comes as no surprise that this coffee is another washed Ethiopian. These are the coffees that really get me excited and given a choice what I would choose at least 90% of the time. I don't have a huge amount of information about this coffee, I know that it has undergone a dry fermentation process, the cultivars are \"heirloom\" and it is produced my a collection of small-holder farmers located in the Bombe Mountains within the Sidama region.\n",
    "\n",
    "Without further ado let's dive into the coffee itself: on the dry aroma you get everything you would expect from a coffee from this region. You're greeted with a big hit of peach and stone fruits along with the usual jasmine florals. Alongside this is a sweet honey type note to pull everything together. The aromas are punchier than you might ordinarily expect from a washed Ethiopian coffee but you could hardly describe it as a heavy hitter. It's the sort of aroma that makes you want to start brewing.\n",
    "\n",
    "As usual we'll start by looking at the coffee as a filter. I usually find this is the best way to judge a coffee (at least compared to espresso) since the technique is not too demanding - although the forum, discord, YouTube and Insta coffee communities do enjoy making things more complicated than need be. In the cup I would describe this as quite a \"soft\" coffee, it is not one that will demand your attention and it is very balanced so you don't get distracted by it. It's the sort of cup that can fit into your day: if you want to sit and appreciate flavours you can, but if you don't want to that's cool too. The flavour profile itself is the same as on the dry aroma: peaches, florals and honey. The flavour leans heavily towards the peach and stone fruit end of things, the florals are there but they're not \"in your face\". This is a cup that improves as it cools (up to a point) in my experience, so try to hold off slurping it down in a few seconds - although that does take some restraint.\n",
    "\n",
    "Moving onto all things espresso: this one is fairly forgiving on grind size and recipe, as long as you don't do a super slow pull things should be tasty. I find 1:2.5 is about right and I look for around 7s pre-infuse then a 24s pull. What you're left with is concentrated peach juice sweetened with some honey. The body and mouthfeel is not very big no matter what you do so pulling a little longer than a standard 1:2 allows for a bit more flavour separation which is a good compromise in my book. The aftertaste is extremely clean and not long lived, it makes Bombe very easy to shot.\n",
    "\n",
    "It comes as no surprise that Curve did a good job roasting this coffee, and it's another solid washed Ethiopian. It seems like the washed Ethiopians are very strong this season (although it might be I have just been waiting for so long). I'm sure Curve will feature on the blog again and I'm certain this won't be the last from Ethiopia we'll see this year.\n",
    "\n",
    "On the jazz side this week I found myself digging out an album from 2014: Jeff Ballard Trio's \"Time's Tales\".\n",
    "\n",
    "![](https://github.com/jazzcoffeestuff/blog/raw/master/images/072-Times-Tales/Times-Tales.jpg)\n",
    "\n",
    "Jeff Ballard may not be a name you are instantly familiar with. However, if you have any familiarity with jazz you have likely heard his playing before. As a side-man he has appeared on albums from Chick Corea, Joshua Redman, Pat Metheny and Kurt Rosenwinkel. He is probably most famous for being the long-term drummer in the Brad Mehldau trio, having been appointed to that position in 2005. Given the popularity of these artists he is likely one of the most successful modern drummers based on album sales (although I have not crunched any numbers for this).\n",
    "\n",
    "> youtube: https://youtu.be/flPQcl5XZXc\n",
    "\n",
    "The Jeff Ballard Trio consists of Jeff Ballard on drums (unsurpirsingly), Lionel Loueke on electric guitars and Miguel Zenon on alto saxophone. Lionel Loueke is one of the more interesting modern jazz guitarists around, he takes a lot of his influence from West African music and combines this with Xhosa-inspired vocal lines using the \"click\" sounds in a similar way to the \"scat\" sounds more familiar to jazz listeners. Miguel Zenon is no slouch either, it is safe to say he is firmly in the \"free\" camp in terms of jazz and has a strong influence of Ornette Coleman in his playing. Perhaps most notable within his playing is his ability to play complex polyrhythmic ideas with ease. The Jeff Ballard Trio is therefore a heavy hitting modern jazz trio.\n",
    "\n",
    "\"Time's Tales\" is really quite an ambitious album. It covers a lot of ground and styles from simple ballads, to heavy rock fusion, to world music and free jazz. The musicians make these transitions seamless and the whole album remains coherent and not just a big mess of tunes thrown together. Jeff's drum lines and ability to swing through even the most complicated rhythmic signatures is what really holds the whole thing together. Without having a bassist to lean back on the trio relies on the drummer to keep them grounded, but in \"Time's Tales\" case this doesn't equate to \"boring, safe\" drumming.\n",
    "\n",
    "One of the highlights of the album is the track \"Beat Street\" (embedded at the start of this post). It kicks off with a twisting melody played by Zenon and Loueke in unison on top of a complicated meter. This quickly gives way to Zenon's solo which showcases his Coleman inspired free lines. This leads into Loueke's solo which takes influence from world music before Ballard gives a polyrhythmic masterclass in his solo. The magic of the piece is hearing how all three musicians stay true to their individual styles and preferences yet still serve the tune.\n",
    "\n",
    "The next tune I want to highlight is \"Hanging Tree\" (above). The influence here is clearly \"rock\" music and it features Loueke playing distorted guitar in a way I've not heard him play before. This is a tune that could easily be considered \"fusion\" or even \"jazz-punk\". On the album it is a bit of an outlier which makes it all the more memorable. It also gives Ballard a chance to play with more aggression which increases the energy and adds a nice flow to the track listing.\n",
    "\n",
    "> youtube: https://youtu.be/yOhfEkx8D4M\n",
    "\n",
    "Another personal highlight of mine is Zenon's arrangement of Silvio Rodriguez's \"El Reparador de Suenos\" (above). Rooted firmly in the Afro-Cuban tradition the track swings with syncopated style and elegance. Here Zenon and Loueke do not opt to play in unison but play contrasting lines that seem to fit perfectly. The interplay between all members is an absolute pleasure to hear, Ballard's drumming pushes and pulls throughout creating tension only to release it at the optimal point. It is a very refreshing take on the Afro-Cuban style.\n",
    "\n",
    "While I selected 3 tracks here I could have equally selected any of the others to feature. The Gershwin ballad \"The Man I Love\" is simply sublime as is the take on Bela Bartok's \"Dal\". The improv pieces \"Free 1\" and \"Free 3\" are also worthy of note as is the Loueke penned \"Virgin Forest\". If I were to write this blog on another day I could have easily featured a completely different set of tracks. As is the strength of this album.\n",
    "\n",
    "\"Time's Tales\" is unlikely to feature in any \"essential listening\" album list you'll ever find, but it is still worthy of your time if it is one that is unfamiliar to you. It is a great example of what a modern jazz trio can do, it takes influence from the past but is not beholden to it. I consider this album a bit of an \"underrated gem\" from the mid 2010s, so be sure to hunt down a copy if you like what you've heard/read."
   ]
  },
  {
   "cell_type": "code",
   "execution_count": null,
   "metadata": {},
   "outputs": [],
   "source": []
  }
 ],
 "metadata": {
  "kernelspec": {
   "display_name": "Python 3",
   "language": "python",
   "name": "python3"
  },
  "language_info": {
   "codemirror_mode": {
    "name": "ipython",
    "version": 3
   },
   "file_extension": ".py",
   "mimetype": "text/x-python",
   "name": "python",
   "nbconvert_exporter": "python",
   "pygments_lexer": "ipython3",
   "version": "3.8.8"
  }
 },
 "nbformat": 4,
 "nbformat_minor": 2
}

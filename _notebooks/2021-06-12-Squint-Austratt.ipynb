{
 "cells": [
  {
   "cell_type": "markdown",
   "metadata": {},
   "source": [
    "# \"Squint and Austratt\"\n",
    "> \"After a week hiatus we're back with another installment of the KaffeBox subscription with a pair of coffees from Norwegian roaster Austratt. Alongside we look at the brand new Blue Note release from Julian Lage: 'Squint'.\"\n",
    "- toc: false\n",
    "- author: Lewis Cole (2021)\n",
    "- branch: master\n",
    "- badges: false\n",
    "- comments: false\n",
    "- categories: [Jazz, Coffee, Julian-Lage, 2020s, Austratt, Caturra, Bourbon, Kent, N39, Washed, Tanzania, Guatemala]\n",
    "- hide: false\n",
    "- search_exclude: false\n",
    "- image: https://github.com/jazzcoffeestuff/blog/raw/master/images/059-Squint/Squint.jpg"
   ]
  },
  {
   "cell_type": "markdown",
   "metadata": {},
   "source": [
    "> youtube: https://youtu.be/bFRVK_1o2cU\n",
    "\n",
    "The blog is back after a short 1 week hiatus: over the past couple of weeks I had being trying some \"new\" (to me) roasters and the quality level was frankly quite low. I'm not in the business of writing negative reviews of coffee roasters, especially given the current economic climate for coffee companies generally, so took the week off.\n",
    "\n",
    "Thankfully this week we're back with some high quality coffee goodness - we have another installment of my Kaffebox subscription. This time featuring a pair of filter roast coffees from Norwegian roasters: Austrått Kaffebrenneri. I have to admit I had never heard of these guys before (part of the joy of the Kaffebox subscription) so was very much looking forward to giving them a go. Their website (in Norwegian) does not give much away but shows they took 3rd place in the Norwegian coffee roasting championship in 2018 and 2nd placce in 2020 - so a sign they know what they're doing!\n",
    "\n",
    "As you may recall with my Kaffebox subscription I dedicate one of the coffees to filter and one to espresso duties - this week the decision was made completely at random (so try not to read into any choices here).\n",
    "\n",
    "On the filter side I opted for the Tanzanian \"JKT Itende\" - the cultivars appear to be N39, Bourbon and Kent (the latter being a variation on Typica that is more resistant to leaf-rust) and I believe the coffee is washed. Off the dry aroma I get berry notes mostly, it is fairly punchy but not an aroma bomb. As a filter the first thing I noticed was how clean the cup is (partly due to some particularly \"dirty\" cups in the preceeding weeks). The flavour profile consists of: blackcurrants/blackberries, apricots and good hit of honey sweetness. The cup is very sweet and juicy with just enough acidity to not be cloying. The mouthfeel is fairly thin and the aftertaste is quite intense but not particularly long-lived. It is not a super-complex cup of coffee compared to some, but it is certainly very enjoyable and it is easy to drink.\n",
    "\n",
    "On the espresso side we have a Guatemalan \"Finca el Regalito\" - the cultivars are Caturra and Bourbon and again it is a washed coffee (I'm assuming \"vasket\" is \"washed\" in Norwegian). The dry aroma gives off a honey type quality, again it is punchy but there is not huge sillage. The roast level on this coffee is visibly very light which often equates to an espresso that is tough to dial in. That is not the case here however, it is suprisingly forgiving. For the past week I have been experimenting with the B-Plus screen (full review coming later) so was adjusting my grind and recipe quite often and I didn't end up with a single shot less than good. I found a 1:2.5 sort of range to be the best for this coffee with the temp at full whack. The flavour notes I pick up are dried fruits, baking spices, brown sugar and cocoa. It makes for a syrupy and sticky shot with very high levels of sweetness. The acidity is somewhat muted which makes it very easy to drink. Again not the most complex shot I've ever had but very enjoyable and easy to drink. \n",
    "\n",
    "Overall another good installment from Kaffebox - Austrått will definitely be one I'll keep an eye out for in future. \n",
    "\n",
    "For the jazz this week we are taking a first look at the \"hot off the press\" album from Julian Lage: \"Squint\" - since this was released yesterday (11th June 2021) this will be a \"first listen\" review.\n",
    "\n",
    "![](https://github.com/jazzcoffeestuff/blog/raw/master/images/059-Squint/Squint.jpg)\n",
    "\n",
    "This is Julian's second appearance on the blog, in a prior post we looked at \"Love Hurts\" which was quite a restrianed look at ballads and standards (mostly). \"Squint\", Julian's first release on Blue Note Records, takes a different approach: it is wilder, more ambitious, more virtuosic, freer and features (mostly) original compositions.\n",
    "\n",
    "> youtube: https://youtu.be/Jx_CuxesjmU\n",
    "\n",
    "I have been a fan of Julian's playing for a long time, what really impresses me is his fluidity and ease over the instrument. Listening/watching Julian it never seems like he is trying particularly hard, the guitar just seems an extension to his body and there's no blocker in the \"brain-guitar\" pathway. Sure, you might be able to find those with more technical \"chops\" but few seem as comfortable playing the instrument. This means that even when playing technically or harmonically complicated pieces he is still able to have \"feel\" and tell a story through his playing.\n",
    "\n",
    "\"Squint\" is also the first recording to feature Julian's new signature Collings 470JL (I believe - at least the first since the guitar has been available) - based around a Gretsch duojet style guitar it marks a depature from the telecaster (or technically nachocaster) he has been known for. The change in tonality is quite evident - there is certainly more of a nasal quality to the break-up sounds and the cleans are a bit cleaner. He has also (in places) opted for more reverb and tremolo than in the past. Personally I'm more a fan of the telecaster sound, but even so then tones on \"Squint\" are still better than 99% of jazz electric guitar sounds out there.\n",
    "\n",
    "Some of the choice cuts on the album include the opener: \"Etude\" (embedded at the start of this post). As the name would suggest this is a solo guitar piece, somewhat designed as a technical \"practice\" piece. At a relatively short 2m27 it still packs a lot in - it could take a blog post in itself to analyse everything here. The main \"theme\" takes cues from Bach and classical music more generally, but this is blended with voice-leading jazz, blues and even the odd rock accents. The walk-down just after the main melody is a mind-bending lick, the use of open strings in such a line is just crazy. Watching him play you would be forgiven for thinking he was playing something trivial, it's honestly quite disheatening for the guitar players out there.\n",
    "\n",
    "This is not a solo record however and Lage is joined by Dave King on drums and Jorge Roeder on the bass. The whole album has an intimate almost \"jazz club\" feel and comes across a bit like a live performance - owing to the interaction between the musicians. This is particularly apparent on the track \"Familiar Flower\" (above) which is one of the freer pieces on the album and takes clear nods from Ornette Coleman. A part of Julian's playing that really comes out here is how easily he can switch from the most outside free ideas to more inside groove-based playing. It never feels like he's playing outside \"for the sake of it\".\n",
    "\n",
    "> youtube: https://youtu.be/Y10ZbXSW1Go\n",
    "\n",
    "Two other tracks I want to make a note of: firstly the revisiting of \"Day and Age\", a track that appeared on his 2015 album \"World's Fair\". On the previous album it appeared as a solo acoustic piece and became a bit of a \"signature tune\" for Lage. On \"Squint\" we are treated to an electric trio version - it takes on a whole new personality, slightly more downbeat and contemplative (perhaps reflecting a change in Julian's personality in the 6 years between recordings). Undoubtedly there will be comparisons to Bill Frisell given the \"Americana\" vibe to the piece but Julian certainly has his own voice here. \n",
    "\n",
    "The other track I want to highlight is the beautiful rendition of Johnny Mandel's \"Emily\". Julian released a video playing a solo version of this tune during the start of lockdown last year (video above). This is one of my favourite ballads and Julian's version is up there with my favourite renditions. I think as a guitarist one of the hardest tasks to do is to play a \"simple\" ballad like this and keep it entertaining yet respectful to the source, many others would have layered reharmonization over reharmonization to the point of being unrecognizable.\n",
    "\n",
    "The tunes selected here are some of my initial highlights but \"Squint\" is full of gems. \"Boo's Blues\" for example being a swinging blues with a hint of Monk to it. Although there isn't really a \"lead single\" to this album, perhaps the most accessible is \"Saint Rose\" (below) - if this doesn't become a staple of Julian's live shows from now on I'll be very surprised.\n",
    "\n",
    "This \"review\" just reflects my intial impressions after a few listens of \"Squint\" - I'm sure there's much more to uncover hidden away in these tracks. I'd strongly suggest tracking down a copy and giving it a go.\n",
    "\n",
    "> youtube: https://youtu.be/v21st5PcUOU"
   ]
  },
  {
   "cell_type": "code",
   "execution_count": null,
   "metadata": {},
   "outputs": [],
   "source": []
  }
 ],
 "metadata": {
  "kernelspec": {
   "display_name": "Python 3",
   "language": "python",
   "name": "python3"
  },
  "language_info": {
   "codemirror_mode": {
    "name": "ipython",
    "version": 3
   },
   "file_extension": ".py",
   "mimetype": "text/x-python",
   "name": "python",
   "nbconvert_exporter": "python",
   "pygments_lexer": "ipython3",
   "version": "3.7.4"
  }
 },
 "nbformat": 4,
 "nbformat_minor": 2
}

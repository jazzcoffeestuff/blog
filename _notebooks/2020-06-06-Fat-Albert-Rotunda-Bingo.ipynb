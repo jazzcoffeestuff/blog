{
 "cells": [
  {
   "cell_type": "markdown",
   "metadata": {},
   "source": [
    "# \"Fat Albert Rotunda and Long and Short Bingo\"\n",
    "> \"This week we look at a Rwandan natural coffee from Long and Short and jazz-funk classic 'Fat Albert Rotunda' by Herbie Hancock.\"\n",
    "- toc: true\n",
    "- author: Lewis Cole (2020)\n",
    "- branch: master\n",
    "- badges: false\n",
    "- comments: false\n",
    "- categories: [Jazz, Coffee, Herbie-Hancock, 1960s, LongandShort, Rwanda, Natural-Process, Bourbon]\n",
    "- hide: false\n",
    "- search_exclude: false\n",
    "- image: https://github.com/jazzcoffeestuff/blog/raw/master/images/008-Fat-Albert-Rotunda/fat-albert-rotunda.jpg"
   ]
  },
  {
   "cell_type": "markdown",
   "metadata": {},
   "source": [
    "> youtube: https://youtu.be/RokybiFVa1I\n",
    "\n",
    "In this blog we are sticking with the Long and Short roastery ( https://longandshort.london/ ) from last time. Again we have another natural processed coffee, this time a Bourbon varietal from Rwanda called \"Bingo\" (with cupping score 87).\n",
    "\n",
    "Typically Rwanda is known for their washed coffees, so it is a little unusual to find a natural coffee from there - not exceedingly so, but enough to be note worthy. The bourbon varietal is certainly ubiquitous throughout Rwanda however. Coffee varietals are important in the same way grape types are important to wine. From a preservation standpoint varietals are also important for genetic diversity, currently coffee plants are not particularly diverse and so highly susceptible to pests and disease. The creation of new varietals might help coffee survive long term.\n",
    "\n",
    "Ethiopia is widely regarded as the birthplace of coffee and it is has the highest diversity of varietals (~95% of all varietals can be found in Ethiopia by some estimates). Outside of Ethiopia most coffee varietals can trace back to Yemen where there existed 2 main varietals: Typica and Bourbon (which is itself a mutation of Typica). Essentially every coffee outside of Ethiopia can trace its lineage back to Typica or Bourbon.\n",
    "\n",
    "Bourbon takes its name from the island of Bourbon (now Réunion) where it was originally grown before being exported by the French to Latin America and Africa. Compared to Typica the Bourbon varietal has a higher yield (although still low yield compared to many other varietals.) Both are renowned for producing good quality coffee, unfortunately both types are highly susceptible to pests and disease which makes them hard to grow. Bourbon is in some sense \"the specialty coffee varietal\" given its prevelance and enduring popularity. To continue the wine analogy: \"Bourbon is the pinot-noir of the coffee world!\" The varietal can be further broken down into \"red bourbon\" (the original bourbon), \"yellow bourbon\" (a natural mutation of the red bourbon) and more recently \"orange/pink bourbon\" (another natural mutation). The colour names refer to the appearance of the coffee fruit prior to processing.\n",
    "\n",
    "Onto Bingo itself: on the nose the beans give off a strong, rich caramel/burnt sugar sort of vibe - certainly enticing! As with the previous Long and Short coffee the roast level is what I would describe as a true medium-light: not a really light delicate filter roast but also not a medium where you start to see \"roasty\" notes that mask the natural acidity and sweetness in the coffee. As a filter this coffee shows a reasonable amount of complexity, there's certainly a tea note present which is strong upfront but also lingers as an aftertaste. The caramel note on the nose is also there but plays more of a supporting role. The real intrigue in the coffee is the blend of the sweetness and acidity - on the bag they describe it as \"bittersweet\" which is a very good description. As an espresso we are treated with a decent amount of mouthfeel and body. With this one I found pulling a little shorter helped stop the tastes getting lost. The flavour profile in the espresso is much like the filter although the caramel note is amplified somewhat and the tea note dialed back (especially in the aftertaste). All in all an enjoyable cup!\n",
    "\n",
    "One thing we normally associate with natural coffees is \"funk\", this coffee is not particularly funky. But this week's album is:\n",
    "![](https://github.com/jazzcoffeestuff/blog/raw/master/images/008-Fat-Albert-Rotunda/fat-albert-rotunda.jpg \"Herbie Hancock - Fat Albert Rotunda\")\n",
    "\n",
    "Originally appearing as the soundtrack to Bill Cosby's animated special \"Hey, Hey, Hey, It's Fat Albert\".  and released in 1969 \"Fat Albert Rotunda\" was Herbie Hancock's first dalliance with jazz-funk, a sound he would come back to with \"Head Hunters\" in 1973. Upto this point Herbie was known for his sophisticated harmony in more \"classic\" jazz settings and for his \"fusion\" work with Miles. \"Fat Albert Rotunda\" was instead heavily influenced by funk and soul music.\n",
    "\n",
    "The album features quite a large ensemble cast of:\n",
    "- Herbie Hancock: Piano, Eletric Piano\n",
    "- Joe Henderson: Tenor Sax, Alto-flute\n",
    "- Garnett Brown: trombone\n",
    "- Johnny Coles: trumpet, flugelhorn\n",
    "- Buster Williams: electric, acoustic bass\n",
    "- Albert \"Tootie\" Heath: drums\n",
    "- George Devens: percussion\n",
    "\n",
    "With additional appearances on some tunes. Having such a large core-band really adds to the funk/soul vibe and affords Herbie more freedom in arrangement. Again blog-favourite Joe Henderson appears to provide some fire-breathing solos, the funky backdrop allows him to show off some funky chops and get a little freer. This is Joe's 3rd appearance in 8 blog posts - no other blog offers as much Joe Henderson per square inch!\n",
    "\n",
    "The album starts with \"Wiggle Waggle\" (embedded above), which is an all time classic. It's a tune I feel many people will recognise but may not attribute to Herbie, like a few other tunes in his repertoire. It is based around a simple 12 bar blues guitar riff with the horns providing embellishments. The music really grooves with an r&b/soul vibe and Joe's solo is a wild start to an album. If you can listen to this track without, at least, tapping your feet you should probably go to your doctor and get them to check if you're missing the funk gene.\n",
    "\n",
    "I usually find jazz artists tend to express themselves in one of three ways: some are melody driven, some are harmony driven and some are rhythmically driven. Herbie is part of a rare breed that is adept at all three and this album displays this. After listening you'll find yourself humming the melody of some of the pieces and while it's playing you'll get intoxicated with the groove. To break up the funk however there are a few harmonically rich jazz pieces. My choice cut being \"Jessica\" on side 2:\n",
    "\n",
    "> youtube: https://youtu.be/NKGLsLd4jIY\n",
    "\n",
    "Which showcases Herbie's skill for harmonic composition and arrangement, a piece he revisited on 1977s \"V.S.O.P\" album. It is one of my favourite Hancock compositions, it is made all the more striking and beautiful on \"Fat Albert Rotunda\" where it is bookended by \"Oh! OH! Here He Comes\" and the title track - both of which are fat greasy funk grooves through and through. \n",
    "\n",
    "Another track of note is the 2nd on the first side: \"Fat Mama\". The distorted guitar groove with more than a passing resemblance to \"Cissy Strut\" by The Meters (which was released around the same time). Instead of being pure Meters funk there is more sophistication in \"Fat Mama\" (as to be expected with Hancock).\n",
    "\n",
    "Herbie is still out touring regularly and I have been fortunate enough to see him a few times live (I remember a duet gig with Chick Corea being particularly good!) Since he is such an \"all-star\" in the jazz world I've only seen him in larger concert halls, I'd love to get a chance to see him in a more intimate \"jazz club\" setting, although a gig like that would sell out almost instantly so I may need to take out a mortgage to fund tickets from a tout if that ever happens here in London.\n",
    "\n",
    "The weather in London today is overcast and grey, strong winds and intermittent rain showers. On days like this you need comforting coffee and uplifting music: Bingo and \"Fat Albert Rotunda\" it is."
   ]
  }
 ],
 "metadata": {
  "kernelspec": {
   "display_name": "Python 3",
   "language": "python",
   "name": "python3"
  },
  "language_info": {
   "codemirror_mode": {
    "name": "ipython",
    "version": 3
   },
   "file_extension": ".py",
   "mimetype": "text/x-python",
   "name": "python",
   "nbconvert_exporter": "python",
   "pygments_lexer": "ipython3",
   "version": "3.7.4"
  }
 },
 "nbformat": 4,
 "nbformat_minor": 2
}

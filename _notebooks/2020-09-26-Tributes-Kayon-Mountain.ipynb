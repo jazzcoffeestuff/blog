{
 "cells": [
  {
   "cell_type": "markdown",
   "metadata": {},
   "source": [
    "# \"Tributes and Kayon Mountain\"\n",
    "> \"This week we look at a new roaster on the blog: Eighty Seven Plus. Where we have a washed Ethiopian coffee from the Kayon Mountain farm. Along with this we look at the brand new Marius Neset album 'Tributes' as a 'first listen'.\"\n",
    "- toc: false\n",
    "- author: Lewis Cole (2020)\n",
    "- branch: master\n",
    "- badges: false\n",
    "- comments: false\n",
    "- categories: [Jazz, Coffee, Marius-Neset, 2020s, EightySevenPlus, Ethiopia, Washed-Process, Heirloom]\n",
    "- hide: false\n",
    "- search_exclude: false\n",
    "- image: https://github.com/jazzcoffeestuff/blog/raw/master/images/023-Tributes/Tributes.jpg"
   ]
  },
  {
   "cell_type": "markdown",
   "metadata": {},
   "source": [
    "> youtube: https://youtu.be/re_O4_u9VMY\n",
    "\n",
    "This week on the blog we feature a new roaster called \"Eighty Seven Plus\", not only are they new to the blog htey are relatively new in general - being set up around 1 year ago. They take their name from their coffee ethos of only using coffees that score in excess of 87 points on the SCA scale. We have talked about the pros/cons of the SCA scale in the past so we won't start that conversation again - suffice as to say 87 is usually the threshold I look for personally when deciding on a coffee. I think 87 is a good compromise between cup quality and cost, if you limit yourself to only purchasing 90 plus coffees you will have a relatively small number to choose from and you will end up paying a lot! With 87 coffees you can generally purchase them for fairly reasoanble prices but still get some really great flavours.\n",
    "\n",
    "It's worth mentioning the company also has an app (via Apple app store/Google play) - I have not used this as despite working in tech I am a bit of a luddite when it comes to using tech. It appears the app allows you to take notes about the coffees and share your tasting notes with the wider community which is quite a nice idea.\n",
    "\n",
    "The coffee itself is (another) Ethiopian - the 4th in a row for this blog. This time however it is washed whereas the previous were all natural. Given the choice I am typically more of a fan of washed coffees compared to other processing methods since I value cup clarity most of all. Like the preceeding coffees this too is from the Guji zone in the Oromia region. the farm itself is called \"Kayon Mountain\" - this is a farm I am particularly familiar with and have had coffee from them via many different roasters over the years. As such I have a number of preconceptions about how I expect this one to taste and behave.\n",
    "\n",
    "Diving right in to the dry aroma: the first thing that hits me is a caramel sort of smell, this is a little unexpected for a coffee like this so it stuck out. However the major notes you would expect from a coffee like this are there: peaches and stone fruits along with florals and a hint of citrus. All coffees from Eighty Seven Plus are labelled as a \"filter\" roast which I think is fair, this coffee is not quite as light roast as some others I have seen however. As usual we start with a filter in a v60 type funnel with a chemex paper. As I remembered from drinking this coffee in the past the first thing that comes to mind for me is \"soft\" - the mouthfeel is soft and delicate and the flavours are gentle and do not punch you in the face. As with most washed coffees from this region we are treated to delicate floral notes of lavender and jasmine along with lemon-y citrus and peach notes. As it cools it becomes increasingly \"tea like\". However there is a couple of \"strange\" notes that come back time and time again with Kayon Mountain coffees to me: the first is \"strawberry milkshake\" - a combination of flavour notes and the softer mouthfeel. And \"bubblegum\" - in this example it's rather faint so if I wasn't expecting it I might not have picked up on it. But for me it is unmistakable.\n",
    "\n",
    "Moving onto the espresso: this is an Ethiopian washed coffee roasted for filter so there are no prizes for guessing the advice I give for pulling shots on this one! Hot, fast and long are the orders of the day! Owing to the density of Ethiopian beans you'll likely find that you need to set your grinder \"coarser\" to achieve the same flow-rate as you would from a central American coffee. In the end I settled on a ratio of 1:2.75 being optimal here. This seemed to be the turning point where the shot didn't get any sweeter, pulling longer than this just ended up giving thinner mouthfeel. I was pulling these shots in around 22s with a slight pre-infusion of a couple of seconds. With a \"shrinking violet\" coffee like this without any powerful flavour notes we can often find the espresso gets a bit \"bland\" - but this one does not suffer that fate. The similar flavour profile from the filter is still there but the \"bubblegum\" is able to push through a bit more and becomes more noticable. It is a real treat to find washed Ethiopian espressos like this, given a choice this is the style I go for every time. It will come as no surprise that I'll say I recommend trying this one as an espresso (even though it is considered a filter coffee).\n",
    "\n",
    "In both the filter and the espresso this coffee is super clean and has a limited clean aftertaste. Overall a strong showing from a new roaster and hopefully indicative of what else they will offer in the future.\n",
    "\n",
    "Moving onto this weeks jazz. We're taking a bit of a different approach this time, I am recommending an album that was released yesterday (25th September 2020) - as such I've only listened to this a few times so far so I won't dive too deeply into what is going on since I haven't had chance to study it yet, perhaps I'll revisit this one in a later blog once I've had chance to fully digest it all and can see if my perceptions change.\n",
    "\n",
    "The album is called \"Tributes\" and it is by Nordic saxophonist Marius Neset, released on the German ACT record label.\n",
    "\n",
    "![](https://github.com/jazzcoffeestuff/blog/raw/master/images/023-Tributes/Tributes.jpg)\n",
    "\n",
    "Marius Neset is one of the \"next generation\" of jazz musicians, being 35 years old which is young for a jazz artist these days. He released his first album in 2008 and has 11 albums to his name currently (plus a few more as a co-leader or guest slots). I first came across him via his \"Golden Xplosion\" album in 2011 - a truly fantastic album, a little rough around the edges but it was pretty clear to me he was destined to be a leading name in jazz as he matured. After a few more great albums (including the terrific \"Sun Blowing\" with Lars Danielsson) I had very high hopes for him. But his last few albums disappointed me a little. They were not terrible but he seemed to get a little lost, the high octane energy he was known for initially disappeared and the compositions - while nice - did not set the world on fire. With \"Tributes\" however he appears to have worked out how to balance the energy with solid composition and he has created the album I have been waiting for from him.\n",
    "\n",
    "The Neset sax style is clearly very influenced by Michael Brecker, as most modern sax players are, however he combines this with a strong influence of chamber music (and various other European classical movements). On \"Tributes\" as the name suggests it appears he is trying to pay homage to his idols. Brecker clearly makes an appearance, but there are also strong Rollins influneces, Coltrane, and countless others. However it is done via the Neset lens - it always sounds like him and never as a cheap impersonation. While on some of his earlier records he let the fire-breathing solos take over - here Neset is always serving the music and deploys wildness only when it is required.\n",
    "\n",
    "On this album he is supported by the Danish Radio Big Band (conducted by Miho Hazama) - this allows him to use the big band to create an expansive soundscape to support the composition. It is extremely accomplished and done masterfully throughout.\n",
    "\n",
    "Given this album is only a day old finding clips via Youtube to embed is a challenge. The album itself is composed of 2 longer multi-part compositions (which are the true highlights for me) along with 3 shorter pieces. At the start of this blog post we embedded the title track. This one is probably the most similar to previous Neset offerings, you can really hear the chamber music influences and the big band is shown off to the full extent. Marius takes a sublime soprano solo, which is adventurous but fits into the backdrop created by the big-band seamlessly. He manages to resist the urge to throw all his chops at the piece, something that a lot of younger players (and older players too) often struggle with.\n",
    "\n",
    "> youtube: https://youtu.be/XcKHp_LgWrg\n",
    "\n",
    "The real stars of the album are the two extended pieces: \"Bicycle Town\" which is a hark back to the sound he crafted on the \"Pinball\" album of 2015. Michael Brecker being a clear influence with the choppy sound and use of ghost notes along with the use of symmetric and diminished scales throughout. The two parts of this composition is where he can really stretch his legs and play the most soaring and technically advanced solos on the entire album. Showing he still has the chops to be considered one of the best on the scene. \"Children's Day\" is the other multi-part composition which (after a slow build) descends into a calypso and cuban feel, very reminiscent of \"St Thomas\" by Sonny Rollins. However this is combined with a complicated harmonic and rhythmic landscape and more \"Neset-isms\". It is perhaps the most adventurous on the album and probably my favourite piece as a result. The longer the piece goes on the more the main melody gets distorted and the composition takes on a life of its own before coming back round at the end for a final big crescendo.\n",
    "\n",
    "Overall I am very impressed with this album and I'm sure this is going to be one I listen to regularly in the next few weeks/months. After a couple of listens I don't like to make grandiose statements but I feel this has potential to be up there with the best albums released in the last few years. Hopefully this marks a new era for Neset and he can live up to his potential. If you get a chance I strongly suggest you pick up a copy of this album through whatever means you use to purchase your music."
   ]
  },
  {
   "cell_type": "code",
   "execution_count": null,
   "metadata": {},
   "outputs": [],
   "source": []
  }
 ],
 "metadata": {
  "kernelspec": {
   "display_name": "Python 3",
   "language": "python",
   "name": "python3"
  },
  "language_info": {
   "codemirror_mode": {
    "name": "ipython",
    "version": 3
   },
   "file_extension": ".py",
   "mimetype": "text/x-python",
   "name": "python",
   "nbconvert_exporter": "python",
   "pygments_lexer": "ipython3",
   "version": "3.7.4"
  }
 },
 "nbformat": 4,
 "nbformat_minor": 2
}

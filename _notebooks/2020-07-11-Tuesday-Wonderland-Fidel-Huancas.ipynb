{
 "cells": [
  {
   "cell_type": "markdown",
   "metadata": {},
   "source": [
    "# \"Tuesday Wonderland and PLOT Fidel Huancas\"\n",
    "> \"In this blog post we head back to the fine folks at PLOT coffee roasting this time looking at a Peruvian competition lot. We pair this with the Esbjörn Svennson Trio classic 'Tuesday Wonderland' from 2006\"\n",
    "- toc: false\n",
    "- author: Lewis Cole (2020)\n",
    "- branch: master\n",
    "- badges: false\n",
    "- comments: false\n",
    "- categories: [Jazz, Coffee, EST, 2000s, PLOT, Peru, Washed-Process, Caturra]\n",
    "- hide: false\n",
    "- search_exclude: false\n",
    "- image: https://github.com/jazzcoffeestuff/blog/raw/master/images/013-Tuesday-Wonderland/Tuesday-Wonderland.jpg"
   ]
  },
  {
   "cell_type": "markdown",
   "metadata": {},
   "source": [
    "> youtube: https://youtu.be/9VF8kxFEEsA\n",
    "\n",
    "This week we are heading back to a relatively new roaster for me: PLOT coffee roasters in Woolwich. Readers may remember a trio of their coffees featured on the page a couple of months ago which were heavily favoured. This is part of my second order from them. I'm hesitant to judge a roaster based on a single order so we will see if this one lives up to the previous coffees from them.\n",
    "\n",
    "Again I am very impressed with the packaging, the pink and black branded packing boxes through to the \"sound wave\" style logos on the bags it is all very well done. The packaging is something I always look at when judging a roaster/coffee, it is my opinion that you make judgements about a coffee from the instant you see it and having attractive packaging adds to this. You \"first drink with your eyes\" is the expression I believe! Further good packaging to me suggests that a roaster is leaving no stone unturned, they are concerned with how their coffee is perceived at every step of the coffee drinking journey - I think this is a good indicator of attention to detail and passion, both of which are crucially important to find in a roaster.\n",
    "\n",
    "The coffee today is called: \"Fidel Huancas - Chirinos Competition Lot\" - which is a bit of a mouthful. Fidel Huancas is the man behind the coffee, the producer who is responsible for ensuring the quality of the on site processing, growing, etc. Chirinos is the district of the province San Ignacio where the farm is located. This is in the north west corner of the country, not too far from the border with Ecuador. The term \"competition lot\" has sprung up more and more in recent years, it does not seem to be a protected term but is meant to be an indicator that the coffee is of a quality that it could be used in barita or brewing competitions.\n",
    "\n",
    "A piece of information you often find on the label of a coffee or on the roasters website is \"altitude\" or \"elevation\" - this is measured in meters above sea level (MASL) and as one would expect represents how \"high\" the coffee bushes are grown. When I was first getting into specialty coffee many many moons ago people were obsessing over altitude, people often judging whether to buy a coffee based on this metric alone. These days it appears as though the metric is not given the weight it once was, which in my opinion is a good thing. Generally speaking a coffee at a higher altitude will be favoured as being sweeter and more complex, and so some aim for higher altitude coffees as a result. Unfortunately it is not quite that simple. Higher does not necessarily mean better, what really matters (or so it seems) is the speed at which the coffee plants grow which is related to temperature. At a higher altitude generally the temperature will be lower which means the plants will grow more slowly and develop the complex flavours and sugars we are after. However we can equally find lower altitude locations that have lower temperatures and slower growing cherries which are equally delicious! \n",
    "\n",
    "Unfortunately temperature is not something that is easy to quantify, each day the temperature will fluctuate and over the course of a growing season there may be large swings. Even the \"average temperature\" nor the temperature range tell us very much at all. As such altitude has become the proxy metric used. Personally I never look at altitude at all when deciding on whether to buy or try a coffee, I have not found it a particularly useful indicator for any particular characteristic or quality. Everybody is different though, so if you find that there is a strong correlation between coffees you enjoy and the altitude they're grown at stick with it!\n",
    "\n",
    "Moving onto the tasting of this coffee. The first thing that strikes me with this coffee is the dry aroma of the beans (both whole and ground) - the smell is very intense. I'd describe it as a dried fruit sweet sort of smell laced with a delicate floral note. I usually find that the very best tasting coffees have a very intense dry aroma, it is not universally true and a great dry aroma does not always translate to a good cup but this coffee is onto a good start! As usual starting with my usual filter set up. The first thing I get hit with is apricot, this coffee has it in spades! Those that know me know that, while I'm not big on desserts, an apricot tart is one of my favourite things. This coffee reminds me a bit of that. If apricot is the head note of the coffee the heart is sweet caramel which gives some body to the coffee, perhaps apricot compote is a good descriptor given this syrupy body. As the coffee cools floral notes begin to appear and these linger in the aftertaste which is long lived and clean. Moving onto the espresso the flavour profile is much the same. I found that this coffee likes to be pulled long, about a 2.7:1 works for me. Too short and the flavours get a bit muddled and it's hard to discern individual notes. As a longer pull the flavours are defined and totally delicious! At this level the syrupy mouthfeel has all but gone but I feel this is a fair compromise. Pulling out floral notes in an espresso can be difficult, they are often dominated by the \"heavier\" notes but they manage to punch through in the aftertaste here.\n",
    "\n",
    "This is another stand out coffee for me from the folks at PLOT. If this one is not in my shortlist for \"coffees of the year\" I have some outstanding coffees to look forward to in the last 6 months of the year!\n",
    "\n",
    "This week's jazz is the 2006 seminal album \"Tuesday Wonderland\" by Esbjörn Svennson Trio (EST) on the ACT record label:\n",
    "\n",
    "![](https://github.com/jazzcoffeestuff/blog/raw/master/images/013-Tuesday-Wonderland/Tuesday-Wonderland.jpg)\n",
    "\n",
    "I remember the lead up to this album being released very vividly, at the time I was a regular reader of Jazzwise magazine and it felt like every issue for the year leading up to the release (and subsequently) had an article about this album. By this point EST were already big names in the jazz world. In the late 1990s to early 2000s jazz was in a bit of a lull, by this point the whole \"fusion\" thing had lost its way and there was a movement back towards more \"traditional\" styles, however what was lacking was a young act who won international acclaim, this is where EST came in. They almost singlehandedly kept jazz alive during this period and spawned many imitators who are still playing with the \"EST sound\" today. Unusually for an album surrounded in such hype and expectation \"Tuesday Wonderland\" not only lived up to it but possibly exceeded it, which is not something you can say often.\n",
    "\n",
    "The EST style is hard to put down in words but unmistakable once you hear it. There is a clear influence of modern European classical composers (they list Bartok in particular as an influence regularly). Esbjörn's piano style also takes inspiration from Keith Jarrett to my ear. While each member plays (primarily) on acoustic instruments they layer these with multi-track recording and run electronic effects to keep things fresh. Magnus Öström is on drum duty for the band and plays with both manic urgency as well as tender subtlty, feeling most at home playing drum and bass and techno grooves. Dan Berglund on bass brings with him the thunderous weight through the rock and heavy metal influence to preceedings. EST represents \"fusion\" in its truest sense being a melting pot of ideas. In doing this they managed to create a sound all to themselves that is not like anything that came before it.\n",
    "\n",
    "One of my favourite pieces from the entire EST back catalogue is \"The Goldhearted Miner\" (embedded above). It is a beautiful subtle piece with a very strong melody. It is the sort of tune I could imagine being a standard if it had been released some 60 years earlier. It does not have quite the \"broad influence\" that some of the other pieces on the album have however. Perhaps their biggest hit is \"Goldwrap\":\n",
    "\n",
    "> youtube: https://youtu.be/xCuGTuDsVoY\n",
    "\n",
    "This even had a \"proper\" music video associated with it! Back in 2006 this was essentially unheard of, I can't think of another record from the era that had that sort of reach. It shows how big the band had become, I seem to remember even seeing this appear on the music TV channels on satelite television at the time. Compared to \"The Goldhearted Miner\" this one features more prominently some of the electronic effects on the instruments and some of the EST-isms that made the band so popular.\n",
    "\n",
    "Live the band were also a force to be reckoned with. They managed to attract a young \"hip\" crowd that comprised of jazz fans, electronic music fans and rock fans alike. The crowd hanging on every single the note, and the band acting like a conductor whipping the audience up into a frenzy. There was also a running \"bit\" that Esbjörn did; the band would play 3 or 4 tunes on the bounce and then Esbjörn would try to announce what was just played to the crowd but \"forgot\" the names and the more eager members of the audience would shout out to remind him. I'm not sure if it was a genuine slip of the mind from being so deep into the moment or whether it was just a shtick, either way it certainly added a little humour to the gigs.\n",
    "\n",
    "Unfortunately Esbjörn died tragically young, at just the age of 44, in a freak scuba diving accident in 2008 only 2 years after the release of \"Tuesday Wonderland\". This was a devestating event in recent jazz history and he will be sorely missed. I was forunate enough to catch, what turned out to be, one of the last UK shows. It was truly fantastic and a totally memorable experience. Afterwards I even got to meet the band as they hung around for autographs and the like. Unfortunately camera phones of the day were still fairly rudimentary (at least the one I had) so I do not have a high-def picture but you can see me as a fresh-faced wee nipper below:\n",
    "\n",
    "![](https://github.com/jazzcoffeestuff/blog/raw/master/images/013-Tuesday-Wonderland/MEST.jpg)\n",
    "\n",
    "To end this post I'll leave one of the more experimental cuts from the album called: \"Brewery of Beggars\". I feel this really captures the \"melting pot\" ethos of the band and highlights the use of electronic effects and rockier sounds the band were known for.\n",
    "\n",
    "> youtube: https://youtu.be/3umiaQLwR38"
   ]
  },
  {
   "cell_type": "code",
   "execution_count": null,
   "metadata": {},
   "outputs": [],
   "source": []
  }
 ],
 "metadata": {
  "kernelspec": {
   "display_name": "Python 3",
   "language": "python",
   "name": "python3"
  },
  "language_info": {
   "codemirror_mode": {
    "name": "ipython",
    "version": 3
   },
   "file_extension": ".py",
   "mimetype": "text/x-python",
   "name": "python",
   "nbconvert_exporter": "python",
   "pygments_lexer": "ipython3",
   "version": "3.7.4"
  }
 },
 "nbformat": 4,
 "nbformat_minor": 2
}

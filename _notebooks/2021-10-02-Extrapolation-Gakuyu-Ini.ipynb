{
 "cells": [
  {
   "cell_type": "markdown",
   "metadata": {},
   "source": [
    "# \"Extrapolation and Gakuyu-Ini AA\"\n",
    "> \"This week we are heading back to Margate and the folks at Curve Coffee Roasters. We take a look at their juicy washed Kenyan offering Gakuyu-Ini AA. Alongside we serve up the 1969 debut recording from John McLaughlin 'Extrapolation'.\"\n",
    "- toc: false\n",
    "- author: Lewis Cole (2021)\n",
    "- branch: master\n",
    "- badges: false\n",
    "- comments: false\n",
    "- categories: [Jazz, Coffee, John-McLaughlin, 1960s, Curve, SL28, SL34, Washed, Kenya]\n",
    "- hide: false\n",
    "- search_exclude: false\n",
    "- image: https://github.com/jazzcoffeestuff/blog/raw/master/images/075-Extrapolation/Extrapolation.jpg"
   ]
  },
  {
   "cell_type": "markdown",
   "metadata": {},
   "source": [
    "> youtube: https://youtu.be/A_nbAw_p9UE\n",
    "\n",
    "This weeks featured roaster is Curve Coffee Roasters from Margate. As you may recall Curve have featured on the blog a few times and rarely disappoint. For my money they're one of the most dependable roasters around and I don't think I've ever got a \"bad\" coffee from them.\n",
    "\n",
    "This time I ordered a Kenyan coffee from them. It is called: Gakuyu-Ini AA. It is a washed processed lot consisting of the classic Kenyan cultivars SL28 and SL34. As with other Kenyan coffees the \"AA\" refers to the screen size of the beans - AA being the largest size. When I first got into specialty coffee there was a lot of talk around whether AA or AB or PB are better in the cup, I don't believe there is any relation truth be told. I have had great coffees in all screen sizes and some duffers too.\n",
    "\n",
    "I don't often go for Kenyan coffees, I enjoy them when I do but they're just not something I hunt down. I think everybody who's into coffee remembers the first time they tried a Kenyan coffee however because it is such an iconic and distinctive flavour profile. It is probably the easiest terroir to recognise. In recent years there have been movements within Kenya to produce more honey and naturally processed coffees (owing to the water usage of washed) - but I've not yet tried any of them. It would be interesting to test how much of the \"Kenya-ness\" comes through with alternative processing methods.\n",
    "\n",
    "Let's dive right into the coffee itself: as you would expect on the dry aroma there is a strong whack of blackcurrant. Before even tasting there is no confusing the origin of this coffee. Alongside there is a delicate herbaceous and perfumed note, but it takes some concentration to find these.\n",
    "\n",
    "Diving into the filter: the first sip greats you with a big juicy cup. The blackcurrant note is so intense it is almost like Ribena and it has that sticky almost jammy mouthfeel also. If you favour flavour intensity this is definitely a good choice of coffee for you as it is a cup that smacks you round the head with the juicy fruity notes. Alongside the blackcurrant I noted down notes of rosehip and hibiscus as well as an almost mint-like herb note. As a cup it is quite complex and one to ponder over. Sometimes Kenyan coffees can be overly acidic, but this is not the case here. The acidity levels are high but not to the point of being uncomforable, owing to the great roasting by Curve.\n",
    "\n",
    "Moving in to the espresso: this is where I often struggle with Kenyans. The acidity can get too much (especially for a coffee like this that is roast for filter) - but I found this one never got too battery-acid-y. I settled on a 1:2.5+ ratio for this coffee, going shorter didn't really increase the mouthfeel or body so it made sense to amplify the sweetness with a longer pull. As is the case with my new grinder I was running a 20s pull for optimal results (some would now call this a \"turbo shot\" or before an \"EKspresso\" but I just call it a shot, the names just feel like marketing). Some of the complexity of the filter is lost as an espresso but you're left with a very intense hit of blackcurrant jam. This is one of the best Kenyan's I've had as an espresso in a while. It is easy to drink and highly enjoyable.\n",
    "\n",
    "As expected Curve produce the goods again with another great coffee. I have no doubt that they will be a featured roaster on the blog again in the future.\n",
    "\n",
    "On the jazz side this week I found myself digging out an album I had not listened to for many years: the 1969 debut recording from John McLaughlin: \"Extrapolation\". \n",
    "\n",
    "![](https://github.com/jazzcoffeestuff/blog/raw/master/images/075-Extrapolation/Extrapolation.jpg)\n",
    "\n",
    "John McLaughlin needs no introduction, he is one of the most commercially successful jazz guitarists of all time with a career spanning 7 decades (just about). He could have comfortably fit into the \"Icon\" series of posts because he is surely an icon (and I'm sure he'll end up there soon enough with some of his other work). His \"big break\" came when working for Miles Davis on the \"In a Silent Way\", \"Bitches Brew\", \"A Tribute to Jack Johnson\" and other Miles hit albums. He is however best known for his work with fusion super-group \"Mahavishnu Orchestra\" which he formed and led. He is one of the revolutionaries of jazz guitar and was hugely influential in how distorted electric guitars were used in jazz.\n",
    "\n",
    "> youtube: https://youtu.be/quhIqwG-sLU\n",
    "\n",
    "\"Extrapolation\" appeared before all this fame and acclaim however, upon its release John McLaughlin was relatively unknown. THe album was released on an independent British record label: Marmalade Records initially. Following John's fame from his work with Miles the album got re-released by Polydor records. The album features an all British line-up of McLaughlin on guitars, John Surman on saxes, Brian Odgers on bass and Tony Oxley on drums. At the time of recording they were all relatively unknown British musicians with very few select releases under their own names and a few side-man appearances. I think this is what gives \"Extrapolation\" such vibrancy, each player is playing with complete freedom not being tied down to tradition.\n",
    "\n",
    "John is obviously most associated with \"fusion\", but \"Extrapolation\" is perhaps the most \"jazz\" album in his his discography. If you have listened to Mahavishnu Orchestra and it's too much, then \"Extrapolation\" is a good place to start. You still get the signature \"widdly\" guitar playing of McLaughlin but it is less in your face. Reportedly jazz guitar supremo Joe Pass (who disliked Mahavishnu Orchestra and didn't consider it jazz) said upon hearing this album \"I guess he can play jazz\".\n",
    "\n",
    "While the album is closer to a traditional jazz sound than other records in the McLaughlin discography that doesn't mean it is not an ambitious project. The album takes a thematic approach to composition, John establishes a theme in one piece and then it might appear again later and be resolved. It is for that reason it makes most sense to listen to this album in one sitting from start to finish rather than picking out individual tracks. Owing to the format of this blog I can't really embed an entire album so consider the tracks here just a \"taster\".\n",
    "\n",
    "McLaughlin's compositional voice and guitar playing obviously take centre-stage on this album, but some of the most memborable parts come from saxophonist John Surman (certainly a musician who is underappreciated). While the album is not \"free-jazz\" in the strictest sense, Surman does bring an edge of free-jazz to keep things interesting.\n",
    "\n",
    "> youtube: https://youtu.be/6L9uP_TfuIQ\n",
    "\n",
    "If \"Extrapolation\" is not an album you've heard before it is definitely worth checking out. You can hear some of the early formings of the McLaughlin sound so if you're a Mahavishnu fan you'll definitely get a kick out of it. Conversely if you are not a fan of Mahavishnu it is far enough away from that sound to keep you entertained. The album manages to remain fresh even after all this time, if you were to tell somebody this was released in the 2020s they'd unlikely question it. Even the recording quality for a (relatively) low-budget release on an indy label is pretty good. "
   ]
  },
  {
   "cell_type": "code",
   "execution_count": null,
   "metadata": {},
   "outputs": [],
   "source": []
  }
 ],
 "metadata": {
  "kernelspec": {
   "display_name": "Python 3",
   "language": "python",
   "name": "python3"
  },
  "language_info": {
   "codemirror_mode": {
    "name": "ipython",
    "version": 3
   },
   "file_extension": ".py",
   "mimetype": "text/x-python",
   "name": "python",
   "nbconvert_exporter": "python",
   "pygments_lexer": "ipython3",
   "version": "3.8.8"
  }
 },
 "nbformat": 4,
 "nbformat_minor": 2
}

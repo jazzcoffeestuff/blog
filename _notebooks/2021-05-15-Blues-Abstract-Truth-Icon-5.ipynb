{
 "cells": [
  {
   "cell_type": "markdown",
   "metadata": {},
   "source": [
    "# \"The Blues and Abstract Truth and Icon 5\"\n",
    "> \"This week is another installment of the Plot Icon series - a Gesha from Diego Bermudez. Alongside the 1961 release from Oliver Nelson 'The Blues and Abstract Truth'\"\n",
    "- toc: false\n",
    "- author: Lewis Cole (2021)\n",
    "- branch: master\n",
    "- badges: false\n",
    "- comments: false\n",
    "- categories: [Jazz, Coffee, Oliver-Nelson, 1960s, Plot, Gesha, Thermal-Shock, Anaerobic, Colombia]\n",
    "- hide: false\n",
    "- search_exclude: false\n",
    "- image: https://github.com/jazzcoffeestuff/blog/raw/master/images/056-Blues-Abstract/Blues-Abstract.jpg"
   ]
  },
  {
   "cell_type": "markdown",
   "metadata": {},
   "source": [
    "> youtube: https://youtu.be/44DfWE0gatQ\n",
    "\n",
    "This week marks the return of the Plot Roasting Icon series. As you may recall this a coffee subscription consisting of \"unobtainium\" type coffees - some of the rarest and most sought after on the market. This installment is no different; it features another Gesha coffee this time from Diego Bermudez in Colombia. You may recall this name from the Assembly limited edition coffee from a few weeks back - this time we have a Gesha cultivar however. As with the forementioned coffee this weeks Icon coffee undergoes a complex multistage process. First the cherries are washed with sterilised water to reduce contamination. The whole cherries are then held in sealed tanks for 60 hours at 18 celcius, they are then depulped before entering a second anaerobic fermentation phase for 36 hours at 18 celcius. The coffee then undergoes a \"thermal shock\" wash procedure; first washing at 35 celcius then 12 celcius. This is followed by a controlled drying procedure for 29 hours at 35 celcius with relative humidity 25% until the grain humidity reaches 10-11%.\n",
    "\n",
    "Diving right in to the coffee itself: on the nose I am getting honey and caramel notes off the dry aroma. Like many of the Gesha cultivar coffees I've had it is a relatively restrained affair and there is not a huge sillage. Moving onto the filter: the first thing to strike me is just how complex this cup is. There is so much going on in the cup. It actually benefits from being consumed at a relatively cool temperature, at the higher temperatures the flavours can overwhelm. In terms of flavour notes there are big perfumed florals: lavendar, violet, jasmine - you name it. Alongside are the typical earl-grey tea type notes one would expect also. I've also picked out stone fruit notes along with citrus (most notably grapefruit). The finish is very very sweet, reminding me of sherbet. This is a coffee to savour and ponder over each individual note, there is a lot to discover in this cup.\n",
    "\n",
    "Due to a bit of a mix up I actually ended up with twice as much of this coffee as usual (300g) - which means for the first time I am able to try one of the Icons as an espresso. With a coffee this expensive it can be a little nerve-wracking to pull shots from, any sink-job dialing in shots are literally money down the drain! Fortunately however, this coffee required only minimal tweaks from the previous espresso I had been serving. I enjoyed this one at a 1:2.5 ratio in 28s with the machine temperature at full whack. As you'd expect this makes a great espresso too. There is one overriding flavour note I wrote down: Haribo Fangtastic sweets! There is a definite sourness to the espresso, but in a good way - not an indication of underextraction way. Especially paired with the syrupy sugar sweetness, it has a real \"sweet and sour\" thing going on which is really cool. I can't remember having an espresso with this sort of profile before so it was very enjoyable. That being said the complexity does get kind of lost so I do think filter is the best way to enjoy this coffee.\n",
    "\n",
    "Yet again Plot are killing it with the Icon series - very much looking forward to what the future brings with this subscription!\n",
    "\n",
    "> youtube: https://youtu.be/SlkkQiZ-gV4\n",
    "\n",
    "As is customary on Icon series posts: on the jazz side we are looking at an iconic album. This time around we are going back to 1961 on Impulse records: Oliver Nelson and \"The Blues and Abstract Truth\".\n",
    "\n",
    "![](https://github.com/jazzcoffeestuff/blog/raw/master/images/056-Blues-Abstract/Blues-Abstract.jpg)\n",
    "\n",
    "Oliver Nelson is one of the many jazz artists who died far too young at just 43 years old. It's perhaps for this reason his name is not as recognisable as others from his era. As a result \"The Blues and Abstract Truth\" is often an album overlooked by the jazz newbie who will not discover it until much later in their jazz journey (and kick themselves for not finding it earlier). To those in the know it is one of the most respected albums from the post-bop era.\n",
    "\n",
    "Nelson is a saxophonist and clarinetist, on \"Blues\" he appears playing tenor and alto sax, however he is perhaps best known as a composer or arranger. \"The Blues and Abstract Truth\" offers a peek into his compositional sensibilities, with just a 7 piece band the tunes are not quite as expansive and experimental as some of his later works. He was also an acomplished composer outside of the jazz idiom having composed for classical and chamber groups along with TV and film scores. It would have been very interesting to see where he headed artistically had he had more time.\n",
    "\n",
    "The lineup on \"The Blues and Abstract Truth\" is quite impressive in itself:\n",
    "- Freddie Hubbard – trumpet\n",
    "- Eric Dolphy – alto saxophone, flute\n",
    "- Oliver Nelson – tenor saxophone, alto saxophone \n",
    "- George Barrow – baritone saxophone\n",
    "- Bill Evans – piano\n",
    "- Paul Chambers – bass\n",
    "- Roy Haynes – drums\n",
    "\n",
    "A true superstar lineup, each more than worthy of a blog post in their own right. For me part of the charm of this album is the contrast in the soloing: Hubbard offering up his usual powerful exuberance, Nelson being more introverted and contemplative and Dolphy being Dolphy!\n",
    "\n",
    "The \"standout\" track on the album is the opener \"Stolen Moments\" (embedded at the start of this post) which has subsequently become a standard in its own right. With so many horns they are able to produce some very rich and wide reaching chord voicings that add to the overall feel of the piece. Perhaps the standout however is the flute solo by Dolphy - an integral part of the recording and highly memorable. Another Dolphy highlight is in the 4th track \"Yearnin\" (below) where he presents the most \"outside\" playing on the album with his solo.\n",
    "\n",
    "Another standout piece (and one of my favourites) is the second track: \"Hoe Down\" (above), based on the theme from Aaron Copland's \"Rodeo\". The genius of this track is that it sets you up thinking you're in for a corny American folk piece before descending into some of the finest post-bop soloing you'll ever hear. Hubbard's solo is the one that really stands out for me on this one.\n",
    "\n",
    "> youtube: https://youtu.be/0tNZ6AG0xWc\n",
    "\n",
    "As with all the albums featured in the Icon series: this one is a \"must listen\" if you are a jazz fan. Be sure to pick up a copy through whatever medium you listen to your music."
   ]
  },
  {
   "cell_type": "code",
   "execution_count": null,
   "metadata": {},
   "outputs": [],
   "source": []
  }
 ],
 "metadata": {
  "kernelspec": {
   "display_name": "Python 3",
   "language": "python",
   "name": "python3"
  },
  "language_info": {
   "codemirror_mode": {
    "name": "ipython",
    "version": 3
   },
   "file_extension": ".py",
   "mimetype": "text/x-python",
   "name": "python",
   "nbconvert_exporter": "python",
   "pygments_lexer": "ipython3",
   "version": "3.7.4"
  }
 },
 "nbformat": 4,
 "nbformat_minor": 2
}

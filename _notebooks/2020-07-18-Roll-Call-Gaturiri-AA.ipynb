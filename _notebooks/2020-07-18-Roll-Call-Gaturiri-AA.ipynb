{
 "cells": [
  {
   "cell_type": "markdown",
   "metadata": {},
   "source": [
    "# \"Roll Call and PLOT Gaturiri AA\"\n",
    "> \"In this blog post we stay with Plot coffee roasters and their Kenyan offering Gaturiri AA. Paired with this we take a look at a 1960 Blue Note classic and hidden gem 'Roll Call' by Hank Mobley.\"\n",
    "- toc: false\n",
    "- author: Lewis Cole (2020)\n",
    "- branch: master\n",
    "- badges: false\n",
    "- comments: false\n",
    "- categories: [Jazz, Coffee, Hank-Mobley, 1960s, Plot, Kenya, Washed-Process, SL28, SL34]\n",
    "- hide: false\n",
    "- search_exclude: false\n",
    "- image: https://github.com/jazzcoffeestuff/blog/raw/master/images/014-Roll-Call/Roll_Call.jpg"
   ]
  },
  {
   "cell_type": "markdown",
   "metadata": {},
   "source": [
    "> youtube: https://youtu.be/9i8yYv83i3Q\n",
    "\n",
    "This week we are staying with the fine people at PLOT coffee roastingre making their 5th appearance on this blog. This time we are making our first trip to Kenya through their Gaturiri AA coffee.\n",
    "\n",
    "There was a period around 5 years ago when Kenyan coffees were the be all and end all. As soon as (UK) summer rolled round all the top London coffee shops had some sort of washed Kenyan on offer. They were treated as the high watermark of what specialty had to offer. Personally I never went crazy for Kenyan coffees, I like them a lot as a filter but I sometimes find their acidity can get a little too much in an espresso. This was especially true a few years ago when there was a few years where London coffee shops wanted to serve exceptionally bright and sour espresso shots, thankfully this trend has largely gone away and most places are roasting more developed and balanced Kenyan roasts these days.\n",
    "\n",
    "As most Kenyan coffees this one is a washed process, recall from our previous blogs that washed (as the name suggests) involves washing the coffee cherry away from the seed. This leads to a cleaner tasting cup, it is generally \"easier\" to process coffee this way since you do not have to monitor fermentation or worry as much about how the coffee is drying. Finding a non-washed coffee from Kenya is quite difficult and you don't see them often, however I understand that certain farms are now experimenting with alternate processing techniques and these should be landing later this year, which will certainly be interesting to try!\n",
    "\n",
    "The varietals in this coffee are SL28 and SL34. These are common varietals in Kenyan coffee. These varietals descend from the Bourbon genetic lineage. They are recognised as having some of the highest levels of cup quality of all varietals however they are also highly suceptible to pests and disease. These varietals also crop up in other origins such as Uganda or Malawi. The varietals were first discovered in the 1930s in Kenya by Scott Labs (hence the \"SL\" prefix) who were established by the colonial British government to aid agriculture within the region. The lab worked to characterize and classify the various coffee varietals in order to find those producing superior tastes but most importantly were also resistant to droughts. The two \"winners\" were SL28 and SL34. The former is considered to (typically) have a better cup quality and is better suited to higher altitude growing, SL34 is still considered very good in the cup but is able to be grown at lower altitudes. \n",
    "\n",
    "Another common descriptor on Kenyan coffees is the \"AA\" designation (or \"AB\" etc.) This often gets interpreted as denoting the \"quality\" of the coffee but in reality it only refers to the size of the beans themselves. If the beans are of a certain size (which they determine by passing beans through a sieve) they are labelled AA, a different size and they are labelled as AB. This doesn't really have anything to do with quality whatsoever - think about many Ethiopian \"heirloom\" type varietals which are tiny yet have great cup quality! It is a myth that does seem to stick around however, I do wonder if certain producers/roasters use this to try and charge a higher premium! Outside of Kenya you rarely see bean size designations on coffees.\n",
    "\n",
    "As is customary in this blog lets move onto tasting the coffee in question! Starting as usual in a filter we are treated to the characteristic \"Kenyan\" taste of blackerry and blackcurrant in spades. Kenyan coffees have this characteristic flavour that so few other coffees manage, if these flavours speak to you you'll definitely want to hunt down some Kenyan coffees. In addition to the blackberry quality this particular example combines a hibiscus like floral-fruity sweetness. It is not the most acidic coffee in this style I've ever had and it's actually very drinkable. In terms of washed Kenyan coffees I'd describe this as quite a mellow one, as it cools down the more delicate floral notes come out to play. This is one that really changes as it cools, if you leave it long enough to get fairly cold (if you can wait that long) - it manages to hold itself together where often a coffee can start to taste a bit rough. At this stage a kind of orange flavour begins to come through which is kind of neat. Moving onto the espresso, sometimes I find Kenyan coffees a bit of a pain to dial in as espresso - especially those such as this one primarily designed as a filter roast. However this one was really quite forgiving - I didn't have a single \"sink job\". My usual \"rules\" for pulling light roast espresso holds true with this one and I ended up setlling on a longer ratio of 16.5g in to 45.0g out (around 1:2.75 ratio). The is not much to speak of in terms of mouthfeel but the sweetness really comes to the front and the acidity is well balanced. The same sort of tasting notes come through as in the filter.\n",
    "\n",
    "Moving onto the jazz of the week. This time I have selected the Blue Note 1960 album \"Roll Call\" by Hank Mobley:\n",
    "\n",
    "![](https://github.com/jazzcoffeestuff/blog/raw/master/images/014-Roll-Call/Roll_Call.jpg)\n",
    "\n",
    "Hank Mobley is one of my all time favourite jazz artists, some of his albums on Blue Note (both as leader and sideman) are simply incredible. I feel he has been a little hard done by however. He is not the \"household name\" (or whatever the equivalent is in jazz) - and many completely overlook him and focus on the Sonny Rollins, John Coltrane and Wayne Shorter's of the world. Don't get me wrong those guys are fantastic and rightly deserve their acolades but we should show some love to Hank too! If you pick up a jazz record guide, and if they have Hank listed at all, they'll just compare him to those guys and not as an artist in his own right. Even the \"positive\" reviews label him as \"saxophone middleweight champion\" (refering to the fact he is not as flashy as a Rollins/Coltrane nor and sensual as a Stan Getz) - which I have always found a bit of a derogatory description since it reads a lot like a \"jack of all trades\" type description.\n",
    "\n",
    "Hank's style is largely in the hard-bop realm. I find his playing to be incredibly mature, he can rip and has great chops but he chooses to hold back and focus on the groove much of the time. For him the music always came first before gaining recognition or noteriety. He didn't seem interested in \"innovating\" and creating a whole new paradigm, instead he was looking to create the most perfect hard-bop sound he could. This was evident in his tone which is sublime and for my money one of the best tenor sounds in all of jazz, it is big warm and inviting. Even when playing complicated fast lines his tone remains fat, that is something very few manage to achieve.\n",
    "\n",
    "Mobley first made a name for himself for being part of Horace Silver's Jazz Messengers (which later became Art Blakey's Jazz Messengers) - given this was probably the pre-eminent hard-bop group of the era this gives some indication to his ability! After his stint with Silver he did some work with Donald Byrd and appeared alongside other such hard-bop talent such as Wynton Kelly, Philly Joe Jones and Grant Green. However as a sideman he was probably most well known for his incredibly productive partnership with trumpet legend Lee Morgan with whom he recorded some of the most well known and commercially successful hard-bop records.\n",
    "\n",
    "On \"Roll Call\" the personel reads:\n",
    "\n",
    "- Hank Mobley - tenor saxophone\n",
    "- Freddie Hubbard - trumpet\n",
    "- Wynton Kelly - piano\n",
    "- Paul Chambers - bass\n",
    "- Art Blakey - drums\n",
    "\n",
    "Which is a pretty impressive line up, if you were playing \"fantasy hard-bop\" you would struggle to create a line up that would better this! It is no surprise then that from start to finish this album is a complete triumph. It kicks off with the title track (embedded at the start of this post) - a typical driving Art Blakey drum groove kicks off preceedings, followed by a latin influenced harmony from Hubbard and Mobley before breaking into the main theme. Within about 30s of the album starting we have already been taken on a musical rollercoaster and can tell this album will just ooze quality.\n",
    "\n",
    "> youtube: https://youtu.be/XaE4ZLEYiPQ\n",
    "\n",
    "One of my favourite cuts on the album is \"The More I See You\" which is a Warren and Gordon standard. This is the only standard on an album otherwise comprised of Mobley originals. To me this is the \"definitive\" version of this standard, from start to finish it is perfect. One of Mobley's great talents is his ability to work with the band - every member is serving the music and not themselves. The way he plays off Kelly's piano in the main theme is particularly good on this track. It is interesting to hear Hubbard play with a muted tone also, it is not something you hear too often and conjures up images of Miles. I find Hubbard an interesting artist, I feel as a sideman he is one of the best of all time however his releases as a band leader have never blown me away.\n",
    "\n",
    "This album is so solid it is really difficult to pick out any \"top tracks\", while as a work it is not \"innovative\" and its intent is more \"evolution\" than \"revolution\" - it is certainly worth your time. In jazz (and coffee, and as a matter of fact life in general) we often clamour to find something new and innovative and tend to under appreciate those that \"simply\" aim to perfect what is already there. Both \"Roll Call\" and \"Gaturiri AA\" fit into this camp - we can find more boundary pushing jazz and we can find more complicated processing methods and complex flavours. But in the end we can't take anything away from them.\n",
    "\n",
    "> youtube: https://youtu.be/fVcrU6tvWGc"
   ]
  }
 ],
 "metadata": {
  "kernelspec": {
   "display_name": "Python 3",
   "language": "python",
   "name": "python3"
  },
  "language_info": {
   "codemirror_mode": {
    "name": "ipython",
    "version": 3
   },
   "file_extension": ".py",
   "mimetype": "text/x-python",
   "name": "python",
   "nbconvert_exporter": "python",
   "pygments_lexer": "ipython3",
   "version": "3.7.4"
  }
 },
 "nbformat": 4,
 "nbformat_minor": 2
}

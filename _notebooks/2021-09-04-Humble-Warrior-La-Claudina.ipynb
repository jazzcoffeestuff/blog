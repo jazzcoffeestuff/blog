{
 "cells": [
  {
   "cell_type": "markdown",
   "metadata": {},
   "source": [
    "# \"The Humble Warrior and La Claudina\"\n",
    "> \"This week we head back to Bath and Round Hill Roastery with their extended fermentation Colombian offering La Claudina. A coffee with just the right level of funk. On the jazz side we catch-up on Wayne Escoffery's 2020 release 'The Humble Warrior' on Smoke Sessions Records.\"\n",
    "- toc: false\n",
    "- author: Lewis Cole (2021)\n",
    "- branch: master\n",
    "- badges: false\n",
    "- comments: false\n",
    "- categories: [Jazz, Coffee, Wayne-Escoffery, 2020s, Round-Hill, Caturra, Natural, Colombia]\n",
    "- hide: false\n",
    "- search_exclude: false\n",
    "- image: https://github.com/jazzcoffeestuff/blog/raw/master/images/071-Humble-Warrior/Humble-Warrior.jpg"
   ]
  },
  {
   "cell_type": "markdown",
   "metadata": {},
   "source": [
    "> youtube: https://youtu.be/zkMmURjJVmE\n",
    "\n",
    "For the coffee this week we are heading back to Bath's finest: Round Hill Roastery. These guys have appeared on the blog many times in the past and rarely disappoint, they're one of the roasters I always find myself going back to because they're so reliable.\n",
    "\n",
    "When this coffee arrived I had a bit of a glut of coffee to get through, so this coffee has been sitting in my freezer for a good few weeks. Typically I don't like freezing coffee and I like to keep a rolling supply going rather than keep a large freezer back log. This is largely down to superstition. When I first got into specialty coffee many moons ago all the advice said \"never freeze coffee\" and so this has kind of stuck with me. We know better now however, and plenty of people get amazing results from freezing. In the back of my mind I'm always worried about trapped humidity etc. in the bag causing issues. Fortunately with this weeks coffee I did not see any ill effects (although I didn't try a \"non-freezed\" version to compare).\n",
    "\n",
    "The coffee itself is from a farm called La Claudina in Colombia. This particular lot consists of Colombia and Caturra cultivars and what makes the coffee particularly interesting is the \"extended fermentation\" processing. The coffee cherries ferment in water for 24 hours and then dry ferment for 24 hours. This farm adjusts these processing methods on different lots to achieve different results. This particular example has been \"extended\" compared to their usual approach, so I am expecting a bit of a funky vibe to this one.\n",
    "\n",
    "Diving into the coffee itself: on the dry aroma I get notes of rich caramels and sweet dark berries. It does not give off an obvious \"funk\" note but you can tell it's got a \"natural\" thing going on. On the nose it is fairly punchy but is not a complete fruit-bomb sort of coffee. It is certainly inviting, however.\n",
    "\n",
    "As a filter brewed in the usual way: the funky note is quite apparent. This may be because I don't typically take the funky bus often. It doesn't have the real farm-yard natural funk that some have, but it is noticable. I would describe it more as a fermented fruit sort of funk instead of a boozy funk. In terms of flavour notes the dark berry notes from the nose are certainly at the forefront for me. Alongside is a little tropical fruit edge and just a hint of herbaceous florality. In terms of profile I would say the acidity and sweetness are medium and the body is fairly high. The cup is quite \"linear\" as it cools, so you don't get too many surprises. The aftertaste is quite longlasting but pleasant. For a natural this funky it is not a muddy sludgefest, there is still a decent amount of clarity (but nothing like the washed Ethiopian's of the past couple of weeks).\n",
    "\n",
    "This coffee for me is more at home as an espresso (as always I still only buy the filter roast option). The bigger body and heavier dark fruit notes are more at home in the concentrated form. The funkiness in the filter is somewhat lost as an espresso however. After a bit of playing I settled on a ratio of 1:2.25. This seemed to highlight the body and mouthfeel while being just long enough for good flavour separation. As an espresso it is one you do not really have to think about, it is extremely easy to pull and extremely easy to drink. The flavour profile is much the same as in the filter but in concentrated form you also get a sort of jammy quality too, it is a slightly \"sticky\" sort of mouthfeel which is quite nice. If you think of redcurrant jelly as you'd have on a roast dinner it's not a million miles away.\n",
    "\n",
    "As expected Round Hill delivered the goods again and show just how reliable they are as a roaster. I'm sure it won't be too long until they feature on the blog once again.\n",
    "\n",
    "For the jazz side this week I found myself listening to a 2020 release that slipped my attention: Wayne Escoffery's \"The Humble Warrior\" on the Smoke Sessions label.\n",
    "\n",
    "![](https://github.com/jazzcoffeestuff/blog/raw/master/images/071-Humble-Warrior/Humble-Warrior.jpg)\n",
    "\n",
    "I'll admit I dropped the ball on this one, I should have checked this out months ago. I love some of the music being put out on the Smoke Sessions label but I find it hard to remember individual albums because they all have near identical cover art. As a result I create fake memories of hearing a particular album because I mistake it for another. Thankfully I managed to notice my error with \"The Humble Warrior\".\n",
    "\n",
    "> youtube: https://youtu.be/mt7tQphDzhQ\n",
    "\n",
    "Wayne is perhaps best known for his work with the Mingus Big Band (with whom he won a Grammy) but he has an equally impressive resume playing with the likes of Herbie Hancock, Ron Carter, Jimmy Cobb and Monty Alexander among others. He is also a long standing member of the Tom Harrell quintet. He also holds the prestigious position \"lecturer of jazz improvisation\" at Yale. Under his own name he has half a dozon or so albums, and his previous release \"Vortex\" from 2018 won him a lot of plaudits cementing him as one of the pre-eminent saxophonists working today.\n",
    "\n",
    "\"The Humble Warrior\" features Wayne's usual quartet along with a couple of interesting guest spots:\n",
    "- Wayne Escoffery: Saxophone\n",
    "- David Kikoski: Piano\n",
    "- Ugonna Okegwo: Bass \n",
    "- Ralph Peterson: Drums\n",
    "- Randy Brecker: Trumpet \n",
    "- David Gilmore: Guitar \n",
    "\n",
    "You can feel the sense of familiarity between the core band throughout the album. Wayne seems to place a high level of trust in his musicians and it feels more like a group collaborative effort than a band playing the leaders compositions. This shows a lot of maturity as a band leader and the music benefits from it. Kikoski and Okegwo each even get a writing credit for the tracks \"Undefined\" and \"Back to Square One\" respectively.\n",
    "\n",
    "The album gets its title as a tribute to the many jazz greats we have lost in recent years: musicians who acted like warriors yet allowed the music to keep them humble. As quite a softly spoken character himself, it feels as though this is also a good way to describe Wayne Escoffery. But make no mistake: once the music starts he is capable of creating some of the most intense and complex fire breathing solos around.\n",
    "\n",
    "A big part of \"The Humble Warrior\" is dedicated to a jazz re-interpretation of Benjamin Britten's \"Missa Brevis In D\" - and this is perhaps the major statement on the album. It is expertly crafted, it takes just enough liberties to be interesting but it does not apply so many re-harmonizations that the piece itself becomes unrecognizable. This is a difficult line to draw and one where many jazz musicians fail in interpreting classical pieces. As a young child Escoffery was a member of a boys choir, and given the popularity of \"Missa Brevis in D\" with choirs, this is likely where the inspiration came from. One of the standout moments of this re-interpretation is in \"Benedictus\" where Wayne's son Vaughn Escoffery (11 years old) adds vocals to double his father's sax lines.\n",
    "\n",
    "Of the two Escoffery original compositions the title track gives the comtemplative and respectful quality one would expect knowing the back story. It features quite a complex twisting melody featuring some breathtaking interplay between Escoffery and Brecker. It manages to shock and amaze but at the same time remain entirely approachable, marking Escoffery as a \"Humble Warrior\" indeed. Of course the track also acts as a fantastic \"canvas\" for the soloists, with Escoffery building from tasteful almost vocal lines through to full frenetic madness but always staying in total control.\n",
    "\n",
    "> youtube: https://youtu.be/YosT9Zs_80k\n",
    "\n",
    "Another standout track for me is Gildo Mahones' ballad: \"Quarter Moon\". On this Wayne shows he does not need to rely on his awe inspiring technique and harmonic knowledge to get the job done. He can play a sensitive and caring ballad as well as anybody, something that is becoming a bit of a lost art in modern jazz. I have to admit that \"Quarter Moon\" was not a piece I was familiar with before listening to this album, but it has become a firm favourite.\n",
    "\n",
    "Overall \"The Humble Warrior\" is a great example of what modern jazz can be. It is one I've had on solid rotation for the past week or so. If you're looking for something new to listen to that is complex yet approachable, respects jazz of the past but still makes a statement itself - you should really hunt down a copy of \"The Humble Warrior\" as it's a thoroughly enjoyable listen."
   ]
  },
  {
   "cell_type": "code",
   "execution_count": null,
   "metadata": {},
   "outputs": [],
   "source": []
  }
 ],
 "metadata": {
  "kernelspec": {
   "display_name": "Python 3",
   "language": "python",
   "name": "python3"
  },
  "language_info": {
   "codemirror_mode": {
    "name": "ipython",
    "version": 3
   },
   "file_extension": ".py",
   "mimetype": "text/x-python",
   "name": "python",
   "nbconvert_exporter": "python",
   "pygments_lexer": "ipython3",
   "version": "3.8.8"
  }
 },
 "nbformat": 4,
 "nbformat_minor": 2
}

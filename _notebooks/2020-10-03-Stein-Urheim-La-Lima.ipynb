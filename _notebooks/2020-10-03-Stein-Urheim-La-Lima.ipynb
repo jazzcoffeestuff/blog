{
 "cells": [
  {
   "cell_type": "markdown",
   "metadata": {},
   "source": [
    "# \"Stein Urheim and La Lima\"\n",
    "> \"This week we stick with roaster Eighty Seven Plus. We have a washed Peruvian coffee called La Lima. Along with this we look at Stein Urheim's self titled album from 2014\"\n",
    "- toc: false\n",
    "- author: Lewis Cole (2020)\n",
    "- branch: master\n",
    "- badges: false\n",
    "- comments: false\n",
    "- categories: [Jazz, Coffee, Stein-Urheim, 2010s, EightySevenPlus, Peru, Washed-Process, Caturra, Bourbon]\n",
    "- hide: false\n",
    "- search_exclude: false\n",
    "- image: https://github.com/jazzcoffeestuff/blog/raw/master/images/024-Stein-Urheim/Stein-Urheim.jpg"
   ]
  },
  {
   "cell_type": "markdown",
   "metadata": {},
   "source": [
    "> youtube: https://youtu.be/KUAaMLeE4OE\n",
    "\n",
    "This week we are sticking with Whitstable based roaster Eigthy Seven Plus. This time we have a Peruvian coffee from the La Coipa district, in the north west corner of the country not too far from the border with Ecuador. This is a washed Caturra/Bourbon coffee from a farm called La Lima owned by Eduardo Campos.\n",
    "\n",
    "As we noted before the roaster takes its name from dealing with coffees with an SCA rating in excess of 87 exclusively. This particular coffee has a score of 88 - the highest currently offered by the roaster. It is also the most expensive they currently have at £15 per 250g - which is still very reasonable for a coffee of this quality - this comes out to around 90p per (large) cup of coffee so compared to what you pay in a cafe a veritable bargain!\n",
    "\n",
    "I've mentioned in the past Peru is not an origin I naturally gravitate towards, I don't dislike Peru and don't avoid at all costs but usually other origins speak to me more so I rarely order Peruvians. This year however I have found some fantastic Peruvian coffees. I tend to find that each year there is one origin where the stars have aligned and they produce fantastic coffee. This feels like Peru's year to me and maybe I'll start buying more Peruvians from now on.\n",
    "\n",
    "Without further ado lets get onto what is important: the cup. First things first the dry aroma: I get faint hints of tropical fruits (that I am unable to put my finger on) but really the big notes are: raspberry, apricot and florals. It is quite a delicate aroma, if you want a big bold fruit bomb it might not be for you. This is sophsticated and refined, these are charactersitics I find myself looking for more and more these days.\n",
    "\n",
    "As usual we will start by looking at the filter, again my usual set up of using my Hasami brewer with chemex papers and relying on a \"pulse pour\" style technique to avoid excess agitation and so I end up with a super clean cup. The first thing to note is this coffee \"grinds coarse\" by which I mean for a given grind setting you'll likely find drawdown is quicker than you expect. If you are a relative coffee novice one of the first things you might try to do is \"chase\" a specific time for a brew and fine up the grind (I used to do this when I started). I personally think this is a bad idea, I don't believe there's a \"magic\" drawdown time that will fix all woes. Instead any adjustment should be by taste alone - and it was clear this coffee liked the shorter drawdown! In all the brewtime I acheieved was around 2:20s on average - many brewguides will tell you to hit 3:00-4:00 for an \"optimal\" cup. My cup did not suffer from this, in fact I tried to hit a 3:30 drawdown out of curiousity one day and it made the coffee 100 times worse, it became more bitter and harsh and lost a lot of flavour separation in the process. As always your tastebuds are the best measuring device!\n",
    "\n",
    "As a filter coffee we get a cup that pretty much mimics the dry aroma. It is a delicate affair and shows real sophistication. The major underlying flavour is raspberry, the tartness and acidity along with the sweetness therein.  This is supported by the delicate juicy apricot type note (which itself brings more sweetness). Throughout the cup the florals are prominent too, while the cup is hot they take a bit of a back seat but as it cools they come to the front. They remind me mostly of a bergamot Earl-grey type floral but there are also plenty of white jasmine notes too. This coffee really evolves as it cools so try and savour it (if you can). In terms of acidity I'd say it is fairly low (but does not taste flat) and the sweetness high, but the cup is very complex and interesting. Definitely a very enjoyable cup.\n",
    "\n",
    "Moving onto the espresso, again this is a filter roast so all the usual rules apply. This coffee seems to be slightly lighter in roast compared to the previous Kayon Mountain (from memory and by eye - I don't own a meter to check this). However I found that it actually benefits from a more \"typical\" recipe of about 1:2.2 and a medium heat, with a PI time of 10s then a 27s pull - a very \"standard\" recipe for an espresso and not usually what you expect from a filter roast. As an espresso I found a new note becomes more prominent: Pears. The raspberry note seems less noticable than in the filter but otherwise all the familiar notes appear. Being so subtle some of the florals are a little harder to find but they're still there, but cold espresso is disgusting so they don't really get a chance to speak as the drink cools. As such I think while it makes a good espresso this coffee really shines in the filter settings. I don't drink milky coffee but I imagine this one would struggle to punch through so look elsewhere if you're looking for a flat-white!\n",
    "\n",
    "Onto this weeks jazz. This one might be a bit contentious to the jazz purists out there, I could see this causing an \"Is this jazz?\" argument. Personally I don't care where the boundaries are - as long as the music is good! And this record is certainly good. It is from 2014 and is on the Norwegian \"Hubro\" record label: Stein Urheim - Stein Urheim.\n",
    "\n",
    "![](https://github.com/jazzcoffeestuff/blog/raw/master/images/024-Stein-Urheim/Stein-Urheim.jpg)\n",
    "\n",
    "Stein Urheim is a Norwegian jazz guitarist/composer. His self titled album is not his debut album having released (to my knowledge) 2 albums under his own name before this and multiple collaborations. The self titled album marks a bit of a change of direction however. The album is essentially a solo project, Stein plays a number of instruments on the recording (guitars, flutes, harmonica, slide tamboura, fretless bouzouki, gu qin, mandolin, langeleik, charango, banjo, analog synths and effects),  there is a brief cameo by Jørgen Træen who adds some synth parts. In essense it is a \"one man band\" however.\n",
    "\n",
    "The album was recorded entirely at the home of Ole Bull (a Norwegian violinist of the 1800s) - the space was designed with acoustics in mind with each room being tailored for small band concerts. This is distinctly noticable in the recording as it has a very \"warm\" sound and does not \"feel\" like a cold studio enviroment. In fact I would say in terms of recording quality I can't think of many albums released in the past 20 years or so that come close to having this level of \"organic\" recording. It is truly a pleasure to listen to, if you can find a vinyl copy I would strongly suggest picking it up as it's worth listening to on a quality sound system.\n",
    "\n",
    "The music itself is no slouch either. Each piece is highly ambitious with many layers and interacting tracks. While it would take an eternity to unpick all the key and time signature changes that happen, all this doesn't really matter. Each piece is essentially a little look into a distinct universe, Urheim takes us on a journey - they are essentially films in musical form. Exact details matter less than the overall \"feeling\" of each piece. There are many influences throughout the album from the obvious jazz and blues, through traditional folk, surf, western classical and baroque through the middle east, hasidic and eastern musical traditions. The music slowly meanders through these styles but it never sounds forced, it is all done in a respectful and natural way.\n",
    "\n",
    "One of the standout pieces on the album for me is the 11 minute long \"After the Festival\" (embedded above). This piece is probably the most playful and joyous on the album, it features folk, flamenco and Carribean elements prominently along with atmospheric drones. Towards the end of the track a simple beautiful melody appears out of the chaos - what is so clever is that this melody has been there (in various forms) throughout the track it's just been obscured. This is a \"trick\" that Stein relies on for a few of the tracks on the album and it gives the project a real cohesion which I think makes it such a memorable album.\n",
    "\n",
    "> youtube: https://youtu.be/an9C8kvNjYw\n",
    "\n",
    "Another stand-out piece is \"Beijing Blues\" - which as the name suggests is a juxtaposition of eastern-classical and blues traditions, there is even a bit of an Indian raga thrown in for good measure. The subtle use of harmonica towards the end of the track just lifts the whole piece as it slowly morphs into a blues swagger.\n",
    "\n",
    "This is an album that is very hard to do justice through words, I find listening to it a very visceral experience. You are transported to different worlds when you listen to it. It is an album that rewards those willing to dedicate the 40 minutes or so to listen to it without distraction - I would recommend nothing more than a comfy chair and a big pot of coffee as an accompaniment. However it can also blend into the background of your day, providing a soundtrack to whatever else you are doing. Although it relies on complex arrangement and harmony in places, it is not at all distracting. It is not often you find music that can take on both of these functions.\n",
    "\n",
    "All in all a superb album that is well worth hunting down. For my money one of the best albums released in the past 10 years and a modern classic."
   ]
  }
 ],
 "metadata": {
  "kernelspec": {
   "display_name": "Python 3",
   "language": "python",
   "name": "python3"
  },
  "language_info": {
   "codemirror_mode": {
    "name": "ipython",
    "version": 3
   },
   "file_extension": ".py",
   "mimetype": "text/x-python",
   "name": "python",
   "nbconvert_exporter": "python",
   "pygments_lexer": "ipython3",
   "version": "3.7.4"
  }
 },
 "nbformat": 4,
 "nbformat_minor": 2
}

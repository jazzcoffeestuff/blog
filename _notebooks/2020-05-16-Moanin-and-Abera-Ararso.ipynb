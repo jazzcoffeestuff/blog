{
 "cells": [
  {
   "cell_type": "markdown",
   "metadata": {},
   "source": [
    "# \"Moanin and PLOT Abera Ararso\"\n",
    "> \"In this blog post we go back to all things classic. The 1959 Art Blakey and the Jazz Messengers 'Moanin', a triumph in early hard-bop. Along with a washed Yirgacheffe from the folks at PLOT coffee roasting.\"\n",
    "- toc: true\n",
    "- author: Lewis Cole (2020)\n",
    "- branch: master\n",
    "- badges: false\n",
    "- comments: false\n",
    "- categories: [Jazz, Coffee, Art-Blakey, Jazz-Messengers, 1950s, Plot, Ethiopia, Washed-Process, Kume, Diga, Wolisho]\n",
    "- hide: false\n",
    "- search_exclude: false\n",
    "- image: https://github.com/jazzcoffeestuff/blog/raw/master/images/005-Moanin/art_blakey_moanin.jpg"
   ]
  },
  {
   "cell_type": "markdown",
   "metadata": {},
   "source": [
    "> youtube: https://youtu.be/Cv9NSR-2DwM\n",
    "\n",
    "Following on from the previous blog post; the second coffee from my PLOT order is the Abera Ararso. This is a fully washed Ethiopian coffee from the Yirgacheffe region. Washed Yirgacheffes have become one of the icons of third wave specialty coffee, they tend to have high cup quality and a certain \"style\". Over the years we have almost become spoiled by how great they can be. At the moment it's trendy to have ever more complex fermentations, drying and yeast based processes to gain more \"complexity\" in the cup - but for me nothing compares to a Yirgacheffe washed coffee. They're like your favourite jacket that can be dressed up or down, the Yirgacheffe can satisfy your lust for complex flavours yet at the same time is equally suited to when you just want a cup that is easy to drink on a lazy Sunday morning.\n",
    "\n",
    "This particular example from PLOT is a very floral affair, not the \"loudest\" coffee you'll drink compared to say a natural process fruit bomb. However for a floral it still packs a hefty punch. As a filter there is also a fair amount of sweetness in the cup - it reminds me of candied lavender that you get in fancy cocktail bars. The cocktail comparison is probably fairly apt too as the cup oozes of sophistication and elegance. As with most washed Ethiopians there isn't a whole lot in the way of mouthfeel. As an espresso the florals pop even more especially on the nose - it is a very fragrant espresso. Washed Yirgacheffes are not always favoured for espresso since they can easily get lost in milk and can be a little too polite for some but personally I like them a lot.\n",
    "\n",
    "On the bag the taste notes are listed as: \"Peach, Parma Violets and Bergamot\". I feel these are fairly apt descriptors, the fragrant bergamot notes are particularly prominent to me. I usually try and ignore specifics in flavour notes when choosing coffee to buy, I tend to just look for \"trends\" for example: is the coffee floral? Stone fruits? Tropical fruits? and so on rather than hunting down a very specific note. I often seen new coffee drinkers post online \"I can't taste the XXXXX note, what have I done wrong?\" which I think leads to disappointment. I think the SCA's attempt to standardize taste descriptors through the flavour wheel is helpful as I feel as though the industry has got a bit carried away in recent years. Can anybody really tell me they can taste the difference between a coffee with a \"strawberry\" note versus one with a \"wild strawberry\" note? I feel as though these grandiose descriptors just lead to disappointment and turns more people away than attracts them to specialty. (Note: this is no reflection on PLOT who seem to use reasonable descriptions, it is just a topic that has been on my mind recently).\n",
    "\n",
    "![](https://github.com/jazzcoffeestuff/blog/raw/master/images/005-Moanin/flavor-wheel.png)\n",
    "\n",
    "\n",
    "One positive trend I've seen with Ethiopian coffees in the past year or so is the movement away from the \"Heirloom\" varietal - for those readers who perhaps aren't as well versed in their terminology: a coffee varietal is roughly the equivalent to a grape variety in a wine. So while in wine you might have a chardonnay, pinot noir or malbec grape in a coffee you might have typica, red bourbon or caturra varietals. Ethiopia is widely considered the birthplace of coffee and occurs \"naturally\", in other regions the coffee plants were introduced. By introducing specific strains and careful farming outside of Ethiopia it is fairly easy to identify the specific varietals on a particular farm. In Ethiopia the coffee plants are much much older, they have naturally evolved over time and so an individual farm may have many different varietals mixed together, some of which may never have even been classified. In the past the industry used the term \"Heirloom\" to denote an Ethiopian coffee with a \"mix\" of natural varietals. This is not ideal since different farms can be composed of entirely different varietals yet both be labelled the same. In the past year or so there has been a move to classify these varietals better. In the Abera Ararso from PLOT we have Kume, Diga and Wolisho varietals. Being relatively new names I haven't yet got a good handle on the characteristics of each - but hopefully in time I can gain a better understanding of these differences.\n",
    "\n",
    "Since this weeks coffee is a classic, it feels only apt to pick one of the classic albums in Jazz history to pair with it. In this case I have settled on **Moanin'** by **Art Blakey and the Jazz Messengers**.\n",
    "\n",
    "![](https://github.com/jazzcoffeestuff/blog/raw/master/images/005-Moanin/art_blakey_moanin.jpg)\n",
    "\n",
    "The Jazz Messengers have a long and complicated history, originally formed via a partnership between drummer Art Blakey and pianist Horace Silver who left after a couple of years to lead solo projects under his own name. Thereafter Blakey became the leader and director of the group (but also released some music under his own name). Under Blakey the Jazz Messengers had a reputation for attracting young talent and \"making them stars\". The groups alumni include some of the greatest names in jazz and one would have to include Blakey in any list of \"greatest band leaders\". The Blakey mantra to band leading was to find talented youngsters and then \"getting out of their way\" rather than using the \"apprentice\" model that other senior band leaders often favour.\n",
    "\n",
    "On this record the \"big name\" is Lee Morgan who would have been 20 years old at the time of recording, already having some noteriety from appearing on Coltrane's \"Blue Train\" a year or so earlier. However it wasn't until a few years after the release of \"Moanin'\" that he became a household name. Although not quite having, in hindsight, the star power of Morgan the other musicians on the record are no slouches either: Benny Golson on tenor sax, Bobby Timmons on piano and Jymie Merritt on the bass.\n",
    "\n",
    "As with most LPs on the Blue Note record label from the 50s and 60s Moanin' features an iconic cover with the classic Reid Miles block lettering and a rather sombre looking Blakey (who is usually much more upbeat) in a photo by Francis Wolff. The Blue Note DNA runs through to the music too; during this time recording and rehearsal was relatively expensive. As a result many records released on other labels featured track lists mainly consisting of standards that they could record quickly in few takes. In contrast Alfred Lion and Blue Note paid for rehearsal time for the artists which allowed them to be more creative and develop new music. The album here featuring only one standard: Johnny Mercer's \"Come Rain or Come Shine\" as the final track, and even that has been largely reworked. All other tracks being originals.\n",
    "\n",
    "The music itself is gutsy, soulful and with a clear influence from blues and gospel music. The late 50s was an interesting time for jazz music in general, be-bop had started to become a little stale. Artists were trying to find a new voice. Shortly after this jazz began to fragment into new sub-genres (as is the case with any music that lasts long enough). Blakey grew up with big bands and later became associated with be-bop groups - through the Jazz Messengers he became one of the figureheads of the hard-bop movement combining some of the hard hitting swing of big band with some of the dense harmonic structures of be-bop.\n",
    "\n",
    "The album starts off with the title-track penned by Timmons, the opening motif being one of the most powerful and recognisable in all of jazz. Everybody on the record is on top form and they were clearly up for it. From Blakey's muscular powerful swinging groove, Timmons offering blues-y block chords and Lee Morgan offering up some killer soulful solos offering a glimpse of what is to come in his later career. The whole record has swagger, swing and total confidence - this is important in jazz records, the musicians often take great risks harmonically and played without confidence it leaves the listener on edge. Part of the beauty of jazz is the feeling of being \"in safe hands\" while doing something completely reckless.\n",
    "\n",
    "Other high points on this album, if we can even pick high-points given every cut on the album is a classic, is \"Along Came Betty\" on side 2 written by Golson. It is perhaps the most sophisticated track on the album with an almost Ellingon-esque horn arrangement. Blakey's energy lifts the soloists to new heights however, Golson in particular plays out of his skin on this one.\n",
    "\n",
    "> youtube: https://youtu.be/CTzRHq_cH5E\n",
    "\n",
    "If you're looking for a reminder of why the classics are classics because, maybe, you have become a bit complacent you can't go far wrong with either Abera Ararso from PLOT nor \"Moanin'\" from Art Blakey and the Jazz Messengers."
   ]
  }
 ],
 "metadata": {
  "kernelspec": {
   "display_name": "Python 3",
   "language": "python",
   "name": "python3"
  },
  "language_info": {
   "codemirror_mode": {
    "name": "ipython",
    "version": 3
   },
   "file_extension": ".py",
   "mimetype": "text/x-python",
   "name": "python",
   "nbconvert_exporter": "python",
   "pygments_lexer": "ipython3",
   "version": "3.7.4"
  }
 },
 "nbformat": 4,
 "nbformat_minor": 2
}

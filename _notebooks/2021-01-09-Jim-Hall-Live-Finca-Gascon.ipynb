{
 "cells": [
  {
   "cell_type": "markdown",
   "metadata": {},
   "source": [
    "# \"Jim Hall Live! and Finca Gascon\"\n",
    "> \"In this blog we take another coffee from the folks at Assembly and pair it with one of my guitar heros the late Jim Hall with his 1975 live album.\"\n",
    "- toc: false\n",
    "- author: Lewis Cole (2021)\n",
    "- branch: master\n",
    "- badges: false\n",
    "- comments: false\n",
    "- categories: [Jazz, Coffee, Jim-Hall, 1970s, Assembly, Guatemala, Washed-Process, Orange-Bourbon]\n",
    "- hide: false\n",
    "- search_exclude: false\n",
    "- image: https://github.com/jazzcoffeestuff/blog/raw/master/images/038-Jim-Hall/Jim-Hall.jpg"
   ]
  },
  {
   "cell_type": "markdown",
   "metadata": {},
   "source": [
    "> youtube: https://youtu.be/qw9jPOUkiUs\n",
    "\n",
    "This week we are heading back to Brixton's finest: Assembly Coffee roasters. They are regular features on the blog for good reason, it is generally hard to pick a coffee any less than great from them. I'm sure they will crop up on the blog many times during 2021.\n",
    "\n",
    "The coffee this week is from Guatemala. Surprisingly this is the first coffee from Guatemala to feature on the blog so far. I tend to find Guatemala to be a reliable origin and one I enjoy coming back to. I tend to find them to be extremely balanced and very easy to work with. They're not necessarily associated with the \"big\" flavours or \"wild\" tasting notes, but you don't always want that in a coffee. In the past few years I've noticed the quality of Guatemalan coffees going from strength to strength and hopefully they'll continue to.\n",
    "\n",
    "The coffee in question is a washed processed orange bourbon. Orange bourbon is a natural hybrid between the red and yellow bourbon varieties - so named because of the colour of the coffee cherries. I consider the bourbon varietal to be the \"old reliable\" of the coffee world. There are newer sexier varietals that command the higher prices and esteem but I will always find myself going back to bourbons from time to time. Unfortunately bourbon is very suceptible to leaf rust and other diseases and pests, as a result many bourbon plants have been replaced by other varietals that are more robust in this regard.\n",
    "\n",
    "Diving straight into the coffee itself: on the dry aroma I get a caramel note and a faint hint of a fruitiness. It is not powerful on the nose however, it is not one that will blow your socks off. As I've noted previously this does not necessarily translate to flavours in the cup however.\n",
    "\n",
    "As usual we start with a filter coffee. The first word that comes to mind with this coffee is \"balanced\". The acidity and sweetness is just so perfectly balanced, you have enough acidity to keep things interesting but it is not high acidity by any means. It is actually very easy to drink. In terms of flavour notes I think a crisp green apple is the best description. Assembly use the descriptors: \"Lemon Curd and Orange Zest\" - I can see what they're getting at with the brightness in the cup but for me it is more like biting into an apple. The sweetness takes the form of a caramel for me - perhaps even a toffee apple. There is a certain amount of mouthfeel and body to the cup, but it is more syrupy than heavy. My one slight negative about the cup is it doesn't cool down well for me, this is one you want to drink quite hot. However, it is so drinkable you'll unlikely have a cup sit around long enough to get to that level.\n",
    "\n",
    "Moving onto the espresso. The first thing to note is this one is an absolute dream to dial in, the sweet spot is huge and it's very difficult to go too far wrong. The roast level is fairly light but not excessively so, which I think helps the dialing in. I found that a standard 1:2 and 27s (after 7s pre-infuse) was about right to keep enough of the syrupy body. Given the balance of the coffee going longer doesn't help balance things out anymore. Going shorter to ristretto sort of levels can be nice but I found that the flavours get a little too muddled and I preferred the clarity in the standard ratio. One caveat however is the temperature: this coffee liked my machine to be essentially as hot as it could go. Dropping the temperature led to a slight sourness in the aftertaste which I didn't care for. When made in this way the shot was syrupy, balanced with just the right amount of acidity coming through. As with the filter crisp green apple and caramel were my main flavour notes.\n",
    "\n",
    "Overall another solid showing from the folks at Assembly, worth picking up a bag if these flavour notes are speaking to you.\n",
    "\n",
    "On the jazz side I have been listening to the fantastic live album (recorded in Toronto 1975) by the late great Jim Hall.\n",
    "\n",
    "![](https://github.com/jazzcoffeestuff/blog/raw/master/images/038-Jim-Hall/Jim-Hall.jpg)\n",
    "\n",
    "I have been a guitar player since I was around 11 years old, however I have never been a huge fan of many jazz guitarists. Most of the time I'd rather listen to horn, trumpet or piano players. There are a few jazz guitarists who had a profound effect on me however and Jim Hall is certainly in that list. I picked up this album relatively early in my jazz journey and I remember not being particularly moved by it at the time, however as my ear has grown over the years it is one I keep finding myself coming back to.\n",
    "\n",
    "> youtube: https://youtu.be/d62pCIkbI1Y\n",
    "\n",
    "Jim started his career in the Chico Hamilton quintet during the mid 1950s before moving on to Jimmy Giuffre's band. The rest of his side-man resume reads like a who's-who of the jazz world featuring names such as Paul Desmond, Art Farmer, Bill Evans, Sonny Stitt, Stan Getz, Lee Konitz and countless others. He is perhaps best known, however, for his work with Sonny Rollins. In particular the album: \"The Bridge\" which was the first to appear after Sonny's hiatus and featured the new \"piano-less\" format for the Rollins group. \"The Bridge\" changed everything in terms of jazz guitar, it acted as a blueprint for jazz guitar comping for decades after it and went to show that the guitar could functionally replace the piano in a group. Any jazz guitar player owes a great deal of gratitude for Jim Hall for doing this, without him later players such as Pat Metheny, John Scofield and Bill Frisell would unlikely be drawing the attention they do.\n",
    "\n",
    "The album in question today: \"Live!\" was recorded in 1975 when Jim was already a well established name and at the top of is game. It was recorded in Toronto's Bourbon Street Jazz Club - fitting given we looked at an orange bourbon coffee varietal this week. It features Don Thompson on bass and Terry Clarke on drums. Much of Jim's playing is about band interaction, his play essentially \"reflects\" the ideas of whoever he is playing with back to them. This allows every member to sound \"more like themselves\" and raises the music to a higher level. This is something that I feel had a profound effect on Bill Frisell who's playing has a similar quality in a more modern setting.\n",
    "\n",
    "The album itself is entirely made up of standards. The playing of familiar tunes allows the trio to really explore the music freely and express themselves. A lot of the exploration takes place in the subtlties, while it's possible to listen to this album without paying much attention it really rewards those looking deeper. You can hear each band member picking up on the phrasing of each others lines. Jim's sparse comping style is on full display in such a stripped back environment. You can also hear his use of dynamics, something that a lot of jazz guitar players overlook.\n",
    "\n",
    "Being a live album of course there are imperfections: you can hear the audience clinking their glasses in places and there are some notes that I imagine would have been \"fixed\" on a studio release. However more than most other live albums I can think of it really captures the feeling of a small jazz club.\n",
    "\n",
    "> youtube: https://youtu.be/eJHf22tJ_a0\n",
    "\n",
    "If you've not heard Jim Hall or this album before I strongly suggest finding a copy. For the particularly keen you can also find \"Live vol 2-4\" which is essentially an extension of this album and features additional music recorded at Bourbon Street."
   ]
  },
  {
   "cell_type": "code",
   "execution_count": null,
   "metadata": {},
   "outputs": [],
   "source": []
  }
 ],
 "metadata": {
  "kernelspec": {
   "display_name": "Python 3",
   "language": "python",
   "name": "python3"
  },
  "language_info": {
   "codemirror_mode": {
    "name": "ipython",
    "version": 3
   },
   "file_extension": ".py",
   "mimetype": "text/x-python",
   "name": "python",
   "nbconvert_exporter": "python",
   "pygments_lexer": "ipython3",
   "version": "3.7.4"
  }
 },
 "nbformat": 4,
 "nbformat_minor": 2
}

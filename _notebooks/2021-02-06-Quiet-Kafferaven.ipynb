{
 "cells": [
  {
   "cell_type": "markdown",
   "metadata": {},
   "source": [
    "# \"Quiet and Kafferäven Per Nordby\"\n",
    "> \"A second installment of my Kaffebox subscription we look at a pair of coffees from Kafferäven Per Nordby. Alongside we serve up the 1996 John Scofield album 'Quiet'.\"\n",
    "- toc: false\n",
    "- author: Lewis Cole (2021)\n",
    "- branch: master\n",
    "- badges: false\n",
    "- comments: false\n",
    "- categories: [Jazz, Coffee, John-Scofield, 1990s, Kafferäven-Per-Nordby, Costa-Rica, Nicaragua, Honey-Process, Washed-Process, Catuai, Caturra]\n",
    "- hide: false\n",
    "- search_exclude: false\n",
    "- image: https://github.com/jazzcoffeestuff/blog/raw/master/images/042-Quiet/Quiet.jpg"
   ]
  },
  {
   "cell_type": "markdown",
   "metadata": {},
   "source": [
    "> youtube: https://youtu.be/YWDmR0IunvI\n",
    "\n",
    "On the blog this week we are looking at the second installment of my Kaffebox subscription. The previous months coffees were delayed significantly due to various issues and so the coffees featured in this post arrived only a few days after those - a much better result as I can review the coffee fresh as intended! As I'm writing this blog the next months Kaffebox arrived so I expect those to feature in the not too distant future also.\n",
    "\n",
    "The featured roaster this week is: Kafferäven Per Nordby. A Swedish roaster located in Gothenburg - another new one to me. The packaging is clean and monotone which suits my aesthetic. They have included brew recipes for both filter and espresso on the reverse of the packaging so I can only assume this is an omniroast coffee. You can read more about them at www.kafferaven.se\n",
    "\n",
    "As with the previous Kaffebox subscription I have 2 different 125g bags to play with. This time I decided to dedicate one to filter and one to espresso, I feel this is the best option as it gives me a few chances to dial in the espresso. If I tried to make espresso and filter with each coffee I wouldn't have many attempts to dial in and I feel that would be unfair. I decided which was which based on origin/taste notes that I prefer in one method over the other.\n",
    "\n",
    "Let's start with the \"filter\" coffee. It is a honey processed coffee from Costa Rica called Senel Campos. Honey Costa Ricans have long been a favourite of mine, early in my coffee journey I had one from Hasbean coffee roasters that blew my mind and is one of the reasons I went further down the coffee rabbit hole. This particular example is made up entirely of the Catuai varietal.\n",
    "\n",
    "On the dry aroma I get 2 distinct notes: caramel and apple. While not an absolute monster in terms of sillage, it is strong and punchy. This is especially true when grinding where the caramel became very noticable. In the cup the flavour notes are much the same for me: caramel and apple. Imagine biting into a toffee apple made with a very sharp green apple, that is the best description of how this coffee behaves in filter. There is quite a lot of sweetness but also quite a lot of acidity that cuts through, in the aftertaste it comes through as a sharp citrus kind of quality. This keeps the aftertaste very clean which is something I always look for. There is just enough body in the coffee to hold the flavour notes together. But interestingly, and this is going to sound a bit nuts, I find the body is mostly present in the aftertaste. When you're drinking the coffee you don't really notice the body but it reveals itself afterwards. This is not a quality I've noticed before in a coffee but it is something I'll be on the lookout for as it's kind of neat.\n",
    "\n",
    "The \"espresso\" coffee is called El Avion, it hails from Nicaragua. It is a washed Caturra varietal. I decided to go for this one for espresso due to the flavour notes mentioning chocolates and nuts which I find tend to come out better in espresso based drinks. I typically find honey processed coffees the easiest to dial in though so it was a bit of a toss up between them.\n",
    "\n",
    "The dry aroma of this coffee doesn't hit quite as hard as the Senel Campos. The main note I get is a hazelnut and not much else. It's important not to place too much emphasis on dry aroma because that doesn't necessarily translate to the cup. As mentioned before on the bag there are brew recipes, here they recommend a 1:2.5 ratio in 32-35s. I am not a fan of having brew recipes for espresso on the bag, there is such a wide variety of machines and grinders out there it kind of becomes meaningless. Throw in differences in water, ability of the barista and it's clear you should follow your senses instead of the bag. Further, typically the same \"recipe\" is printed for every coffee offered by a roaster - it is unlikely each coffee will yield best results with the same recipe. This is not a moan aimed at Kafferäven but the industry more widely - we need to get better at communicating these things.\n",
    "\n",
    "Onto the espresso itself: I found this one very easy to dial in. I tried the bag recommendation initially and it was OK, but for me it had a little too much bitterness in the finish. I found the best results at around 1:2.2 in around 22-25s. Temperature wise it worked best at a medium temperature, this coffee seems very easy to extract and so very easily finds itself in over-extracted territory. When dialled in it makes great espresso. It has an unctuous body and mouthfeel like thick milkshake. The toasted hazelnut note comes to  the forefront but is paired with quite a delicate floral backdrop - it is something I only noticed when I really focussed on tasting. It is not a distracting complexity, just something that's there if you look at it. As with the filter, the coffee is super clean - with this one I found the aftertaste was very shortlived but intense.\n",
    "\n",
    "Another 2 great coffees from Kaffebox. If I had to pick a \"winner\" (not that they're in competition) I would go for the Costa Rican as it's just more \"my\" sort of coffee. I favour the crisper acidic coffees most of all. You can't go wrong with either however.\n",
    "\n",
    "On the jazz side this week we're hanging out with John Scofield and his 1996 album \"Quiet\".\n",
    "\n",
    "![](https://github.com/jazzcoffeestuff/blog/raw/master/images/042-Quiet/Quiet.jpg)\n",
    "\n",
    "John needs no introduction, he is rightly considered one of the biggest names in jazz today. His gigs remain extremely popular and he can sell out large venues the world over at the drop of a hat. He started his career in the late '70s where he worked with names such as Chet Baker, Gerry Mulligan, Charles Mingus, Billy Cobham, Dave Liebman, Joe Henderson and was with the Miles Davis band for many years (as well as many other interesting projects). Alongside this he released his first solo album in the late 70s before getting \"big\" in the 1980s and 1990s - success that carries over to the present day.\n",
    "\n",
    "> youtube: https://youtu.be/LNFjPH7_CQo\n",
    "\n",
    "What set John Scofield apart in the early days was his ability to blend the \"rock\" distorted electric guitar sound in a jazz context. Others may have been a few years earlier in doing this, but most got the tone all wrong - sounding like a bad teenage cover band. Sco was one of the first to really nail the tone and he acted as the blueprint for many others that followed. For most of his career the main signal chain hasn't changed significantly: an Ibanez AR semi-hollow (similar to a 335) into a dirt pedal (typically a rat) into a Vox AC30. This allowed him to do the rocky numbers but also clean up and give a convincing clean jazz sound too. During the '80s like many he went down the processed chorus drenched sound but thankfully he didn't stick with that for too long. In the '90s he became known for being one of the first to blend jazz with electronic music and hip-hop (at least with commercial success). A true innovator and maverick in the jazz-world.\n",
    "\n",
    "The album today, however, is \"Quiet\" - this is an oddball in the Scofield back catalogue because he plays acoustic guitars exclusively. As a result it gets overlooked, his bigger \"hits\" like \"A Go Go\" with MMW, \"Grace Under Pressure\", \"Uberjam\" and so on get all the acolades. These albums are of course fantastic but I find \"Quiet\" one of the best examples of Sco's compositional ability. I hope he releases a few more acoustic albums in the future.\n",
    "\n",
    "What is really magical about John's playing is his rhythmic ability and feel. With many jazz artists you can \"cop\" their style relatively easily. I don't hear many who do the \"Sco\" thing well, you only need to hear a split second of him playing and you are 100% certain it is him. I have read a description that \"John knows so much music that it just seems to ooze out of him every time he plays\" - which I think is the perfect description (I can't remember who came up with this description but full credit goes to them).\n",
    "\n",
    "> youtube: https://youtu.be/qB4d4myzYbs\n",
    "\n",
    "Back to the album itself. In addition to featuring acoustic guitars it also features a larger ensemble cast with rich horn arrangements throughout. In addition to featuring regular band mates: Steve Swallow on the bass and Bill Stewart on the drums if also features a wider cast of (the legendary) Wayne Shorter and Randy Brecker. In total there are 12 musicians on show, this allows John to create really rich and interesting arrangements. I think it's safe to say that Wayne Shorter had a big impact on this release as some of the arrangments have a \"Shorter\" kind of feel to them.\n",
    "\n",
    "This album is largely about the orchestration and feel so it's not really about iconic \"moments\" or individual tunes. Throughout this post I have added some choice tunes but really this is an album that is best enjoyed from start to finish, just set it playing and let the moods wash over you. If you're a Sco fan but haven't heard this one, or you're just intrigued by the concept it's well worth hunting down a copy.\n",
    "\n",
    "For the particularly keen: Jazz Night In America broadcast a gig by John celebrating both \"Quiet\" and another album of his \"Loud Jazz\" (1987). It is broken into a \"Quiet\" section and a \"Loud\" section and is also worth a watch. A link to the gig on YouTube can be seen below:\n",
    "https://www.youtube.com/watch?v=R-bWt4rZrA8\n",
    "> youtube: https://youtu.be/R-bWt4rZrA8"
   ]
  },
  {
   "cell_type": "code",
   "execution_count": null,
   "metadata": {},
   "outputs": [],
   "source": []
  }
 ],
 "metadata": {
  "kernelspec": {
   "display_name": "Python 3",
   "language": "python",
   "name": "python3"
  },
  "language_info": {
   "codemirror_mode": {
    "name": "ipython",
    "version": 3
   },
   "file_extension": ".py",
   "mimetype": "text/x-python",
   "name": "python",
   "nbconvert_exporter": "python",
   "pygments_lexer": "ipython3",
   "version": "3.7.4"
  }
 },
 "nbformat": 4,
 "nbformat_minor": 2
}

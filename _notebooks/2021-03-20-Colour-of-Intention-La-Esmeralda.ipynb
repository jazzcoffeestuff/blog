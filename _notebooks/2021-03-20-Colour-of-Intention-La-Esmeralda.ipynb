{
 "cells": [
  {
   "cell_type": "markdown",
   "metadata": {},
   "source": [
    "# \"The Colour of Intention and Finca La Esmeralda Gesha\"\n",
    "> \"Another week another Gesha varietal featured on the blog. This time we have a washed example from Finca La Esmeralda from Guatemala roasted by Brew Coffee Plus. Alongside we serve up Lewis Wright's 2020 release 'The Colour of Intention'.\"\n",
    "- toc: false\n",
    "- author: Lewis Cole (2021)\n",
    "- branch: master\n",
    "- badges: false\n",
    "- comments: false\n",
    "- categories: [Jazz, Coffee, Lewis-Wright, 2020s, Brew-Coffee-Plus, Guatemala, Washed, Gesha]\n",
    "- hide: false\n",
    "- search_exclude: false\n",
    "- image: https://github.com/jazzcoffeestuff/blog/raw/master/images/048-Colour-of-Intention/Colour-of-Intention.jpg"
   ]
  },
  {
   "cell_type": "markdown",
   "metadata": {},
   "source": [
    "> youtube: https://youtu.be/0WhO96JY7JE\n",
    "\n",
    "This week we're heading back to the Brew Coffee Plus roasters in Streatham. For the second week in a row we're looking at a Gesha varietal coffee - but this time a washed processed example. We have talked about Gesha a few times in the past so we won't retread that ground - suffice to say the past few weeks of coffee have been relatively expensive so I might have to avoid the super-rare lots for a while!\n",
    "\n",
    "I would be remiss if I did not first mention the packaging for this coffee. Since this is a special Gesha coffee, Brew Coffee Plus decided to pull out all the stops with the packaging. The coffee arrived in a thick cardboard box with a magnetic clasp, it reminds me more of a hardback book than it does a coffee box. Yes, it is superfluous and doesn't actually \"add\" anything to the coffee itself - but I'm a firm believer that subconciously you judge a coffee long before it even reaches the cup and so this certainly does no harm.\n",
    "\n",
    "The coffee itself is from Finca La Esmeralda in Acatenango, Chimaltenango, Guatemala. Seeing the words \"La Esmeralda\" and \"Gesha\" on the same page will likely make one think of \"Hacienda La Esmeralda\" in Panama - but this coffee is unrelated (aside from the obvious sharing of the Gesha varietal). There wasn't too much information provided with the coffee itself but it does state that the owner of the farm is one Mr Hermes and it provides an interesting tidbit that he is working with hybrid varietals. Potentially something to look out for in the future.\n",
    "\n",
    "Let's dive into the coffee itself: in the usual way starting with the dry aroma. The first thing I notice is the nuance in the coffee. You can tell this will be a complex cup from the moment of opening the bag. There are layers upon layers of florals and citrus notes. It's quite hard to pinpoint individual notes here as there is a lot going on, but it is very inviting.\n",
    "\n",
    "As a filter this coffee really shines. It is an incredibly clean cup of coffee, one of the cleanest I've had in a while. The main two \"themes\" of flavour notes are citrus and florals. I would describe the citrus notes as being clemantine in terms of sweetness but with a grapefruit type acidity in their too. You could also argue various other citrus-y type notes too but those are the two that come to mind for me. Once the initial citrus hit subsides you're hit with a wave of florals - jasmines are certainly there and there's a certain honeysuckle type sticky sweetness on show too. The taste notes say \"bergamot\" which is also a good description. The cup is very complex so picking out a few taste notes is difficult. This cup is also super sensitive to temperature and it takes you on a journey when drinking it. Using any sort of temperature control mug would be a crime against coffee here. I would instead recommend getting a very thin walled drinking vessel so that it cools down quicker as it won't last long.\n",
    "\n",
    "I had enough of this coffee that I could experiment with espresso too. It is a roast that is on the lighter end and has delicate floral taste notes which can sometimes lead to a difficult dialing in process. I found the coffee very forgiving however, most things seemed to work well. Ultimately though a longer shot of around 1:2.75 in about 25s worked best for me and the machine wanted to be as hot as it could go. Going too short with this one led to something too concentrated and it was hard to identify the flavours for me. The bit of extra liquid helped seperate the flavour notes - again a similar palette of flavours to the filter.\n",
    "\n",
    "Another super enjoyable Gesha coffee and another good showing from Brew Coffee Plus.\n",
    "\n",
    "On the jazz side this week we're looking at a 2020 release from Lewis Wright called \"The Colour of Intention\".\n",
    "\n",
    "\n",
    "![](https://github.com/jazzcoffeestuff/blog/raw/master/images/048-Colour-of-Intention/Colour-of-Intention.jpg)\n",
    "\n",
    "Lewis Wright is perhaps best known as being the vibraphone player in the UK jazz group \"Empirical\" - one of the more interesting UK jazz groups of the past few decades, playing music inspired by some of the free and avant garde artists as well as the more straight ahead. On \"The Colour of Intention\" however we get to see Wright in a more stripped down setting - he is joined by two fantastic musicians in the form of Matt Brewer on the bass (one of my favourite bassists) and Marcus Gilmore on the drums. With only a 2 piece rhythm section to support him we get to hear what Wright has to offer unencumbered.\n",
    "\n",
    "On this outing there is less in the way of \"free\" playing than you'd expect if you came here via \"Empirical\" - the majority on the playing is fairly \"inside\". The one notable exception being the opening track \"Mettle\" (embedded at the start of the blog) which evokes Bobby Hutcherson on Eric Dolphy's \"Out to Lunch\" recording with it's circular repeating melody.\n",
    "\n",
    "> youtube: https://youtu.be/IpUY3zsGGXg\n",
    "\n",
    "What really stands out throughout the album is the sheer virtuosity of Wright. He has some really enviable chops, but does not let that get in the way of the music. You never get the impression that he is \"showing off\" or trying to impress anybody. This is particularly evident by the rather notable final track on the album: \"Brilliant Corners\". For those unfamiliar: this is a piece by Thelonious Monk. It is known for being so complicated that the musicians on the recording (including Sonny Rollins) were unable to play it end to end without making mistakes, and to my knowledge Monk never performed this piece live in its entirety. By placing this track on an album you are certainly making a statement about your jazz chops. The arrangement is very cool too, it captures the vibe and the frequent tempo changes/rhythmic motifs but Wright manages to throw his own spin on the tune.\n",
    "\n",
    "The problem with playing a relatively obscure instrument such as the vibraphone is you instantly get compared to those that came before. These days most will get compared to the late great Gary Burton given his reinvention of the instrument. While Wright is clearly influence by Burton  (perhaps most notably on the track \"Resolve\" (above) which has a tinge of \"Crystal Silence\" to it.) Wright has his own sound and voice that is his own.\n",
    "\n",
    "> youtube: https://youtu.be/ZYb6L9KuTM8\n",
    "\n",
    "Another track that really stands out for me is the beautiful \"Raise (For Z)\" (above) - it is not about high octane virtuosity at all and is the most stripped back on the album. I'm particularly fond of Brewer's arco playing which is simply stunning, Wright makes sure to hold back during these parts to allow Brewer the chance to shine. Overall the piece has a dream-like almost meditative feeling to it and offers a stark contrast to the more uptempo numbers.\n",
    "\n",
    "Overall \"The Colour of Intention\" is a really great modern jazz release. If you like small band interaction it is a shining example of what can be achieved. There is a near telepathic interplay between the trio and each one is trying to help the others thrive."
   ]
  },
  {
   "cell_type": "code",
   "execution_count": null,
   "metadata": {},
   "outputs": [],
   "source": []
  }
 ],
 "metadata": {
  "kernelspec": {
   "display_name": "Python 3",
   "language": "python",
   "name": "python3"
  },
  "language_info": {
   "codemirror_mode": {
    "name": "ipython",
    "version": 3
   },
   "file_extension": ".py",
   "mimetype": "text/x-python",
   "name": "python",
   "nbconvert_exporter": "python",
   "pygments_lexer": "ipython3",
   "version": "3.7.4"
  }
 },
 "nbformat": 4,
 "nbformat_minor": 2
}

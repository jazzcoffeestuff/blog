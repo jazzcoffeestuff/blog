{
 "cells": [
  {
   "cell_type": "markdown",
   "metadata": {},
   "source": [
    "# \"Fletcher Moss Park and da Matteo\"\n",
    "> \"Slightly belatedly we look at the October instalment of my KaffeBox subscription featuring a pair of coffees from the da Matteo coffee roastery in Sweden. We have a washed Kenyan and a natural Colombian on show. Alongside we serve up some modal jazz courtesy of the fantastic 2012 release from Matthew Halsall 'Fletcher Moss Park'.\"\n",
    "- toc: false\n",
    "- author: Lewis Cole (2021)\n",
    "- branch: master\n",
    "- badges: false\n",
    "- comments: false\n",
    "- categories: [Jazz, Coffee, Matthew-Halsall, 2010s, da-Matteo, SL28, SL34, Ruiru, Batian, K7, Castillo, Colombia, F6, Washed, Natural, Kenya, Colombia]\n",
    "- hide: false\n",
    "- search_exclude: false\n",
    "- image: https://github.com/jazzcoffeestuff/blog/raw/master/images/080-Fletcher-Moss-Park/Fletcher-Moss-Park.jpg"
   ]
  },
  {
   "cell_type": "markdown",
   "metadata": {},
   "source": [
    "> youtube: https://youtu.be/trRRFR6NTME\n",
    "\n",
    "This week we take a (rather belated) look at the October offering from my KaffeBox subscription. Due to a bumper haul of \"exotic\" coffees lately I put these coffees on ice (literally - in the freezer) for a couple of weeks.\n",
    "\n",
    "This time the featured roaster is da Matteo, located in Gothenburg, Sweden. This is a completely new roaster to me and one I don't know much about. The first thing that I notice on their understated packaging is that they offer 2 distinct set of taste (and aroma) notes depending on whether you use soft or hard water. This is a first for me and I think I approve. Water makes such a big difference to the flavour experience it makes sense to have alternative notes. On the flip side however, just the overall \"hardness\" of the water is not necessarily a good estimator for how the water will work for coffee. It is nice to see a roaster try and deal with the water problem though, so brownie points to da Matteo on this.\n",
    "\n",
    "As you may recall in my KaffeBox subscription I get 2 bags of 125g each, so I tend to dedicate one to filter and one to espresso for testing. In this case I made my selection based on origin: I tend to find Kenyan coffees more enjoyable in a filter setting.\n",
    "\n",
    "The Kenyan in question is called Murang'a AA, as you would expect it is a washed coffee and it comprises of SL28, SL34, Ruiru, Batian and K7 cultivars. On the nose the dry aroma gives me the familiar thwack of blackcurrant we all love about Kenyan coffee. Alongside this is a sort of candy or sugary sweetness. As a filter my instant reaction is one of shock, this coffee has an extremely high flavour intensity. If you like your coffees to beat you round the head with flavour this is one for you. The overarching flavour is of course the blackcurrant and blackberry you would expect. But alongside are a lot of florals, I would describe them as more violet and lavender floral than say a jasmine. The cup is extremely clean which seems to amplify the intensity of flavour. In terms of body I'd describe it as medium to low, it's not water-y thin but nor is it a chewy cup. This coffee really impressed me and for my money one of the best KaffeBox offerings so far this year.\n",
    "\n",
    "On the espresso side of things we have a natural Colombian: Manos Juntas, consisting of Castillo, Colombia and F6 cultivars. On the nose the dry aroma gives off notes of strawberry and jasmine like florals. I found dialing in this espresso relatively easy and I ended up settling on a rather typical (for my set-up) 1:2.5 in about 22s. Again on first sip the things I note down are \"clean cup\" and \"flavour intensity\" - maybe this is somewhat of a \"house style\" for da Matteo? In terms of flavour profile I get more tropical fruits: papaya, mango and melon coming through along with the strawberry note from the nose. Alongside is an almost custard-y vibe in both flavour and mouthfeel.\n",
    "\n",
    "Another solid pair of coffees from KaffeBox in this instalment - possibly my favourite so far. There may have been more \"complex\" cups in the past but the flavour intensity here is something special. As a result da Matteo is certainly on my radar and one I'll keep an eye out for.\n",
    "\n",
    "On the jazz side this week we take a trip back nearly 10 years to a recording from Matthew Halsall and \"Fletcher Moss Park\".\n",
    "\n",
    "![](https://github.com/jazzcoffeestuff/blog/raw/master/images/080-Fletcher-Moss-Park/Fletcher-Moss-Park.jpg)\n",
    "\n",
    "Matthew Halsall is an English trumpet player based out of Manchester. He released his first album in 2008 and (at time of writing) has 8 albums to his name. His style certainly falls into the \"spiritual\" side of modal jazz with Alice Coltrane being the most clear influence on his work. At times you can also hear shades of Miles Davis modal period in his playing and especially his phrasing. Alongside these jazz influences he has also taken influence from hip hop and electronic dance music - this is not so much in \"sound\" (he sticks to acoustic instruments in his arrangements almost entirely) but in vibe. \n",
    "\n",
    "> youtube: https://youtu.be/Ze20dBcybxA\n",
    "\n",
    "A Matthew Halsall album tends to have an almost meditative feel to it. This experience is doubled if you ever get to see him live. He is not much of a \"show man\" there is very little in the way of crowd engagement, but he has the ability to transport the audience to a different place. There are very few acts around today who do the whole spiritual jazz thing as well as Halsall.\n",
    "\n",
    "\"Fletcher Moss Park\" marks the fourth record in the Halsall back catalogue and for me it is the first where his sound fully developed. On the previous albums he was at perhaps 90%, but everything just fell into place with \"Fletcher Moss Park\" (and subsequent). Each track on the album has a certain \"Halsall quality\" that is unmistakable, you can hear his influences come through but at the same time his own personality and vision remains clear.\n",
    "\n",
    "As with all spiritual jazz \"Fletcher Moss Park\" is less about specific details of the music and more about a vibe. The name of the album and the artwork gives a good impression of what to expect: I get the impression of a contemplative walk through the woodland while listening to the album.\n",
    "\n",
    "With an album like this it is difficult to pin-point individual tracks as \"highlights\" since this album is best appreciated from start to finish. The album opener \"Cherry Blossom\" (embedded at the start of this post) is one of the high points of the album and does a good job setting the scene. The Miles influence on Halsall's playing is particularly apparent here as he plays some tasty sparse modal lines. \"Mary Emma Louise\" (above) is another track that sticks out for being the most \"uptempo\" number on the album and probably the closest thing to a swing you'll hear on the album. The penultimate track on the album \"The Sun in September\" (below) is another track worth highlighting for being one of the more ambitious tracks on the record. This track almost provides the blueprint for some of his later works - it shows great maturity for a band leader to sit out for the majority of a track. Halsall manages to say a lot without actually playing much and that is a real skill.\n",
    "\n",
    "If Matthew Halsall is a new name to you I would definitely recommend checking him out, and \"Fletcher Moss Park\" is a good place to start. I'm a big fan of his music and live performances and you can't really go wrong with any of his albums/gigs. Be sure to also check out other artists on his \"Gondwana Records\" record label if you enjoy what you hear also.\n",
    "\n",
    "> youtube: https://youtu.be/3f5KfgdY8BM"
   ]
  },
  {
   "cell_type": "code",
   "execution_count": null,
   "metadata": {},
   "outputs": [],
   "source": []
  }
 ],
 "metadata": {
  "kernelspec": {
   "display_name": "Python 3",
   "language": "python",
   "name": "python3"
  },
  "language_info": {
   "codemirror_mode": {
    "name": "ipython",
    "version": 3
   },
   "file_extension": ".py",
   "mimetype": "text/x-python",
   "name": "python",
   "nbconvert_exporter": "python",
   "pygments_lexer": "ipython3",
   "version": "3.8.8"
  }
 },
 "nbformat": 4,
 "nbformat_minor": 2
}

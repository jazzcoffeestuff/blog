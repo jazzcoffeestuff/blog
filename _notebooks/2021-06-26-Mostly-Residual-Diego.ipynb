{
 "cells": [
  {
   "cell_type": "markdown",
   "metadata": {},
   "source": [
    "# \"It's Mostly Residual and Diego Bermudez\"\n",
    "> \"This week we have another coffee from Diego Bermudez roasted by the guys and girls at Plot Roasting. Alongside we serve up some avant-garde jazz from Cuong Vu's 2006 release 'It's Mostly Residual'.\"\n",
    "- toc: false\n",
    "- author: Lewis Cole (2021)\n",
    "- branch: master\n",
    "- badges: false\n",
    "- comments: false\n",
    "- categories: [Jazz, Coffee, Cuong-Vu, 2000s, Plot, Pink-Bourbon, Anaerobic-Fermentation, Colombia]\n",
    "- hide: false\n",
    "- search_exclude: false\n",
    "- image: https://github.com/jazzcoffeestuff/blog/raw/master/images/061-Mostly-Residual/Mostly-Residual.jpg"
   ]
  },
  {
   "cell_type": "markdown",
   "metadata": {},
   "source": [
    "> youtube: https://youtu.be/MaHeL5jyLDw\n",
    "\n",
    "This week we are sticking with the folks at Plot Roasting (far from their first appearance on this blog). In particular we are looking at their \"special edition\" coffee from Diego Bermudez. Diego, at this point, is a familiar name on this blog - his coffees have appeared multiple times in multiple different guises. He is widely regarded as one of the thought leaders of \"experimental processing\" and the quality in the cup speaks for itself.\n",
    "\n",
    "The coffee this time is a Pink Bourbon cultivar. As you may recall from previous posts Pink Bourbon is a natural hybrid of Red and Yellow Bourbon cultivars. It has a very high cup quality but unfortunately it is quite hard to isolate and grow so it is much rarer than its red/yellow parents (and as such demands a premium). This particular coffee undergoes a stringent multistage process:\n",
    "\n",
    "- At picking 90% ripe and 10% semi-ripe cherries are selected\n",
    "- Cherries are washed with sterilised water\n",
    "- First aerobic fermentation for 42 hours, 17 celcius. Cherries are whole and without water\n",
    "- Second anaerobic fermentation 72 hours at 19 celcius. Cherries are whole and without water\n",
    "- Cherries de-pulped\n",
    "- 26 hours drying in 37 celcius air with 3% humidity until reaching grain humidity of 10-11%\n",
    "- Coffee stabilises in grainpro bags for 15 days\n",
    "\n",
    "As you would expect from Diego; this is intricate and very controlled processing.\n",
    "\n",
    "Diving into the coffee itself: on the dry aroma I am hit with feint tropical fruit notes, caramels and sweetness. For such a \"crazy\" processing the dry aroma is quite restrained, but still inviting. As a filter brew the coffee is anything but restrained however. The cup is extremely complex and bursting with fruitiness. Some of the flavour notes include: strawberry, watermelon, lychee, grape, rhubarb, redcurrant and more. One of the notes listed on the label is: \"watermelon jolly ranchers\" and I struggle to come up with a better descriptor than that. The sweetness level of this coffee is very high and the acidity is medium-high which helps offset. I would describe the sweetness as a \"boiled sweet\" type sweetness alongside the fruity notes. The mouthfeel and body are fairly low but there's enough there to keep it interesting.\n",
    "\n",
    "As an espresso I find this coffee really shines, however. There is one small issue; the coffee requires an extremely fine grind. On my grinder I was just off chirp and could only get a 1:2.5 ratio consistently out of it - this is likely to be an espresso that would not perform too well without a quality grinder. Given the fine grind a lot of attention needs to be paid to puck prep, but as long as there's no obvious defect the shots are delicious and reasonably forgiving. The \"jolly ranchers\" tastenote from the filter gets amplified in its concetrated form and you have a sticky delicious boiled-sweet type shot. Personally a couldn't get enough of it (at time of writing I have enough for about 2 more shots left, I'll be sad to see it go). Some of the complexity of the filter cup is lost in the espresso but the punchiness and increased mouthfeel more than make up for it.\n",
    "\n",
    "Unsurprisingly both Plot and Diego Bermudez come up with another great coffee. I'm sure this will not be the last time they're featured here.\n",
    "\n",
    "On the jazz side this week I dug out a record from 2006 - \"It's Mostly Residual\" by Cuong Vu.\n",
    "\n",
    "![](https://github.com/jazzcoffeestuff/blog/raw/master/images/061-Mostly-Residual/Mostly-Residual.jpg)\n",
    "\n",
    "Cuong Vu is a Vietnamese-American trumpeter, he is best known for being part of the Pat Metheny Group during the early 00s - and this is certainly where I came across him, and why I picked up \"It's Mostly Residual\" back in 2006. While Pat Metheny Group records are, well, Pat Metheny-ish: Cuong's recordings take on a different vibe all together. He is more interested in textural soundscapes and he veers much further into the \"free\" side than you typically find on Metheny records. While I enjoy these sorts of explorations, many Metheny fans picking up a Vu record may be a little shocked and put off. It is perhaps for this reason that his albums maybe slightly overlooked.\n",
    "\n",
    "On \"It's Mostly Residual\" we have a quartet of musicians:\n",
    "- Cuong Vu - trumpet\n",
    "- Stomu Takeishi - bass\n",
    "- Ted Poor - drums\n",
    "- Bill Frisell - guitar\n",
    "\n",
    "> youtube: https://youtu.be/0_fUiPmKiq8\n",
    "\n",
    "The first 3 members making up the \"Cuong Vu Trio\" who appear on many albums together, while guitarist Bill Frisell appears as a \"guest\" (for those interested in jazz guitar in 2016 there is also the \"Cuong Vu Trio Meets Pat Metheny\" which is interesting to compare the guitarists in identical setups). I make no apologies about being a huge Bill Frisell fan and Bill has appeared on the blog multiple times. On this album we have what I like to call \"Weird Bill\" - Bill has perhaps 3 main \"modes\" to work in: \"Country-influenced Bill\" is where most of his recent work lives, it is jazz fused with country/Americana. You then have \"Comping Bill\" where he accompanies other musicians and creates a soundscape to highlight their best qualities. Then you have \"Weird Bill\" where he plays really outside, uses lots of fuzz, feedback and noise. It is in complete contrast to his other modes which makes him so interesting as a musician. \n",
    "\n",
    "I saw Bill in London promoting one of his \"Country Bill\" albums once, I was sat in the front row and beside me was a group of Americans. They were extremely obnoxious and talked through a lot of the set and were generally quite disrespectful. Just before the interval Bill was playing a standard/pop-tune off the album he was promoting - but at the end you could see the Bill smirk come out so you knew something was happening. He then played a couple of minutes of the craziest feedback \"noise-rock\" avant-garde music I've ever heard to finish off the first set. After Bill walked off stage I heard the Americans say: \"the first set was good, it's a shame about the technical issues at the end\" - I had to be very careful to make sure they couldn't hear me chuckling.\n",
    "\n",
    "One of the craziest tunes on the album is \"Expressions of a Neurotic Impulse\" (embedded at the start of this post), the main theme of which is a jarring, nervous, almost-punk-rock motif. It doesn't take long until it descends into full chaos with some manic drumming from Ted Poor and Bill Frisell making full use of his pedal board. At first listen it may appear quite \"random\" without much forethought - however the more you listen the more you get out of it and you can notice the many layers to the soundscape they create.\n",
    "\n",
    "Another highlight is the track \"Brittle Like Twigs\" (above). While slightly less crazy that \"Expressions of a Neurotic Impulse\" still has its fair share of free moments. It is often difficult to blend the outside free ideas with swing or groove but I feel \"Brittle Like Twigs\" is a great example of this done well. It also features a killer \"Weird Bill\" solo at the end\n",
    "\n",
    "> youtube: https://youtu.be/XaTZHhbzhIE\n",
    "\n",
    "With \"outside\" music it can often get overwhelming if the tempo and energy is high for the entire album. The real skill in constructing albums like this is to get the balance right betweenup tempo and lower tempo. One of the lower-tempo highlights on \"It's Mostly Residual\" is the track \"Patchwork\" (above). This appears beside \"Expressions of a Neurotic Impulse\" and the change in mood is striking. It starts off as something you could imagine hearing on a \"Country Bill\" album, but as it moves forward creates more of an \"uneasy\" feeling and it's a joy to hear the main theme slowly develop in this way.\n",
    "\n",
    "With an album like \"It's Mostly Residual\" it's best to hear it in its entirety and picking out individual tracks like this does not really do it justice (I could have easily picked the other tracks to highlight - for example the New Orleans influenced crescendo to \"Chitter Chatter\"). So if you've liked what you've heard so far I'd strongly suggest finding a copy of \"It's Mostly Residual\" and giving it a few listens."
   ]
  },
  {
   "cell_type": "code",
   "execution_count": null,
   "metadata": {},
   "outputs": [],
   "source": []
  }
 ],
 "metadata": {
  "kernelspec": {
   "display_name": "Python 3",
   "language": "python",
   "name": "python3"
  },
  "language_info": {
   "codemirror_mode": {
    "name": "ipython",
    "version": 3
   },
   "file_extension": ".py",
   "mimetype": "text/x-python",
   "name": "python",
   "nbconvert_exporter": "python",
   "pygments_lexer": "ipython3",
   "version": "3.7.4"
  }
 },
 "nbformat": 4,
 "nbformat_minor": 2
}

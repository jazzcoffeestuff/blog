{
 "cells": [
  {
   "cell_type": "markdown",
   "metadata": {},
   "source": [
    "# \"Solo Guitar and Ana Sora\"\n",
    "> \"Another week and another coffee from the folks at Plot Roasting. This time another Ethiopian coffee from Israel Degfa: Ana Sora, a naturally processed lot from Guji. Alongside we serve one of my jazz guitar hero's Ted Greene with his only release 'Solo Guitar'.\"\n",
    "- toc: false\n",
    "- author: Lewis Cole (2021)\n",
    "- branch: master\n",
    "- badges: false\n",
    "- comments: false\n",
    "- categories: [Jazz, Coffee, Ted-Greene, 1970s, Plot, Heirloom, Natural, Ethiopia]\n",
    "- hide: false\n",
    "- search_exclude: false\n",
    "- image: https://github.com/jazzcoffeestuff/blog/raw/master/images/066-Solo-Guitar/Solo-Guitar.jpg"
   ]
  },
  {
   "cell_type": "markdown",
   "metadata": {},
   "source": [
    "> youtube: https://youtu.be/Xa3tHd_rzYo\n",
    "\n",
    "For the past month or so this blog has focussed on either: unobtainium coffees, wild processing methods and roasters from all around the globe. This week we head back to some \"normality\" with a more \"everyday\" coffee. The roaster in question is our old friend Plot Roasting from Woolwich, London.\n",
    "\n",
    "The coffee itself is from Ethiopia from a farm called Ana Sora located in Guji, Oromia. This is quite a popular producer and the coffees tend to be talked about fondly, many people calling it their favourite producer. The farm is owned by Israel Degfa who we have talked about on this blog in the past. As a re-cap, Israel owns many farms throughout Eithopia (mostly in the Oromia region) and supports local farmers and communities by offering financing, investing in healthcare, education and others.\n",
    "\n",
    "As with many Ethiopian coffees the cultivar breakdown is not well understood and this coffee is simply listed as \"heirloom\" - a catch-all phrase for \"who knows?\". This coffee has been naturally processed but there is not much info to be found on the exact processing undertaken. The altitude of this coffee is worthy of note being 1900-2350 masl - this is very high, which causes coffee to grow more slowly. The theory being that the slower growing leads to a more complex cup profile (although I am a little sceptical about this and haven't found altitude to be a good predictor).\n",
    "\n",
    "Let's dive right into the coffee itself. On the dry aroma I get the delicate floral notes one would expect from a Guji. Combined of course with the stone fruit qualities present in pretty much all Ethiopian coffee. On the nose it is not a \"flavour bomb\" but it is certainly inviting. Brewed as a filter in the usual way: the notes from the nose carry over. You get the typical apricot and peach iced tea notes as expected, but these give way to floral violet and lavendar notes in the finish. It is not the most perfumed example I've ever tasted but it is still a complex cup. Overall the balance is in favour of sweetness compared to acidity, most likely due to the natural processing of this coffee. In terms of body and mouthfeel I'd describe it as a medium and the aftertaste is fairly long lived but reasonably clean. While being a natural it isn't a \"strong natural\" and manages to retain quite a lot of clarity.\n",
    "\n",
    "In espresso I find this coffee really shines. All the flavour notes mentioned previously just get intesified - so you essentially end up with a concentrated apricot syrup flavoured with violets! I found this coffee can tolerate shorter ratios and I ended up dialing in to around 1:2.1-ish in around 27s - so a fairly typical profile. The roast level is quite light so the coffee works nicely in longer/much longer ratios too but in a more concentrated form I find the mouthfeel more appealling. It is a very forgiving coffee in as much as you can play with ratio/time at will, however I found that small grinder adjustments made a big difference so it might not be great for those with stepped grinders. Temperature wise I kept the machine at full whack owing to roast (this is intended as a filter roast).\n",
    "\n",
    "All in all a solid \"everyday\" coffee and a good example of what to expect from a Guji natural.\n",
    "\n",
    "On the jazz side this week we are taking a look at one of my guitar heros: Ted Greene with his 1977 release \"Solo Guitar\".\n",
    "\n",
    "![](https://github.com/jazzcoffeestuff/blog/raw/master/images/066-Solo-Guitar/Solo-Guitar.jpg)\n",
    "\n",
    "Ted Greene may be a new name to anybody who is not a guitarist (and even to many guitarists too). He was never a \"big\" name, and in fact \"Solo Guitar\" represents his only studio recording. Outside of this album there are only a few low resolution videos and recordings dotted around the internet of him. One may ask: how can somebody like this become a guitar-hero for many jazz guitarists? The first answer to this is: listen to Solo Guitar! But another answer is: Ted's biggest passion was jazz education. He has given us guitarists a treasure trove of lessons, transcriptions and ideas to work with. He reportedly said he didn't enjoy playing live music or recording as it made him nervous, but he was perfectly happy teaching a room full of people all about jazz guitar.\n",
    "\n",
    "> youtube: https://youtu.be/VjDGYFZuJSU\n",
    "\n",
    "So what makes Ted's playing so special? You may be asking, it is his knowledge of chords and harmony. Dire Straits may have said: \"Check guitar George, he knows all the chords\" - really they should have been talking about Ted Greene. He came up with so many beautiful chord voicings and in his arrangements he often interchanged the voicings at will - some close interval, some wide interval, some voicings you never hear elsewhere. His approach to doing this was totally unique and you can tell when people are \"doing Ted\" in their playing, but very few manage to pull it off convincingly (Tim Lerch is one in the Ted Greene style who has managed to incorporate Ted's ideas in a natural way).\n",
    "\n",
    "Ted had many other far influencing ideas beyond harmony: he is (to my knowledge) one of the first jazz guitarists to use a telecaster - something later popularised by Frisell, Stern and others. He also made use of the harp-harmonic techniques, again something not that popular when he was doing it. Perhaps the biggest of his influences was his use of \"neck vibrato\" in jazz guitar. This is where you hold the body of the guitar against you and push/pull the neck to gently apply vibrato to the notes. This has become a staple for other jazz guitarists, perhaps most notably Bill Frisell who uses this technique frequently.\n",
    "\n",
    "\"Solo Guitar\" as an album, as the name suggests, focusses on solo guitar arrangements. Each tune is a standard or \"pop\" tune and so the music should be somewhat familiar anybody listening. Of course the magic is in the arrangment, these are not typical jazz guitar arrangements. There is a certain elegance and beauty to what is being played. Many guitarists (jazz or otherwise) fall into the trap of making music that appeals only to guitarists but with Ted I feel there's a lot to appeal to a much wider audience. It is a shame that he didn't leave us with a much wider range of recordings.\n",
    "\n",
    "Picking a few select tracks from the album is difficult as there's something to be taken from each arrangement. One of the tracks I particularly enjoy is \"Danny Boy\" (embedded at the start of this post), the intro to the track shows off Ted's creative use of harp-harmonics to extend out chord voicings and shows off that enviable knowledge of harmony. \n",
    "\n",
    "Another favourite track would be \"Send in the Clowns\" (above). Through the use of creative voicings he manages to take a tune that can often end up sounding a bit \"dull\" and breathes new life into it. Continuing the theme of potentially \"dull\" tunes is \"Ol' Man River\" (below) - what is particularly interesting about this one is the use of his time, he goes between periods of straight and swing and gently undulates between the two at will, often while changing tempo or feel. \n",
    "\n",
    "I would hesitate to call \"Solo Guitar\" an \"essential\" album for a jazz record collection, the arrangements are terrific and inspiring but it is more of a \"musician's album\" than one for a general jazz fan. You also have to put up with less than ideal recording quality. But it is well worth giving it a listen and I think it is certainly one of the more interesting solo jazz-guitar records out there.\n",
    "\n",
    "> youtube: https://youtu.be/VE0Qpci3yB4"
   ]
  },
  {
   "cell_type": "code",
   "execution_count": null,
   "metadata": {},
   "outputs": [],
   "source": []
  }
 ],
 "metadata": {
  "kernelspec": {
   "display_name": "Python 3",
   "language": "python",
   "name": "python3"
  },
  "language_info": {
   "codemirror_mode": {
    "name": "ipython",
    "version": 3
   },
   "file_extension": ".py",
   "mimetype": "text/x-python",
   "name": "python",
   "nbconvert_exporter": "python",
   "pygments_lexer": "ipython3",
   "version": "3.8.8"
  }
 },
 "nbformat": 4,
 "nbformat_minor": 2
}

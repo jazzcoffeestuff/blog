{
 "cells": [
  {
   "cell_type": "markdown",
   "metadata": {},
   "source": [
    "# \"A Go Go and Assembly Monteverde\"\n",
    "> \"Sticking with Assembly coffee roasters we look at an experimental anaerobically processed Colombian coffee in the form of Monteverde. Along with this we look at the 1998 jazz-funk classic 'A Go Go' by John Scofield featuring Medeski, Martin and Wood.\"\n",
    "- toc: false\n",
    "- author: Lewis Cole (2020)\n",
    "- branch: master\n",
    "- badges: false\n",
    "- comments: false\n",
    "- categories: [Jazz, Coffee, John-Scofield, 1990s, Assembly, Colombia, Anaerobic-Process, Caturra]\n",
    "- hide: false\n",
    "- search_exclude: false\n",
    "- image: https://github.com/jazzcoffeestuff/blog/raw/master/images/018-A-Go-Go/A-Go-Go.jpg"
   ]
  },
  {
   "cell_type": "markdown",
   "metadata": {},
   "source": [
    "> youtube: https://youtu.be/1WPGdjZr8PI\n",
    "\n",
    "This week we are sticking with Assembly coffee roasters in Brixton, London. This time we move away from Africa through to South America and Colombia to be exact. The coffee is called \"Monteverde\" which is the name of the farm located in the Andean region in the Tolima department - in the centre west of the county and just west of Bogota.\n",
    "\n",
    "As regular readers will know, Assembly decorate each coffee with a \"swirl\" which somewhat reflects the flavour profile of the coffee for this coffee we have:\n",
    "\n",
    "![](https://github.com/jazzcoffeestuff/blog/raw/master/images/018-A-Go-Go/Monteverde.jpg)\n",
    "\n",
    "Perhaps the most \"interesting\" part of this coffee is its processing method, described by Assembly as \"anaerobic\". The coffee undergoes a 2 stage fermentation anaerobic fermentation process where the temperature is carefully controlled between 19 and 23 celcius. The second stage is a 48 hour aerobic temperature and pH controlled fermentation. Reported to be a similar technique to Yemeni producers. I have seen these sorts of process also called \"semi-anaerobic\" and other names. This is what I would consider an \"experimental\" processing method compared to the more typical washed/natural/honey type processes we are more accustomed to. Personally I find these methods hit and miss, some of them can be great and produce interesting and complex cups but many leave me feeling cold, I find them a bit \"hollow\" (for lack of a better word) in an almost \"decaf\" sort of way. They can be intense flavour wise but unbalanced and for me not that enjoyable. As such I don't hunt out these sort of coffees.\n",
    "\n",
    "In terms of varietal this coffee is a Caturra. This varietal is very prevelant around the Americas and represents a natural mutation of the Bourbon varietal. It is known for fairly good cup quality and yield but is considered susceptible to both leaf rust and pests. It is also a parent varietal to many hybrid or mutated varietals such as Catimor (cross with a Timor), Castillo, and others which typically offer better resistance to leaf rust and pests.\n",
    "\n",
    "Moving onto the coffee itself. The first thing I notice is the beans have a slighlty \"oily\" look to them - not in an \"italian roast\" sort of way (these beans are definitely a light roast). It is slighlty strange and not something I really see in the sort of beans I buy, I wonder if it's a result of the particular processing? As a dry aroma we are treated to tropical fruits galore with this one - its a fruit salad in coffee form. Papaya, pineapple, mango, passion fruit - everything is there and it is a very intense experience. I found these beans a little odd as a grinding experience too, in my hand grinder for filter they almost had a \"spongy\" character. In the past I have experimented with microwaving beans prior to grinding and they have a similar texture. Very strange indeed.\n",
    "\n",
    "As a filter the tropical fruits really carry though and it is just a fruit bomb. There is no other way to describe this coffee, big, punchy, bright but funky too. The acidity is fairly high in this one but there is a lot of sweetness too which acts to offset this. It also has a reasonably big mouthfeel and is almost syrupy. This is a very complex cup and one could spend a while trying to unpick everything in the cup. I did find it had a pretty \"linear\" heat profile though, in as much as the flavours do not evolve as the cup cools (at least very much). It does not have the \"hollow\" quality I sometimes associate with the experimental processing methods which is definitely a positive. Overall it is not the cleanest cup I've ever had but for a cup with funk it is fairly clean.\n",
    "\n",
    "Moving onto the espresso. The weird grinding continued for me here, I found this one a strange coffee to work with. I found you wouldn't get many fines at all until you hit a specific grind setting and then it produced an absolute boat ton of fines. This led to me adopting a very strange recipe for this coffee: 16.5g in to 50g out with the shot pulling in 14s. By most standards this would be considered a \"gusher\" and a failed shot, if I saw a cafe pulling a shot like this I would likely walk away thinking they don't know what they're doing. But for me this just works with this coffee, going to a more \"traditional\" shot profile led to a slight acrid aftertaste note that I did not care for. One might expect a shot pulled like this to be extremely sour but this was not the case and the sweetness meant it was fairly balanced. At around a 1:3 ratio one might expect to have a very watery thin mouthfeel too, again not the case and it was quite thick and luxurious with a thick crema too. The flavour profile is similar to the filter: an absolute fruit bomb with a hint of funk. A very interesting and delcious shot of espresso.\n",
    "\n",
    "\n",
    "This weeks jazz comes courtesy of John Scofield, in the form of his 1998 album \"A Go Go\":\n",
    "\n",
    "![](https://github.com/jazzcoffeestuff/blog/raw/master/images/018-A-Go-Go/A-Go-Go.jpg)\n",
    "\n",
    "This album marks his first collaboration with Medeski, Martin and Wood (MMW) with whom he has recorded 4 albums - after this album they decided to record under the name: \"Medeski, Scofield, Martin and Wood\" (MSMW). The full album musician/instrument line-up is:\n",
    "\n",
    "- John Scofield – electric & acoustic guitars, whistle\n",
    "- John Medeski – organ, Wurlitzer, clavinet, piano\n",
    "- Chris Wood – acoustic & electric basses\n",
    "- Billy Martin – drums, tambourine\n",
    "\n",
    "Up to this point MMW had achieved a modest cult following but it wasn't until this album that they really made it \"big\", following on from this they released a string of fairly commercially successful records (without Scofield) mostly in the \"jazz-funk\" space. They created their own \"scene\" and attracted new listeners to jazz. However in addition to their jazz-funk side they also had their feet firmly planted in the avant-garde working with John Zorn and were also heavily linked to the \"jam-band\" scene and a certain contingent of their fans would readily describe themselves as \"dead heads\" or \"phish phans\". In addition to recording as a trio each member has numerous side projects and collaborations in genres from more straight ahead jazz, through pop, rock and hip-hop.\n",
    "\n",
    "The title artist, and sole composer, on the album is John Scofield - Sco to his friends. John needs no introduction really, since the 1970s he has toured and recorded with many of the titans of jazz: Miles Davis, Charles Mingus, Joe Henderson, Dave Liebman, Billy Cobham, Chet Baker, Paul Bley and many many more. In addition he has had a prolific career as a leader/solo artist with around 50 records to his name. If you were to ask people to list \"jazz guitarists\" it wouldn't be a long wait to hear Sco mentioned. \"A Go Go\" is likely to have a lot to do with this as commercially it is likely to be Sco's most successful release.\n",
    "\n",
    "In the 1970s Sco was one of the first jazz players to use a distorted \"rock\" guitar sound, before this jazz guitarists had typically used large hollowbody guitars prone to feedback into clean guitar amps. As fusion came in this changed and many opted for a distorted sound - in this respect Sco was very influencial. You can argue over who the first was to do this but for me the \"Scofield tone\" is something that many tried to imitate (I find the secret being to pick very hard right next to the bridge to get his squealing cat sort of phrasing). His playing style however cannot be imitated. His style changed over the years but has always been distinctly Sco. Initially he played faster lines, but by \"A Go Go\" he slowed down significantly. His playing is all about \"laziness\" and being as far behind the beat as possible while still being in good time. The lines themselves tend to be fairly outside but the phrasing and timing presents them in a way that you sometimes don't notice. It is something that is very hard to do, I've heard many players do \"Scofield impressions\" but very few (if any) actually nail what he's doing. I once heard him described as: \"He knows so much music it just falls out of him\" - which I feel is an apt description for his playing style.\n",
    "\n",
    "On to the album itself: the album has a very strong \"jam-band\" feel from the MMW supporting cast, with more than a hint of jazz-funk throughout. As with many MMW projects the music has a \"get up and dance\" feel, even when the music itself can be fairly complex and at times intense and gnarly. Mostly though it just feels like four friends playing music together and we are just fortunate there was a tape there to capture the moment. The album kicks off with the title track \"A Go Go\" (embedded above). This track is a good signpost of what is to come on the album. It has a sort of mysterious and eerie vibe, but at the same time funky and jovial. The solos are a contrast to this where both Johns play with an attitude and swagger. There are also hints of \"The Meters\" in certain parts - an influence that seems to crop up on many tracks on the album.\n",
    "\n",
    "> youtube: https://youtu.be/FHbQbIjKWro\n",
    "\n",
    "The fifth track on the album \"Jeep on 35\" is perhaps the most sophisticated tune on the album. I guess you'd describe it a having a \"fusion\" sound from the 1970s but that would be doing the tune a disservice. Although a \"jam-band\" feel there are many different parts and sections in the composition. Given the title and easy laid-back vibe this seems a tailor made soundtrack for a summer road trip. Sco's solo on this piece in particular is a perfect case study in his \"behind the beat\" or \"lazy\" soloing style that is so hard to imitate.\n",
    "\n",
    "Another high point on the album for me is \"Green Tea\":\n",
    "\n",
    "> youtube: https://youtu.be/2KHeNpTzOzo\n",
    "\n",
    "Here the tempo is brought right down from some of the higher energy funk that surround it on the album. All the music featured walks the narrow line between extremely \"relaxed\" music and extremely \"sophisticated\" - something that is very hard to do well. One of the real selling points of this album is just how strong every track is. If I were to re-write this entire post again I could choose any of the other tune to write about.\n",
    "\n",
    "So if you want some funky coffee then hunt down a bag of Monteverde, if you want some funky jazz hunt down a copy of \"A Go Go\"."
   ]
  },
  {
   "cell_type": "code",
   "execution_count": null,
   "metadata": {},
   "outputs": [],
   "source": []
  }
 ],
 "metadata": {
  "kernelspec": {
   "display_name": "Python 3",
   "language": "python",
   "name": "python3"
  },
  "language_info": {
   "codemirror_mode": {
    "name": "ipython",
    "version": 3
   },
   "file_extension": ".py",
   "mimetype": "text/x-python",
   "name": "python",
   "nbconvert_exporter": "python",
   "pygments_lexer": "ipython3",
   "version": "3.7.4"
  }
 },
 "nbformat": 4,
 "nbformat_minor": 2
}

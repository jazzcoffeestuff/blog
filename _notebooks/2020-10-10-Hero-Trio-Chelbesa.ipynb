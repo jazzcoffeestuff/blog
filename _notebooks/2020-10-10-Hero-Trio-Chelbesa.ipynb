{
 "cells": [
  {
   "cell_type": "markdown",
   "metadata": {},
   "source": [
    "# \"Hero Trio and Chelbesa\"\n",
    "> \"This week we introduce a new roaster to the blog: Curve. With their washed Ethiopian Chelbesa. Alongside we serve the 2020 album 'Hero Trio' from Rudresh Mahanthappa and chums.\"\n",
    "- toc: false\n",
    "- author: Lewis Cole (2020)\n",
    "- branch: master\n",
    "- badges: false\n",
    "- comments: false\n",
    "- categories: [Jazz, Coffee, Rudresh-Mahanthappa, 2020s, Curve, Ethiopia, Washed-Process, Wolisho, Dega]\n",
    "- hide: false\n",
    "- search_exclude: false\n",
    "- image: https://github.com/jazzcoffeestuff/blog/raw/master/images/025-Hero-Trio/Hero-Trio.jpg"
   ]
  },
  {
   "cell_type": "markdown",
   "metadata": {},
   "source": [
    "> youtube: https://youtu.be/CrUm4CsKW8c\n",
    "\n",
    "This week we have a new roaster appearing on the blog: Curve Coffee Roasters - https://www.curveroasters.co.uk/ - based in Margate. They have been on my \"to try\" list for a while but I never got round to it until now. They come with a reputation for roasting some truly great coffees and their pricing is very reasonable.\n",
    "\n",
    "As you would expect with this blog I stuck with their \"filter roast\" offerings (they also offer an \"espresso roast\" option). For me personally I tend to find these speak to me more than the espresso roasts - admittedly you need to work a bit harder to get a good espresso out of one though.\n",
    "\n",
    "The coffee itself is from the Chelbesa village within the Gedeb Zone of the Oromia Region. of Ethiopia. This coffee is made up from contributions from a number of small holders within the village and the coffee is a washed process. This is generally a recipe for a coffee I will enjoy, washed coffees from this area are generally my \"go to\". After a bit of digging it appears this coffee has a cupping score of 89.5 - which is very high!\n",
    "\n",
    "Without further ado lets get right in to the coffee itself: on the dry aroma I get a sweet honey note paired with the typical floral notes one would expect from this sort of coffee. The aromas are not too strong coming off the grinds, everything is soft and subtle. As we've said before on this blog: the dry aroma can give you some indication of a coffees character but does not tell you everything.\n",
    "\n",
    "As usual starting with our usual filter technique: one word to get us started is \"wow\". This coffee is a near perfect example of why washed coffees from this area are so prized. The first thing I notice is an apricot or peach note, a sweet but not too sweet character. These flavours slowly morph into a melon type flavour the more the cup cools. Then of course the florals: bergamot is clearly present along with violets and lavendar in the background. The mouthfeel is soft, creamy but slightly syrupy - it is not one of the very thin washed Ethiopians completely devoid of mouthfeel. As one  would expect the aftertaste is a lingering black tea affair. Overall very enjoyable!\n",
    "\n",
    "Moving onto the espresso. This one I found a little finnicky to dial in, all my shots tasted good but there was a certain astringency in the aftertaste that took a while to sort out. In the end I found a ratio of 1:2.5 was about right - I didn't want to go superlong with this one since I knew it had a good mouthfeel I didn't want to go to waste. I went for a pull of around 25s which is reasonably quick but not excessively. The story was the same with the temperature: hot but not super-hot. As a shot many of the notes from the filter came through, however the florals took more of a backseat. With the mouthfeel and the very subtle florals the \"honey\" descriptor from the dry aroma became more apt. If you're willing to put the work in you will be rewarded for it with this coffee but I see why they would label this a \"filter\" roast - certainly not a coffee I'd recommend to the novice barista for espresso.\n",
    "\n",
    "This is certianly a very good coffee and one I very much enjoyed, hopefully this is representative of what Curve can do - I'm sure I'll be trying them again.\n",
    "\n",
    "The jazz this week is a 2020 release from Rudresh Mahanthappa called \"Hero Trio\".\n",
    "\n",
    "![](https://github.com/jazzcoffeestuff/blog/raw/master/images/025-Hero-Trio/Hero-Trio.jpg)\n",
    "\n",
    "Rudresh is an alto-saxophonist based in New York. He is perhaps best known for his work with pianist Vijay Iyer with whom he has collaborated often. As well as regularly featuring in Downbeat polls he is also musical director at Princeton - so quite a pedigree for a modern jazz musician.\n",
    "\n",
    "For those unfamiliar with his work I would describe Rudresh's playing as being fairly \"outside\", it is technical and wild but at the same time he still respects the music and song structure. I like free jazz but I sometimes struggle with the really avant garde artists who completely throw out all semblance of musical structure. Mahanthappa also spent many years studying Indian classical music - and this often comes out in his playing, however this never comes across as forced.\n",
    "\n",
    "On the album \"Hero Trio\" Rudresh pays tribute to some of his favourite artists including: John Coltrane, Keith Jarrett, Ornette Coleman and of course no alto saxophonist would not list Charlie Parker as an influence (Rudresh even released \"Bird Calls\" in 2015 - an entire album dedicated to Parker). Alongside these jazz stalwarts there are even pieces from Stevie Wonder and Johnny Cash. We should not think of this as simply rehashing a number of standards however, each tune has been majorly reworked and given its own style. The music feels modern while still paying respect to the past - this is certainly not easy to do. \n",
    "\n",
    "As the album name suggests the band is a trio format consisting of:\n",
    "- Rudresh Mahanthappa - Alto Saxophone\n",
    "- François Moutin - Acoustic Bass\n",
    "- Rudy Royston - Drums\n",
    "\n",
    "![](https://github.com/jazzcoffeestuff/blog/raw/master/images/025-Hero-Trio/Hero.jpg)\n",
    "\n",
    "Rudresh the band as \"superheros\" even dressing up the band in suitable costumes for some of the promotional material. Listening to the album it is easy to understand why. The band is totally locked in, this allows them to take real risks in the arrangments. The album feels like being on a rollercoaster, you know you're in safe hands despite travelling a mile a minute. In a piano-less trio format the band is allowed to really stretch their legs, without chords tying down what is \"acceptable\" to play Mahathappa (and Moutin) is free to play without inhibition - something he really takes advantage of. The extra space in the mix allows Royston to really flex his chops too, Rudy is one of my favourite current jazz drummers but he is probably more well known for playing sparsely - so it is nice to hear him let loose.\n",
    "\n",
    "The album kicks off with \"Red Cross\" a Charlie Parker tune. Whereas Parker's classic bounces along with a jovial be-bop type rhythm, the Hero Trio goes for a much more direct hard hitting approach. This is somewhat characteristic of the album as a whole - this is music that demands your attention, it's difficult to imagine this being \"background music\". Mahathappa relies on a lot of chromaticism throughout his solo, this along with his phrasing certainly point towards his Indian classical background. It is a sound that is uniquely his, I don't think you would mistake him for anybody else out there today.\n",
    "\n",
    "> youtube: https://youtu.be/NSmY80pmavE\n",
    "\n",
    "One of the \"non-jazz\" tributes on the album is to the Johnny Cash classic \"Ring of Fire\". I sometimes find it worrisome when jazz artists take on these really well known tunes. It is very easy for them to become either: instantly forgettable as they don't take any risks (and it's just a ploy to sell records) or they use so much reharmonization that the original tune is completely unrecognisable. Thankfully Mahanthappa and crew take on \"Ring of Fire\" seriously and pay it the respect it deserves. They do not take too many liberties with the melody, instead they play rhythmically instead. This gives the tune some energy and freshness without straying too far away from the spirit of the piece. Of course the solos are free and wild as one would expect, however they are some of the most restrained on the entire album.\n",
    "\n",
    "The highlight of the album for me however is \"The Windup\" a Keith Jarrett piece (and one of my all time favourite tunes from the Jarrett songbook). Covering a Jarrett piece without having a single instrument capable of playng chords is certainly a challenge. This really goes to show just how talented Moutin is as a bass player, much of the main melody falls on him and he needs to drive the music forward. At the same time he needs to imply the chords of the piece so that it doesn't feel \"hollow\". About mid-way through the tune when comping Mahanthappa's solos there is some of the best bass playing you are likely to hear. A truly fantastic acheivement.\n",
    "\n",
    "This album is another 2020 banger, if you are into jazz you definitely should hunt this album down. For a rank newbie to the world of jazz this might be a bit much as a first step and it'd perhaps be worth familiarising yourself with the source material first - but certainly put this one of the list of albums to catchup on later. I feel this is an album I'll come back to time and time again."
   ]
  },
  {
   "cell_type": "code",
   "execution_count": null,
   "metadata": {},
   "outputs": [],
   "source": []
  }
 ],
 "metadata": {
  "kernelspec": {
   "display_name": "Python 3",
   "language": "python",
   "name": "python3"
  },
  "language_info": {
   "codemirror_mode": {
    "name": "ipython",
    "version": 3
   },
   "file_extension": ".py",
   "mimetype": "text/x-python",
   "name": "python",
   "nbconvert_exporter": "python",
   "pygments_lexer": "ipython3",
   "version": "3.7.4"
  }
 },
 "nbformat": 4,
 "nbformat_minor": 2
}

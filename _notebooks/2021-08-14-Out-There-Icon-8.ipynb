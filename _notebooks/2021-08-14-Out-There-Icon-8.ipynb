{
 "cells": [
  {
   "cell_type": "markdown",
   "metadata": {},
   "source": [
    "# \"Out There and Icon 8\"\n",
    "> \"This week we have another Icon series coffee from Plot roasting. This time we take a look at a yeast fermented Java cultivar from Colombia. Full of tropical fruit notes and sweetness. Alongside we have some classic jazz from 1961 in the form of 'Out There' by Eric Dolphy.\"\n",
    "- toc: false\n",
    "- author: Lewis Cole (2021)\n",
    "- branch: master\n",
    "- badges: false\n",
    "- comments: false\n",
    "- categories: [Jazz, Coffee, Eric-Dolphy, 1960s, Plot, Java, Washed, Yeast-Fermentation, Colombia]\n",
    "- hide: false\n",
    "- search_exclude: false\n",
    "- image: https://github.com/jazzcoffeestuff/blog/raw/master/images/068-Out-There/Out-There.jpg"
   ]
  },
  {
   "cell_type": "markdown",
   "metadata": {},
   "source": [
    "> youtube: https://youtu.be/YB5dgiNP9Sk\n",
    "\n",
    "This week marks another edition of the Plot Icon series. The coffees in this series are some of the most sort after, exciting and hard to get hold of coffees in the world - and so I'm always looking forward to them.\n",
    "\n",
    "This time the coffee is from Finca Guyubito located in Huila, Colombia - an area very well known to coffee nerds as many great coffees come from Huila. There are two aspects that make this coffee intriguing: firstly the cultivar is Java. This cultivar is well known for producing exceptional cup quality but also offers fairly good resistance to leaf rust and pests. World coffee research describes it as \"a good alternative to Gesha for small farmers\" due to these properties. \n",
    "\n",
    "Then as with many of the Icon offerings we have an interesting processing method: namely a yeast fermentation. In this case yeast is added to the 36 hour fermentation step. Yeast addtions/fermentations are becoming increasingly popular in specialty coffee. They offer a reliable way to develop interesting coffee flavours. They are not without \"controversy\" however as some consider this \"cheating\" and you end up tasting the yeast rather than the coffee itself. I'm more open to the idea personally and am interested to see how the trend develops. For me a good basic washed coffee will still be where my heart is however.\n",
    "\n",
    "Let's dive straight into the coffee itself. As with the other Icon series this coffee was supplied in relatively small amounts so I'm not going to play around with espresso - the blog is filter only this week! The dry aroma on the nose gives quite a delicate fragrance. I would describe it as a slightly tropical fruit scent with just an edge of funk. But there is also a soft roundness to it too almost like a marshmallow quality. It does not give you a big hit around the face with aroma but it is certainly intriguing and inviting.\n",
    "\n",
    "This week also marks the first time in around 18 months I've been able to locate my favoured Chemex filter papers (also via Plot). It has been very difficult to find these for a reasonable price during these times (I heard it was due to a paper shortage from so many disposable face masks being manufactured but that could just be a rumour). So brewing this coffee via the chemex paper the first thing I notice is the tropical fruit note. I would describe it more as melon, watermelon, mango, lychee and so on as opposed to the more acidic passionfruit style tropical notes. This gives way to a slight funk, but it is far from a funky-bus coffee - in fact the cup has a lot of the \"washed\" clarity which makes it very interesting. The mouthfeel is fairly creamy and heavy, more so than you'd expect from a sweet, fruit forward coffee such as this. The aftertaste is clean but fairly long lived and has a \"moreish\" sort of quality that makes you want to come back and take another sip.\n",
    "\n",
    "This is another top quality coffee from the Icon series (and I would expect nothing less). It is one that rewards those who put the effort in to identify all the flavours. And real appreciation comes from studying the complexities, if you're looking for an easy daily drinker you might not get the most from it.\n",
    "\n",
    "For our classic jazz this week we're getting a bit free heading back to 1961 with Eric Dolphy's second release \"Out There\".\n",
    "\n",
    "![](https://github.com/jazzcoffeestuff/blog/raw/master/images/068-Out-There/Out-There.jpg)\n",
    "\n",
    "Dolphy had a career tragically cut short at the age of 36 due to undiagnosed diabetes. He has left us with countless gems in his back catalogue however. He is perhaps best known for his collaborative work with Charles Mingus and he appeared on many classic releases such as \"Mingus at Antibes\", \"Mingus Mingus Mingus Mingus Mingus\", \"Pre Bird\" and \"Charles Mingus presents Charles Mingus\". He also appeared on some Coltrane records most notably \"Africa Brass\" and \"Live at the Village Vanguard\". Regular readers may also remember the name from Oliver Nelson's \"Blues and Abstract Truth\" and Andrew Hill's \"Point of Departure\". For a recorded career spanning little more than 5 years Eric appeared on many of the classic recordings of the era.\n",
    "\n",
    "> youtube: https://youtu.be/82ze33xq_Eg\n",
    "\n",
    "Here we look at Dolphy as a band leader however. During his lifetime he released 5 studio recordings and 2 live works, here we take a look at \"Out There\" his second recording and possibly my favourite in his back catalogue. His most famous release is undoubtedly \"Out to Lunch\" released posthumously on the Blue Note label, while I love this album (I'm sure it will feature on this blog eventually) I find myself reaching for \"Out There\" more often. As these names suggest we're looking at \"outside\" and free styles of jazz here, as a statement \"Out to Lunch\" certainly takes us further out of our comfort zone - but \"Out There\" manages to seemlessly combine the inside and outside elements. This is a quality I'm always drawn to.\n",
    "\n",
    "Another aspect that makes \"Out There\" so intriguing is the instrumentation:\n",
    "- Eric Dolphy — alto saxophone, bass clarinet, B-flat clarinet, flute\n",
    "- Ron Carter — cello\n",
    "- George Duvivier — bass\n",
    "- Roy Haynes — drums\n",
    "\n",
    "The inclusion of two \"bass\" instruments is a masterstroke. Since there are no \"chord instruments\" it completely frees up both space in the mix and means Eric is not tied down harmonically. He has completely free reign to play as outside as he likes and allows him to resolve ideas in ways that are much more difficult with a fuller band behind him. It is hard to imagine how audiences would have reacted to this back then, at this point they would have heard Ornette and some of the early free jazz movement but for me Dolphy is far more surprising and even today (60 years later!) his music is challenging and fresh.\n",
    "\n",
    "It is also worth taking a moment to give a shout out to Carter's cello playing. He is best known as a bassist and if you've read this blog for any amount of time you'll see he pops up just about everywhere. You don't often hear him on cello (nor do you hear much cello in jazz generally) but his playing on \"Out There\" (especially the down tempo pieces) is one of the reasons the album is so memorable.\n",
    "\n",
    "I would break \"Out There\" down into two halves: you have the uptempo numbers (for example the title track embedded at the start of this post and \"17 West\" embeded at the end) which take a bit of a nod towards the be-bop and post-bop movements but interprets them through the lens of free jazz. The music pulls you from the comfortable feeling of be-bop through to phrases so outside they feel like they're from outer-space.\n",
    "\n",
    "The other half of the music on show is much more down-tempo in nature but no less experimental or free. One such example is the piece \"Eclipse\" (above) which was co-written by Charles Mingus. This is perhaps the most daring piece on the album taking an almost classical approach to composition. The strings form a rich sophisticated supporting landscape to Dolphy's melody, you can almost view it as a free-jazz update to the Duke Ellington compositional style. As the piece elegantly moves along Carter takes more and more liberties and plays some beautiful \"supporting solos\" to Dolphy's lines, it is a piece of detail you might not necessarily appreciate until a second or subsequent listen through the piece. \n",
    "\n",
    "As with all my Icon series posts I consider this album to be \"essential listening\" - both from a historical significance and music appreciation perspective. If you come from a be-bop or post-bop background and would like to take some first steps towards free-jazz there are much worse places to start. Or perhaps you have had a small taste of free-jazz and have yet to hear Dolphy in action. Even if you're a life-long Dolphy stan, it's still worth giving \"Out There\" another listen.\n",
    "\n",
    "> youtube: https://youtu.be/RitDW7061F0"
   ]
  },
  {
   "cell_type": "code",
   "execution_count": null,
   "metadata": {},
   "outputs": [],
   "source": []
  }
 ],
 "metadata": {
  "kernelspec": {
   "display_name": "Python 3",
   "language": "python",
   "name": "python3"
  },
  "language_info": {
   "codemirror_mode": {
    "name": "ipython",
    "version": 3
   },
   "file_extension": ".py",
   "mimetype": "text/x-python",
   "name": "python",
   "nbconvert_exporter": "python",
   "pygments_lexer": "ipython3",
   "version": "3.8.8"
  }
 },
 "nbformat": 4,
 "nbformat_minor": 2
}

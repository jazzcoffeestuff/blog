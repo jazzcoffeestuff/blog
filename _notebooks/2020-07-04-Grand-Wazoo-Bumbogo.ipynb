{
 "cells": [
  {
   "cell_type": "markdown",
   "metadata": {},
   "source": [
    "# \"The Grand Wazoo and Assembly Bumbogo\"\n",
    "> \"In this blog post we again spend some time with the folks at Assembly coffee roasters through their Bumbogo washed Rwandan coffee. We also talk about dialing in light roast coffee for espresso. This weeks album is 'The Grand Wazoo' from 1972 by Frank Zappa.\"\n",
    "- toc: false\n",
    "- author: Lewis Cole (2020)\n",
    "- branch: master\n",
    "- badges: false\n",
    "- comments: false\n",
    "- categories: [Jazz, Coffee, Frank-Zappa, 1970s, Assembly, Rwanda, Washed-Process, Bourbon]\n",
    "- hide: false\n",
    "- search_exclude: false\n",
    "- image: https://github.com/jazzcoffeestuff/blog/raw/master/images/012-Grand-Wazoo/Grand-Wazoo.jpg"
   ]
  },
  {
   "cell_type": "markdown",
   "metadata": {},
   "source": [
    "> youtube: https://youtu.be/jymHINLcjlw\n",
    "\n",
    "This week we are sticking with the London based Assembly coffee roasters. We are drinking a washed Rwandan coffee by the name Bumbogo. Those who have read previous blog posts here will know about the Assembly \"paint swirls\" for this coffee the swirl can be seen below:\n",
    "\n",
    "![](https://github.com/jazzcoffeestuff/blog/raw/master/images/012-Grand-Wazoo/Bumbogo.jpg)\n",
    "\n",
    "As with many Rwandans this coffee is a bourbon varietal, which we have talked about in the blog in the past. Rwanda is a fairly small country that shares many land borders. This particular coffee is grown in the Gakenke region which is in the north of the country and is close to the borders with Uganda and the Democratic Republic of the Congo. For such a small country Rwanda produces lots of great coffees with a reasonable amount of variation. I would say the \"classic\" Rwandan style of coffee has high acidity and sweetness typically with lots of red berry type tasting notes.\n",
    "\n",
    "Washed African coffees roasted for filter (such as this one) can be notoriously finnicky to dial in for espresso, many do not even bother trying and stick to more developed darker roasts which are more forgiving and do not have quite as much acidity. Personally this is my favourite style of espresso and so I will talk about some things that I do to make these roasts work for me.\n",
    "\n",
    "Starting off with the water: even as espresso a large amount of what you're drinking is water. A water that tastes good on its own does not necessarily translate to good coffee (but a bad tasting water certainly will translate to bad coffee!) A lot has been written about water for coffee and the widely held consensus is there are 2 components of the water that matter: the \"general hardness\" ions (calcium and magnesium) and \"buffer\" (carbonates and bicarbonates). Without getting too deep into the science at a very high level the \"general hardness\" carries the flavour and the \"buffer\" acts to reduce the acidity. One might think then that a large amount of calcium/magnesium in the water is a good thing as it will enhance the flavour, but this is generally not the case - too little and the coffee is hollow tasting, too much and it tastes muddy and lacking clarity. There is a sweet spot. The same with bicarbonate, too little and the acidity can be harsh and too much and the coffee tastes dull.\n",
    "\n",
    "With a bright acidic style of coffee one might assume that we would want a higher buffer content to try and \"tame\" the acidity. In my experience this is not true, I find for the lighter roasts you want a \"lighter\" water with fewer ions. This seems to let the coffee speak a bit more. I find the lightly mineralized water out of my RO unit works well, this has a remineralization cartridge which adds in some of these ions (but nothing else). For those not looking to go that far bottled water typically has a composition on the label which you can use. You can treat the water with a filter jug (for example) but the quality is directly tied to the quality of your tap water.\n",
    "\n",
    "Another important consideration is the grinder you use. The general consensus is you want to have a flat burr grinder as opposed to a conical burr grinder for lighter roasts since they can produce a more uniform grind distribution. A rule of thumb is the bigger the burrs the better the grinder, but there are exceptions and things like alignment matter as does burr speed. That's not to say you can't get good quality light roast espresso with a conical just typically the flat burr grinders are preffered.\n",
    "\n",
    "Moving onto the dialing in process itself, in my experience there are 2 variables that really make the difference with light roasts: brew temperature and ratio. Generally you will want a hotter brew for a lighter roast in my experience, the acidity \"turns into\" sweetness with a high temperature (I'm aware that's not correct at a chemical level). But you have to be careful, turning up too high and you lose everything, all the flavours are lost and you're left with a cup of \"brown\". Very small changes make a big difference, if your machine doesn't have temperature control then you can often \"temperature surf\" by pulling blank shots to vary the temperature but you don't have quite the same control obviously. \n",
    "\n",
    "The ratio of an espresso is the weight of liquid you are left with versus how much dry ground coffee you put into the portafilter. A typical ratio for a \"normal\" espresso is 2:1 - say you put 18g coffee in the basket then you'd pull a shot that gives 36g of liquid. For lighter roasts longer is generally better, sometimes even up to \"lungo\" range of 3:1 or even more. Pulling the shot longer again accentuates the sweetness. However in doing so you lose body and if you go too far you'll end up with a weaker \"watery\" type shot that is not enjoyable. As a starting point 2.5:1 is generally my go to and I adjust from there.\n",
    "\n",
    "If you read a guide online to dialing in espresso there will be a lot of talk about \"timing\" and how the \"perfect\" shot will take 27-32s to pull. While this might be a decent yardstick for a more normal roast for light roasts this will lead to disappointment in my experience. Lighter roasts like to be pulled in a different way, typically a longer slower pre-infusion stage (this lightly saturates the puck with water to \"prime\" it and raise the temperature of the coffee puck) followed by a much quicker pull - possibly in the region of 20s. I don't use timing as a variable I \"target\" I let the timing fall as it falls but I keep a note of it for consistency reasons, if I'm pulling a shot again and it's much slower/quicker it might suggest I've done something else incorrectly in my prep!\n",
    "\n",
    "There are a few other smaller considerations that seem to help in my experience: firstly tamping, a light tamp is your friend (up to a point!) tamping hard is unnecessary and seems to lead to more channeling and other issues. I also like to dose less with light roast coffees whereas I might normally dose 18g for a more developed roast I might go down as low as 15g for a particuarly light roast as that seems to work a bit better. In addition to this I find that underdosing a basket (e.g. putting those 15g of coffee into an 18g basket) helps with ensuring the pre-infusion is slower and more gentle - although this might just be an artefact of the setups I have used rather than a universal truth.\n",
    "\n",
    "But back onto Bumbogo itself: starting as always with the filter. We have the typical \"red berry\" Rwandan type thing coming to the front. Assembly describe this as a \"cranberry\" note which I don't disagree with at all - it has that slightly tart/sour note in there. This is supported with a caramel or burnt sugar sort of note which helps balance the acidity. I like to taste the coffees before reading the tasting notes and one thing I wrote down is a green grape like finish which Assembly did not note. Overall it is quite a clean tasting coffee but with a thick syrupy sort of body. It is not the most complex coffee I've ever had but it is certainly delicious. Onto the espresso I was a little amazed at just how forgiving this was, I struggled to make a \"bad\" shot. I found that it worked best at very high temperatures and around a 2.2:1 ratio. There the cranberry and red currant notes really come to the front and the body is syrupy and has hints of a heavy red wine like quality. Overall a very good little coffee!\n",
    "\n",
    "This weeks album is likely to be a little contenious: Frank Zappa - The Grand Wazoo:\n",
    "\n",
    "![](https://github.com/jazzcoffeestuff/blog/raw/master/images/012-Grand-Wazoo/Grand-Wazoo.jpg)\n",
    "\n",
    "Some may argue \"but this is not jazz!\" - but I've never been particularly concerned with defined boundaries to musical genres, some of my favourite albums straddle the line between multiple styles. This might mean the jazz police will knock down the doors of JazzCoffeeStuff HQ but that's a price worth paying.\n",
    "\n",
    "Over the years Frank made some rather disparaging comments about jazz which didn't do much to endear him to the jazz community. However looking at the personnel in some of his bands I think it's safe to say we should take some of the comments at face value, many great jazz musicians played with him over the years. He also famously had Mahavishnu Orchestra open for him on a few tours, the experience left such an imprint that Frank completely tore down his band a built a new band and sound up in its place.In addition he wrote a piece dedicated to Eric Dolphy (although not on this album) - if Eric didn't die so tragically young we can only imagine what would have happened had he recorded with Frank. I find the \"Dolphy influence\" quite strong through a lot of Franks work, I can only assume it is through the love both of them share for composer Edgar Varese.\n",
    "\n",
    "Frank composed, recorded and released this album in 1972 while he was in rehab following his assault by a fan in London a year earlier. It follows on in the vain of Waka/Jawacka which itself follows on from Hot Rats in terms of Frank's jazz-fusion offerings.\n",
    "\n",
    "The Grand Wazoo is a bit of an outlier in the Zappa back catalogue. It features a large band (22 members) and some brilliant arrangements. It is possibly the \"jazziest\" of Frank's jazz fusion offerings. I have to admit I sometimes struggle with fusion when it attempts to employ a \"rock\" feel. A big part of rock is the attitude and often on fusion records a jazz guy will add some distorted guitars and think that is enough and the whole thing ends up sounding nerdy rather than cool. Given Frank is at home in a rock context the blend is much more seemless than many. The album is almost entirely instrumental apart from a few vocal lines on \"For Calvin (And His Next Two Hitch-Hikers)\" (which tells a narrative of 2 warring musical factions according to the liner notes).\n",
    "\n",
    "The modern classical influence is also noticable on this album. Given when it was released this was probably one of the first examples on record of Frank playing with these ideas, the time spent alone following the assault probably gave him a chance to better explore these ideas.\n",
    "\n",
    "For me the two standout pieces are the two closing tracks. \"Eat That Question\" (embedded above) is an absolutely raucous affair starting off with a short intro from jazz-keyboard maestro and long-term Zappa collaborator George Duke. Before breaking into the main theme which is one of the strongest melodies in the Zappa canon and one he came back to many times when performing live.\n",
    "\n",
    "The final track on the album is called \"Blessed Relief\":\n",
    "\n",
    "> youtube: https://youtu.be/x-Qk8VxUwuM\n",
    "\n",
    "This is a much more mellow and chilled out affair. However the melody isn't any less strong and features some absolutely beautiful arrangement. Some Zappa tunes can get a bit \"complicated for the sake of complicated\" which sometimes has its place, however on this one we see Frank is just as able to write a \"straight\" tune.\n",
    "\n",
    "As a guitar player Frank was always what I consider a \"visceral\" player, he doesn't aim to have perfect technique he just plays what he feels. Most of the time he solos over one chord vamps, sometimes for 10-20mins at time. Many guitarists look down on him for this but being able to play for an extended time over a one chord vamp is a real skill, you very quickly end up aimlessly noodling without any changes to drive your ideas forward. It is always noticable on Zappa records where the supporting musicians solo over the changes of the compositions but when it comes time for Frank's turn they revert to a simple vamp. On \"Blessed Relief\" however we are treated to hearing Frank play the changes, which is certainly note worthy in itself! He doesn't approach this in the way a jazz player might and he's only following the changes in a fairly loose sense but it is great to hear.\n",
    "\n",
    "Perhaps the most \"jazzy\" of all the pieces on show however is the title track \"The Grand Wazoo\" (depending on the pressing you own of the record this may be the first or the second track!) Clocking in at over 13 minutes it is by far the longest and most ambitious piece on the record. While the tempo is quite frantic the music itself slowly glides through the various themes and motifs present throughout the piece. In some sense it has the \"swan like\" quality of many of the successful jazz big-bands - elegantly gliding along but under the surface paddling manically! There are some brilliantly wild brass and woodwind solos dotted throughout the piece but it is really the arrangement itself that is so memorable. You could easily dedicate a blog post (or more) analysing every technique and trick on show here but ultimately the proof is in the listening:\n",
    "\n",
    "> youtube: https://youtu.be/4ceVq2v3nVs\n",
    "\n",
    "Overall I consider this album one of the strongest in the Zappa catalogue and one certainly worthy of your time."
   ]
  }
 ],
 "metadata": {
  "kernelspec": {
   "display_name": "Python 3",
   "language": "python",
   "name": "python3"
  },
  "language_info": {
   "codemirror_mode": {
    "name": "ipython",
    "version": 3
   },
   "file_extension": ".py",
   "mimetype": "text/x-python",
   "name": "python",
   "nbconvert_exporter": "python",
   "pygments_lexer": "ipython3",
   "version": "3.7.4"
  }
 },
 "nbformat": 4,
 "nbformat_minor": 2
}

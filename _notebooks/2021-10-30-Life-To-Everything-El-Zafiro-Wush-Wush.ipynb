{
 "cells": [
  {
   "cell_type": "markdown",
   "metadata": {},
   "source": [
    "# \"Life To Everything and El Zafiro Wush Wush\"\n",
    "> \"This week we have another Wush Wush cultivar from Colombia. This time roasted by Assembly Coffee Roasters as part of their Limited Edition series. On the jazz side we look at the 2015 release 'Life To Everything' from Phronesis.\"\n",
    "- toc: false\n",
    "- author: Lewis Cole (2021)\n",
    "- branch: master\n",
    "- badges: false\n",
    "- comments: false\n",
    "- categories: [Jazz, Coffee, Phronesis, 2010s, Assembly, Wush-Wush, Washed, Colombia]\n",
    "- hide: false\n",
    "- search_exclude: false\n",
    "- image: https://github.com/jazzcoffeestuff/blog/raw/master/images/079-Life-To-Everything/Life-To-Everything.jpg"
   ]
  },
  {
   "cell_type": "markdown",
   "metadata": {},
   "source": [
    "> youtube: https://youtu.be/Gzo9zTPNMH4\n",
    "\n",
    "This week our featured coffee comes from Assembly Coffee Roasters located in Brixton, London. It's been a while since Assembly has featured on this blog (not for any particular reason) so it is a welcome return. I find Assembly to be one of the best and most consistent roasters in the UK so I'm sure this coffee will be a good one.\n",
    "\n",
    "The coffee in question comes from their \"Limited Edition\" series of coffees. As the name suggests these are not your \"everyday\" coffees but something a bit more special. Assembly don't seem to have a particular release schedule for these and they turn up as/when something interesting becomes available, which is probably a better way to do it than \"committing\" to finding top quality coffee every month/whatever. Of course being limited edition this coffee costs more than the \"regular\" Assembly offerings but the pricing is not in the stratosphere.\n",
    "\n",
    "As you have probably summised from the title of this blog post, this week we have another Wush Wush cultivar. I guess Wush Wush is like busses: you wait all year and then 2 arrive at once. As we noted last week, Wush Wush is \"kinda\" like Gesha in a way: its origins are in Ethiopia and it has since been exported to (mainly) the Americas. As with last weeks example this example comes from Colombia.\n",
    "\n",
    "The coffee comes from the El Zafiro farm owned by Don Oscar located in Cauca, South Western Colombia. If we consider Hacienda La Esmeralda the \"original\" Gesha farm in some sense we could consider this farm the \"original\" Wush Wush farm, as I believe they offered the first Wush Wush available to the wider market. This initial sale actually became Assembly's first ever \"Limited Edition\" coffee.\n",
    "\n",
    "This weeks coffee has undergone a washed process. This is my favourite type of processing for coffees as it allows the terroir to come through most clearly (in my opinion).\n",
    "\n",
    "Let's dive right into the coffee itself: on the dry aroma I get hit with a hit of sugary sweetness along with a heady floral bouquet. It is quite punchy on the nose compared to what one might expect from a \"floral\" focussed coffee. In terms of the type of florals I would describe them as the stickier elderflower, honeysuckle types as opposed to say a jasmine or lavendar. \n",
    "\n",
    "Moving into the filter the sweetness comes through again. It is what I'd describe as a candy sweetness or sugar-syrup even. The sweetness level of this coffee is very high but it is not cloying. The main flavour notes I get are again the honeysuckle and elderflower type florals. If you have ever had a \"fancy\" cake or pattiserie with candied flowers on it, that is the sort of vibe I get. Beneath this I get the stonefruit quality of a peach or apricot. The cup is very complex and it takes you on a journey as it cools, I found it most enjoyable once left to cool for a little while so the florals can speak. It is also a very \"clean\" cup and the flavour separation is very good, a \"downside\" of this is that it perhaps lacks a little body/mouthfeel compared to others.\n",
    "\n",
    "As an espresso I found this a particularly easy one to dial in, it benefits from being pulled a bit longer in the 1:2.5-2.75 range. Going shorter than this led to a more intense cup but I found it harder to appreciate the complexity. In terms of flavour notes the stonefruits come more to the front along with the sugary hit. This makes for a very sweet shot of espresso with essentially no bitterness, so if this is something you crave in a shot it's a good coffee for you. Again owing to the washed processing and the act of pulling the shot a bit longer the body/mouthfeel do suffer as a result.\n",
    "\n",
    "As I expected another knock-out coffee from Assembly. I don't really like to do comparative tastings between coffees but given we have 2 Wush Wush cultivars back to back: I feel this one is more \"me\", the washed processing and cleanliness of the cup really speak to me. In terms of complexity the previous Plot Icon offering I'd say is more complex and certainly offers more in the way of mouthfeel and texture. Both share the \"sweet but floral\" flavour profile of the Wush Wush.\n",
    "\n",
    "For the jazz this week we are heading back to 2015 and the jazz trio Phronesis with their \"Life To Everything\" record.\n",
    "\n",
    "![](https://github.com/jazzcoffeestuff/blog/raw/master/images/079-Life-To-Everything/Life-To-Everything.jpg)\n",
    "\n",
    "Phronesis were founded in 2005 by Danish bass player Jasper Høiby, originally with Magnus Hjorth on piano and Anton Eger on drums. In 2009 Magnus was replaced by Ivo Neame, at which point the band remained unchanged until 2020 when the band announced they were taking an \"extended break\" to allow each member to work on individual projects.\n",
    "\n",
    "It is safe to say that Phronesis take a huge inspiration from  Esbjörn Svensson Trio (EST) - though this could be said of just about any jazz trio from the 2000s onwards. Many reviews of the band start by making the comparison between the bands, but I feel it is only superficially true. While there are some similarities in their arrangements there is a totally different vibe to the bands - EST compositions tend to be more contemplative and meditative while Phronesis compositions are much more firey and energetic in approach.\n",
    "\n",
    "> youtube: https://youtu.be/qzZmS7bOpBM\n",
    "\n",
    "The energy and attitude of the music from Phronesis directly lends itself to live performances. For my money they were/are one of the best live acts around. By controlling the tempo and intensity they are the masters at working the crowd energy to their advantage and you leave one of their gigs with a sense of excitement that one might expect from a stadium rock concert. Jasper's stage patter also helps in that regard, while Phronesis are on hiatus he could quite easily make a living as a stand-up comedian also. It's quite rare to find jazz musicians who also have the charisma to work a crowd while the music stops.\n",
    "\n",
    "The live performance prowess of the band is perhaps the reason why they opted to record \"Life To Everything\" live (at the Cockpit, London) - in someways a follow up to their \"Alive\" live recording a few years prior. As much as I love their studio recordings \"Life To Everything\" is one I find myself continually coming back to, of course it is impossible to capture all the energy of a live gig on record - but it does a damn good job. Live albums often have the issue of poor sound quality or mixing, but thankfully that is not the case here and you could easily be forgiven for not even noticing it is a live recording (aside from the occassional crowd cheering/applause).\n",
    "\n",
    "The album gives each band member their chance to shine: Høiby gets ample opportunity to flex his bass chops playing some of the most intricate bass lines at break-neck speeds without dropping a beat and still managing to groove. Eger gets a chance to play all the complex fills he can muster at peak intensity and push/pull the tempo of the music at will. With such energy going on around him Neame has to play the \"straight man\" to hold the whole thing together, often hanging back to allow the others to shine. It is easy to overlook some of the delightful chord voicings he's playing amongst the chaos. And it goes without saying that the band is completely tight throughout, you can tell that they have played together for a long time and are totally comfortable with each other.\n",
    "\n",
    "Some of my choice picks on the album include the opener \"Urban Control\" (embedded at the start of this post) - which has become a bit of a \"signature\" tune for the band. It starts around a cool, complicated but grooving bassline by Høiby that quickly undergoes a metamorphosis via changes in time-signature and tempo and some very singable melodies from Neame's piano. Another highlight for me is \"Herne Hill\" (above) which quickly takes on a bossa-nova and latin feeling but still retains the Phronesis DNA. Again the time signatures and tempos remain fluid throughout. The closing track \"Dr Black\" (below) features a melody somewhat reminiscent of a Brian Blade and the Fellowship Band tune before it turns very-Phronesis and the soloists get a chance to really show off their chops.\n",
    "\n",
    "While \"Life To Everything\" cannot capture all of the energy of a Phronesis gig it does act as a good \"2nd best\". While I'm looking forward to hearing some of the individual projects - I hope that Phronesis will be back, even for the odd gig at some point in the future.\n",
    "\n",
    "> youtube: https://youtu.be/5tuyM3nzAyc"
   ]
  },
  {
   "cell_type": "code",
   "execution_count": null,
   "metadata": {},
   "outputs": [],
   "source": []
  }
 ],
 "metadata": {
  "kernelspec": {
   "display_name": "Python 3",
   "language": "python",
   "name": "python3"
  },
  "language_info": {
   "codemirror_mode": {
    "name": "ipython",
    "version": 3
   },
   "file_extension": ".py",
   "mimetype": "text/x-python",
   "name": "python",
   "nbconvert_exporter": "python",
   "pygments_lexer": "ipython3",
   "version": "3.8.8"
  }
 },
 "nbformat": 4,
 "nbformat_minor": 2
}

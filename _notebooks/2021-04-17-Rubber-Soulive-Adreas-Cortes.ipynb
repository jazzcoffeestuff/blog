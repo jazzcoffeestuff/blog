{
 "cells": [
  {
   "cell_type": "markdown",
   "metadata": {},
   "source": [
    "# \"Rubber Soulive and Andrea Cortes\"\n",
    "> \"Another coffee from Plot featured this week; a washed Colombian Pink Bourbon cultivar. Alongside we look at the Soulive tribute to The Beatles: 'Rubber Soulive'\"\n",
    "- toc: false\n",
    "- author: Lewis Cole (2021)\n",
    "- branch: master\n",
    "- badges: false\n",
    "- comments: false\n",
    "- categories: [Jazz, Coffee, Soulive, 2010s, Plot, Colombia, Washed, Pink-Bourbon]\n",
    "- hide: false\n",
    "- search_exclude: false\n",
    "- image: https://github.com/jazzcoffeestuff/blog/raw/master/images/052-Rubber-Soulive/Rubber-Soulive.jpg"
   ]
  },
  {
   "cell_type": "markdown",
   "metadata": {},
   "source": [
    "> youtube: https://youtu.be/rbE8A4U-OAI\n",
    "\n",
    "This week on the blog we are looking at another coffee from Plot Coffee Roasting. I initially did not intend to write about this coffee on the blog, I was keeping it as my \"espresso option\" while enjoying the Icon Series 4 from last week's blog. However 2 things forced it up the agenda: 1) it is a cool and interesting coffee and 2) I need a bit more time to dial in the next coffee I am going to write about.\n",
    "\n",
    "The coffee this week is called: Andreas Cortes - Pink Bourbon by Plot themselves. Andreas being owner of Finca Eucaliptos in Pitaltio, Huila, Colombia - where this coffee originates. By this point you'll also realise we're looking at a pink bourbon cultivar. Pink bourbon is a hybrid of the more common red and yellow bourbons (named after the colour of their fruit). This hybrid is hard to grow and hard to isolate so it is relatively rare. It is noted, however, that it generally offers high cup scores and has shown good (or at least better) resistance to leaf rust - which is of course a big bonus.\n",
    "\n",
    "The coffee itself undergoes a 24 hour resting period before being de-pulped and fermented for 60 hours in sealed bags before being fully washed and dried on patios for 18 days.\n",
    "\n",
    "Diving straight into the coffee itself: on the dry aroma I don't get a huge amount of anything coming off. I would describe it mostly as a \"neutral sweet\" quality, like opening a bag of caster sugar. With a bit more focus you can just about pick off some citrus and floral notes but they are very feint. As we've stated many times before: this doesn't necessarily mean much.\n",
    "\n",
    "Moving onto the filter option: forewarning here - I only had 1 cup of filter from this coffee, so these are genuine initial responses. The first thing I jotted down with this coffee was \"clean\" - not just due to flavour clarity but profile too. There is a big citrus-y hit in the front, pink grapefruits and lemons mostly. These give a very clean quality to the cup. Following that I get a bit of a resin-y pine-needle sort of quality, again giving a fresh and airy vibe to the cup. In the aftertaste there are delicate floral notes that, while not particularly strong, do have staying power. In terms of sweetness vs acidity - for me it lies a little more to the acidic side but there is a plenty of sweetness in this cup too. The mouthfeel is quite big, adding to the resin-y pine-needle note I mentioned previously.\n",
    "\n",
    "Most of my time with this coffee has been via espresso - to me this is where this coffee is right at home. Dialling it in is a little finnicky, it is a light roast designed for filter primarily, and you need to whack the machine temp right up (one day I forgot to do this and left the machine cool from a dark decaf roast I was drinking the previous night - it did not work well with this coffee at all). In terms of ratio I got to about 1:2.25 as a sweetspot, 7s pre-infuse then a 27s pull. The results are outstanding. The shot is extremely vibrant and zingy, sort of like a very crisp lemonade with a big slice of pink-grapefruit in it. I could see some people despising this as an espresso for being too acidic and bright but I enjoyed it a lot. While it's bright and crisp it doesn't stray into \"battery acid\" territory at all for me. Even when I didn't nail it when dialing in the results were just a bit flat as opposed to being a sink job. The margin between fantastic and average with this one are quite fine though I found, it took me a few shots to really get things where they needed to be - but then I was handsomely rewarded for it. \n",
    "\n",
    "On the jazz side this week I dug out a record from 2010 from the band Soulive, in the form of their tribute to The Beatles: \"Rubber Soulive\".\n",
    "\n",
    "![](https://github.com/jazzcoffeestuff/blog/raw/master/images/052-Rubber-Soulive/Rubber-Soulive.jpg)\n",
    "\n",
    "I have to admit I was late to the Soulive party. The band started by releasing their debut EP in 1999 with their debut LP coming a year later. I knew of them around the mid-2000s but didn't really give them much attention at that time, Medeski Martin and Wood were more my thing so I was pretty big on them. It wasn't until the late 2000s when I really became aware of them. I was working on a new musical project at the time and the bassist of the band lent me a pile of CDs of his biggest influences - a couple of these were Soulive records, and I became to realise what I had been missing out on.\n",
    "\n",
    "> youtube: https://youtu.be/wXGwagOpjQs\n",
    "\n",
    "As you could likely guess from the name: \"Soulive\" are largely in the \"Soul Jazz\" mold. They tend to have catchy, uptempo tunes that span jazz-soul-funk-rock. They have experimented (a lot) with additional musicians and vocalists over the years but the core of the band is an organ trio:\n",
    "- Alan Evans - Drums\n",
    "- Neil Evans - Organ/Piano\n",
    "- Eric Kranso - Guitar\n",
    "\n",
    "Which is the lineup featuring on \"Rubber Soulive\". They rip through 11 tunes from The Beatles back catalogue, sticking solely to the \"big hits\" rather than finding the more obscure tracks. As you would expect from a jazz-funk band the focus is well and truly on the groove, if you're looking for a complex re-harmonization of Lennon pieces this is not the one for you. But if you want a groovy jam-band party atmosphere and some familiar melodies you could do a lot worse.\n",
    "\n",
    "One of my choice cuts on the album is \"Revolution\" (embedded at the start of this post). Likely everybody will be fairly familiar with this track already so it is not easy to take it in a new direction. The Soulive boys decided instead of leaning into the strong rock-beat of the original they would take it into an RnB direction with a Booker T and the MGs style groove. If you can get through this tune without tapping your feet you are a better man than I.\n",
    "\n",
    "Another fun track on the album is \"Help\" (above). Here Soulive go for a tongue-in-cheek swing feeling, almost with a lounge-jazz vibe. As the track goes onthe energy increases and by the end Alan is using a really strong and driving drum beat. The whole track is a lot of fun but also features some rather tasty organ playing from Neil. \n",
    "\n",
    "> youtube: https://youtu.be/jZsKLJIyeU8\n",
    "\n",
    "Of course the greatest of all The Beatles is George Harrison and there are 3 of his tunes covered on this album. Perhaps the most adventurous of these being the album closer: \"While My Guitar Gently Weeps\" (above). A tune that has been covered to death at this point, with basically every guitar player having played it at some point. It is therefore quite difficult to come up with a \"fresh\" take on it, but I feel Soulive achieve that here. They stick pretty closely to the original melody and harmony throughout. Instead adding colour through groove and timbre. Some of Eric's phrasing in particular is very tasty, as are the tasteful use of effects which add rather than detract from the piece.\n",
    "\n",
    "Overall a fun little album to check out. It's not one that will require a great deal of effort to listen to, just an easy \"feel good\" sort of album. Not all jazz need be complicated and require a great deal of effort to enjoy."
   ]
  },
  {
   "cell_type": "code",
   "execution_count": null,
   "metadata": {},
   "outputs": [],
   "source": []
  }
 ],
 "metadata": {
  "kernelspec": {
   "display_name": "Python 3",
   "language": "python",
   "name": "python3"
  },
  "language_info": {
   "codemirror_mode": {
    "name": "ipython",
    "version": 3
   },
   "file_extension": ".py",
   "mimetype": "text/x-python",
   "name": "python",
   "nbconvert_exporter": "python",
   "pygments_lexer": "ipython3",
   "version": "3.7.4"
  }
 },
 "nbformat": 4,
 "nbformat_minor": 2
}

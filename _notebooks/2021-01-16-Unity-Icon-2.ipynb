{
 "cells": [
  {
   "cell_type": "markdown",
   "metadata": {},
   "source": [
    "# \"Unity and Icon II\"\n",
    "> \"In this blog post we take a look at the second installment of the Plot Roasting Icon series of coffees with a special cold fermented Gesha! On the jazz side we look at another icon through Larry Young's Unity\"\n",
    "- toc: false\n",
    "- author: Lewis Cole (2021)\n",
    "- branch: master\n",
    "- badges: false\n",
    "- comments: false\n",
    "- categories: [Jazz, Coffee, Larry Young, 1960s, Plot, Colombia, Cold-Fermentation-Process, Gesha]\n",
    "- hide: false\n",
    "- search_exclude: false\n",
    "- image: https://github.com/jazzcoffeestuff/blog/raw/master/images/039-Unity/Unity.jpg"
   ]
  },
  {
   "cell_type": "markdown",
   "metadata": {},
   "source": [
    "> youtube: https://youtu.be/K_4qxnyOf4s\n",
    "\n",
    "This week we are back looking at a very special coffee. Last month you may have remembered the Yemeni coffee from Plot Coffee Roasting - this was the first in a new coffee \"series\" called \"Icon\" offered by Plot. The idea being that the coffees offered represent the \"best of the best\" and some of the rarest coffees available. This week we have the second offering in this series.\n",
    "\n",
    "This time the coffeee comers courtesy of Finca Monteblanco in Huila, Colombia. Huila is a relatively small department within Colombia located in the south-west region of the country. As a coffee producer Huila certainly punches above its weight however and you don't have to search very hard to find specialty coffee from the region. The farm is owned by Rodrigo Sanchez Valencia who inherited the farm from his grandfather.\n",
    "\n",
    "There are two main areas of interest with this coffee: firstly the varietal is our old friend Gesha. The gesha varietal has appeared on the blog multiple times, it is currently the \"goose that lays golden eggs\" for specialty coffee. Simply having a Gesha coffee can leads to very high prices owing to the demand for the varietal. Whether this is a good thing or not is debatable. You may recall from previous blogs that you can trace the lineage of the Gesha back to Ethiopia, however its recently popularity is due to a farm called Hacienda La Esmeralda. In this case Rodrigo received Gesha seeds from a client in Panama which led to this weeks coffee.\n",
    "\n",
    "The second area of interest for this coffee is the processing method. This method is the brainchild of Finca Monteblanco and has taken around 5 years to perfect. It is described as a \"cold fermentation\" process. The main steps of the process (after initial sorting) is to depulp the coffee and store them in bags within a temperature-stable cold room for 76 hours. The remaining pulp is then washed off and then the coffee dries for a total of 28 days. In terms of processing this is certianly a slow and relatively laborious method. By keeping the temperature low Rodrigo is able to control the fermentation and not let things get too funky, yet still allow flavour complexity to develop. Of course a process such as this increases the price of the coffee substaintially. To those new to specialty coffee (and even those well versed) - the price of the Icon series of coffees may seem excessive, but a huge amount of work goes into these coffees.\n",
    "\n",
    "Let's dive into the coffee proper: on the nose I don't get a huge hit of aroma. This is somewhat expected, Gesha varietals tend to be fairly polite and tend not to be flavour bombs. What you do notice though is sweet and stickly florals such as honeysuckle. Visually this coffee is roasted pretty light, as you'd want for a coffee like this - a heavy roast could mask the natural flavours.\n",
    "\n",
    "As a filter this coffee makes an extremely elegant and refined cup. The first thing I noticed is just how clean the cup is, I usually buy cleaner tasting coffees but this is next level. The flavour profile is fairly muted, as you would expect with a Gesha. However there is a lot of complexity there, the main flavour notes for me are honeysuckle and white florals. Alongside delicate melon fruit like sweetness. As the cup cools the florals become more and more present and the aftertaste lingers that little bit longer. I wouldn't recommend this being served cold, but it certainly likes being drunk at a lower temperature than most. Since the cup is so clean you can get away with the lower temperature without getting too much bitterness. Overall the cup is very balanced erring slightly towards the sweeter side rather than the acidic side. There is not a big body or particularly big mouthfeel to the coffee but there is a certain \"stickyness\" to it which is very pleasant.\n",
    "\n",
    "As always with these high-end coffees that only come in \"small bags\" I did not intend to use them for espresso. With 150g of coffee you get very few chances to dial in, especially if you're also making filter coffees with them. This week however I did use these beans to make 1 espresso - purely by accident, I picked up the wrong bag after a long Zoom meeting when I was fairly tired. The coffee I had dialed in was also a Colombian to a similar roast level so it was not a million miles away but I still don't think it's fair to talk about this coffee too much as an espresso after one showing. The flavour notes were largely the same as with the filter, with no real suprises (other than my shock when I realised I'd used the wrong bag for espresso!)\n",
    "\n",
    "Overall another great Icon - looking forward to see what part 3 brings.\n",
    "\n",
    "\n",
    "Since we are looking at a coffee Icon it seems only fair to pair this with a jazz icon. In this case the 1966 album from Larry Young on Blue Note Records: Unity.\n",
    "\n",
    "![](https://github.com/jazzcoffeestuff/blog/raw/master/images/039-Unity/Unity.jpg)\n",
    "\n",
    "An absolutely iconic album from the Blue Note archives. Unity is possibly my favourite album cover of all the Blue Note album artwork - which is saying something when pretty much every one is a classic. Stylistically it is perfect, bold but not overbearing, simple but not boring. Even today this album cover does not look \"dated\", it is hard to believe the artwork is now over 50 years old. This just goes to show what a genius Reid Miles was, without his contributions Blue Note may not have been the success it is today. Not only is the music fantastic and recorded well - the overall package and feel of these Blue Note records makes them feel special... Even if, in his own words, Reid Miles \"hated jazz\".\n",
    "\n",
    "Let's start with a roll call of artists who appear on Unity:\n",
    "- Larry Young – Hammond B-3 organ\n",
    "- Woody Shaw – Trumpet\n",
    "- Joe Henderson – Tenor saxophone\n",
    "- Elvin Jones – Drums\n",
    "\n",
    "\n",
    "From this alone you can see why this album is deserving of the \"Icon\" status I've given it. Truly an all-star cast - even at the time without the benefit of knowing what these guys did after Unity was released. We can also see that the line-up, interestingly, does not feature a bass player. This is very important for the sound and overall vibe of the album. Larry has to essentially take on the lower-frequency responsibility - often playing a strong groove to drive the music forward. This creates a rather large amount of space in the mix for the soloists. As a result the music is very experimental and ground-breaking. There are clear nods towards the free-jazz movement of Ornette, the post-bop work of Coltrane and the modal explorations of Davis - and I do not make comparisons to those artists lightly.\n",
    "\n",
    "> youtube: https://youtu.be/ZXOOpc4OPfs\n",
    "\n",
    "The use of organs in jazz has always been a bit of a contentious issue for some. The likes of Jimmy Smith and the soul-jazz kind of style heavily rooted in the blues can come across as a bit cornball for some. If this is a sentiment you share Unity is probably the best antidote. While the music is clearly centered around Young's organ sound, it couldn't be further from the soul-jazz sound.\n",
    "\n",
    "The album kicks off with a piece penned by trumpet player Shaw called \"Zoltan\" (embedded at the start of the post). Interestingly enough; the lead artist Young does not have a single writing credit on the album. Zoltan starts off using the march from a Hungarian opera by Zoltán Kodály (no prizes for guessing the inspiration for the name of the piece). Soon after it descends into an exploration of the Lydian mode. The highlight of the tune for me is the incredible solo by Joe Henderson. Here he is at his best, playing \"just outside\" - it is not quite inside but neither is it full on free, at his best Joe finds that balance perfectly. If you're a fan of Joe's records Inner Urge, Mode for You or In 'n' Out you'll likely recognise some of the licks here.\n",
    "\n",
    "Speaking of Joe, he also has a writing credit here with the tune \"If\" (above). This is the most hard-bop-y of all the tunes featured and is a typical Blue Note recording. It is perhaps the most simple tune and closest thing to \"straight ahead\". Of course Elvin and Joe have played together many times and so have a near telepathic relationship. They keep the music driving forward and swinging hard, Elvin is in his absolute element here and shows why he is one of the all-time drumming greats. The use of an organ and no bass makes this piece particularly special however. Ordinarily you would expect the band to be rounded out with bass and piano, again the extra space allows the soloists complete freedom in where to go.\n",
    "\n",
    "> youtube: https://youtu.be/aB1H4dJVvvk\n",
    "\n",
    "The album closes with \"Beyond All Limits\" another piece penned by Shaw. Harmonically it is the most complicated on the album and features some absolutely mind bending lines. Creating any sort of solo at all over these changes is difficult enough but Henderson, Shaw and Young make it sound easy. You can really hear each soloists personality shine through here: Larry Young's solo to cap off the tune is probably the highlight - as with any good solo he takes what others have played before him and expands upon it, making sure it builds to a crescendo.\n",
    "\n",
    "Selecting just a few tracks from this album is difficult, every one is worthy of comment. We did not even touch on the 2 standards featured: Thelonious Monk's \"Monk's Dream\" and Hammerstein's \"Softly as a Morning Sunrise\". I feel like I say this every week but it is especially relevant this week: this is an album worth hunting down and exploring in detail.\n",
    "\n",
    "This blog post marks a bit of a milestone for jazz featuring on the blog. A few weeks ago I decided to start a Spotify playlist featuring all the music featured on this blog (you can find it [here!](https://open.spotify.com/playlist/3WjENhLmpWzdzlxhBxc7Fd?si=LtHGSnTgRu2zN7Uocdlcnw)) With the tunes in this blog post this playlist now has over 100 tunes and over 12 hours of music."
   ]
  },
  {
   "cell_type": "code",
   "execution_count": null,
   "metadata": {},
   "outputs": [],
   "source": []
  }
 ],
 "metadata": {
  "kernelspec": {
   "display_name": "Python 3",
   "language": "python",
   "name": "python3"
  },
  "language_info": {
   "codemirror_mode": {
    "name": "ipython",
    "version": 3
   },
   "file_extension": ".py",
   "mimetype": "text/x-python",
   "name": "python",
   "nbconvert_exporter": "python",
   "pygments_lexer": "ipython3",
   "version": "3.7.4"
  }
 },
 "nbformat": 4,
 "nbformat_minor": 2
}

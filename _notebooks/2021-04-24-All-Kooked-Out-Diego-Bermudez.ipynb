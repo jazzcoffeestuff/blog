{
 "cells": [
  {
   "cell_type": "markdown",
   "metadata": {},
   "source": [
    "# \"All Kooked Out and Diego Bermudez\"\n",
    "> \"This week we feature a limited edition coffee from the folks at Assembly: an experimental processed Castillo from Colombia courtesy of Diego Bermudez. On the jazz side we look at the 1998 debut release from Stanton Moore 'All Kooked Out'.\"\n",
    "- toc: false\n",
    "- author: Lewis Cole (2021)\n",
    "- branch: master\n",
    "- badges: false\n",
    "- comments: false\n",
    "- categories: [Jazz, Coffee, Stanton-Moore, 1990s, Assembly, Castillo, Anaerobic]\n",
    "- hide: false\n",
    "- search_exclude: false\n",
    "- image: https://github.com/jazzcoffeestuff/blog/raw/master/images/053-All-Kooked-Out/All-Kooked-Out.jpg"
   ]
  },
  {
   "cell_type": "markdown",
   "metadata": {},
   "source": [
    "> youtube: https://youtu.be/67U65RIWlog\n",
    "\n",
    "This week on the blog we are looking at another \"limited edition\" coffee - this time from the Brixton based Assembly Coffee Roasters (one of this blogs favourite roasters). Assembly do not release \"limited\" coffees very often (I believe this is only the 5th or so they've ever offered), so expectations are high for this one.\n",
    "\n",
    "The coffee itself is from famed Colombian producer: Diego Bermudez. Widely regarded as one of the best producers for \"experimental processing\" in the world. They are really pushing the boundaries of coffee processing with meticulous attention to detail and a careful approach. They are based in El Tambo, Cauca - located in the south-west corner of Colombia slightly towrards the border with Ecuador.\n",
    "\n",
    "The coffee itself is of Castillo cultivar, in its lineage there are some robusta-arabica hybrids which made Castillo a bit of a \"controversial\" cultivar in the past with the specialty movement. This seems to have largely died down now however and people are appreciating the quality in the cup - typically considered on par with Typica, Bourbon, etc. The really cool part of the Castillo cultivar however is its resistance to leaf rust, a growing concern for global coffee production.\n",
    "\n",
    "The thing that makes this coffee special however is its processing. Whole cherries are fermented anaerobically for 48 hours at a strict 18 degrees celcius. Following this cherries are de-pulped and they go back in to anaerobically ferment for another 48 hours, this time at 20 celcius. The coffee then undergoes a \"thermal shock\" washing process whereby an initial washing at 40 celcius occurs, followed by a much cooler 12 celcius wash. The resulting beans then undergo a temperature controlled drying at 35 celcius until the moisture level reaches 10-11%. This is a really complicated multi-stage process so it is understandable that this is a higher priced \"limited\" coffee, the question is: does it make a difference in the cup?\n",
    "\n",
    "As usual we start by looking at the dry aroma: this coffee is a bit of a \"fruit bomb\". The aroma is incredibly sweet and there are tropical fruits aplenty - pineapples, papaya, passionfruits, honeydew melon and a fair few more. Certainly an enticing start to this coffee.\n",
    "\n",
    "Moving over to the filter: again the sweetness is evident. It has an almost sugar-syrup quality both in terms of sweetness but also body which is quite big for a coffee roasted so lightly. Again the main flavours of note are the punchy tropical fruits: passionfruit is listed as a taste note on the label and it's hard to disagree with that really. I would add that there are floral background notes to this one too, it's not a perfumed Ethiopian but in the aftertaste there are certainly hints of lavendar. The cup is extremely complex and takes on a number of different characters as it cools, there's a stage where the tropical fruits give way to more \"traditional\" plum and raspberry type notes which is a nice surprise. In terms of acidity I would say this is at the mid-high end of things, and despite such a \"heavy\" processing the cup remains clean.\n",
    "\n",
    "In the espresso I found this coffee a little finnicky to dial in. It is prone to being a little too sharp and acidic unless you nail the grind size. Once dialed in however it is a delight. I settled on a med-high heat level on my machine, a 5s pre-infuse followed by a 24s pull aiming for a ratio of 1:2.2 was what I settled on. By going a little shorter than one might expect with a filter roast left the syrupy mouthfeel in tact and the coffee has enough sweetness that there's no need to go any longer. Again the tropical fruit salad was the major flavour profile and the sweetness was very very high. Once dialed in a very enjoyable and drinkable espresso and one I'm sad to see the back of.\n",
    "\n",
    "All in all another knockout coffee from Assembly, hopefully they can bring us many more interesting limited editions to wrap our tastebuds around!\n",
    "\n",
    "On the jazz side this week the magic of \"shuffle\" reminded me of a fun album from 1998 - Stanton Moore's debut album \"All Kooked Out\".\n",
    "\n",
    "![](https://github.com/jazzcoffeestuff/blog/raw/master/images/053-All-Kooked-Out/All-Kooked-Out.jpg)\n",
    "\n",
    "Stanton Moore may not be a name you have heard often before - at least if you're on this side of the atlantic. He is a drummer from New Orleans who is very much a part of the scene over there. He has a few recordings under his own name and as part of groups \"Galactic\" and \"Garage A Trois\" - each featuring a \"jazz funk meets jam band\" sort of vibe. In the late 90s through mid 00s the \"jazz-funk-jam\" thing was a fairly big scene thanks to the likes of Medeski Martin and Wood. In recent times Stanton has also become a drum educator.\n",
    "\n",
    "> youtube: https://youtu.be/ZEcZy2gRsK0\n",
    "\n",
    "On \"All Kooked Out\" Stanton is joined by two musicians who he worked with previously through the \"Galactic\" group: 8 string guitarist Charlie Hunter and saxophonist Skerik. There are others rounding out the lineup but the real highlight of the album is hearing these 3 work together. The album was recorded in a week long session in a \"live\" style: there were no overdubs, they just play through the tunes. I really enjoy recordings done this way as you can hear the players excitement and energy come through, with too many edits the soul can be sucked from the music - especially for \"funk\" styles which are more about attitude than perfection.\n",
    "\n",
    "Charlie Hunter is likely the \"biggest name\" on this album. During the 2000s he became somewhat of a \"poster boy\" of jazz guitar, he is known for playing 8 and 7 string guitars that are in some sense \"hybrid\" guitar and bass. This allows him to play basslines, chords and melodies simultaneously giving him plenty of freedom in composing and improvising. I have to admit I never got as \"into\" Hunter as many people are, I can appreciate his talent and ability but I don't often dig out his records to listen to. On \"All Kooked Out\" however he is a perfect fit, he has some great funk chops and the interplay with Stanton is great throughout.\n",
    "\n",
    "Skerik really adds another dimension to this album. He is listed as playing: \"saxophonics and kookification\" on the album - the latter being a good descriptor. By combining his saxophone with various electronics and effects he is able to provide some \"other worldly\" sounds to the album. This elevates the album from being just another \"jazz-funk\" album to something a bit special. A lot of what sticks in your mind from this album is Skerik's contributions - at least for me. It is not just a bunch of \"tricks\" though, he provides some really musical solos throughout too.\n",
    "\n",
    "The album kicks off with the track \"Tchfunkta\" (embedded at the start of this post) - which sets the tone for the rest of the album. As the name suggests it is based around a funk groove driven forward via Stanton's drums, Charlie's heavily chorused guitar (which admittedly sounds a bit dated now) dances over the top and the flourishes are added by Skerik. This is largely the formula throughout the album. One of the more interesting pieces is \"Stanton Hits the Bottle\" (above) - where Stanton literally hits the bottle rather than his drum kit for the percussion track. A cute idea, a fun play on words and a rather good track in its own right.\n",
    "\n",
    "> youtube: https://youtu.be/OvyqNwzj3XM\n",
    "\n",
    "\"All Kooked Out\" is unlikely to be an \"earth shattering\" album that will completely change your views on jazz. However it is an easy album to listen to and is certainly enjoyable. It is worth hunting down if you have not heard it before."
   ]
  },
  {
   "cell_type": "code",
   "execution_count": null,
   "metadata": {},
   "outputs": [],
   "source": []
  }
 ],
 "metadata": {
  "kernelspec": {
   "display_name": "Python 3",
   "language": "python",
   "name": "python3"
  },
  "language_info": {
   "codemirror_mode": {
    "name": "ipython",
    "version": 3
   },
   "file_extension": ".py",
   "mimetype": "text/x-python",
   "name": "python",
   "nbconvert_exporter": "python",
   "pygments_lexer": "ipython3",
   "version": "3.7.4"
  }
 },
 "nbformat": 4,
 "nbformat_minor": 2
}

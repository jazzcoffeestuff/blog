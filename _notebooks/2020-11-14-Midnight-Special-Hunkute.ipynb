{
 "cells": [
  {
   "cell_type": "markdown",
   "metadata": {},
   "source": [
    "# \"Midnight Special and Hunkute\"\n",
    "> \"For our 30th blog post we take a look at another Drop Coffee - Hunkute from Ethiopia. Alongside this we serve up 'Midnight Special' a classic from Jimmy Smith.\"\n",
    "- toc: false\n",
    "- author: Lewis Cole (2020)\n",
    "- branch: master\n",
    "- badges: false\n",
    "- comments: false\n",
    "- categories: [Jazz, Coffee, Jimmy-Smith, 1960s, Drop, Ethiopia, Washed-Process, Heirloom]\n",
    "- hide: false\n",
    "- search_exclude: false\n",
    "- image: https://github.com/jazzcoffeestuff/blog/raw/master/images/030-Midnight-Special/Midnight-Special.jpg"
   ]
  },
  {
   "cell_type": "markdown",
   "metadata": {},
   "source": [
    "> youtube: https://youtu.be/lCNYt9oBJxE\n",
    "\n",
    "Hello and welcome to the 30th JazzCoffeeStuff blog post! In this installment, as last week we are sticking with Stockholm based Drop Coffee Roasters. This week we are featuring another washed Ethiopian coffee - probably my favourite \"style\" of coffee, so I have high hopes.\n",
    "\n",
    "The coffee in question is called Hunkute - a name that may be familiar to those in the speciailty scene since many roasters offer/have offered this coffee in the past. As such I have a certain level of expectation going in to this coffee, unlike some of the previous offerings which have been totally new to me.\n",
    "\n",
    "Hunkute is the name of the co-operative that processes the coffee. A co-operative, as the name suggests, is where many small local farmers (who would struggle to sell their coffee individually due to low yields) pool together their crops in order to sell their wares. This is quite common in some origins where farmers literally have trees in their back gardens as opposed to operating a large commercial farm. The Hunkute co-operative is made up of over 2000 members, the payment for the coffee gets split between the farmers (~70%) and investment in the washing station and admin costs (~30%).\n",
    "\n",
    "Moving swiftly on; let's go straight into the coffee itself. On the dry aroma you get the typical profile one would expect from a washed Ethiopian such as this. Notes of citrus fruits, white florals and tea are present but it is a subtle affair. In the past I seem to remember this coffee being delicate and soft in nature, being a prototypical washed Ethiopian. In terms of roast level this is probably the \"darkest\" of the Drop offerings I've had so far. That is not to say this is a dark or even medium roast, but compared to some of the very light roasts in the past few weeks it is a step towards medium-light.\n",
    "\n",
    "As usual the next step is to make a filter brew in the usual way. Again this on does not give off a huge aroma during/after brewing, it is a very understated experience. In the cup however there are certainly flavour notes galore, the first I noticed was the citrus fruits again. I would describe it as a lemon-type citrus note, clean and refreshing. Perhaps edging into a juicy orange but for me this coffee is more of a clean one than a juicy one. Of course you get the peach iced tea notes that really characterise these sorts of coffees for me. Then we have the florals, part of the reason you hunt down a washed Ethiopian is for the florals and this surely does not disappoint. I would describe them as white florals - jasmine and honeysuckle come to mind - as opposed to say a violet note. The florals really come out to play as the coffee cools down and are particularly present in the finish and aftertaste. In terms of mouthfeel and body there is not much to talk about, it is not a \"big\" coffee - subtlty, softness and delicacy are how I would describe it.\n",
    "\n",
    "Onto the espresso - these delicate coffees can sometimes be a bit of a pain for espresso, they can feel a bit empty. You sometimes have that you want to pull short to give some body and intensity but this leaves things a bit too harsh, but pulling longer to reduce the harshness leaves things water-y. Thankfully this coffee is not like this at all, I found it surprisingly easy to dial in, the \"sweetspot\" was massive and you could pull it how you want. In the end I went with a fairly typical 1:2.25 ratio, 5s pre-infuse follwed by a 24s pull. Temperature wise I was at the high end. This seemed to work best for me as it gave me a bit of extra texture to the shot which was lost at longer pulls. Going any shorter began to add some harshness in the aftertaste. The flavour profile of the shot very much matched that of the filter coffee, lemons and iced-tea were the main notes with just a hint of florals in the background.\n",
    "\n",
    "Overall another great showing from Drop. This might not be a \"blow you away\" coffee in terms of having a really obscure flavour profile, but it is a solid example of what you would want from a washed Ethiopian.\n",
    "\n",
    "Sticking with the theme of \"does what it says on the tin\" - the jazz this week is a 1961 release on Blue Note Records: \"Midnight Special\" by Jimmy Smith.\n",
    "\n",
    "![](https://github.com/jazzcoffeestuff/blog/raw/master/images/030-Midnight-Special/Midnight-Special.jpg)\n",
    "\n",
    "This week has been a busy one in JazzCoffeeStuff HQ, as such I haven't wanted music to \"think\" about - instead I've just needed something reliable to act as a soundtrack. Jimmy Smith is one of the artists I naturally head to in such situations. I know organs and \"soul jazz\" can be a bit of a contentious subject for some jazz fans. I've seen a lot of vitriol aimed at the style, but for me it has its time and place.\n",
    "\n",
    "To those unfamiliar with Jimmy Smith: he is a jazz heavy-weight. He played the Hammond b3 organ and essentially singlehandedly popularized its use within jazz. Others had used organs in the past (e.g. Fats Waller) but prior to Jimmy there wasn't anybody synonymous with the instrument. Without Jimmy it is unlikely we would have artists such as Joey DeFrancesco, John Medeski or Larry Goldings today, and most likely would not have great rock organists such as Jon Lord or Keith Emerson. Not only was his tone so distinctive on the instrument he had virtuosic chops to back it up, while some \"soul jazz\" dropped a lot of technique and harmonic complexity in favour of hard groove - Smith maintained a balance of blues grooves along with be-bop inspired lead lines and raw technique. As a lead artist he has over 80 records to his name plus a dozen or so as a sideman and achieved some commercial success - as such if you ask somebody to name a \"jazz organist\" Jimmy Smith is likely to be the first name they mention.\n",
    "\n",
    "The album we're looking at today is \"Midnight Special\" which was recorded on a session in 1960 but not released until a year later. During the same session they also recorded \"Back at the Chicken Shack\" released in 1963. Both albums being fantastic and worth hunting down. Part of what makes the Blue Note records from this era so special is the sound quality from Rudy Van Gelder's studio and this is particularly true of \"Midnight Special\", if you consider yourself a bit of an audiophile this is one for you! I also love the album cover of this one, it is a bit atypical of a Reid Miles cover: featuring a large colour photograph. But it is so well done, it really shouldn't matter but a good album cover really adds to the whole experience. Especially if you have a nice vinyl copy of the record.\n",
    "\n",
    "The line up features:\n",
    "- Jimmy Smith – organ\n",
    "- Stanley Turrentine – tenor saxophone\n",
    "- Kenny Burrell – guitar\n",
    "- Donald Bailey – drums\n",
    "\n",
    "The full line up features on 3 of the 5 tracks on the album, Kenny sitting out of tracks 2 and 4 leaving a leaner trio format.\n",
    "\n",
    "The album kicks off with the title track (embedded at the start of this post). Like many cuts on the album, and much of Smith's back catalogue, it is based on a blues. The longest track on the album at over 9 minutes and features some extended soloing. Jimmy in particular is able to stretch his legs and show off some chops. However Turrentine steals the show for me, with a very tasteful and restrained solo early on and then a second more emotive blues wail towards the end. Kenny's playing is also sublime on this take.\n",
    "\n",
    "> youtube: https://youtu.be/yXCsr9npo84\n",
    "\n",
    "Another highlight is track 3 \"Jumpin' the Blues\", another track featuring the entire quartet. This one is one of the more energetic pieces on show and gives everybody a chance to show off their chops. It probably features the most ambitious soloing on the album. Without a bass player Smith needs to drive the piece forward in the low end, this is paired with Bailey's swinging style. Although a \"blues\" it features a lot of the hallmarks of jazz and be-bop. This become evident in the solos where each player in turn uses the be-bop vocabulary masterfully. It is perhaps some of the best recorded soloing by Burrell in my opinion. Turrentine again plays his socks off too.\n",
    "\n",
    "In addition to the blues the record also features a few slower down-tempo ballads too. The Smith-Turrentine interplay is on full display in these and it is really a joy to listen to.\n",
    "\n",
    "On the whole the record is a masterpiece from start to finish. It allows the listener to engage at whatever level they feel comfortable. It is simple enough that it doesn't require your full attention, however the more you dig into it the more you can get out of it. If you have never listented to a Jimmy Smith record in the past this is a good a place as any to start!"
   ]
  },
  {
   "cell_type": "code",
   "execution_count": null,
   "metadata": {},
   "outputs": [],
   "source": []
  }
 ],
 "metadata": {
  "kernelspec": {
   "display_name": "Python 3",
   "language": "python",
   "name": "python3"
  },
  "language_info": {
   "codemirror_mode": {
    "name": "ipython",
    "version": 3
   },
   "file_extension": ".py",
   "mimetype": "text/x-python",
   "name": "python",
   "nbconvert_exporter": "python",
   "pygments_lexer": "ipython3",
   "version": "3.7.4"
  }
 },
 "nbformat": 4,
 "nbformat_minor": 2
}

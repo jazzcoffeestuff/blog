{
 "cells": [
  {
   "cell_type": "markdown",
   "metadata": {},
   "source": [
    "# \"London Jazz Festival and Carmelita\"\n",
    "> \"This week in the blog we feature yet another Drop Coffee - this time a washed Java varietal Bolvian called Carmelita. In a bit of a change to usual on the jazz side we review the 2020 London Jazz Festival.\"\n",
    "- toc: false\n",
    "- author: Lewis Cole (2020)\n",
    "- branch: master\n",
    "- badges: false\n",
    "- comments: false\n",
    "- categories: [Jazz, Coffee, Various-Artists, London-Jazz-Festival, 2020s, Drop, Bolivia, Washed-Process, Java]\n",
    "- hide: false\n",
    "- search_exclude: false\n",
    "- image: https://github.com/jazzcoffeestuff/blog/raw/master/images/031-LJF/LJF.svg"
   ]
  },
  {
   "cell_type": "markdown",
   "metadata": {},
   "source": [
    "> youtube: https://youtu.be/uTYnh8zmq1s\n",
    "\n",
    "This week on the blog we are looking at the last of the current batch of Drop Coffee. I think Drop are consistently once of the best roasters going, unfortunately shipping costs mean I purchase from them less often than I'd like. This goes for most other non-UK based roasters in fact.\n",
    "\n",
    "The coffee in question today is from Bolivia, an origin we have spoken about a few times in the past. The farm is located in the Caranavi region, perhaps the most famous of all Bolivian coffee regions. The coffee goes by the name \"Carmelita\" which comes from the producer: Carmelita Urduvi. It has a washed fermented processing, a fairly standard approach from Drop's literature.\n",
    "\n",
    "What is \"interesting\" about this coffee is the varietal it is a Java. This has nothing to do with the island of Indonesia - which I believe is the origin of the colloquialism \"a cup of java\". Instead the Java varietal has a bit of a checkered history, originally thought to be part of the typica lineage it was later discovered to have its origins in Ethiopia (through a local landrace called Abysinia). Java is known for having very high cup quality and reasonable resistance against leaf rust and various other diseases. This makes it a good proposition for a \"Gesha-alternative\" that is easier for producers to grow while still leading to cup quality.\n",
    "\n",
    "Let's move onto the coffee itself: as usual starting with the dry aroma I'm getting 2 main notes: butter and pears. It is soft and fairly delicate in nature, and certainly very comforting. I'm not getting much in the way of floral notes, which is a little surprising for a java (but perhaps less so for a Bolivian). The roast level appears to be towards the medium-light level - about the same as last weeks Hunkute but a touch darker than some of the previous Drops.\n",
    "\n",
    "Moving onto our prototypical filter recipe: the first thing I notice is that there is quite a lot of body in this coffee. It is quite dense and heavy hitting. This is not something I typically look for but when it's there I won't complain. In terms of flavours again the butter and pears come to the forefront. The label says \"pear cider\" but I don't get the same sort of acidity I'd associate with a cider. For me a more apt description would be a poached pear dessert with custard. As the cup cools down the finish and aftertaste becomes more intense and very sweet and floral in nature. I'd describe it as a \"sticky floral\" like an elderflower or honeyblossom if pushed.\n",
    "\n",
    "As an espresso I was extremely lucky to land on a perfect recipe first time! This is not something that happens very often, especially when jumping from a vastly different origin/varietal. How did I do this? I knew this bean would be less dense than the previous Hunkute so I would need to fine up my grind quite a bit. Given the qualities in the filter I knew the mouthfeel was something that would benefit from a shorter/standard pull compared to my usual approach - again pointing towards a finer grind. On the temperature side I knew a medium-high heat would work best given the roast levels we're dealing with. I ended with a 1:1.9 ratio with a 10s preinfuse followed by a 28s pull - pretty much a standard espresso recipe you'd find anywhere on the web. As expected this leads to a big heavy buttery mouthfeel with sticky-pear sweetness and surprisingly the floral notes shine through. Despite being a heavy hitter it still has exceptional clarity.\n",
    "\n",
    "To be honest this was a coffee I bought to \"make up the numbers\" to get free shipping on my order. I expected it to be one of the weaker offerings in my order but I have really enjoyed drinking it. It goes to show that you can't judge a coffee based on \"specs\" alone.\n",
    "\n",
    "\n",
    "On the jazz side this week we are going to take a different approach. This past week has been London Jazz Festival, so in the evenings I have been listening to various livestreams/concerts so I thought I'd give an round up of what I experienced.\n",
    "\n",
    "![](https://github.com/jazzcoffeestuff/blog/raw/master/images/031-LJF/LJF.svg)\n",
    "\n",
    "Unsurprisingly London Jazz Festival has been a bit different this year. Given the timing they were unable to allow \"in-person\" audiences and so everything has been live-streamed online. Of course you will never be able to capture the magic of live jazz through a screen in quite the same way, but I have to say being able to relax in my own home was quite nice. As much as I love Ronnie Scott's I did not miss being squeezed into the church pews and my legs going to sleep halfway through the first set! I also did not miss having to commute back home after the gigs finished, especially during mid-week! One evening isn't too bad but when the festival is on and you're doing something everyday and not getting home until past midnight most days the end of the work week can feel like hell on earth.\n",
    "\n",
    "![](https://github.com/jazzcoffeestuff/blog/raw/master/images/031-LJF/BillLaurence.png)\n",
    "\n",
    "The first artist I \"saw\" was Bill Laurence at Ronnie Scott's with a solo piano performance. Bill is best known for his work with the Snarky Puppy collective. I have to admit I struggle with Snarky a bit, don't get me wrong they're objectively a great band and put on fantastic live shows - the music just doesn't move me and I don't go reaching for their records. As such I'm not really familiar with Laurence's solo work. The set opened with (I believe) a take on \"Flamenco Sketches\" and made me sit up and take notice. I was expecting more of a fusion oriented experience but Bill showed he has a wide jazz repertoire and played some beautifully emotive lines throughout.\n",
    "\n",
    "> youtube: https://youtu.be/ia9PLzX1RUM\n",
    "\n",
    "Much of the rest of the set was made up of his own music from his dystopian record \"Cables\" which was more in the fusion space. However he also presented a great rendition of the standard \"You Don't Know What Love Is\" - which was another highlight for me. He definitely did enough for me to take notice of his releases and gigs in future.\n",
    "\n",
    "![](https://github.com/jazzcoffeestuff/blog/raw/master/images/031-LJF/Dinosaur.png)\n",
    "\n",
    "The next gig on the agenda for me was Laura Jurd's Dinosaur at King's Place. As expected there were a few technical issues leading to a rather lengthy delay in start time - but when has a jazz gig ever started on time? I guess this adds to the realism. And a shoutout to the person in the chat who commented: \"Even Keith Jarrett didn't make me wait this long!\" - I genuinely laughed out loud at that.\n",
    "\n",
    "> youtube: https://youtu.be/Z0_5yNYQl8M\n",
    "\n",
    "The gig was a play through of the latest 2020 release \"To the Earth\". I swotted up before the gig to get familiar with this album so I could understand the tunes a bit better. The thing that really struck me was how different the feel was in this performance - each tune was played with a much looser, bluesy quality. On the record everything is much more clinical and precise, I have to say I much preferred the live version for feeling more organic. I guess they recorded the album using a click-track to get everything perfect.\n",
    "\n",
    "The standout piece of the night for me was \"Slow Loris\" which really expemplified the blues groove the band had. And also a shoutout to pianist Elliot Gavin who was truly fantastic from start to finish.\n",
    "\n",
    "It was kind of eerie hearing a jazz gig with no applause however, in the Ronnie Scott's gig above the crew/staff provided the applause which made the experience feel more \"real\". Laura did here best to compere between tunes but there was only so much she could do. Perhaps they could have used a canned applause or similar to give the performance more atmosphere.\n",
    "\n",
    "![](https://github.com/jazzcoffeestuff/blog/raw/master/images/031-LJF/LindaOh.png)\n",
    "\n",
    "Perhaps my highlight of the week was Linda Oh's performance. This one was not so much a \"performance\" as a sequence of recorded tracks. After each tune it cut so it was not clear whether this was recorded in one continuous set or, as is my assumption, tunes were recorded individually with breaks along the way. Regardless it was a truly incredible performance.\n",
    "\n",
    "You could certainly tell the influence working with Metheny has had on Linda, there were plenty of \"Metheny-isms\" throughout the set (no bad thing). The music gently oscillated between bop, fusion and free styles with lots of mind-bending rhythmic patterns. At times there were even Zappa-style quintuplet lines thrown in for good measure.\n",
    "\n",
    "> youtube: https://youtu.be/20YiLp7_dXM\n",
    "\n",
    "Linda split her time between acoustic and electric basses, with my favourite pieces being where she focussed on the former. But also a shout out to tenor saxophonist Jamie Oehlers for playing some dizzingly impressive lines throughout.\n",
    "\n",
    "The music here was so adventurous, energetic and fast moving it is hard to do it justice with words. I have seen Linda live a few times both as a band member and a lead act, she is always worth watching.\n",
    "\n",
    "![](https://github.com/jazzcoffeestuff/blog/raw/master/images/031-LJF/HaroldLopezNussa.png)\n",
    "\n",
    "The last act I want to talk about is Harold Lopez Nussa. I've been a fan of his since he first broke onto the scene play his Cuban jazz music. Traditionally it has been fairly hard for those outside of Cuba to hear the best Cuban artists but Harold has had some commercial success starting with his \"New Day\" album back in 2013 through his latest 2020 release \"Te Lo Dije\". Much of this gig (streamed from Havana) featured music from this release. Here he moves a bit further from \"just\" playing Cuban jazz and takes influence from fusion, classical and popular music - it for example features a rendition of \"The Windmills Of Your Mind\" from the Thomas Crowne Affair fame. He also referenced his back catalogue and played \"Paseo\" one of my favourite pieces off his debut album.\n",
    "\n",
    "> youtube: https://youtu.be/N1nf1MCpKhg\n",
    "\n",
    "Overall, although atypical, a rather enjoyable London Jazz Festival. But here's to hoping that normal service can resume in 2021."
   ]
  },
  {
   "cell_type": "code",
   "execution_count": null,
   "metadata": {},
   "outputs": [],
   "source": []
  }
 ],
 "metadata": {
  "kernelspec": {
   "display_name": "Python 3",
   "language": "python",
   "name": "python3"
  },
  "language_info": {
   "codemirror_mode": {
    "name": "ipython",
    "version": 3
   },
   "file_extension": ".py",
   "mimetype": "text/x-python",
   "name": "python",
   "nbconvert_exporter": "python",
   "pygments_lexer": "ipython3",
   "version": "3.7.4"
  }
 },
 "nbformat": 4,
 "nbformat_minor": 2
}

{
 "cells": [
  {
   "cell_type": "markdown",
   "metadata": {},
   "source": [
    "# \"Riverside and Saint Semeon Abay\"\n",
    "> \"In this post we visit a new (to the blog) coffee roaster Saint - and their Eithopian Semeon Abay which has an SCA score in excess of 90. On the jazz side we look at the 2014 release 'Riverside' featuring Dave Douglas, Chet Doxas, Steve Swallow and Jim Doxas.\"\n",
    "- toc: false\n",
    "- author: Lewis Cole (2020)\n",
    "- branch: master\n",
    "- badges: false\n",
    "- comments: false\n",
    "- categories: [Jazz, Coffee, Dave-Douglas, Chet-Doxas, 2010s, Saint, Ethiopia, Natural-Process, Heirloom]\n",
    "- hide: false\n",
    "- search_exclude: false\n",
    "- image: https://github.com/jazzcoffeestuff/blog/raw/master/images/021-Riverside/Riverside.jpg"
   ]
  },
  {
   "cell_type": "markdown",
   "metadata": {},
   "source": [
    "> youtube: https://youtu.be/BDpJyUznSSY\n",
    "\n",
    "This week we are featuring a new (for the blog) roaster: Saint Coffee Roasters. Their roastery is located in Hackney, London and they have a number of cafes across the capital including Baker Street, Angel and Camden. I decided to give them a try based on this coffee in particular. \n",
    "\n",
    "The coffee in question is an Ethiopian coffee from the Israel Degfa company (as our previous one was also). From the Adola washing station from the Aferara region of the Guji zone. It has been designated an \"experimental natural\" process - also known as a \"bag process\" whereby the coffee cherries are left to ferment in a polypropylene bag (rotating every 12 hours). This (reportedly) leads to increased development of intense fruity flavours. This particular example has an SCA score of 90.25 - regular readers at this point will know an SCA score is not the be all and end all but a score above 90 places the coffee in the top 1% of coffee globally. High praise indeed! Given this the price of the bag was fairly reasonable.\n",
    "\n",
    "In ordering this coffee there was a bit of a royal mail mishap and my original package got so wet that the address label rubbed off and sent back to Saint (it begs the question what on earth royal mail were doing with it!) Saint were quick to correct this and sent an additional bag of coffee by way of an apology - this is certainly a good way to resolve the issue from my side so I'm giving them a shout out here!\n",
    "\n",
    "Moving swiftly onto the coffee itself: the dry aroma gives a very big hit of chocolate/cocoa, that is the overiding note with some lighter fruitynotes hidden in the background. This coffee is roasted marginally darker than some of the roasters commonly featured in this blog, it is by no means \"medium\" but it is certianly \"omni\" as opposed to the \"filter\" styles usually featured, this will likely bring out these cocoa notes a bit more. As usual we start with a filter; as the dry aroma suggested the cocoa is a big part of this coffee and there is a big body and mouthfeel to go with it. There are the usual \"natural\" tropical fruit or bubblegum notes present but they're not as funky and as in your face as you might expect. Actually I find myself using \"black forest gateau\" as the most predominent descriptor here. As the cup cools the fruity notes come more to the front and the cocoa subsides. Overall it is fairly complex and there's a lot to pick apart here, for a natural it is also very clean tasting.\n",
    "\n",
    "Into the espresso, here I toyed around with shorter shots trying to make the most of the cocoa notes and body but it fell a bit flat for me, the complexity was lost. In the end I settled on pulling a little longer around 1:2.75 - at a medium heat with a decent preinfusion. This sacrificed a little in mouthfeel and body but more than made up for it in sweetness. As a coffee I found it very easy to dial in and was very forgiving. It seemed to be quite insensitive to grind size change, I had to move my settings quite a lot to notice a difference with this coffee. In the cup the tropical fruits came out a little bit more, however it is not a \"loud\" coffee and don't go expecting real deep funky notes. The \"black forest\" vibe is certainly still there and still the first thing I notice when tasting. Again it is a clean coffee and the aftertaste does not linger too long.\n",
    "\n",
    "Overall a complex and interesting coffee and one I'm glad I picked up.\n",
    "\n",
    "For the jazz this week we are heading back to 2014 through the \"Riverside\" album from Dave Douglas and Chet Doxas.\n",
    "\n",
    "![](https://github.com/jazzcoffeestuff/blog/raw/master/images/021-Riverside/Riverside.jpg)\n",
    "\n",
    "In this project Douglas and Doxas pay tribute to Jimmy Giuffre. However unlike many other \"tribute\" albums this album is not just a rehash of Giuffre's tunes: instead all but 2 tracks are originals. There is only one Giuffre composition (\"The Train and the River\") and one Johnny Mercer standard (\"Travelin' Light\") which was a favourite of Giuffre. While the back catalogue of Jimmy Giuffre is fairly broad (from big band, through cool and even free-jazz) - on \"Riverside\" they pay homage to the blues-folk influenced stylings, but in a more \"modern\" style.\n",
    "\n",
    "The line up on the album is:\n",
    "- Dave Douglas - trumpet\n",
    "- Chet Doxas - clarinet, saxophone\n",
    "- Steve Swallow - electric bass\n",
    "- Jim Doxas - drums\n",
    "\n",
    "Dave Douglas is a fairly \"big\" name in modern jazz. His back catalogue is extensive covering just about every jazz sub-genre you can think of and has worked with many other artists both old and new: from John Zorn, Bill Frisell, Lee Konitz, Joe Lovano, Horace Silver and many others. He also has a background as an educator working with various universities and music institutions and also has his own record label \"Greenleaf Music\" (on which \"Riverside\" is released) which is one of my favourite current jazz labels. It is hard to summarize the Douglas \"sound\" or \"style\" in a way that does him justice given the breadth of his experience - however he typically focuses on a powerful big sound and often plays with a great deal of swagger. If you ever get a chance to see him perform live (regardless of the project) you should jump at it, he always puts on a show and is one of the most consistent out there. I try and catch him when he comes to town.\n",
    "\n",
    "\"Riverside\" appears under both Douglas and Doxas names - I have to be honest I know very little about Chet Doxas (and his brother Jim on drums). He has a relatively small back catalogue - but I've enjoyed everything I've heard to date. It may be a case that \"less is more\"!\n",
    "\n",
    "Steve Swallow is the \"veteran\" of this line up; having worked from 1960 onwards. In fact he previously worked with Jimmy Giuffre fairly extensively which gives this album an air of authenticity. He is also known for working with Paul Bley, John Scofield, Steve Kuhn, Carla Bley and Gary Burton (among others) and has a sizeable career as a leader. He was one of the first jazz bassists to move to electric bass exclusively - and one of only a select few who plays a 5 string bass. He has a style that I would describe as intricate but relaxed, often opting to play chords when comping and playing in the very high register when soloing. He genuinely plays softly with contemplation rather than opting for big powerful bass lines. It is a sound all to himself and is instantly recognisable.\n",
    "\n",
    "On \"Riverside\" the writing duties are split roughly 50:50 between Douglas and Doxas and the album has essentially 2 speeds: an upbeat chaotic swing of Douglas and the slower more meditative approach of Doxas. \"Handwritten Letter\" (embedded at the start of this post) is a prime example of the Douglas approach. The main melody is an uptempo high energy affair but there are many twists and turns as the tune progresses. The rhythmic interplay is a key feature of the album and brings a playful feel to proceedings.\n",
    "\n",
    "> youtube: https://youtu.be/3Mjkn0OX8N4\n",
    "\n",
    "The tune \"Old Church, New Paint\" shows off the groups softer side with a down-tempo comtemplative ballad with a nod towards gospel. Doxas plays with a beautiful breath-y tone, meanwhile Douglas playing some great counter-point. The use of counter-point melody is something that appears frequently throughout the record. The rhythm section of Doxas and Swallow keeps the whole tune swinging with a blues tilt. There is a lead-in track to this piece that features a beautiful solo from Steve Swallow and gives him a chance to flex some of his chops, something that does not appear too often on this album with Douglas and Doxas taking most of the limelight.\n",
    "\n",
    "Overall it is a fantastic album, slightly overlooked at the time so well deserving of a second listen. This is the sort of album that can satisfy in a number of ways: it is quite \"easy\" to listen to as it is focussed on blues-folk yet behind this there are some really interesting rhythmic and counter-point ideas should you want to investigate further. There has since been a second album for the Riverside project called \"The New National Anthem\" where they look at the work of Carla Bley - also worthy of your time.\n",
    "\n",
    "> youtube: https://youtu.be/BUolZzqECyQ"
   ]
  },
  {
   "cell_type": "code",
   "execution_count": null,
   "metadata": {},
   "outputs": [],
   "source": []
  }
 ],
 "metadata": {
  "kernelspec": {
   "display_name": "Python 3",
   "language": "python",
   "name": "python3"
  },
  "language_info": {
   "codemirror_mode": {
    "name": "ipython",
    "version": 3
   },
   "file_extension": ".py",
   "mimetype": "text/x-python",
   "name": "python",
   "nbconvert_exporter": "python",
   "pygments_lexer": "ipython3",
   "version": "3.7.4"
  }
 },
 "nbformat": 4,
 "nbformat_minor": 2
}

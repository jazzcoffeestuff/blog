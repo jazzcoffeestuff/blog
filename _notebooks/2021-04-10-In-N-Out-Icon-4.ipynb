{
 "cells": [
  {
   "cell_type": "markdown",
   "metadata": {},
   "source": [
    "# \"In N Out and Icon 4\"\n",
    "> \"This week we take a look at the 4th coffee in Plot's Icon series - a natural from Ecuador. Alongside we serve up another Joe Henderson Blue Note classic 'In 'N Out'\"\n",
    "- toc: false\n",
    "- author: Lewis Cole (2021)\n",
    "- branch: master\n",
    "- badges: false\n",
    "- comments: false\n",
    "- categories: [Jazz, Coffee, Joe Henderson, 1960s, Plot, Ecuador, Natural, Typica-Mejorado]\n",
    "- hide: false\n",
    "- search_exclude: false\n",
    "- image: https://github.com/jazzcoffeestuff/blog/raw/master/images/051-InNOut/InNOut.jpg"
   ]
  },
  {
   "cell_type": "markdown",
   "metadata": {},
   "source": [
    "> youtube: https://youtu.be/k8ntRkcOG-4\n",
    "\n",
    "This coming friday (16th April) marks the first anniversary of the JazzCoffeeStuff blog! Unintentionally this coincides with another special coffee from Plot Coffee Roasting through their Icon series. As you may remember the Icon series is a \"150g a month\" subscription offered by Plot featuring some of the most sought after and rare coffees availavle. This is the 4th edition of this series.\n",
    "\n",
    "The coffee in question is from Ecuador, an origin that may not be familiar to some. Most think of cacao rather than coffee from Ecuador, but those familiar with the specialty coffee scene know that there are some fantastic coffees to be had. Perhaps what is most interesting about this coffee is the cultivar: Typica Mejorado. I admit that I don't think I've ever tried this particular cultivar before, apparently a cross between Bourbon and an unknown Ethiopian landrace. Certainly an intriguing proposition given the cup quality of both of these cultivars. Interestingly, doing some research a few sources claim that it is a cross between Bourbon and Gesha - but this seems to be speculative at best (although would likely help achieve a higher price for the coffee).\n",
    "\n",
    "The processing here is a natural. Ecuador has a fairly humid climate which makes natural processing problematic. This coffee undergoes a dry fermentation for 48 hours before spending 15 days in a solar powered drying chamber that exactly controls the coffees environment. Following this the coffee spends the rest of the time on raised African beds within a polytunnel. This sort of attention to detail at the processing stage is really what sets some of these super high scoring coffees a part.\n",
    "\n",
    "Let's just dive right in: on the dry aroma I get a strong punch of honey straight off the bat. In addition I get the sort of floral notes one would ordinarily associate with Ethiopian coffees. This coffee is off to a good start, as usual we move on to my usual pour-over - I'm currently still on Hario v60 papers instead of my usual chemex due to supply chain issues but have been appreciating the change. Taking the first sip immediately I'm struck by how sweet this coffee is, it is syrup-y sugar-y and honey-y. This is up there as one of the sweetest coffees I've had in a while, if you like sweetness it is one for you. In terms of flavour profile the honey-floral combo is certainly there - a hit of honey at the front which mellows to perfumed florals in the aftertaste. In the middle however it is a bit of a fruit bomb: strawberry is certainly present, apricots too, mangos and papaya make a bit of a showing. There is a lot going on in the cup, it is one that you should really sit down and savour but it is surprisingly easy to drink too. In terms of acidity I would describe it as low or at a push medium, there's so much sweetness it's kind of hard to notice the acidity in my opinion. The body is quite high but not one of those coffees that you can chew on.\n",
    "\n",
    "As with previous Icon coffees I didn't make any espresso, next week's blog post should feature some espresso goodness.\n",
    "\n",
    "Yet again Plot knock it out of the park with their Icon series. 4 out of 4 bangers so far, and I am looking forward to next month's offering.\n",
    "\n",
    "Since this friday marks the one year anniversary of JazzCoffeeStuff, on the jazz side I thought we should head back to the first artist featured: Joe Henderson with another of his Blue Note recordings \"In 'N Out\".\n",
    "\n",
    "![](https://github.com/jazzcoffeestuff/blog/raw/master/images/051-InNOut/InNOut.jpg)\n",
    "\n",
    "Before even getting into the music itself it is worth taking a moment to appreciate the album artwork. One of my favourite covers in the history of Blue Note, a near perfect example of the Reid Miles aesthetic. It still looks as fresh today as it did when the album was released in January 1965.\n",
    "\n",
    "I make no apologies: I am a huge Joe Henderson fan. My love for his playing can be summed up in the title of this album: \"In 'N Out\" - for me nobody before or since has had the ability to walk the line between inside and outside playing. He has the ability to play the craziest free-jazz lines fit with the most pedestrian chord changes, and meanwhile play an absolutely pure and simple melody in the midst of a free-jazz frenzy. Sometimes he even can start a lick playing a blues and by the end be in the realms of avant-garde - and you don't even notice it. This is especially true for his playing on Blue Note around this period, you can pick up any record he appears on during this time and you'll be blown away.\n",
    "\n",
    "On \"In 'N Out\" the supporting cast isn't too shabby either: on trumpet you have regular stable-mate Kenny Dorham, with whom Joe recorded many times - all of which magical. On piano we have McCoy Tyner - one of the true stars of the hard-bop era and again appears regularly with Joe. On the bass we have Richard Davis who has played on records spanning all of the sub-genres of jazz from bop to free. On the drums is Elvin Jones - possibly my favourite drummer of all time, he always finds a unique way of swinging and can only be described as a jazz legend.\n",
    "\n",
    "The album kicks off with the title track (embedded at the start of this post). It kicks off with a time-twisting hard-bop type melody with Joe and Kenny in unison (showing off their near telepathic communication). This is on top of a typical Elvin swing - his way of emphasing the beat gives the melody a hurried chaotic feeling. It doesn't take too long to get into Joe's first solo on the album. It features all the hallmarks of his playing: short stabby phrases, the unpredictable use of space, large intervals, ghost notes and trills. With so many \"tricks\" like these it's amazing at how well Joe can construct a solo, it's completely logical and flows from one idea to the next. McCoy then takes his turn, again sticking to his tried and tested use of fourths (mostly). Kenny then takes his turn with perhaps one of the most daring solos in his back catalogue. Typically you associate Kenny with the latin-influenced music and sticking fairly close to the melody but here he gets a little more experimental.\n",
    "\n",
    "> youtube: https://youtu.be/78N6qHZdxYY\n",
    "\n",
    "The album itself consists of 2 parts: the first 3 tracks being tunes penned by Henderson himself and the last 2 by Dorham. As one would expect the Dorham tunes feature a latin and bossa feel, in contrast to the hard-bop/free sound of the Henderson pieces. One of the Dorham pieces is \"Short Story\" (above).\n",
    "\n",
    "\"Short Story\" is typical Dorham through and through but the personnel on this album takes it in a different direction. You have Elvin's drum beats adding a unique flavour to the latin piece. It would have been easy to just stick to the \"typical\" drum beats featured in latin jazz but Elvin's genius gives the piece a sort of rhythmic tension which can be released at any moment. You also have McCoy's \"modal chord\" style of comping which gives the piece an almost \"dream like\" feel. Then you have Davis' bass hook which is a real ear-worm. This sets the stage for the main soloists to show off their personality: Dorham sticks largely to the chord tones and stays inside, playing pretty phrases. In contrast Joe starts off well behaved but before long starts breaking out the wolf-notes and wild rollercoaster bop lines. The Henderson/Dorham partnership is something that will never get old, they just seemed to raise each other up every time they played together.\n",
    "\n",
    "The one downside of \"In 'N Out\" is its brevity at just 5 tracks and around 38 minutes (reissues featuring an additional 9 minutes with an alternate take of the title track). In spite of this \"In 'N Out\" is an all time classic for me and one well worth your time to hunt down."
   ]
  },
  {
   "cell_type": "code",
   "execution_count": null,
   "metadata": {},
   "outputs": [],
   "source": []
  }
 ],
 "metadata": {
  "kernelspec": {
   "display_name": "Python 3",
   "language": "python",
   "name": "python3"
  },
  "language_info": {
   "codemirror_mode": {
    "name": "ipython",
    "version": 3
   },
   "file_extension": ".py",
   "mimetype": "text/x-python",
   "name": "python",
   "nbconvert_exporter": "python",
   "pygments_lexer": "ipython3",
   "version": "3.7.4"
  }
 },
 "nbformat": 4,
 "nbformat_minor": 2
}

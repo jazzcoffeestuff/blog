{
 "cells": [
  {
   "cell_type": "markdown",
   "metadata": {},
   "source": [
    "# \"There is a Tide and Haraz\"\n",
    "> \"A very special coffee from Plot features in this blog post, along with the long awaited Chris Potter lockdown album.\"\n",
    "- toc: false\n",
    "- author: Lewis Cole (2020)\n",
    "- branch: master\n",
    "- badges: false\n",
    "- comments: false\n",
    "- categories: [Jazz, Coffee, Chris-Potter, 2020s, Plot, Yemen, Natural-Process, Ja'adi]\n",
    "- hide: false\n",
    "- search_exclude: false\n",
    "- image: https://github.com/jazzcoffeestuff/blog/raw/master/images/034-There-is-a-Tide/There-is-a-Tide.jpg"
   ]
  },
  {
   "cell_type": "markdown",
   "metadata": {},
   "source": [
    "> youtube: https://youtu.be/FCy7W1RGmbM\n",
    "\n",
    "In this blog post we are in for a treat. Historically it has been very hard to get hold of quality Yemeni coffee, owing largely to the political climate in that region. When coffee did make its way out of Yemen it was often lacking in provenance and traceability. In recent times it has become easier to get hold of good quality coffee from Yemen. In September of this year there was also the QIMA auction for coffees from Yemen - including some lots consisting of the newly discovered \"Yemenia\" varietal. In this blog post we look at the first coffee in Plot Roasting's \"Icon\" series - a superb and rare Yemeni coffee.\n",
    "\n",
    "Let's start with a recap of Plot Roasting: these guys (and girls) are relatively new to me having only discovered them earlier in the year but have continually impressed with their quality and attention to detail. They have become one of the regular roasters featuring on this blog and have yet to disappoint. Earlier in this month they launched their \"Icon\" series of coffees - once a month they will be releasing an extremely rare and special coffees with limited availability. Obviously \"rare\" means the price for this is a bit higher than their other offerings but I could not resist buying this one. The bag itself is only 150g in nature so for this blog I will focus only on filter, I don't believe that 150g is enough to dial in espresso and still have some filter coffee. If you're into espresso rest assured next week normal service will resume!\n",
    "\n",
    "The coffee in question today is called Haraz and it is a micro community lot. The community is located in the region west of Sana'a and the coffee is processed in a natural style. Yemen is an interesting origin to look at since it is in some sense \"the birthplace of coffee\" in as much as it was the first place where the crop was grown commercially. I have to admit I don't have a huge amount of experience with Yemeni coffees, I've tried a few at various coffee shops/events over the years but I think this might be the first bag that I have bought for myself. While not the sort after \"Yemania\" this coffee consists of the Ja'adi varietal - which as far as I know is only native to Yemen and it's not a varietal I've seen elsewhere.\n",
    "\n",
    "So let's dive straight into looking at the coffee itself. The dry aroma from this coffee is, frankly, bizarre. As I am grinding it I get a very strong \"meat\" note. It actually reminds me of something oddly specific: Royster's T-Bone crisps! It took me a while to pin-point exactly where I recognised the scent from but it very obvious now (I used to eat a lot of these crisps as a child). In addition to this I also get a strong clove note coming through. It is a very pungent and hard hitting coffee from a dry aroma perspective and certainly very distinctive.\n",
    "\n",
    "Now onto the filter itself: this coffee is certainly different. It is difficult to describe in terms of comparisons to other coffees as it has its own thing going on. For me the bigggest flavour is cola. It reminds me of drinking cola at a cinema (or wherever you usually drink cola) - just at a higher temperature. In addition that clove note comes out again too and hits hard. I also get the Turkish delight note listed on the bag, but only after it was pointed out (perhaps because I've only eaten Turkish delight a couple of times in my entire life). In the aftertaste and finish strong violet florals also come out to play, I find this coffee a bit of a rollercoaster in terms of flavour profile - it is super complex and changes dramatically through the life of the drink. If you like discovering flavour notes this is one for you - you'll undoubtedly find dozens of other notes I have not mentioned (I only mentioned the biggest ones here). In terms of mouthfeel and body we are definitely at the heavier end of the scale here, it almost has a \"chewy\" texture.\n",
    "\n",
    "All in all a very strange and interesting coffee, for me it was well worth the price of admission and I would buy it again. However, I could see some people absolutely despising this coffee and being very upset they spent the premium on it. I would suggest this is a coffee for an \"advanced\" coffee drinker and not one for somebody just starting their specialty coffee journey - but everybody is different so if these flavour notes appeal to you and you are will to pay certainly give it a go.\n",
    "\n",
    "\n",
    "Moving onto the jazz side of the blog we have something equally special to listen to this week: Chris Potter's \"There is a Tide\"\n",
    "\n",
    "![](https://github.com/jazzcoffeestuff/blog/raw/master/images/034-There-is-a-Tide/There-is-a-Tide.jpg)\n",
    "\n",
    "This is an album jazz fans have been eagerly awaiting since it was announced around summer of this year. To see why this album has caused such a stir in the community one only has to look at the personnel:\n",
    "\n",
    "- Chris Potter - Saxophones\n",
    "- Chris Potter - piano, keyboards\n",
    "- Chris Potter - electric and acoustic guitars\n",
    "- Chris Potter - bass guitar\n",
    "- Chris Potter - clarinet, bass clarinet, flute, alto flute, \n",
    "- Chris Potter - drums, percussion\n",
    "- Chris Potter - samples\n",
    "\n",
    "That is correct, this is an entirely \"one man band\" album with Chris playing all instruments and recording at his home studio during lockdown. We (should) all know that Chris Potter is one of, if not the, best saxophonists in the world today having released albums under his own name as well as appearing alongside artists such as Pat Metheny, Dave Holland, Paul Motian, Dave Douglas and countless others. Many see him as carrying the torch from Michael Brecker in pushing the limits of the saxaphone to new heights.\n",
    "\n",
    "A completely solo album is an interesting concept, I can't think of many examples where jazz musicians have experimented with this in the past - at least from a \"big\" name. Pat Metheny had his Orchestrion project of course but that was a different prospect as that was largely mechanically controlled (mostly from his guitar) as opposed to playing individual instruments. I guess Jacob Collier would be the other name that might spring to mind here - but past that you tend to find yourself in the region of more obscure artists. Jazz has always had a history of adapting to the times, given the current state of the world perhaps these solo \"mad scientist\" style projects will become more prominent.\n",
    "\n",
    "What immediately strikes me with \"There is a Tide\" is just how \"pure\" the album feels. You can tell there is a single focus and creative direction, it seems very different to a typical small/big band project where you get a blend of ideas. I think this is highlighted because Potter does not have \"chops\" on say the guitar. In recent projects he had Adam Rogers playing guitar who is (clearly) very talented and so plays complicated lines and technically difficult solos. On \"There is a Tide\" in contrast the guitar (and piano, drums, etc) play the supporting role - this is not to say Potter is \"bad\" on these instruments (far from it) but you can tell he doesn't have the same fluency as on the sax. This makes the statments he is making on the woodwind instruments really standout and shine. It is a very different and unique sound, if you have heard any Chris Potter projects in the past \"There is a Tide\" is \"the same, just more\".\n",
    "\n",
    "> youtube: https://youtu.be/zr9ItG5HupI\n",
    "\n",
    "Since its release about a week ago this album has been on a near constant repeat at JazzCoffeeStuff HQ. Even still I struggle to think of a suitable way to describe the music on this album. The album starts with \"I Had a Dream\" (embedded at the start of this blog). Which I guess you could describe as being in the \"fusion\" style with the main theme slowly coming together around a driving (electric) bass line. As you would expect from Chris it doesn't take long for this to descend into some complicated rhythmic ideas and a searing tenor solo.\n",
    "\n",
    "This is in contrast to a tune later on the album \"Drop Your Anchor Down\" (embedded above) which is largely based around a catchy hook, I've found myself humming this one multiple times throughout the week. It is probably the least \"complicated\" of all pieces on the album so one that might get overlooked but is worthy of some love.\n",
    "\n",
    "Most will listen to Chris Potter, however, to hear the complicated mind-bending rhythms and symmetric and diminished sax lines. This is most evident on \"Rising Over You\" (embedded below) which I imagine will be considered the \"stand-out\" track of the album by jazz fans. It has the Wayne Krantz style syncopations combined with the Michael Brecker influenced sax lines as one would expect in the main theme. Amongst the chaos it is important to bring the energy levels down in order to let the solos speak, which Potter does masterfully. I imagine in the coming weeks we will see many YouTube videos of people playing licks from this one.\n",
    "\n",
    "> youtube: https://youtu.be/XG-evfyiTEM\n",
    "\n",
    "As one would expect from a \"lock down album\" the underlying themes revolve around the current state of the world. It does not take Columbo to work out the meaning with track titles such as: \"As the Moon Ascends\", \"New Life (In the Wake of Devastation)\" and so on. Once again, as it has many times throughout history, jazz is showing it's resiliency in the face of struggle.\n",
    "\n",
    "Really, whatever I write here will not do the album justice. It is well worth hunting down a copy if you have not already. Although it's only been a week I think it is safe to say this album will be in contention for \"album of the year\" in most 2020 year end reviews (and if not it: it should be!) "
   ]
  }
 ],
 "metadata": {
  "kernelspec": {
   "display_name": "Python 3",
   "language": "python",
   "name": "python3"
  },
  "language_info": {
   "codemirror_mode": {
    "name": "ipython",
    "version": 3
   },
   "file_extension": ".py",
   "mimetype": "text/x-python",
   "name": "python",
   "nbconvert_exporter": "python",
   "pygments_lexer": "ipython3",
   "version": "3.7.4"
  }
 },
 "nbformat": 4,
 "nbformat_minor": 2
}

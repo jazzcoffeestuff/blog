{
 "cells": [
  {
   "cell_type": "markdown",
   "metadata": {},
   "source": [
    "# \"Basra and Laura Nilva Paye\"\n",
    "> \"This week we head back to Plot for a peach of a coffee from Peru, which makes some fantastic filter and espresso. Alongside we have the 1965 Blue Note recording 'Basra' from Pete La Roca\"\n",
    "- toc: false\n",
    "- author: Lewis Cole (2021)\n",
    "- branch: master\n",
    "- badges: false\n",
    "- comments: false\n",
    "- categories: [Jazz, Coffee, Pete-La-Roca, 1960s, Plot, Peru, Washed, Bourbon]\n",
    "- hide: false\n",
    "- search_exclude: false\n",
    "- image: https://github.com/jazzcoffeestuff/blog/raw/master/images/050-Basra/Basra.jpg"
   ]
  },
  {
   "cell_type": "markdown",
   "metadata": {},
   "source": [
    "> youtube: https://youtu.be/390UPSAD0OI\n",
    "\n",
    "This week on the blog we are yet again visiting Plot Coffee Roasters - a near constant feature in the blog as of late. This time we have a rather neat competition winning lot from Peru. The lot is from Laura Nilva Paye located in the Puno department of the country. In terms of location this is the south easterly corner of Peru, close to the border with Bolivia.\n",
    "\n",
    "The cultivar of this coffee is Bourbon. I have been reminded that my sloppy use of the word \"varietal\" is technically incorrect when referring to coffee. In layman's terms the difference between \"varietal\" and \"cultivar\" is the presence of human intervention - in coffee (essentially) all coffee plants have been selectively bred, hence they should be referred to as \"cultivar\" as opposed to \"varietal\". This is something I often forget and end up referring to varietal but I'll try and be more precise in the future.\n",
    "\n",
    "Plot label this coffee as a \"washed\" process, however looking into the details the coffee has been depulped and fermented for 20-24 hours before being washed. In that sense it is a little more \"honey\" than many washed coffees available. Following the washing stage the coffee is dried under shade.\n",
    "\n",
    "Let's not hang around but get straight down to business: on the dry aroma I get sweet caramel and peaches, but they are very feint. Overall the coffee doesn't have a huge bouquet when compared to others, but it is very appealling I have a sense this will be a coffee I'll like. As I've said before the dry aroma (or lack thereof) doesn't necessarily align with what ends up in the cup. \n",
    "\n",
    "Into the filter; it is clear to see how much quality is in this cup. It is very clean and clear, every flavour is well defined. The first thing that hits me is the sweetness, it has a very sticky-sweet vibe like a really ripe peach or even a peach syrup. After the intial stone fruit hit subsides you're left with a stunning floral finish which is clean and long lasting. The notes from Plot say: \"a flavour profile more akin to Ethiopia than Peru\" and it is very hard to argue with that. In terms of acidity I would describe it as a medium, or it may be that all the sweetness just offsets it. Eitherway it is a very easy cup to drink but also has layers of complexity to keep you entertained. I find it's best enjoyed at a slightly cooler temperature, straight out of the brewer the flavours get a bit too muddled for my tastes.\n",
    "\n",
    "Onto espresso: I found it basically impossible to get a bad shot out of this. You can basically pull it however you like, with any grind setting and it'll be great. I was without electricity for a day and even pulled a shot on my cafelat robot and it was perhaps the best shot I had. I love the robot as a manual espresso maker, but I struggle with the lighter filter roasts I favour for espresso because it is hard to keep the temperature high enough. No problem with this coffee though, it still extracted perfectly. I found most enjoyment pulling the shots a little shorter that 1:2 to get a more luxurious caramel mouthfeel. The flavour profile in the cup is pure condensed peach and apricot. It is like a shot of peach syrup, incredibly high sweetness, just enough balancing acidity and no harshness at all. As much as I enjoyed this coffee in a filter, for me it really shone as an espresso - up there with the best of the year so far.\n",
    "\n",
    "On the jazz side this week we're heading back to a classic Blue Note recording from 1965 - \"Basra\" by Pete La Roca.\n",
    "\n",
    "![](https://github.com/jazzcoffeestuff/blog/raw/master/images/050-Basra/Basra.jpg)\n",
    "\n",
    "Pete \"La Roca\" Sims is a drummer/percussionist - he is best known as a sideman having appeared alongside some of the all time greats: Sonny Rollins (Roca appeared albeit briefly on \"Live at the Vanguard\"), Joe Henderson (on \"Page One\"), Jackie McLean, Bill Evans, Sonny Clark and so on. He started his career however playing in latin bands, an influence that came through in his playing throughout his career. There are a few things interesting about Pete: firstly he despised the name \"La Roca\" - he came up with the moniker early in his career and it is how most people knew him, but he regretted it in later life. Secondly he was in some sense a \"part timer\" - throughout the 60s he made money as an NY taxi driver and later became a lawyer in the 70s returning to jazz just once after this.\n",
    "\n",
    "> youtube: https://youtu.be/3M1O7InNT14\n",
    "\n",
    "\"La Roca\" only has 3 albums under his own name, and one of those was erroniously labelled as a \"Chick Corea\" album by the record label initially. It's for that reason I consider \"Basra\" to be a bit of an \"under the radar classic\". I'm not a fan of labels like \"under the radar\" or \"underrated\" since they always bring out arguments of \"XXXX is less well known, so this isn't underrated\" eventually devolving into an excuse for showing how obscure ones musical tastes are. I consider \"Basra\" an \"under the radar classic\" however, because almost every \"experienced\" jazz fan I know loves the album but it will rarely (if ever) feature on a \"top 100 albums\" list and \"La Roca\" will never feature in a list of artists you \"have to hear\" - as a result this is an album that many do not discover until much later in their jazz journey.\n",
    "\n",
    "So what makes the album so special? Firstly the line up:\n",
    "- Pete \"La Roca\" - Drums\n",
    "- Joe Henderson - Tenor Sax\n",
    "- Steve Swallow - Bass\n",
    "- Steve Kuhn - Piano\n",
    "As with many Blue Note recordings from around this time: a true heavyweight line-up. But more than that: \"Basra\" features some truly explorative playing. It is not your typical \"hard bop\" album, the is a darker brooding attitude and vibe throughout. The players also lean into the avant-garde/free styles more than many other albums of the period. But more than that there are influences outside of the typical \"jazz\" paradigm.\n",
    "\n",
    "This is perhaps most evident in the title track \"Basra\" (embedded at the start of the blog). A take on Middle Eastern classical music it is based around one chord and captures the \"meditative\" essence of the style. The \"blank canvas\" allows Joe to carve out any line he wants and it is some of the best lead playing you'll hear from Henderson. \n",
    "\n",
    "There is also the firey \"Malaguena\" (above) which is a piece originally penned by Cuban composer Ernesto Lecuona (again \"La Roca\" tipping his hat towards the latin music he played in his early career.) Again Joe plays out of his skin and there are plenty of \"Henderson-isms\" throughout which is no bad thing. The piece manages to be energetic without being high tempo, the quartet masterfully keeps racheting up the tension as it goes on but somehow manages to swing. \n",
    "\n",
    "> youtube: https://youtu.be/briljflpx2s\n",
    "\n",
    "\"Basra\" also features the original recording of the Swallow tune: \"Eiderdown\" which later went on to be a Swallow signature tune and a standard in its own right. It is interesting to hear it in its \"original\" form here. It is perhaps the most \"straight ahead\" of all the tunes on the album and Swallow's bass keeps the tune driving forward in his own inimitable way. This is also one of the recordings shortly before Steve switched to electric bass entirely, so it is nice to hear him play with an acoustic instrument.\n",
    "\n",
    "All in all \"Basra\" is, in my opinion, one of the greatest recordings on Blue Note. Definitely hunt out a copy through whatever medium you use to consume your music. It is a shame we have so few records of \"La Roca\" under his own name, it would have been great to see where he would have taken his music."
   ]
  },
  {
   "cell_type": "code",
   "execution_count": null,
   "metadata": {},
   "outputs": [],
   "source": []
  }
 ],
 "metadata": {
  "kernelspec": {
   "display_name": "Python 3",
   "language": "python",
   "name": "python3"
  },
  "language_info": {
   "codemirror_mode": {
    "name": "ipython",
    "version": 3
   },
   "file_extension": ".py",
   "mimetype": "text/x-python",
   "name": "python",
   "nbconvert_exporter": "python",
   "pygments_lexer": "ipython3",
   "version": "3.7.4"
  }
 },
 "nbformat": 4,
 "nbformat_minor": 2
}

{
 "cells": [
  {
   "cell_type": "markdown",
   "metadata": {},
   "source": [
    "# \"Wolo So and Jacu\"\n",
    "> \"This week we look at the latest coffees as part of my KaffeBox subscription from Jacu Roastery in Norway. We also take a brief peak at my new coffee grinder. On the jazz side we look at a fantastic 2021 release from London based Balimaya Project with their record 'Wolo So' - a really interesting combination of West African culture and contemporary jazz stylings.\"\n",
    "- toc: false\n",
    "- author: Lewis Cole (2021)\n",
    "- branch: master\n",
    "- badges: false\n",
    "- comments: false\n",
    "- categories: [Jazz, Coffee, Balimaya-Project, 2020s, Jacu, Heirloom, 74110, Washed, Natural, Ethiopia]\n",
    "- hide: false\n",
    "- search_exclude: false\n",
    "- image: https://github.com/jazzcoffeestuff/blog/raw/master/images/074-Wolo-So/Wolo-So.jpg"
   ]
  },
  {
   "cell_type": "markdown",
   "metadata": {},
   "source": [
    "> youtube: https://youtu.be/yWZBvAiI1MM\n",
    "\n",
    "On the blog this week we feature the latest coffees from my KaffeBox subscription. This time they feature Jacu Coffee Roastery ( https://www.jacu.no/ ) another roastery I haven't tried before. The coffee blog this week may be a little shorter than usual as I also recently took delivery of a new coffee grinder:\n",
    "\n",
    "![](https://github.com/jazzcoffeestuff/blog/raw/master/images/074-Wolo-So/Lagom.jpg)\n",
    "\n",
    "The coffees supplied by KaffeBox this month were used as the first coffees to try this grinder out and compare to my old grinders back to back. As such I wasn't really giving the coffees themselves as much attention as usual.\n",
    "\n",
    "On the filter side we have a washed Ethiopian coffee: Chelchele. The cultivar is just listed as \"Heirloom\" - which we have talked about many times in the past. Aside from this and the altitude (2000masl) I don't have all that much information about this one. On the nose I get the usual \"washed ethiopian\" profile of florals and stone fruits, but in addition a hint of spice. These flavour notes carry over to the cup along with a lemon citrus note. The cup quality is very clean as you would expect and the body and mouthfeel are quite low. It's not the sweetest nor the most acidic cup you'll ever have but it is very balanced. As a filter it is very easy to drink.\n",
    "\n",
    "On the espresso side we have another Ethiopian coffee, but this time a natural: Tula. This time the cultivar has been listed as 74110 - one that I often see identified. It is always nice to see the cultivar listed, hopefully in time I will have enough of a back catalogue of coffees to really know how the 74110 differs from the Krume (for example). On the nose this coffee is completely different to Chelchele - it has a much bigger tropical fruit hit. These overpower any hint of floral or stone fruit notes that may be present. As an espresso I found this coffee rather flat using my old grinder compared to my new grinder which made it sing. Since the bag was small (125g) I couldn't dial each in to perfection but the difference was noticable. The coffee itself came across as quite a \"clean\" natural coffee and the tropical fruits were striking: I noticed notes of pineapple, passionfruits and papayas. Alongside these was quite a sharp acidity that I would describe as being a bit like a gooseberry. While this coffee does have the sweetness that comes from a natural process it definitely leans towards the acidic. I also found it likes to be in ratios longer than 1:2.5 - so you don't get too much in the way of body (which is fine by me!)\n",
    "\n",
    "Given my love of Ethiopian coffee it was really great to see a pair of Ethiopians arrive as part of this month's KaffeBox delivery. Both of these coffees were very high quality and I'll definitely keep an eye out for Jacu again, I might order from them again in a few months after I really get to grips with the new grinder so I can tell how much of my enjoyment I can attribute to the grinder versus the coffee itself.\n",
    "\n",
    "On the jazz side this week we're going to take a quick look at another 2021 release from UK based: Balimaya Project, with their album \"Wolo So\".\n",
    "\n",
    "![](https://github.com/jazzcoffeestuff/blog/raw/master/images/074-Wolo-So/Wolo-So.jpg)\n",
    "\n",
    "Balimaya Project may not be a name familiar to you, they were certainly new to me. By chance I was making my way through the 2021 jazz releases and \"Wolo So\" instantly grabbed my attention. The music is daring and complex yet still has heart and authenticity.\n",
    "\n",
    "> youtube: https://youtu.be/X13iJt9swt8\n",
    "\n",
    "Balimaya Project is a \"big band\" consisting of 16 members, led by Djembe player Yahael Camara Onono. The make-up of the band is not your typical \"jazz big band\", the instrumentation consists largely of the traditional instruments used by the Mandé people of West Africa. As such this group falls into that \"no-mans land\" between Jazz and World Music where lots of great music lives but rarely gets the recognition it deserves.\n",
    "\n",
    "The music itself is said to be based around the Mandé traditions and folklore, but having no experience with this I have no idea how closely Balimaya Project sticks to those traditions. What I can say however, is that music is fantastic. Alot of the focus is placed on creating a dense and multi-layered percussion track. There are plenty of polyrhythms and odd note groupings to get your teeth into. Despite this the music is incredibly easy to listen thanks to the \"party\" vibe to the music, you can get your music nerd on and try and understand what is going on rhythmically - or you can just get up and dance to it. This combination is something that is incredibly difficult to achieve.\n",
    "\n",
    "While the focus is definitely on celebrating the culture of the Mandé people, Balimaya Project combines this with contemporary jazz stylings. There are horns and electric guitars there too, and they do not feel out of place. At times there are even hints of Frank Zappa, modern fusion and even prog-rock. Naturally perhaps the closest analogue in the jazz world is Sun Ra's Arkestra - but this comparison gives both artists a disservice.\n",
    "\n",
    "It's rare to find such a fresh and unique sound, almost every release you can tie back to a specific set of influences. \"Wolo So\" manages to create an entire vibe all to itself, it feels almost pointless trying to describe the music itself - to understand it you have to listen to it. For me this is definitely a contender for \"album of the year\" and its a record that will be in my rotation for a while. It is definitely worth hunting down a copy, especially if you enjoy the few tracks dotted through this blog post.\n",
    "\n",
    "> youtube: https://youtu.be/YEatijyb_EA\n",
    "\n",
    "https://www.balimayaproject.com/"
   ]
  },
  {
   "cell_type": "code",
   "execution_count": null,
   "metadata": {},
   "outputs": [],
   "source": []
  }
 ],
 "metadata": {
  "kernelspec": {
   "display_name": "Python 3",
   "language": "python",
   "name": "python3"
  },
  "language_info": {
   "codemirror_mode": {
    "name": "ipython",
    "version": 3
   },
   "file_extension": ".py",
   "mimetype": "text/x-python",
   "name": "python",
   "nbconvert_exporter": "python",
   "pygments_lexer": "ipython3",
   "version": "3.8.8"
  }
 },
 "nbformat": 4,
 "nbformat_minor": 2
}

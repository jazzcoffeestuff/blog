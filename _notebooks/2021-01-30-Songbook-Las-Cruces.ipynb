{
 "cells": [
  {
   "cell_type": "markdown",
   "metadata": {},
   "source": [
    "# \"Songbook and Las Cruces\"\n",
    "> \"Heading back to Round Hill - we look at an anaerobic processed coffee from El Salvador. Alongside we serve the 1997 Kenny Garrett masterpiece 'Songbook'.\"\n",
    "- toc: false\n",
    "- author: Lewis Cole (2021)\n",
    "- branch: master\n",
    "- badges: false\n",
    "- comments: false\n",
    "- categories: [Jazz, Coffee, Kenny-Garrett, 1990s, Round-Hill, El-Salvador, Anaerobic-Process, Honey-Process, Heirloom, Bourbon-Varietal]\n",
    "- hide: false\n",
    "- search_exclude: false\n",
    "- image: https://github.com/jazzcoffeestuff/blog/raw/master/images/041-Songbook/Songbook.jpg"
   ]
  },
  {
   "cell_type": "markdown",
   "metadata": {},
   "source": [
    "> youtube: https://youtu.be/pn8Cs-PZfX8\n",
    "\n",
    "This week on the blog we are taking a trip back to Bath and Round Hill Roastery. These folks require no introduction having featured multiple times on the blog and are a firm favourite at JazzCoffeeStuff HQ.\n",
    "\n",
    "This time we have a bit of an interesting coffee. It is from El Salvador and is called \"Las Cruces\" which is the name of the mill where the coffee is processed. As with most El Salvador coffees this is a Bourbon varietal, where things get interesting however is the processing. This coffee uses a \"honey anaerobic\" method. Cherries are picked and then dry fermented anaerobically for 72 hours, they are then pulped and allowed to dry on raised beds where they are turned fairly infrequently to allow the flavours to develop. They also produce a version of this coffee that is \"natural anaerobic\" where the cherries are not pulped before drying. In theory the honey anaerobic should produce a slighlty cleaner cup.\n",
    "\n",
    "El Salvador is an origin I tend to favour but I have never seen an anaerobic process used there so I was very interested in giving this one a go. As usual I opt for filter roast.\n",
    "\n",
    "Diving straight in: on the dry aroma I am greeted with warm baking type spices such as ginger, nutmeg and cinnanom. This is paired with a brown sugar sweetness and caramel sort of note and a slight nuttiness. On first impressions not the wild ride you'd typically expect from an anaerobic coffee.\n",
    "\n",
    "As a filter I noticed a few things; firstly this coffee does not enjoy high brew temperatures. Usually I like to leave my kettle hot as I find that works best for the sort of coffees I go for. This translates through to the cup too where it really comes alive as it cools. On the palette I get get an initial hit of tropical fruit, the bag notes say this is banana but I've never had much success in finding these \"banana\" notes in coffees. This descriptor seems to have sprung up in the past year or so out of nowhere. For me I'd describe it as a mango or papaya, it is not a big punchy tropical fruit bomb but it is there. The brown sugar and hazlenut sort of note in the nose also shows itself after the initial tropical hit. In the finish there is a grape-like sharpness that lingers for quite a while. In terms of body I would describe this as a medium to high (for the sorts of coffee I usually drink), sweetness is medium and acidity is medium also. It is not the cleanest cup I've ever had but that is expected with an anaerobic, but neither is it too funky. I've enjoyed this as a filter, especially when I've let it cool down. Drinking it at a higher temperature causes the flavours to \"bunch up\" and it's hard to differentiate the notes - some may enjoy that visceral sensation but I prefer flavour definition.\n",
    "\n",
    "This coffee as a filter was a bit of a difficult one. There is not a large sweetspot on this coffee and it took a bit of work to dial in (the espresso roast version is likely easier). As with the filter it doesn't like getting too hot so I kept my machine temperature around the middle of the range. I ended up pulling a quick shot (~20s) but a typical ratio (1:2) for the best results. I wanted it shorter to emphasise the body of the coffee but going for a more traditional time (~30s) and things started to get a bit muddy, pulling quicker cleaned things up a bit. The flavour profile is essentially the same as in the filter, but the real gem is the thick unctuous mouthfeel. The baking spices on the nose really come out in the espresso as well as the brown sugar. It is almost like drinking cake batter. As with the filter there is a lingering sharp grape-like finish to the cup.\n",
    "\n",
    "Overall an interesting cup. A little different to the usual coffees I go for but very well done. I'd say this is more of a coffee for the curious than those wanting an easy day to day drinker.\n",
    "\n",
    "On the jazz side we're heading back to the late '90s with the Kenny Garrett classic: Songbook.\n",
    "\n",
    "![](https://github.com/jazzcoffeestuff/blog/raw/master/images/041-Songbook/Songbook.jpg)\n",
    "\n",
    "It has been a busy week at JazzCoffeeStuff HQ this week, in such circumstances I hunt out dependable albums that I know won't disappoint - it is not a time for finding new music. \"Songbook\" is an album I've listened to start to finish countless times over the years and it is an all time favourite of mine.\n",
    "\n",
    "Kenny first made his way onto the scene in the mid 1980s, with his first solo album being released in 1984. He also joined Art Blakey's Jazz Messengers in 1986 - a true badge of honour for any up and coming jazz musician. In these early days he was rooted in the post-bop or hard-bop camp. While the early recordings are a great introduction to the man, it wasn't until the early to mid-90s that Kenny really found his sound. Pretty much any Kenny Garrett album from the '90s is a classic and worth hunting down. My favourite, and likely his most successful, is \"Songbook\" from 1997.\n",
    "\n",
    "Following the meteoric rise of Coltrane the tenor sax became \"the\" sax instrument of choice for improvisers. Despite Charlie \"Bird\" Parker's unquestionable influence on jazz the alto sax has been pushed to the sidelines by the deeper registered tenor. Kenny Garrett is one of the few who really keeps the alto alive and well. The choice of instrument has clearly had an impact on his musicality too, while he has the Coltrane chops (and has released a tribute album to the man) Kenny often favours the chirpier more staccato style of playing to the fluid legato.\n",
    "\n",
    "What really sets Kenny's playing apart from the crowd however is the influence of asian music. While he doesn't go fully down the rabbit-hole of microtones he clearly takes a lot of inspiration from east-Asia specifically. On Songbook these influences are there but in the later albums the Asian influences come to the forefront - listening to the albums in order you can really hear the progression of these ideas.\n",
    "\n",
    "> youtube: https://youtu.be/zalsg6KSzPc\n",
    "\n",
    "Another part of the Garrett magic is his ability to craft really simple and catchy melodies and weave them into more complex jazz pieces. This is something that was a big part of jazz until perhaps the 1970s where complexity took over and the newer generation of players wanted to push the boundaries of technicality and harmony. During the '90s certain artists such as Kenny Garrett and Christian McBride tried tp buck this trend and used simple melodies as a tool within their music. This is probably most evident in his \"hit\" - \"Happy People\" that forms part of just about every setlist he plays.\n",
    "\n",
    "This brings us to perhaps what I associate most with Kenny Garrett: his amazing live performances. I believe he is consistently one of the greatest live performers around today. I have seen him countless times and I can only remember one gig where he wasn't fantastic - on that occassion he was staring daggers at the sound guy so was clearly not happy with something. But even that \"less than perfect\" gig was still a great evening. If you get a chance his performances are well worth the price of admission and I try and catch him every time he is in town.\n",
    "\n",
    "\"Songbook\" consists of 10 Garrett originals, perhaps the best known is \"Sing a Song of Song\" (embedded at the start of this post) that has become a mainstay of his setlists ever since. It is a relatively simple melody which adds to its lasting appeal, but it also forms a good \"blank canvas\" for improvisation since it is essentially just a modal piece. The album recording also features a killer Garrett solo that takes us just far enough outside to keep you on your toes but at the same time respects the tune. There are also the pieces \"Brother Hubbard\" and \"Ms Baja\" in a similar vein which have also become fan favourites and tunes he often revisits live.\n",
    "\n",
    "The album is more than a \"one-trick-pony\" however, it also features some serious hard-bop chops. Perhaps the best example of this is the opening track \"2 Down & 1 Across\" (embedded above). Here Kenny channels his inner Coltrane and goes hell for leather and presents a masterclass in post-bop soloing. It is not just Garrett who deserves a shout-out here with pianist Kenny Kirkland, drummer Jeff \"Tain\" Watts and bassist Nat Reeves providing not only the perfect rhythm section but soloing in their own right.\n",
    "\n",
    "> youtube: https://youtu.be/ARRXiXynz3g\n",
    "\n",
    "I've often said on this blog that one of the biggest tests for improvising jazz musicians is the ballad. It is often difficult to strike the balance between respecting the tune and keeping the music interesting. \"Songbook\" contains a number of great ballads. The most popular is likely to be \"Before it's Time to Say Goodbye\" - a tune Garrett penned for his former employer Miles Davis. However \"She Waits for the New Sun\" is the ballad that always sticks in my mind from this album. It captures a pensive and contemplative mood and evokes a feeling of shuffling round the New York backstreets in autumn.\n",
    "\n",
    "For any jazz fan \"Songbook\" is essential listening, especially if you're accustomed to listening to the \"classics\" and rarely stray past the 1960s in your record collection. In around 60 minutes of music there is not one second of \"filler\" on this album and it's likely to be one you'll forver come back to."
   ]
  },
  {
   "cell_type": "code",
   "execution_count": null,
   "metadata": {},
   "outputs": [],
   "source": []
  }
 ],
 "metadata": {
  "kernelspec": {
   "display_name": "Python 3",
   "language": "python",
   "name": "python3"
  },
  "language_info": {
   "codemirror_mode": {
    "name": "ipython",
    "version": 3
   },
   "file_extension": ".py",
   "mimetype": "text/x-python",
   "name": "python",
   "nbconvert_exporter": "python",
   "pygments_lexer": "ipython3",
   "version": "3.7.4"
  }
 },
 "nbformat": 4,
 "nbformat_minor": 2
}

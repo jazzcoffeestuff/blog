{
 "cells": [
  {
   "cell_type": "markdown",
   "metadata": {},
   "source": [
    "# \"Una Mas and Icon 6\"\n",
    "> \"Another installment of the Plot Icon series with a cup of excellence awarded washed Peruvian coffee. Complexity and sophistication in a cup. Alongside we serve some classic jazz from 1963 with Kenny Dorham's 'Una Mas'.\"\n",
    "- toc: false\n",
    "- author: Lewis Cole (2021)\n",
    "- branch: master\n",
    "- badges: false\n",
    "- comments: false\n",
    "- categories: [Jazz, Coffee, Kenny-Dorham, 1960s, Plot, Caturra, Washed, Peru]\n",
    "- hide: false\n",
    "- search_exclude: false\n",
    "- image: https://github.com/jazzcoffeestuff/blog/raw/master/images/060-Una-Mas/Una-Mas.jpg"
   ]
  },
  {
   "cell_type": "markdown",
   "metadata": {},
   "source": [
    "> youtube: https://youtu.be/TDETNk20Vkc\n",
    "\n",
    "This week marks the 6th installment of the Plot Roasting \"Icon\" series - as you may remember this is a \"premium\" coffee series showcasing some of the rarest and highest quality coffees available today. This time however things are a little different: in previous installments we have had Gesha cultivars and crazy processing methods, this time things are much more \"pedestrian\". When not relying on the unobtainium cultivars or fermentation science experiment processes there is very little place to hide and so I'm hoping for a fantastic cup here.\n",
    "\n",
    "The coffee is from San Ignacio, Peru - an origin I've found has improved quality-wise significantly over the last few years. The farm is called \"La Esperanaza\" and the coffee itself won 4th place in the \"Cup of Excellence\". For those that don't know the \"cup of excellence\" competitions are sort of like a \"michelin star\" review for coffee. A panel of \"expert\" tasters compare many coffees back to back and try and find the best coffee a country has produced in that given year. Those that win awards can typically command a much higher price for their coffee. It's worth remembering that although cup of excellence is quite broad (there are 13 countries with cup of excellence competitions) it does not cover every origin and so some really great coffees miss awards for geographical reasons alone. It's also worth keeping in mind that what professional tasters look for need not be what you actually enjoy drinking (along with many other caveats relating to shipping times, roaster skills, etc.) That being said I do tend to enjoy the cup of excellence coffees I have tried in the past.\n",
    "\n",
    "In terms of cultivar we have a yellow Caturra and the processing is washed. As I said a fairly standard cultivar and processing, which means the coffee has to be exceptional to justify the price.\n",
    "\n",
    "As with previous Icon coffees this is a relatively small bag (150g) so this will be an espresso free week on the blog. Normal service will resume next week (I have another coffee dedicated to espresso alongside the Icon and it's a peach).\n",
    "\n",
    "On the dry aroma I get soft and delicate floral notes of jasmine and honeysuckle.  Supporting this is a honey note that gives a \"sweet\" note to the aroma. It is fairly delicate on the nose and is not the punchiest coffee you'll ever sniff. Once brewed into a filter coffee you have an extremely complex cup. The peach and apricot notes are very prominent as is the jasmine like floral backdrop. The acidity level of this coffee is what I'd describe as \"just enough\" - it's not one I'd describe as particularly high acidity but it is crisp enough to keep you coming back for more. As the cup cools it transforms, this is one that is very sensitive to temperature. I strongly recommend drinking from a very thin walled cup so it has chance to cool down so you can experience all it has to offer. During the cool down phase I noted down the following descriptors: bramble, fig, redcurrant, lime, and I could probably think of a few more. In terms of body and mouthfeel it is relatively low and the sweetness level is quite high but not overpowering. Overall a very balanced cup, and despite the complexity it is a very easy drink. It is one you can also just sit and enjoy without the flavours becoming too distracting.\n",
    "\n",
    "As has been the case with all the Icons so far; this has been a knockout coffee and I look forward to next month's offering.\n",
    "\n",
    "As is customary on \"Icon\" weeks I've selected some iconic jazz to go alongside. This week it's another record from the Blue Note back catalogue from 1963: \"Una Mas\" by Kenny Dorham.\n",
    "\n",
    "![](https://github.com/jazzcoffeestuff/blog/raw/master/images/060-Una-Mas/Una-Mas.jpg)\n",
    "\n",
    "\"Most underrated\" is a contentious label in the jazz world, no matter who you pick out you can claim somebody else is even more underrated than them. But with Kenny Dorham you may have a decent case for making that argument. He has appeared on many of the greatest recordings in Blue Note history (both under his name and as a sideman) yet still lacks the acolades and \"prestige\" of some of his peers.\n",
    "\n",
    "Kenny started off as an active member on the be-bop scene, being part of the original Jazz Messengers as well as playing alongside Charlie Parker, Thelonious Monk, Sonny Rollins and Clifford Brown as well as the big bands of Dizzie Gillespie and Lionel Hamlityon (amongst others). He is perhaps best known for his post-bop work on Blue Note in the 1960s and in particular his partnership with Joe Henderson with whom he appeared a numerous records under either of their names or as sidemen under others names. The Dorham-Henderson partnership is perhaps once of the greatest in jazz history - in a very short period of time they managed to record large number of \"classic\" albums (with \"Una Mas\" being one).\n",
    "\n",
    "A major part of Kenny's sound and songwriting style (at least during the 1960s) was the Latin and Cuban influences to his music. Latin and Cuban jazz have their own histories, but what Kenny managed to do so seemlessly was combine this with the language of be-bop. In this area he was somewhat of a pioneer with many taking influence from his compositions. The collaboration with Joe Henderson certainly helped in this regard given he was no slouch with regards to Latin influences either. In fact Kenny's most famous composition, \"Blue Bossa\", appeared on the Joe Henderson album \"Page One\" from 1963. \"Blue Bossa\" has since become a standard in its own right.\n",
    "\n",
    "Back to \"Una Mas\" itself, the lineup needs no introduction:\n",
    "- Kenny Dorham - trumpet\n",
    "- Joe Henderson - tenor saxophone\n",
    "- Herbie Hancock - piano\n",
    "- Butch Warren - bass\n",
    "- Tony Williams - drums\n",
    "\n",
    "I say this often in these \"icon\" series recordings: but any one of these musicians could be headline artists in their own right. Part of the joy of these recordings is hearing artists like Herbie Hancock be a \"mere\" sideman on a record. On \"Una Mas\" it never once feels like any one musician is trying to steal the limelight, they're all working to push the music to a better place.\n",
    "\n",
    "Perhaps the only downside to \"Una Mas\" is its brevity: it clocks in at only 32 minutes in its original 3-track form (but feels even shorter), but thankfully an additional track was added in 1987 to bring it up to a 37 minute run time. But that should not be a reason to overlook the recording, every second is essentially a \"highlight\" and there is not a moment of filler on the album.\n",
    "\n",
    "The album kicks off with the title track \"Una Mas\" (embedded at the start of this post), which is a built around a hard hitting Bossa-Nova groove. The main itself is punchy and catchy, one you might find yourself humming for days afterwards without realising. Then of course there are 3 killer solos from Dorham, Henderson and Hancock respectively. Given the tune's structure it is somewhat of a \"blank canvas\" and the improvisers can take it into whatever direction they choose. Dorham opts to stick to the Bossa-Nova vibe with the occassional use of a searing blues lick. Henderson does Henderson things and throws in some outside lines and more hard-bop vocabulary while Hancock sticks to his typical sophisticated harmonic style. \n",
    "\n",
    "The second track on the album \"Straight Ahead\" (embedded below), as the name suggests, is a more straight ahead hard-bop romp. With a line-up like this at this time it would be a shame not hear them stretch their legs and that is certainly what they do here - it is essentially a canonical recording from the Blue Note hard-bop era. The rest of the album is comprised of \"Sao Paulo\" another Bossa influenced track but mellower than the chaotic \"Una Mas\" opener. The reissues of the album then feature the standard \"If Ever I Would Leave You\" by Loewe and Lerner, a great example of a hard-bop take on a ballad.\n",
    "\n",
    "As with all the \"icon series\" albums this one is \"essential listening\" for any jazz fan, especially those who enjoy Blue Note recordings. You can't go wrong with any of the Dorham/Henderson recordings from this period.\n",
    "\n",
    "> youtube: https://youtu.be/IcsgGTDNbUk"
   ]
  },
  {
   "cell_type": "code",
   "execution_count": null,
   "metadata": {},
   "outputs": [],
   "source": []
  }
 ],
 "metadata": {
  "kernelspec": {
   "display_name": "Python 3",
   "language": "python",
   "name": "python3"
  },
  "language_info": {
   "codemirror_mode": {
    "name": "ipython",
    "version": 3
   },
   "file_extension": ".py",
   "mimetype": "text/x-python",
   "name": "python",
   "nbconvert_exporter": "python",
   "pygments_lexer": "ipython3",
   "version": "3.7.4"
  }
 },
 "nbformat": 4,
 "nbformat_minor": 2
}

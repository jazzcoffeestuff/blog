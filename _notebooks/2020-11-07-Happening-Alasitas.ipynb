{
 "cells": [
  {
   "cell_type": "markdown",
   "metadata": {},
   "source": [
    "# \"Happening and Alasitas\"\n",
    "> \"Another week another Drop coffee: Alasitas - a washed Gesha from Bolivia. And another 2020 Blue Note release from Gerald Clayton: 'Happening: Live at The Village Vanguard'\"\n",
    "- toc: false\n",
    "- author: Lewis Cole (2020)\n",
    "- branch: master\n",
    "- badges: false\n",
    "- comments: false\n",
    "- categories: [Jazz, Coffee, Gerald-Clayton, 2020s, Drop, Bolivia, Washed-Process, Gesha]\n",
    "- hide: false\n",
    "- search_exclude: false\n",
    "- image: https://github.com/jazzcoffeestuff/blog/raw/master/images/029-Happening/Happening.jpg"
   ]
  },
  {
   "cell_type": "markdown",
   "metadata": {},
   "source": [
    "> youtube: https://youtu.be/Y8psxWBFAEw\n",
    "\n",
    "This week we feature another coffee from Drop coffee roasters in Stockholm. In order to make the shipping economical I had to order a few different coffees so they will appear for a few more blog posts yet! As I said previously they are one of my favourite roasters so this is no bad thing.\n",
    "\n",
    "The coffee this week is another \"premium\" one - we have another washed Gesha varietal, this time from Bolivia. Bolivian Gesha is a relatively new phenomena for me, if you recall earlier in the year I had my first experience of this from Gold Box coffee. Bolivian coffee is an interesting one for me, it is one of the first origins I got into when I was first starting out with specialty coffees. Back then HasBean had a number of great Bolivian offerings. Unfortunately the political landscape in Bolivia has made it a little difficult to get quality coffee from the region, but this appears to be slowly changing and this year I've noticed more and more Bolivians on offer.\n",
    "\n",
    "This particular coffee comes from producers Pedro-Pablo, Daniela and Pedro Rodriguez with their Alasitas farm. Gesha is not a \"natural\" varital in Bolivia and so the Rodriguez family used seeds from the famed La Hacienda farm in Panama (the farm famed for popularising the Gesha varietal). The farm is located in famed coffee growing region Caranavi.\n",
    "\n",
    "Moving on to the coffee itself. On the dry aroma I am getting mostly floral notes underlined with a caramel. It is not the most boisterous I've ever come across but neither is it a shrinking violet (ignore the pun). An inviting and intriguing coffee for sure.\n",
    "\n",
    "As usual we start by making a filter coffee, in much the usual way - you'll likely be bored of hearing about the technique/equipment by now. Taking the first sip my first thought was \"wow\" - this is truly an exquisite coffee. As you would expect from a Gesha it is subtle yet fragrant with a lot of complexity. The overarching flavour for me is peach iced tea, it has the juicy peachy quality, the sweetness but also the floral tea-like quality. As the cup cools there are waves after waves of floral notes: honeysuckle, lavendar, jasmine... basically think of any floral note and it will be there. It is really sensitive to temperature of the cup and it is constantly evolving. If you enjoy cup complexity and trying to work out flavour notes this is certainly one for you. The acidity is reasonable but not overbearing, the cup is definitely on the sweeter end. The mouthfeel and body are what I'd describe as \"juicy\".\n",
    "\n",
    "Moving on to the espresso. To dial this one in I found that a med-high sort of temperature works best, for a ratio around 1:2.25 was the sweetspot - perhaps a little shorter than you would expect for a light roast filter coffee. For reference I was pulling this shot with a 5s pre-infuse followed by a 24s pull - a fairly \"standard\" espresso recipe despite being a filter roast. As an espresso everything great about the filter is just amplified. The mouthfeel gets juicier, the peaches get peachier and the florals really linger on the finish. As much as I loved it as a filter it is even better as an espresso! \n",
    "\n",
    "This coffee is one I just couldn't get enough of, I was sad to see the bag come to an end. On the price scale it is certainly not cheap, but not quite at the price of the previous Gesha featured (and to be honest I prefer this one to that one - but both were fantastic). For my bank balance's sake I'll probably take a break from the Geshas for a while!\n",
    "\n",
    "\n",
    "For the jazz this week I have picked another 2020 release. This one was released a few months ago (July) but I totally missed but it has been the soundtrack of my week since discovering it. The artist is Gerald Clayton and the album is called: \"Happening: Live at The Village Vanguard\". His debut on the legendary Blue Note label.\n",
    "\n",
    "![](https://github.com/jazzcoffeestuff/blog/raw/master/images/029-Happening/Happening.jpg)\n",
    "\n",
    "I guess the question is: why did this album pass me by for so long? I have to be honest here; Clayton is not somebody I follow religiously. He is (clearly) a great player but I just tend not to connect with his music as much as I do with other players. I have never seen him live under his own name however, perhaps if I saw him live that would have changed (hopefully I will get a chance soon). This album has changed my opinion somewhat and I'll be certain to follow a bit more closely in the future.\n",
    "\n",
    "If you release an album called \"Live at The Village Vanguard\" you very quickly put a target on your back. Rightly or wrongly peopl will always compare your release to previous albums recorded there (for example Sonny Rollins, John Coltrane and so on). The Village Vanguard is the oldest continuously operated jazz club in the world (next on the list being London's own Ronnie Scott's). I have never had the opportunity to visit the Vanguard yet but it is somewhere I certainly plan to go to. Visually it is a fairly unassuming place, the room itself being essentially \"pizza slice\" shaped. But as with many of these old jazz clubs it has near perfect acoustics which makes it such a great venue and consequently why so many live albums have been recorded there.\n",
    "\n",
    "Clayton can still be considered somewhat of a jazz \"up and comer\" at 36 years old, but given his \"child prodigy\" type background it does feel as though he has been around for a long time. In that time he has released 5 albums under his own name (including \"Happening\".) And has also recorded and toured with artists such as Charles Lloyd, John Scofield, Roy Hargrove, Ambrose Akinmusire and Peter Bernstein among others. Certainly a well qualified CV for any modern jazz player.\n",
    "\n",
    "The band takes the form of a quintet with the personnel on this album being:\n",
    "- Gerald Clayton - piano\n",
    "- Logan Richardson - alto saxophone\n",
    "- Walter Smith III - tenor saxophone\n",
    "- Joe Sanders - bass\n",
    "- Marcus Gilmore - drums\n",
    "\n",
    "This is not a \"star studded\" line up full of veterans with loads of acolades - instead a band of relative youngsters trying to make an impact. This gives the album itself a lot of vibrancy and energy, it feels fresh without falling into the trap of being \"too modern\". This album has a unique sound but at the same time it feels as though it could have been released any time from the 1950s through to today. This is something that is not easy to achieve.\n",
    "\n",
    "> youtube: https://youtu.be/lzQM_SVM7dM\n",
    "\n",
    "The music itself is definitely in the \"post-bop\" universe with lots of twisting and turning rhythmic and harmonic devices used throughout. However in places it also borrows from the modal school and uses some \"fusion\" ideas (although there are no electric instruments on show here). When not flying at full speed there are also times when things are slowed down and you have time to catch your breath - here the influence of Bill Evans (another artist with a legendary Vanguard album) comes to the fore front. There are also nods towards latin and even hip-hop at times - like much modern jazz it is all about taking a wide variety of influences and trying to mash them together into something coherent.\n",
    "\n",
    "The album spans 75 minutes while featuring just 7 tunes - so the band has a chance to really explore each one. 4 of the tunes are Clayton originals and 3 are standards including Ellington's \"Take the Coltrane\", \"Body and Soul\" and Bud Powell's \"Celia\" - the latter 2 being presented in trio format (offering the sax players a well needed break!)\n",
    "\n",
    "My \"highlight\" picks from the album are \"Rejuvenation Agenda\" (embedded at the start of this post), one of the Clayton originals. The main theme features some inter-twined sax lines and some really grooving drum work from Marcus Gilmore. The majority of the tune is made up of an extended piano solo from Clayton however. Here he shows off some great virtuosity but always respecting the tune, many of the new breed of jazz musician often forget this and just throw their chops at it. Another highlight is Ellington's \"Take the Coltrane\" (embedded above) which closes the album. It starts off with some Monk-like solo piano work before breaking into the tune proper. On this tune everybody gets a chance to take an extended solo and really stretch their legs. Each player seems to egg on the next to reach even higher heights. It essentially becomes a clinic on modern jazz improvisation. Again Gilmore's drumming is on point (and includes an awe inspiring solo) - some of the sax work really takes things to the next level. I guess this is fitting for a tune with \"Coltrane\" in the title.\n",
    "\n",
    "If you were looking for a representation of the current state of live jazz you could do much worse than pick up a copy of \"Happening\". It is one that I have been enjoying throughout the week - I'll certainly keep more of an eye out for Gerald Clayton releases in the future."
   ]
  },
  {
   "cell_type": "code",
   "execution_count": null,
   "metadata": {},
   "outputs": [],
   "source": []
  }
 ],
 "metadata": {
  "kernelspec": {
   "display_name": "Python 3",
   "language": "python",
   "name": "python3"
  },
  "language_info": {
   "codemirror_mode": {
    "name": "ipython",
    "version": 3
   },
   "file_extension": ".py",
   "mimetype": "text/x-python",
   "name": "python",
   "nbconvert_exporter": "python",
   "pygments_lexer": "ipython3",
   "version": "3.7.4"
  }
 },
 "nbformat": 4,
 "nbformat_minor": 2
}

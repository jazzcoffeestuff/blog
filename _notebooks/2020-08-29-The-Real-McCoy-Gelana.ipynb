{
 "cells": [
  {
   "cell_type": "markdown",
   "metadata": {},
   "source": [
    "# \"The Real McCoy and PLOT Gelana Gesha\"\n",
    "> \"For our 20th blog post we look at an Ethiopian Gesha varietal from the folks at PLOT coffee roasting and head back to 1960s Blue Note records with McCoy Tyner's 'The Real McCoy'.\"\n",
    "- toc: false\n",
    "- author: Lewis Cole (2020)\n",
    "- branch: master\n",
    "- badges: false\n",
    "- comments: false\n",
    "- categories: [Jazz, Coffee, McCoy-Tyner, 1960s, Plot, Ethiopia, Natural-Process, Gesha]\n",
    "- hide: false\n",
    "- search_exclude: false\n",
    "- image: https://github.com/jazzcoffeestuff/blog/raw/master/images/020-The-Real-McCoy/The-Real-McCoy.jpg"
   ]
  },
  {
   "cell_type": "markdown",
   "metadata": {},
   "source": [
    "> youtube: https://youtu.be/73VczRfu9Kg\n",
    "\n",
    "Welcome to the 20th JazzCoffeeStuff post!\n",
    "\n",
    "This week we are back to PLOT coffee roasting again. If you have read the previous blog posts you'll notice that (at the moment) there is little variation in roasters appearing on this page: this is intentional given the global situation. I recommend everybody support the businesses they like as it is a tough time for coffee roasters. As such I'm doing less \"exploring\" and am spending more of my coffee money on the usual suspects.\n",
    "\n",
    "Onto more positive notes: this week the coffee we're looking at is kind of interesting. It is a coffee from Ethiopia and from the Israel Degfa empire. I (partly) joke about calling it an empire, Israel owns a company Kerchanshe Trading who own a number of washing stations and mills throughout Ethiopia. If you are looking at high quality coffee from this region it won't take you long to come across the Israel Degfa name. Over the past few years he has been working tirelessly to improve the quality of coffee being produced.\n",
    "\n",
    "In this instance the coffee we're looking at today is a natural process from the Gelana woreda in the (west) Guji zone of the Oromia Region. Guji is highly synonymous with high quality coffee and has featured on this blog in the past. Gelana is a small area that benefits from decent rainfall and fertile soil which is a good starting point for growing high quality coffee plants. Israel decided that this particular farm was a prime location to experiment and decided to plant a large number of Gesha plants.\n",
    "\n",
    "We have talked about varietals in the past, but I believe this is the first Gesha we have featured on the blog. Gesha first came onto the scene around 2004 through the prized Panama farm Hacienda La Esmeralda. On the cupping table it produced such vibrant floral notes that many thought somebody had \"smuggled\" some Ethiopian coffee onto the table and it couldn't possibly be produced in Panama. This sparked an obssession with the varietal and quickly Gesha lots became the hottest lots in auctions reaching crazy price levels. Through the end of the 2000s and 2010s barista competitions essentially became \"Gesha  shows\" - if you wanted to place you needed to have a special Gesha coffee to show off! But what is so special about Gesha itself? It originally hails from Ethiopia, first identified in the 1930s, samples got sent to Costa Rica in the 1950s and Panama planted samples as early as 1960s. The Gesha varietal is synonymous with \"floral\" notes particularly jasmine and bergamot and is almost always fruit focussed. They tend to be very perfumed with a big bouquet, as a result they regularly score in the 90s for SCA cup scores (remember 80 is the cutoff for specialty, getting into the 90s is incredibly rare <1% of coffee produced each year globally gets into this bracket - essentially the best of the best).\n",
    "\n",
    "What is particularly interesting about this coffee from PLOT is the price; for a Gesha it is simply outstanding value - it is the same price as their \"regular\" coffees. I'm not sure I've ever found a Gesha at this price point before so I was very eager to try it. Although I admit I was a little skeptical, like if you find a Ferarri in the autotrader for £1000. But given the last few coffees from PLOT I considered this a \"risk\" worth taking.\n",
    "\n",
    "As a dry aroma from the ground beans the fragrance is a little subdued, this is something I regularly notice about Gesha coffees - they tend to be quite \"polite\" and never punch you in the face. There is certainly a peach note and also, as expected, the jasmine floral note. Another thing I instantly notice: this coffee is a very light roast, this is certainly one you could consider the mythical \"nordic roast\" style. Onto the filter, as usual a chemex filter type, the resulting coffee is clean as they come, there isn't a hint of \"funk\" from the natural processing. I would describe the flavour profile as relatively subtle but certainly complex. The main overiding flavour note for me is peach, it is like biting into a ripe juicy peach. As the cup cools the florals come out to play and it takes on an elderflower cordial sort of vibe - the sweetness of this coffee taking on that sticky almost jammy quality. What I found most astounding however was the aftertaste: out of nowhere a ripe banana note comes out. It is only evident in the aftertaste and there is no hint of it before, it is really suprising but unmistakable for me. This is a note that PLOT did not list on the bag but for me it's one of the major characters of the coffee.\n",
    "\n",
    "Moving onto the espresso, a coffee roast this light can be a nightmare to dial in and you're left with a \"sweetspot\" living on a knife-edge with even the slightest change in puck-prep throwing the whole shot off. Fortunately this one was surprisingly easy to dial in on my setup, I didn't have any issues at all. In the end I settled for a 1:2.75 ratio out in 24s with my machine on maximum temperature. As with the filter the major flavour note for me was peach, the shot was super sweet with just enough acidity not to be cloying. Again it was a super clean flavour profile and there was little in the way of body or mouthfeel. Again the ripe banana note came out during the aftertaste but was slightly less pronounced in the espresso, the aftertaste of the filter lingered whereas the aftertaste of the espresso was fairly shortlived.\n",
    "\n",
    "Overall this was a very interesting and delicious coffee. On the face of it a very simple delicate flavour profile but there was enough complexity there to keep you entertained too. It is certainly worth trying if it is still available as you read this.\n",
    "\n",
    "\n",
    "For the jazz this week we are heading back to 1960s Blue Note with a hard-bop classic from McCoy Tyner: \"The Real McCoy\"\n",
    "\n",
    "![](https://github.com/jazzcoffeestuff/blog/raw/master/images/020-The-Real-McCoy/The-Real-McCoy.jpg)\n",
    "\n",
    "McCoy Tyner is probably best known for being the pianist in the John Coltrane band - where he featured on many seminal albums such as \"My Favourite Things\", \"Africa/Brass\" and \"Love Supreme\", all of which are worthy of a blog post to themselves. He also had many other dates as a sideman for the likes of Wayne Shorter, Lee Morgan, Hank Mobley, Freddie Hubbard and Joe Henderson along with many others. Today however we are focussed on his solo career which was equally prolific. \"The Real McCoy\" was released in 1967, some 2 years after he left the John Coltrane band. It was during this time he began to find his own voice as a leader. \n",
    "\n",
    "It is safe to say McCoy is certainly in the \"modal\" school of post-bop jazz - for those who do not know music theory: a mode is essentially a degree of a scale, for example taking the major scale (\"do, ri, me, ...\") there are seven associated \"modes\" of this scale depending on which note is the root (\"home\" note). Each mode has its own flavour/mood, in a modal composition we take a specific mode and build the entire tune around that, this gives pieces a specific \"mood\" or \"feeling\". This is in contrast to, say, be-bop where the focus is on chord changes and the melody follows the structure of the chord and so a composition may feature many different scales in passing. Modal jazz became very popular with post-bop artists and even many modern records still use a modal concept.\n",
    "\n",
    "Another factor of McCoy's playing is his powerful left hand playing, he often relies on big choppy chords to drive the pieces forward. This often brings an authoritative punch to the compositions and drives the music forward. There is a certain \"stride\" influence to this but it is certainly his own sound and it is unmistakable, you can often hear other players doing a \"McCoy impression\" but never quite getting it right. Of course another big part of his playing is his reliance on fourth intervals that appear throughout his work, many of his chord voicings are based around the idea of stacking fourths - he even has an album named \"Reaching Fourth\" so they clearly meant a lot to him.\n",
    "\n",
    "Let's look at the rest of the line up on this album now:\n",
    "- McCoy Tyner - piano\n",
    "- Joe Henderson - tenor saxophone\n",
    "- Ron Carter - bass\n",
    "- Elvin Jones - drums\n",
    "\n",
    "As with the majority of albums featured on this blog: this line up is stellar.\n",
    "\n",
    "If you have read any of the previous blog posts you'll know about Joe Henderson at this point, one of my favourite artists of all time. As you'd expect Joe's improvisation is top notch playing some really intricate and interesting lines, he doesn't get quite as \"free\" as he does on his own albums (understandably) but he matches perfectly the energy of Tyner throughout. Joe is one of those players who is equally talented as a sideman (by not taking the spotlight away from the named artist) and leading a band himself.\n",
    "\n",
    "Then on the bass there is Ron Carter, again a legend who has appeared on this blog on numerous posts (although not yet as a solo artist). The magic in Carter's playing for me is his ability to accompany other players, it is an often underappreciated skill. The best accompanists have a quality that I like to describe as \"holding up a mirror\" where they manage to allow the soloing musician to sound \"even more like themselves\" - Ron has this ability in abundance. This is certainly on display in this album where you have McCoy's compositions being fairly harmonically dense and frantic solos from McCoy and Joe - if Ron came to the session with ego and not willing to allow the others to speak it could quickly turn into a car crash. The other aspect of Carter's playing that is so impressive to me is his command of rhythm, he can really find the pocket when things get complicated. He is certianly deserving of his reputation as one of the finest bass players in jazz.\n",
    "\n",
    "Lastly we have drummer Elvin Jones. Without doubt one of my absolute favourite drummers of all time. Like McCoy, Elvin spent much of his early career playing as a sideman with some of the great artists: in the 1950s with Miles Davis and Sonny Rollins (appearing on the \"A Night at the Village Vanguard\" - an all time classic) and the 1960s appearing in the John Coltrane band alongside McCoy. Again the list of artists and albums he has worked with and on is basically a \"who's who\" of jazz. His playing style is very fluid, playing legato like phrases on the drums. This gives him a rubbery slippery sound that influenced jazz (and other genres) for decades afterwards and still to this day. He manages to maintain this quality while playing sophisticated polyrhymic ideas, which is not easy to do. With complex ideas like this it is very easy for the drumming to begin to sound \"robotic\" but Elvin keeps things swinging. However Elvin also had the ability to play thunderous and powerful lines when required, he was far from a \"one trick pony\". Without a doubt one of the best drummers of all time, not just in the jazz world.\n",
    "\n",
    "The album starts with \"Passion Dance\" (embedded at the start of this blog) which is the opening track and one of the album's highlights. It is a fairly dense piece with a complicated melody, however it is essentially a blueprint on band interaction and connection. Each player is solely concerned with lifting the music and not themselves. This is perhaps most evident with the rhythmic interplay between McCoy and Elvin. Joe takes a blistering solo too, tap-dancing through the chaos to play something beautiful. This focus on connection is evident throughout the album, while some of the other compositions may be less manic there is always a sense of cohesion and togetherness.\n",
    "\n",
    "Another tune that sticks out for me on this album is the closing track: \"Blues on The Corner\"\n",
    "\n",
    "> youtube: https://youtu.be/64lWx44RjdU\n",
    "\n",
    "As the name suggests this is a take on the blues, however as you'd expect it is a little more sophisticated than that. While Elvin showed off his power in \"Passion Dance\" here he shows just how hard he can swing on a blues. Ron is playing with complete attitude too which gives McCoy the freedom to explore harmonically while keeping things grounded. Joe also takes the opportunity to play with his characteristic wolf notes and \"outside\" playing, it is perhaps one of the best solos he's taken and with his repertoire that is really saying something.\n",
    "\n",
    "While the 2 tunes outlined here are fairly up-tempo and wild, this album also features 2 beautiful ballads. I find the modal paradigm really lends itself to ballads - it is very easy to create a \"mood\" and give the piece some character. On this album we have \"Contemplation\" and \"Search for Peace\" both of which are fantastic example of hard-bop ballads. Overall you cannot go wrong with any track on this album each one is a classic. This makes, in my opinion, \"The Real McCoy\" absolutely essential listening for anybody interested in jazz."
   ]
  },
  {
   "cell_type": "code",
   "execution_count": null,
   "metadata": {},
   "outputs": [],
   "source": []
  }
 ],
 "metadata": {
  "kernelspec": {
   "display_name": "Python 3",
   "language": "python",
   "name": "python3"
  },
  "language_info": {
   "codemirror_mode": {
    "name": "ipython",
    "version": 3
   },
   "file_extension": ".py",
   "mimetype": "text/x-python",
   "name": "python",
   "nbconvert_exporter": "python",
   "pygments_lexer": "ipython3",
   "version": "3.7.4"
  }
 },
 "nbformat": 4,
 "nbformat_minor": 2
}

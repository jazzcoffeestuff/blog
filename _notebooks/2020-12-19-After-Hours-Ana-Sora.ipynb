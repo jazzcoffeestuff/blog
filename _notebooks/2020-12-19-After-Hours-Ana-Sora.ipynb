{
 "cells": [
  {
   "cell_type": "markdown",
   "metadata": {},
   "source": [
    "# \"After Hours and Ana Sora\"\n",
    "> \"Another Israel Degfa coffee from Plot coffee roasting features in the blog this week. Alongside we go way back to the origins of Be-bop with Charlie Christian and Dizzy Gillespie and 'After Hours'\"\n",
    "- toc: false\n",
    "- author: Lewis Cole (2020)\n",
    "- branch: master\n",
    "- badges: false\n",
    "- comments: false\n",
    "- categories: [Jazz, Coffee, Charlie-Christian, Dizzy-Gillespie, 1940s, Plot, Ethiopia, Semi-Carbonic-Process, Heirloom]\n",
    "- hide: false\n",
    "- search_exclude: false\n",
    "- image: https://github.com/jazzcoffeestuff/blog/raw/master/images/035-After-Hours/After-Hours.jpg"
   ]
  },
  {
   "cell_type": "markdown",
   "metadata": {},
   "source": [
    "> youtube: https://youtu.be/4OJNpGawCRY\n",
    "\n",
    "The coffee on the blog this week once again comes from firm favourite Plot coffee roasters - and unsurprisngly we have another coffee from an Israel Degfa owned farm. If you have read my previous posts you will recognise Israel Degfa and so we won't get into his business/charity again. This time we are looking a farm called Ana Sora from the Guji zone within the Oromia region.\n",
    "\n",
    "This coffee picqued my interest because of the processing method: described as a \"Semi-Carbonic Natural\". It is not a method I can remember seeing very often in the past, and given my love of Ethiopian coffee (and trust in Plot) I felt it was worth a try. The details of the processing are as follows: the cherries are left to macerate in tanks for 36 hours. The cherries at the bottom get crushed and release CO2 which forces oxygen out of the tank. The reduced oxygen means that bacteria are unable to operate as well (as they would in a \"regular\" natural process). After this process the cherries are dried as usual on raised beds. A very interesting process that should impact the cup.\n",
    "\n",
    "Moving swiftly onto the coffee itself: the first thing I notice on the dry aroma is fruit, lots and lots of fruit! It is quite a sweet fruit smell as opposed to a tropical fruit. It almost has a candy quality to it, very inviting! \n",
    "\n",
    "As usual we follow up with a filter coffee brewed in the usual way. As expected from the dry aroma the overwhelming quality of the cup is \"fruit\". The label lists: lychee and apricot. Which I think is fair, it has that sticky sweetness I associate with the lychee and as a coffee from Guji it naturally has that apricot vibe. I also notice some more acidic fruit notes however, a citrus that I'd suggest most closely resembles a lemon sharpness. But the first thing I wrote down when taking my first sip was: Strawberry. For me it's what this coffee is about, imagine some strawberries macerated in sugar before being added to a very crisp lemonade - that is the best description I can come up with for the cup. There is more to it than this however and it is certainly a complex cup - there are floral notes aplenty as the drink cools. It's a very drinkable cup but can also keep you entertained when searching for flavour descriptors.\n",
    "\n",
    "As an espresso this coffee really shines for me. The roast level for this coffee is fairly light so unsurpisingly \"hot, fast, long\" is my advice. I put my machine to near top temperature and pulled 1:2.75 in 22s when I dialed it in - however it is fairly forgiving. I found going shorter made the shot a bit too intense, with all the complexity of this coffee it is a bit overwhelming. Again for me the first thing I thought of when tasting was strawberry. It has a sticky mouthfeel too so it sort of gives an impression of strawberry jam (without the pits). Again the apricot and lemon notes are there too but they take more of a backseat, the florals all but disappear when put up against the bigger stronger flavours. This is one that I couldn't get enough of as an espresso, I'd be knocking back the shot in milliseconds then instantly wanted to go back and make another. A very good quality for a coffee to have!\n",
    "\n",
    "\n",
    "For the jazz this week we are heading way back to the 1940s and Minton's Playhouse in Harlem with the Charlie Christian album \"After Hours\" featuring Dizzy Gillespie.\n",
    "\n",
    "![](https://github.com/jazzcoffeestuff/blog/raw/master/images/035-After-Hours/After-Hours.jpg)\n",
    "\n",
    "This album represents a very significant time and place in Jazz history. Following the swing era many of the modern jazz musicians were looking at where the artform should go \"post-swing\". The forward looking musicians of the day would play their regular swing based gigs during the evening and then hang out \"after hours\" without an audience to experiment and push things forward. Minton's Playhouse in Harlem was one of the key destinations for this, the owners not only allowed the musicians to play whatever they liked they also offered them food for doing so - an irresistable combination for jazz musicians at the time. Of course through this experimentation came the language of be-bop - the \"After Hours\" album acts as an insight into how the change from swing to bop came about. Much of the album swings but you can see the beginnings of the be-bop harmony coming into play. For any jazz fan interested in the history of the music this is a very interesting recording.\n",
    "\n",
    "I have to give a quick warning however, since this was recorded in a jazz club (not a studio) around 80 years ago the sound quality is not the best you'll find. If you enjoy pristine recordings this is unlikely to be the record for you! I also note that this album appears under a number of names, I believe \"After Hours\" is the most famous of these - however I also mistakenly bought a copy of \"Dizzy Gillespie - Stardust\" on vinyl which ended up being the exact same recording!\n",
    "\n",
    "The album is essentially split into a \"Charlie Christian\" section (5 tracks) and a \"Dizzy Gillespie\" section (4 tracks). Each section also features Kenny Clarke on drums and Thelonious Monk on piano with a few others appearing in either of the sections.\n",
    "\n",
    "> youtube: https://youtu.be/oQN-cuR_ZEI\n",
    "\n",
    "Dizzy Gillespie needs no introduction, being one of the most famous jazz musicians of all time and has the nickname of \"the ambassador of jazz\". While Charlie Parker gets a lot of the credit for popularizing be-bop Dizzy is one of the ones who \"worked out\" how to get the music to work on a theoretical level - in the early days some even referred to him as \"the professor\". The Dizzy tracks on \"After Hours\" give just a hint of what is to come, you can see his mind working and the early ideas he had on be-bop. This makes the album essential listening and completely fascinating.\n",
    "\n",
    "The Charlie Christian section, however, likely gets talked about the most. This is due to a lack of recordings on Charlie given his short career and tragic death at the age of just 25 - one can only imagine where he could have taken the music given a chance. He is best known for appearing in the Benny Goodman band - which to be honest while a lot of fun does not give musicians a chance to really stretch their legs and show off some chops. \"After Hours\" is perhaps the best example we have of what Charlie was \"really about\".\n",
    "\n",
    "It's worth remembering that Charlie Christian is really the \"first guitar hero\" in a lot of ways. He was somewhat fortunate that his rise to prominence coincided with the advent of the electric guitar - prior to this guitars were acoustic and as such it was not really possible to cut through a band with single note lines. Charlie was really the first to show the guitar could also be a lead instrument (at least the first in a commercially successful setting). You would normally expect the first electric guitar sounds to be terrible by today's standards - but for my money Charlie has the best electric guitar tone in all of jazz. Unlike those that followed him he used a relatively bright and clear tone and given the rather low-powered amp of the day (the Gibson EH150) he was typically at the edge of break-up. As technology \"improved\" jazz players opted for cleaner and cleaner tones and rolled off more and more top end from their sounds. In addition to the amp a key part of the sound is the guitar pickup he used, now referred to as the \"Charlie Christian\" pickup. These too are quite different from modern pickups, the originals feature large soft and relatively weak magnets compared to the harder more powerful alnico and ceramic ones of today. They also feature wire that is significantly thicker than the wire used in say a PAF or fender pickup (modern pickups tend to use around 42 gauge wire while the Charlie Christian styles use 38) - the thicker wire allows less top-end to be rolled off and so you can make a hotter pickup that retains clarity (which in turn pushed the weaker amps of the day harder). Of course a thicker wire takes up more space which is likely why they became less popular. I am a big fan of the Charlie Christian style pickups however and it is core to my guitar sound, I like to use http://www.ccpickups.co.uk/ here in the UK - no affiliation, just a fan.\n",
    "\n",
    "> youtube: https://youtu.be/1VxeZPnrZ_\n",
    "\n",
    "I remember when I first picked up a copy of \"After Hours\" clearly. I bought a copy on vinyl from a record shop in Reading. It is a rather haphazard shop that sells old comic books, action figures as well as old records and so on. The guy that runs the place is a big jazz fan and there are hundreds if not thousands of records in the shop. These are not in any sort of order so it takes ages to flick through to find anything, but in doing so you uncover gems (such as this one). When I went to pay the owner told me how this was \"one of his favourite albums\" and how he \"hates the Benny Goodman recordings- but Charlie is great on this\". I enjoy shops like this where you get interesting interactions with the owners, something that is sadly disappearing with the increase in online shopping. Perhaps the most mystifying thing with this shop however is the pricing \"structure\" - the label prices on the records are insane but when you go to pay he does some bizarre mental arithmetic and you end up paying less than half the label price. It is super confusing and you never know quite what you'll end up paying - which adds to the excitement I guess."
   ]
  }
 ],
 "metadata": {
  "kernelspec": {
   "display_name": "Python 3",
   "language": "python",
   "name": "python3"
  },
  "language_info": {
   "codemirror_mode": {
    "name": "ipython",
    "version": 3
   },
   "file_extension": ".py",
   "mimetype": "text/x-python",
   "name": "python",
   "nbconvert_exporter": "python",
   "pygments_lexer": "ipython3",
   "version": "3.7.4"
  }
 },
 "nbformat": 4,
 "nbformat_minor": 2
}

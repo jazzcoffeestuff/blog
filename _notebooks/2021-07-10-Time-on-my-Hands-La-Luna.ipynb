{
 "cells": [
  {
   "cell_type": "markdown",
   "metadata": {},
   "source": [
    "# \"Time on my Hands and La Luna\"\n",
    "> \"This week we feature Brooklyn's finest: Sey Coffee roasters with a Colombian Pacamara called La Luna. Alongside we go back to a 1990 Blue Note recording: 'Time on my Hands' by John Scofield with an all-star supporting cast.\"\n",
    "- toc: false\n",
    "- author: Lewis Cole (2021)\n",
    "- branch: master\n",
    "- badges: false\n",
    "- comments: false\n",
    "- categories: [Jazz, Coffee, John-Scofield, 1990s, Sey, Pacamara, Pulped-Natural, Colombia]\n",
    "- hide: false\n",
    "- search_exclude: false\n",
    "- image: https://github.com/jazzcoffeestuff/blog/raw/master/images/063-Time-on-my-Hands/Time-on-my-Hands.jpg"
   ]
  },
  {
   "cell_type": "markdown",
   "metadata": {},
   "source": [
    "> youtube: https://youtu.be/znoHziyUDHY\n",
    "\n",
    "For a bit of a change of pace on the blog this week we have a brand new roaster (to this blog): Sey Coffee ( https://www.seycoffee.com/ ) from Brooklyn, NY. This is a roaster I have never sampled from before, importing coffee from the US is always problematic for those of us this side of the Atlantic. The shipping is often highly unpredictable and expensive, that fancy lot you were desperate to try could turn up months late (or not at all). Fortunately, Prufrock Coffee in London ( https://prufrockcoffee.com/ ) have started a webstore and so we have access to some interesting roasters from all over the world with very little inconvenience.\n",
    "\n",
    "Sey have been on my \"to try\" list for quite a while and so I was happy to see their coffees become available. I already had to many bags of coffee so unfortunately I could only warrant a single bag to try. This of course raised the difficult question: which to try? Of the four or so on offer I opted for the Colombian \"La Luna\", the selection criteria was fairly simple: it all came down to cultivar. This coffee is a 100% Pacamara lot. Pacamara is a cultivar that has very low yields and is extremely susceptible to pests/disease but has exceptional cup quality. It is one of my favourite cultivars but you do not see it very often. The coffee itself has undergone a pulped natural processing.\n",
    "\n",
    "Diving straight in to the coffee itself. On the dry aroma: I'm getting honey and floral notes mostly but there is a feint fruity note in the background. It is not a particualrly \"loud\" coffee on the nose but it is certainly very appealling. Upon opening the bag for the first time I actually said: \"oh wow\" out loud.\n",
    "\n",
    "As a filter coffee things start to get interesting. The coffee has a sugar-y sort of sweetness to it, an almost candyfloss type of vibe. However there is a floral lavendar type of note (although I may be specifying lavendar because the packaging is purple). As the cup cools the florals become more present and they are particularly noticable in the finish. The fruit notes on the nose are also present, I would describe them as a raspberry sharpness. The bag mentions tropical notes, and while I can notice them I'm not sure I would have gone for that as a descriptor without being prompted. The cup itself is very clean and the sharp acidity helps with this. The body and mouthfeel are pretty low, for me this is not problem but for those enjoying the chewier bigger coffees this might be a little thin for your tastes.\n",
    "\n",
    "Onto the espresso now: this one was remarkably easy to work with, it just requires a fine grind. If you want to make something approaching a ristretto out of this coffee you'll need a truly top end grinder - I could just about get a 1:2 out of it with my grinder on the edge of chirp. Given the relatively low body of this coffee however there isn't any harm in going a bit longer and my preference was a 1:2.75 ratio - this allowed some of the floral notes in the aftertaste to still be present. Going shorter and the cup became a bit more 1 dimensional (although still delicious). The flavour profile in the espresso is similar to the filter but more concentrated: the candyfloss sweetness is perhaps more like a caramel or honey and the raspberry note is a bit more prominent at the expense of the lavendar.\n",
    "\n",
    "Overall a kick-ass coffee from Sey, I'm glad I got to finally try some of their coffee and I'll be on the lookout for them again.\n",
    "\n",
    "For the jazz this week I found myself digging out an old Scofield record from 1990: \"Time on my Hands\".\n",
    "\n",
    "![](https://github.com/jazzcoffeestuff/blog/raw/master/images/063-Time-on-my-Hands/Time-on-my-Hands.jpg)\n",
    "\n",
    "\"Time on my Hands\" is a one of the first vinyl records I ever bought. I remember purchasing it quite clearly, at the time I was fairly new to jazz and still exploring. I already owned two of Sco's albums (\"A Go Go\" and \"Uberjam\") which I had on CD which I really enjoyed but I hadn't heard anything else from him. \"Time on my Hands\" was a really pleasant surprise, it was totally different to the other Sco albums I had heard at that point and probably more \"traditional\", it kicked off a bit of a Sco obsession for me.\n",
    "\n",
    "\"Time on my Hands\" is interesting for a number of reasons: firstly it is John's first record on Blue Note which has some cachet in of itself. But it is also a \"super-group\" type recording with an all-star cast of musicians:\n",
    "\n",
    "- John Scofield - guitar\n",
    "- Joe Lovano - saxophone\n",
    "- Charlie Haden - bass\n",
    "- Jack DeJohnette - drums\n",
    "\n",
    "> youtube: https://youtu.be/R8rpOUXpKYY\n",
    "\n",
    "With a lineup like this there is very little to go wrong! \"Time on my Hands\" is also the first recording with Sco and Lovano appearing together (to my knowledge) - and so the start of a successful partnership that produced many great records during the 90s. I believe this is what lifts \"Time on my Hands\" above other Sco records of the same era, while Sco's playing is always top-notch, the addition of Lovano seems to push Sco compositionally. The tunes on the album are much more recognisable and interesting than any on the previous Gramavision records. The interplay between John and Joe is also a joy to listen to.\n",
    "\n",
    "Listening back to the album in 2021, things do sound a little dated however. The production itself has a very \"80s\" feel to it. In addition this was when all jazz guitarists for some inexplicable reason decided that they should leave their chorus pedals on 24/7 (to be fair it was not just jazz guitarists, but they are some of the worst offenders). The result is a very dated sound which may be difficult for some to deal with. The sound does fit the music however, the chorus adds an almost faux-leslie vibe to the guitar sound. \n",
    "\n",
    "I have listened to this album so many times over the years it is hard to pick out just a few tracks to talk about. One of the main strengths of the album is there is absolutely no filler, each tune is worthy of being there. This is in contrast to some of the prior Scofield records which have the odd fantastic tune but then some that don't quite live up.\n",
    "\n",
    "One of my favourite tunes off the album is \"Flower Power\" (embedded at the start of this post). For me it really sums up John's compositional voice at the time, the theme is relatively simple but the way he plays with the timing is what really brings the piece alive. His lead playing shows off his \"laid-back\" approach that he further developed in later recordings. This is one of the few tracks where Joe Lovano does not appear however.\n",
    "\n",
    "A track where John and Joe certainly work together, however, is \"Wabash III\" (embedded above). This is a reimagining of \"Wabash\" that appeared a couple of years earlier on his \"Loud Jazz\" album (if anybody knows what happened to \"Wabash II\" I'd be very interested to hear!) Whereas the previous version had a rock snarl, \"Wabash III\" is much more sophisticated and very indicative of the 90s jazz movement towards more \"traditional\" sounds. The John/Joe interplay on this track is certainly one of the highlights of the album and you can see why they continued to collaborate. I also love Joe's solo on this track and I have stolen a number of licks from it.\n",
    "\n",
    "My last pick is the closing track \"Fat Lip\" (embedded below). It's a tune with groove, swagger and rock attitude but also some sophistication. The sophistication of the compositions is a common theme throughout the album in general, the ideas are quite clever but they are done in a natural way and they are not thrown in your face in a \"look how clever I am\" way - I think this is why you can keep coming back to this album many years later. For the Scofield nerds out there: you can also hear the theme from \"I Don't Need No Doctor\" off his Ray Charles tribute album (and a riff John Mayer pinched for his own cover also).\n",
    "\n",
    "If you are a fan of John Scofield, or jazz guitar in general, and you haven't picked up a copy of \"Time on my Hands\" you really should. The tone and production may be a bit dated now, but it is worth sticking with it - you will be handsomely rewarded for it.\n",
    "\n",
    "> youtube: https://youtu.be/uBgenf00TsM"
   ]
  },
  {
   "cell_type": "code",
   "execution_count": null,
   "metadata": {},
   "outputs": [],
   "source": []
  }
 ],
 "metadata": {
  "kernelspec": {
   "display_name": "Python 3",
   "language": "python",
   "name": "python3"
  },
  "language_info": {
   "codemirror_mode": {
    "name": "ipython",
    "version": 3
   },
   "file_extension": ".py",
   "mimetype": "text/x-python",
   "name": "python",
   "nbconvert_exporter": "python",
   "pygments_lexer": "ipython3",
   "version": "3.8.8"
  }
 },
 "nbformat": 4,
 "nbformat_minor": 2
}

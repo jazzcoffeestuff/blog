{
 "cells": [
  {
   "cell_type": "markdown",
   "metadata": {},
   "source": [
    "# \"Weather Report and Fuglen\"\n",
    "> \"We are back with another KaffeBox blog post this week featuring coffees from Oslo's Fuglen Coffee Roasters. A pair of washed coffees from Kenya and Colombia are feature. Alongside we look at the confusingly titled 'Weather Report' from 1982 on the jazz side of things.\"\n",
    "- toc: false\n",
    "- author: Lewis Cole (2021)\n",
    "- branch: master\n",
    "- badges: false\n",
    "- comments: false\n",
    "- categories: [Jazz, Coffee, Weather-Report, 1980s, Fuglen, Caturra, Sl-34, Sl-28, Batian, Ruiru-11, Washed, Kenya, Colombia]\n",
    "- hide: false\n",
    "- search_exclude: false\n",
    "- image: https://github.com/jazzcoffeestuff/blog/raw/master/images/065-Weather-Report/Weather-Report.jpg"
   ]
  },
  {
   "cell_type": "markdown",
   "metadata": {},
   "source": [
    "> youtube: https://youtu.be/9tw9uYQ5k50\n",
    "\n",
    "This week we have another instalment of my KaffeBox subscription - this time featuring coffee from: Fuglen Coffee Roasters, located in Oslo, Norway. This is the first time I've even heard of these guys and girls, part of the joy of a subscription such as this, and so one I was looking forward to.\n",
    "\n",
    "The first thing I want to note is the aesthetic of the coffee bags: they are very much my style. Each bag features a rather funky artwork, an example is below (taken from their webstore: https://www.fuglencoffee.no/ )\n",
    "\n",
    "![](https://github.com/jazzcoffeestuff/blog/raw/master/images/065-Weather-Report/Fuglen.jpg)\n",
    "\n",
    "Each artwork features a depiction of a bird - and after some google translating I now know that \"fuglen\" is \"the bird\" in Norwegian. Apart from the artwork the bags are pretty sparse with just the basic information you need: origin, produers, region, varietals, processing and roast date. I appreciate this approach, simple and to the point. Also plus points for using coffee bags that are easily recyclable.\n",
    "\n",
    "As you may recall as part of my subscription I receive 2 small bags (125g) of coffee - to allow me to dial in effectively I dedicate one to filter and one to espresso. This week I received a Kenyan and a Colombian coffee and I typically do not favour Kenyan coffee as espresso so that one was dedicated to filter duty.\n",
    "\n",
    "Let's start on the filter side: the Kenyan coffee is from the Kiambu County and produced by the Ndumberi Farmer coop. The stated cultivars are: SL-34, Ruiru-11, Batian and SL-28 (Peaberry). For those unaware: a peaberry is a mutation where each coffee cherry contains only 1 seed (\"bean\") rather than 2 seperated by mucilage. Peaberries are very easy to identify visually as the beans will be \"rounded\" instead of having 1 flat side. It was/is believed that peaberry coffees taste better and so command a higher price, this is not something I've particularly noticed in the past so I tend not to search out peaberries specifically.\n",
    "\n",
    "Onto the coffee itself: the coffee is roasted a touch darker (visually) than one might expect from a \"nordic\" (but it is by no means \"dark\"). On the dry aroma you get the normal washed Kenyan profile: a very strong hit of blackcurrants. On aroma alone it is hard to get much more from it. Once it has been brewed again the predominant note is blackcurrant - as you would expect. Alongside are a supporting cast of rhubarb, orange, pink grapefruit and melon. Overall a very solid example of a washed Kenyan coffee. The acidity level is noticable but not overbearing, the sweetness is medium-low - just enough to take the edge off the acidity. If you like Kenyan coffees you'll like this one a lot.\n",
    "\n",
    "On the espresso side we have a Colombian coffee from Tarqui, Huila. The farm in question is called Finca El Prado and the producer is Ferney Cruz Trujillo. The coffee has been washed and the cultivar is Caturra. In terms of dialing in the settings from the previous espresso I was running were nearly perfect so there was little for me to tweak and so I can't comment on how hard this one is to dial in. I found a ratio of 1:2.25 to work well in around 25s all in. This gave just enough mouthfeel but allowed the flavour notes to be adequately separated. The main notes for me were stone fruits along with a grapefruit acidity. It was not the most complex shot of espresso I ever had but it was very drinkable and highly enjoyable. I would describe it as a medium for acidity, sweetness and body - it's just the sort of coffee you can really enjoy. If I had to pick between the two coffees I'd say this one is my favourite of the pair, it just hit the spot.\n",
    "\n",
    "On the jazz side this week I dug out a bit of an overlooked record from a band that is not at all overlooked: the 1982 self-titled \"Weather Report\".\n",
    "\n",
    "![](https://github.com/jazzcoffeestuff/blog/raw/master/images/065-Weather-Report/Weather-Report.jpg)\n",
    "\n",
    "In a move that confused record collectors and record shops alike, in 1982 Weather Report released their 10th studio album \"Weather Report\" - which shared a title with their 1971 debut album. I think this confusion led to this album being slightly overlooked in the Weather Report back catalogue, which is unfortunate as it is a great album. This is the second Weather Report album I ever owned - I remember purchasing the classic \"Heavy Weather\" on CD and loving it. Shortly after I found a vinyl copy of \"Weather Report\" (1982) in a second hand record store for very little money so I snapped it up without really knowing much about it.\n",
    "\n",
    "> youtube: https://youtu.be/gDCHFgeoiY4\n",
    "\n",
    "It is probably worth going into a little band history to put this album into context: the fusion super-group was formed/co-led by keyboard/pianist Joe Zawinul and saxophonist Wayne Shorter, who had previously worked together on Miles Davis' \"In a Silent Way\". The band has had many other musicians pass through the ranks but by far the most successful/popular line-ups feature the great Jaco Pastorius on the bass and Peter Erskine on the drums. \"Weather Report\" (1982) is the last album to feature this classic line-up.\n",
    "\n",
    "The music itself has a kind of \"end of an era\" feel to it also - the collaborative efforts on previous albums make way for some of Joe Zawinul's more ambitious arrangements. The album feels a bit like a cross-over between Weather Report and The Zawinul Syndicate (Joe's next project). Jaco in particular seems to take a back seat on \"Weather Report\" - his only writing credit is in the concluding extended jam and he doesn't really take the limelight with any memorable basslines on this one. Many of his basslines are doubled by Zawinul's synths - something which angered Jaco and led him to a more \"acoustic\" direction in his following solo career. The album is therefore one for the Zawinul fans (of which I am certainly one).\n",
    "\n",
    "The album kicks off in style with the grooving \"Volcano For Hire\" (embedded at the start of this blog post). This could have featured on just about any of the \"classic\" Weather Report recordings and not felt out of place. It highlights Erskine's unique drum grooves (supported by percussionist Robert Thomas Jr.), Zawinul's compositional voice and moments of magic from Jaco and Wayne. The tune has a nod to the \"world music\" style that Weather Report and Zawinul in particular were known for.\n",
    "\n",
    "The most ambitious tune on the album is likely the 3 movement \"NYC\" suite (above). The piece is probably the most \"swinging\" on the album with Zawinul experimenting with the tonal and harmonic possibilities of his synths. There are many twists and turns throughout the piece and it keeps you on your toes and continually surprises. It is probably the most \"Syndicate\"-ish tune on the album and an interesting piece of history to see where Zawinul was heading.\n",
    "\n",
    "The album concludes with the jam \"Dara Factor Two\" (below) - this is the only piece on the album that has writing credits from all band members (elsewhere on the album Shorter has one writing credit for \"When It Was Now\" with Zawinul picking up all other credits). The collaborative nature of this piece gives it a very different feeling to the rest of the album and it shows what great improvisers were in this band - it acts as a fitting send off for this incarnation of Weather Report.\n",
    "\n",
    "Due to it's lack of commercial success I wouldn't place this in the \"essential listening\" category (like say \"Heavy Weather\" or \"Black Market\") but for Weather Report fans (or fans of fusion in general) it is worth checking out if it is a record you have overlooked.\n",
    "\n",
    "> youtube: https://youtu.be/htwccmgWJRA"
   ]
  },
  {
   "cell_type": "code",
   "execution_count": null,
   "metadata": {},
   "outputs": [],
   "source": []
  }
 ],
 "metadata": {
  "kernelspec": {
   "display_name": "Python 3",
   "language": "python",
   "name": "python3"
  },
  "language_info": {
   "codemirror_mode": {
    "name": "ipython",
    "version": 3
   },
   "file_extension": ".py",
   "mimetype": "text/x-python",
   "name": "python",
   "nbconvert_exporter": "python",
   "pygments_lexer": "ipython3",
   "version": "3.8.8"
  }
 },
 "nbformat": 4,
 "nbformat_minor": 2
}

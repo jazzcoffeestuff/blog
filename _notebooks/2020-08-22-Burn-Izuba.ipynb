{
 "cells": [
  {
   "cell_type": "markdown",
   "metadata": {},
   "source": [
    "# \"Burn and Assembly Izuba\"\n",
    "> \"This week we have a washed Burundi from the folks at Assembly coffee roasters. Alongside we look at the 2013 release 'Burn' from the band Sons of Kemet.\"\n",
    "- toc: false\n",
    "- author: Lewis Cole (2020)\n",
    "- branch: master\n",
    "- badges: false\n",
    "- comments: false\n",
    "- categories: [Jazz, Coffee, Sons-of-Kemet, 2010s, Assembly, Burundi, Washed-Process, Bourbon]\n",
    "- hide: false\n",
    "- search_exclude: false\n",
    "- image: https://github.com/jazzcoffeestuff/blog/raw/master/images/019-Burn/Burn.jpg"
   ]
  },
  {
   "cell_type": "markdown",
   "metadata": {},
   "source": [
    "> youtube: https://youtu.be/nRsgMMZKh8o\n",
    "\n",
    "This week we have the last of my current batch of Assembly roasted coffee in the form of Izuba a washed Bourbon varietal from Burundi. To those familiar with previous blog posts may be having a sense of deja-vu at this point: Burndi as an origin has featured multiple times, many of the coffees featured are washed process and of course Assembly is a reliable blog favourite.\n",
    "\n",
    "As regular readers will know, Assembly decorate each coffee with a \"swirl\" which somewhat reflects the flavour profile of the coffee for this coffee we have:\n",
    "\n",
    "![](https://github.com/jazzcoffeestuff/blog/raw/master/images/019-Burn/Izuba.jpg)\n",
    "\n",
    "This coffee gets its name from the washing station where it was processed. The Izuba washing station is located in the city of Kayanza within the Kayanza province in the north of the country, not too far from the border with Rwanda. Typically specialty coffees are named after the \"smallest\" identifiable characteristic - in this case the coffee is named after the washing station since this coffee is made up of many small lots of local farms. In contrast other coffees could be named after a particular farm (e.g. in the Americas typically you'll see \"Finca ....\" - the Spanish for farm). In very high end coffees you might see a farm name followed by a lot number (or farm name followed by a varietal) which denotes a specific part of a specific farm. In cheaper coffees you might only see a region name (e.g. Ethiopia Sidamo) since there is no addtional provenance available. In (typically non specialty grade) you'll simply get a country name or sometimes not even that! But there is a slight caveat here: some roasters like to name their coffees, essentially as a form of branding, that have nothing to do with the farm/coffee itself. However you can usually find out the details by going onto the roasters website or provided literature with the coffee.\n",
    "\n",
    "A big part of the specialty coffee movement is transparanency so generally the more detailed the better! However this has essentially nothing to do with quality in the cup, you might find a coffee from a very precise lot of a farm and have all the information in the world but still not particularly enjoy the taste. As always these \"sign posts\" should help you get a feel for whether a roaster is offering quality specialty grade or whether they care about their product, but not much more than that. At the end of the day it's your taste preferences that matter, there are plenty of objectively high quality roasters who just don't do it for me (and as a result will not feature on this blog!)\n",
    "\n",
    "Enough blabbering on; onto the coffee itself. Upon grinding the dry aroma of this coffee gives off a fruity vibe as you often expect from washed African coffees. Likely owing to its location it certainly shares a similarity to a Rwandan coffee in terms of aroma. I would describe the fruit note as being quite heavy with a dark grape or plum. There is also a faint caramel/fudge note but it doesn't immediately jump out. Overall it is not an aroma monster but is very pleasant, refined and elegant. As usual diving into a filter coffee (prepared in my usual way). First thing I notice is red wine, I almost always get this note with Burundi coffees it seems. On the taste notes assembly say \"Pomegranate\" which I think is the same note, but for me it is more wine-y owing to the heavy nature of this coffee and I did not have the refreshing \"zing\" I associate with a pomegranate. It is like a full bodied oaky red, very satisfying. There are complexities there too however, there is certainly some faint florals that jump in and out as the cup cools. A little hard to put your finger on exactly what type of floral but it's certainly there. The sweetness comes through in the form of fudge, I think owing to the texture too. For a washed coffee it is a \"big\" feeling coffee, not necessarily in terms of mouthfeel but certainly in body - it tastes huge. On the acidity scale I would say this is a medium (at least for a washed African coffee) there's certainly some there but it's not a \"screw your face up - battery acid\" coffee.\n",
    "\n",
    "Moving onto the espresso: this coffee was an absolute delight to dial in. I found it unbelievably forgiving, it was basically impossible to pull anything less than great on my set up. I eventually settled on a very \"typical\" 1:2 ratio in around 27s - for a filter roasted washed African this is not typical. I found that pulling like this maintained the \"huge\" feeling and gave enough mouthfeel to be really enjoyable. Pulling longer was still good but I lost a bit of texture and the espresso was already sweet enough in the shorter pull so it didn't offer much improvement there. In the cup I found that the fudge/toffee notes jumped out a bit more but the red wine was still the main note for me. The subtle florals I picked out in the filter were totally overpowered in the espresso and I couldn't find them at all. I did notice more of a stone fruit vibe in the espresso: most likely a plum flavour. But again this was subtle. \n",
    "\n",
    "Overall I think I prefered this coffee as an espresso to a filter, both were great but I enjoyed the amped up mouthfeel of the espresso given the heavy flavour profile. This is a coffee that can work as both an \"every day\" drinker and a \"special treat\" when you want to savour the tastes and really dig into a flavour profile. As with pretty much every Assembly roast: another standout coffee. I'm sure it won't be too long before I order another batch from Assembly they're just so reliable and seem to pick coffees that just work for me.\n",
    "\n",
    "For this weeks jazz I'm picking an album from 2013. The band is the Mercury prize nominated, Mobo award winning - British jazz quartet: \"Sons of Kemet\" - with their debut album \"Burn\".\n",
    "\n",
    "![](https://github.com/jazzcoffeestuff/blog/raw/master/images/019-Burn/Burn.jpg)\n",
    "\n",
    "This album comes completely from left-field and is certainly unique. You could describe this as being part of the \"hipster jazz\" movement which I feel is a little unfair, while the sound may attract the hipster crowd it has more depth and creativity than others tarred with this brush. It should appeal to \"serious\" jazz fans too. Let's start with the personnel:\n",
    "\n",
    "- Shabaka Hutchings - Sax\n",
    "- Oren Marshall - Tuba\n",
    "- Tom Skinner - Drums\n",
    "- Seb Rochford - Drums\n",
    "\n",
    "(There is also a small electric guitar cameo on 2 of the tracks but the band itself is composed of these 4 members).\n",
    "\n",
    "This is a truly bizarre lineup for a band, there are no \"harmony\" instruments so of course the focus will be on melodic and rhythmic ideas opposed to harmonic ones. The tuba takes the role of \"bass\" which is kind of an interesting sound in itself as it is not something you see often, especially in small band. Then of course the dual drums, reading this you may think that the drumming duties are split with Tom appearing on some tracks and Seb on others - but you would be wrong: the Sons of Kemet sound depends on 2 drummers working together.\n",
    "\n",
    "The band leader is Shabaka Hutchings. He leads a number of other projects and has also frequently appeared as a sideman. Shabaka does not just follow the \"traditional\" jazz sound and takes great influence from electronic and hip-hop styles. His projects often feel just as home in a nightclub as they do a jazz club. \"Sons of Kemet\" is no exception. \"Burn\" has two main modes: the first I would describe as \"post-apocolyptic rave music\" and the second as \"spiritual contemplation\".\n",
    "\n",
    "The track \"Inner Babylon\" (embedded at the start of this blog post) is an example of the \"post-apocolyptic rave\" sound. To me it always brings images of a party in a burnt out city. I had the fortune of seeing this band play live numerous times after this album was released and there was certainly a party atmosphere - it was a unique experience for a jazz gig. I remember one in particular at the Barbican concert hall where they were supporting \"Mehliana\" (the Brad Mehldau - Mark Guiliana fusion collaboration project). \"Sons of Kemet\" totally blew the crowd away, to the point that \"Mehliana\" seemed totally tame and a bit boring, I remember the crowd even heckling Brad a few times during the show... Moral of the story: pick your support acts carefully and make sure they don't show you up!\n",
    "\n",
    "> youtube: https://youtu.be/7u8eo6hMoGw\n",
    "\n",
    "Another track I am particularly fond of on the album is \"The Godfather\". There is a Hasidic influenceon the melodies that I find intriguing juxtaposed against the trance rhythm section. I've always found the Hasidic musical traditions to be interesting and something I have to dig into further.\n",
    "\n",
    "We don't often talk about record engineering or production on this blog much, owing to a complete lack of knowledge on part of the author, but it is worth mentioning here. With a small band like this with a rather limited musical range it is easy for a record to sound \"small\". This is not the case here, the album has an absolutely huge sound! If you're not paying attention you easily forget there are only 4 musicians playing. This is not through the use of overdubs or multi-tracking, near enough the entire album is free of this and is recorded \"live\". Instead there is the rather ingenious use of tape echo and reverb to give the illusion of a larger soundscape. This is not done in a cynical way that sounds artifical however, you don't really notice it is there. Production duties for this album fell to Seb Rochford - one of the drummers in the band and he should be commended for the work he did here. Without this I don't think the album would have half the impact it does. (Unfortunately the youtube compression does this no favours, I'd recommend getting the album from alternate sources for the best experience, it is worth it!)\n",
    "\n",
    "Seb is one of my favourite \"modern\" jazz drummers, everything he touches seems to be made better by his presence. In the jazz world you may have heard him through his band \"Polar Bear\" (another Mercury prize nominee) or playing with \"Acoustic Ladyland\", \"Basquiat Strings\" or \"Andy Shepherd\". He typically takes a wide range of influences from rock, electronic and world music in his jazz playing which elevates the music. However he also does session work for rock/pop acts and appeared on some of the early \"Babyshambles\" records/gigs with Pete Doherty. I've met Seb a couple of times at gigs and he is also a really nice guy.\n",
    "\n",
    "On the tuba side we have Oren Marshall, before \"Sons of Kemet\" I knew of him but hadn't really listened to much of him. On this album he made such an impression I looked at more of his stuff, he has a very interesting sound. If you see him perfom live you may also see him play a custom made \"Orenophone\" a modified tuba of his own design:\n",
    "\n",
    "![](https://github.com/jazzcoffeestuff/blog/raw/master/images/019-Burn/Oren.jpg)\n",
    "\n",
    "Following the release of this album Seb and Oren subsequently left the band, personally I feel a lot of the magic went with them and to be honest I've not really enjoyed their subsequent releases. But this does not take away from \"Burn\".\n",
    "\n",
    "To finish I'll share one more tune off the album: a cover of Boney-M: \"Rivers of Babylon\". It is unlikely you've ever heard this track covered in this way. While Boney-M's version is rather cheesy and dated by todays standards; this version is full of spirituality and contemplation. I feel this forms a deeper connection with the intended meaning behind the song. It is a really fantastic track and a nice contrast to some of the more energetic cuts on the album.\n",
    "\n",
    "> youtube: https://youtu.be/MoTkcYXWAJM"
   ]
  },
  {
   "cell_type": "code",
   "execution_count": null,
   "metadata": {},
   "outputs": [],
   "source": []
  }
 ],
 "metadata": {
  "kernelspec": {
   "display_name": "Python 3",
   "language": "python",
   "name": "python3"
  },
  "language_info": {
   "codemirror_mode": {
    "name": "ipython",
    "version": 3
   },
   "file_extension": ".py",
   "mimetype": "text/x-python",
   "name": "python",
   "nbconvert_exporter": "python",
   "pygments_lexer": "ipython3",
   "version": "3.7.4"
  }
 },
 "nbformat": 4,
 "nbformat_minor": 2
}

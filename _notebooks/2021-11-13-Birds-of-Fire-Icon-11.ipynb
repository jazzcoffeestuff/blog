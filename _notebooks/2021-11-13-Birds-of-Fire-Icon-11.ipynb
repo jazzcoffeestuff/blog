{
 "cells": [
  {
   "cell_type": "markdown",
   "metadata": {},
   "source": [
    "# \"Birds of Fire and Icon 11\"\n",
    "> \"This week we continue with another coffee from Plot's 'Icon Series' this time we have a hybrid cultivar from Costa Rica that has undergone a carbonic maceration process leading to a funky fruity cup. Alongside we serve up the 1973 release from Mahavishnu Orchestra 'Birds of Fire'.\"\n",
    "- toc: false\n",
    "- author: Lewis Cole (2021)\n",
    "- branch: master\n",
    "- badges: false\n",
    "- comments: false\n",
    "- categories: [Jazz, Coffee, Mahavishnu-Orchestra, 1970s, Plot, Milenio, Carbonic-Maceration, Costa-Rica]\n",
    "- hide: false\n",
    "- search_exclude: false\n",
    "- image: https://github.com/jazzcoffeestuff/blog/raw/master/images/081-Birds-of-Fire/Birds-of-Fire.jpg"
   ]
  },
  {
   "cell_type": "markdown",
   "metadata": {},
   "source": [
    "> youtube: https://youtu.be/AulNvAR0u5c\n",
    "\n",
    "For our coffee this week we are back to Woolwich's finest: Plot Coffee Roasters and another one of their \"Icon Series\" coffees. As you may recall these represent some of the most rare and interesting coffees available.\n",
    "\n",
    "This time the coffee is called: Milenio Carbonic Maceration Enrique Navarro Caravajal - this is a bit of a mouthful so let's break down the name bit by bit. Firstly \"Milenio\" represents the coffee cultivar, you would be forgiven for not having heard of this cultivar before since it is fairly rare. This cultivar is also known as H10 and it is a hybrid (F1) cultivar that is a cross between TS296 and Rume Sudan. Hybrid cultivars are likely to become more and more prevalent as disease, pests and climate change continue to challenge coffee production. By hybridizing very distant ancestors we are able to produce cultivars that are high yielding, resistant to disease, resistant to pests, resistant to changing weather patterns yet still retaining the cup qualities we desire.\n",
    "\n",
    "The next part of the name \"carbonic maceration\" refers to the processing methodology. This is an idea which originated in wine making but we are seeing more and more in coffee processing. Coffee cherries are place in a sealed tank with a 1-way valve at the top. Carbon dioxide is forced into the tank from the bottom - since this is heavier than oxygen this pushes oxygen out of the 1 way valve and so a very controlled anaerobic environment is created. This allows fermentation to occur in a very predictable way.\n",
    "\n",
    "The last part of the name: \"Enrique Navarro Carvajal\" represents the producers name. He owns a farm Hacienda Santa Anita located in West Valley, Costa Rica. The farm is extremely focussed on sustainability and is certified carbon neutral. 85% of all electrical consumption for the farm comes from solar panels.\n",
    "\n",
    "Onto the coffee itself: on the dry aroma I get a strong \"funk\" note, almost to the point of being unpleasant. I'm not a big \"funky coffee\" guy and I tend to favour cleaner more refined cups so this was a bit of a shock. Alongside the funk I get notes of bruised blueberries and fudge.\n",
    "\n",
    "As a filter the funk is still noticable but is not the \"hit in the face\" I got when first opening the bag. The funkiness comes in the form of bruised blueberries to my palate, a slightly boozy sherry note too but this quickly gives way to a lot of sweetness which I consider to be a sort of fudge-caramel in nature. There is some acidity there but compared to most coffees on this blog I would describe it as fairly muted, the emphasis is more on the sweetness. The body is interesting, in the opening it feels fairly thin but it grows on you and the aftertaste has a decent body to it which helps it linger.\n",
    "\n",
    "As an espresso I found this one fairly easy to dial in, although I did need to set my grinder to be very fine - potentially some may struggle to grind fine enough here. I ultimately settled on a fairly standard: 1:2.5 ratio in 22s which has become my \"normal\" shot recipe with my new grinder. In the filter this coffee was a bit wild and funky, but as an espresso these flavours blend together a bit better and you're left with quite a powerful and direct shot with flavours of blueberry, sherry and caramel. In the filter this coffee was on the verge of too funky for me, but it makes for a fantastic (and very drinkable) espresso shot.\n",
    "\n",
    "It goes without saying but Plot have come up with another fun and interesting coffee for their Icon series - we have 1 more left in the year so will be eagerly awaiting what might be in store.\n",
    "\n",
    "For our iconic jazz this week we're heading deep into fusion territory with Mahavishnu Orchestra and their 1973 release \"Birds of Fire\"\n",
    "\n",
    "![](https://github.com/jazzcoffeestuff/blog/raw/master/images/081-Birds-of-Fire/Birds-of-Fire.jpg)\n",
    "\n",
    "Fusion still remains somewhat of a contentious issue with some jazz fans, many traditionalists refusing to even consider it \"jazz\". I don't get involved in the \"where jazz ends\" discussions as they tend to be counter-productive - the influence of fusion, however, is undeniable. Through the 1970s and 1980s many jazz artists started to ditch their acoustic instruments in favour of electric and began taking more influence from the classic rock sounds that were popular at the time. As with any movement there were plenty of bad fusion acts around, but one of the forefathers and most popular acts (to this day) were Mahavishnu Orchestra.\n",
    "\n",
    "Mahavishnu Orchestra was started by English guitarist John McLaughlin in 1971. Over the years the band underwent many changes in personnel, but the original line-up (who feature on \"Birds of Fire\") consists of:\n",
    "- John McLaughlin - Electric Guitar\n",
    "- Jerry Goodman - Electric Violin\n",
    "- Rick Laird - Bass Guitar\n",
    "- Jan Hammer - Keyboards/Synth\n",
    "- Billy Cobham - Drums\n",
    "\n",
    "At the time these musicians were relatively unknown (although at this point McLaughlin had worked with Miles) but through Mahavishnu Orchestra they had a major impact on both jazz and music more widely. Initially all compositions came from John McLaughlin who was becoming increasingly inspired by Indian spirituality (and later went on to record with Indian musician Shakti). This was combined with a hard hitting rock ethos and their live shows were known for being some of the loudest and most energetic performances around. One of the first tours for Mahavishnu Orchestra came supporting Frank Zappa's group, at the time Frank was playing fairly refined music to \"college educated\" audiences. Reportedly after experiencing Mahavishnu Orchestra live he decided to change direction, sacked his current band and hired a whole new band. He wanted to \"blow audiences away\" as Mahavishnu did.\n",
    "\n",
    "Some fusion now suffers from \"curse of the 1980s production\" whereby the use of highly processed electric instruments, recording and mixing styles now sound very dated. This is not the case with Mahavishnu Orchestra (at least the early records) - this is definitely a positive for today's listener.\n",
    "\n",
    "> youtube: https://youtu.be/HDkipPU81f0\n",
    "\n",
    "To better understand what Mahavishnu Orchestra are all about it's easiest to just dive into some tunes. The title-track album opener \"Birds of Fire\" (embedded at the start of this post) is one of the bands signature tunes and encapsulates the band's sound. It starts off with some almost meditative chords from McLaughlin in 9/8, combined with a simple yet grounding bass-line from Laird. The main theme then kicks in featuring some very loud, brash and outside playing with an almost punk-rock attitude. Some very high octane solos follow as Cobham increases the energy with his powerful yet sophisticated drumming.\n",
    "\n",
    "Another highlight is the tune \"Celestial Terrestrial Commuters\" (above) where the odd time signatures really get going - the tune being based around a groove in 19/16. Cobham manages to keep things swinging despite the complicated time signature and break-neck speed - it is perhaps the piece which really shows off Cobham's playing best on the album. Another highlight is the section where McLaughlin and Goodman trade bars in a classic \"call and response\" style - but as you would expect this isn't your typical be-bop piece.\n",
    "\n",
    "It is important to note that although Mahavishnu Orchestra is all about high octane and powerful playing they can also play down-tempo too. This is most apparent on the piece \"Thousand Island Park\" (below) where the band decide to ditch the distortion and synths. Anybody familiar with McLaughlin's back catalogue will know from records like \"Friday Night In San Francisco\" and the Shakti records that John is a monster acoustic player so it is nice to hear this here. It procides a great contrast to the rest of the album and is just an all round beautiful composition that is easy to forget about given the craziness of the rest of the record.\n",
    "\n",
    "As with all of my \"Icon Series\" posts: \"Birds of Fire\" is essential listening for any jazz fan. Even if you're not the biggest \"fusion\" person around there is plenty to enjoy on this album. If you're relatively new to jazz as a whole you might have the impression that jazz is \"relaxing background music\" - this album proves that it need not be.\n",
    "\n",
    "> youtube: https://youtu.be/cU6eykMxiZM"
   ]
  },
  {
   "cell_type": "code",
   "execution_count": null,
   "metadata": {},
   "outputs": [],
   "source": []
  }
 ],
 "metadata": {
  "kernelspec": {
   "display_name": "Python 3",
   "language": "python",
   "name": "python3"
  },
  "language_info": {
   "codemirror_mode": {
    "name": "ipython",
    "version": 3
   },
   "file_extension": ".py",
   "mimetype": "text/x-python",
   "name": "python",
   "nbconvert_exporter": "python",
   "pygments_lexer": "ipython3",
   "version": "3.8.8"
  }
 },
 "nbformat": 4,
 "nbformat_minor": 2
}

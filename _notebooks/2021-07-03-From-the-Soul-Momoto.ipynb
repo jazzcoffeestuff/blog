{
 "cells": [
  {
   "cell_type": "markdown",
   "metadata": {},
   "source": [
    "# \"From the Soul and Finca Momoto\"\n",
    "> \"This week we have a special Panamanian Gesha roasted by the folks at Crankhouse. Alongside we have the 1992 masterpiece from Joe Lovano on Blue Note Records: 'From the Soul'.\"\n",
    "- toc: false\n",
    "- author: Lewis Cole (2021)\n",
    "- branch: master\n",
    "- badges: false\n",
    "- comments: false\n",
    "- categories: [Jazz, Coffee, Joe-Lovano, 1990s, Crankhouse, Gesha, Natural, Panama]\n",
    "- hide: false\n",
    "- search_exclude: false\n",
    "- image: https://github.com/jazzcoffeestuff/blog/raw/master/images/062-From-the-Soul/From-the-Soul.jpg"
   ]
  },
  {
   "cell_type": "markdown",
   "metadata": {},
   "source": [
    "> youtube: https://youtu.be/EOlDoVeru5c\n",
    "\n",
    "This week on the blog we are looking at another coffee from the folks at Crankhouse Coffee Roastery in Devon. You know you are in safe hands when purchasing from Crankhouse, they have a stellar reputation and for good reason. This time we have a rather special coffee called: \"Finca Momoto 'Beautiful Lot'\".\n",
    "\n",
    "The coffee is from Panama and is a naturally processed Gesha cultivar. In of itself this is a reason to get excited, but in addition Finca Momoto is owned by Luis Miranda and Aliss Hartmann - the Hartmann name brings with a certain cachet in the coffee world. As you would expect this coffee is not exactly cheap, but all things considered I do not believe it is exorbitantly priced. In the recent past I bought 4 bags of coffee so terrible most of it had to be binned (to be clear not from Crankhouse, and the roasters in mention shall not be named) - so at the moment I do not mind paying a premium to get something I'm confident I'll enjoy.\n",
    "\n",
    "It is also worth noting Crankhouse have recently changed their packaging and this is the first coffee I received in these clothes:\n",
    "\n",
    "![](https://github.com/jazzcoffeestuff/blog/raw/master/images/062-From-the-Soul/CH.jpg)\n",
    "\n",
    "I think the design is a marked improvement from the previous design. I like the \"Um Bongo\" vibes the artwork has - and I should have really bought some Congolese coffee for the full effect! \n",
    "\n",
    "But onto the coffee itself: the first thing to note is that this roast is light, I'd go as far as to say very light. I have no problem with this but it's something to keep in mind. On the dry aroma I get a perfumed floral bouquet (as one would expect from a Gesha) it is fairly delicate and it doesn't blow you away with intensity. In addition there is a slight hint of tropical fruit notes but they're not immediately apparent.\n",
    "\n",
    "As a filter, prepared in my usual way, the first thing I noted down was: \"Oh Jeez... Beautiful lot indeed\". Which just about sums it up, this coffee has an extremely elegant beauty to it. If you're after absolutely huge flavour surprising flavour notes this is probably not for you. Instead if you want a really clean and elegant cup with high complexity this is one worth buying. The flavour notes are typically \"Gesha\" in nature: apricots, honeysuckle and jasmine are the main ones. There are some faint more tropical notes of mango and passionfruit along with wild strawberries that come out to play at certain cup temperatures. As with many complex coffees this one enjoys being slightly cooler than you'd typically go. The acidity level is fairly low and the sweetness probably around a medium. The natural processing also seems to add some body and mouthfeel to the cup which is certainly enjoyable.\n",
    "\n",
    "As an espresso you would expect this to be a pain to dial in given the roast level, and in a way it is and in a way it's not. It's \"easy\" to dial in, in the sense that it's hard to make a bad tasting shot owing to the lower acidity levels. However it is \"hard\" to dial in to perfection, I found even a 0.1g change in dose can have quite a marked effect. In the end I settled for a 1:2.55 ratio pulled in about 22s. Reasonably long but reasonably quick. Going longer added more complexity but this coffee has some mouthfeel so I didn't want to lose that entirely. Going shorter made it difficult to distinguish individual flavour notes. In terms of flavours I would describe it as a perfumed apricot syrup. A really beautiful shot of espresso, but some of the complexity gets lost at this concentration.\n",
    "\n",
    "As I expected this coffee was a knockoout and one I'll miss. \n",
    "\n",
    "On the jazz side this week I dug out a record from 1992: Joe Lovano's epic \"From the Soul\".\n",
    "\n",
    "![](https://github.com/jazzcoffeestuff/blog/raw/master/images/062-From-the-Soul/From-the-Soul.jpg)\n",
    "\n",
    "For me the early 90s represents a bit of a \"dead period\" for jazz. The synth-laden fusion sound of the 80s suddenly became seriously un-hip almost overnight (similar relationships with the synth exist in other musical genres too). The Jazz-Funk sound of MMW and the like had not taken off yet and so the period became a bit of a \"transition period\". There were, however, a small group of musicians trying to push jazz back to a more \"traditional\" soundscape, and I consider Lovano to be one those at the forefront of that movement. Unfortunately many critics did not enjoy this, and in my opinion were unnecesarily harsh, claiming they were doing \"nothing new\". \"From the Soul\" was one of the few albums that won over critics and fans alike during this period.\n",
    "\n",
    "> youtube: https://youtu.be/cbLfHSmkYO4\n",
    "\n",
    "Looking at the lineup on the album it's not hard to see why it was so highly regarded:\n",
    "- Joe Lovano — tenor, alto, & soprano saxophones\n",
    "- Michel Petrucciani — piano\n",
    "- Dave Holland — bass\n",
    "- Ed Blackwell — drums\n",
    "\n",
    "Joe is, of course, a master of the saxophone. Now regarded as one of the \"elder statesmen\" of jazz and for me personifies the \"jazz musician\" stereotype more than anybody else (and I mean that as a complement). His gravelly voice and \"hip\" vocabulary just become an extension of his music. He still tours quite widely to this day (current global situation excluded) and is one of the best live acts around, someone I always try and see if he is in town. While many sax players look for a very fluid legato style, Joe often favours a more \"herky-jerky\" staccato style which provides a lot of interesting rhythmic development in his solos. On \"From the Soul\" you hear glimpses of that style but there's not quite as much of it as on his more recent recordings. On the album you can hear inspiration from the prior masters of the instrument: Coltrane, Rollins and Coleman but there is a freshness and energy to his playing. It is easy to see why this was a landmark recording for Lovano.\n",
    "\n",
    "The inclusion of Michel Petrucciani is interesting, one of the greatest pianists of his generation without a doubt. On this record (his only recording with Joe I believe) he plays in a very different style to what you would expect. Here he plays sparse lines and gives the music space to breath, for the Pertucciani historians certianly an interesting record.\n",
    "\n",
    "On the bass you have Dave Holland, one of my all-time favourite bass players. Another who is still touring heavily and well worth seeing live. I have a few stories about Dave's gigs but I'll save those until we feature one of Dave's albums. Here he just provides some great aggressive and hard hitting basslines and some unbelievable solos. Really all the musicians are on top form on this record.\n",
    "\n",
    "As you'd expect from the name \"From the Soul\" this record features a number of ballads, but this is combined with more uptempo and energetic numbers. One such example is the track \"Evolution\" (embedded at the start of this post). This is perhaps the most \"Lovano\" of all the tracks and nobody would have batted an eyelid if this appeared on one of his latest releases. Blackwell's drumming provides the power to drive the track forward and Holland's basslines provide enough elasticity for Lovano to push and pull the meter at his leisure. For me one of the album highlights on an album which is all \"highlight\".\n",
    "\n",
    "One of the standards on the record is the ballad \"Portrait of Jennie\" (above) and with the slow tempo Joe shows why the album is called \"From the Soul\". His tone is exquisite and he plays with just the right level of energy to keep things interesting while paying respect to the tune. When I think of the album this is instantly the track I think of.\n",
    "\n",
    "If I had to pick a \"hit\" from the album I would likely pick \"Fort Worth\" (below). This is a track I have heard him play live multiple times and it always goes down well. It has the combination of having a good groove and an easily singable melody which is a surefire way to crafting a \"crowd favourite\". Of course the playing is fantastic too which doesn't hurt.\n",
    "\n",
    "Almost every week I describe an album as a \"must listen\" for those interested in jazz, but that is the nature of featuring only one record a week - I get to focus on the true gems. This album is certainly worthy of the \"must listen\" status - especially since both Joe and Dave are still touring heavily and so these are musicians you can still get a chance to see live (the best way to consume jazz).\n",
    "\n",
    "> youtube: https://youtu.be/NlRw0nPD3pk"
   ]
  },
  {
   "cell_type": "code",
   "execution_count": null,
   "metadata": {},
   "outputs": [],
   "source": []
  }
 ],
 "metadata": {
  "kernelspec": {
   "display_name": "Python 3",
   "language": "python",
   "name": "python3"
  },
  "language_info": {
   "codemirror_mode": {
    "name": "ipython",
    "version": 3
   },
   "file_extension": ".py",
   "mimetype": "text/x-python",
   "name": "python",
   "nbconvert_exporter": "python",
   "pygments_lexer": "ipython3",
   "version": "3.8.8"
  }
 },
 "nbformat": 4,
 "nbformat_minor": 2
}

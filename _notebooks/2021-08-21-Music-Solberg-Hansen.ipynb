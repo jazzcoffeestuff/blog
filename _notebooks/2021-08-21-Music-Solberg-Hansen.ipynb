{
 "cells": [
  {
   "cell_type": "markdown",
   "metadata": {},
   "source": [
    "# \"Music and Solberg and Hansen\"\n",
    "> \"This week we have another KaffeBox offering, this time from Norway's oldest roastery Solberg & Hansen. The coffee itself is  an Ethiopian from Chelbesa - offering a little twist on a washed Ethiopian. Paired with this we have the 1989 album from Michel Petrucciani 'Music' - offering up equal amounts heart and fun.\"\n",
    "- toc: false\n",
    "- author: Lewis Cole (2021)\n",
    "- branch: master\n",
    "- badges: false\n",
    "- comments: false\n",
    "- categories: [Jazz, Coffee, Michel-Petrucciani, 1980s, Solberg-and-Hansen, Wollicho, Kurume, Washed, Ethiopia]\n",
    "- hide: false\n",
    "- search_exclude: false\n",
    "- image: https://github.com/jazzcoffeestuff/blog/raw/master/images/069-Music/Music.jpg"
   ]
  },
  {
   "cell_type": "markdown",
   "metadata": {},
   "source": [
    "> youtube: https://youtu.be/E49KcZL6Rw4\n",
    "\n",
    "This week we take a look at the August edition of the KaffeBox subscription. This month the featured roaster is Solberg & Hansen located in Oslo, Norway. What makes Solberg & Hansen particularly interesting is they were established in 1879 - which in itself is quite remarkable. Most of the roasters featured on this blog were only established in the 2000s (with possibly one or two creeping into the 90s). This makes Solberg & Hansen the oldest coffee roaster in Norway and one of the oldest in the world.\n",
    "\n",
    "My only previous experience with Solberg & Hansen has been from another coffee subscription I have for decaf coffee, and that one was probably a top 5 decaf of all time for me. So I have high hopes for the coffee this week. Unlike in previous KaffeBox offerings we only have one coffee supplied in a 250g bag this time, which means we can really dig into it as both a filter and an espresso. Which makes a change from the previous KaffeBox \"split\" blog posts.\n",
    "\n",
    "The coffee itself is called Chelbesa, grown in Gedeo, Gedeb in Ethiopia. The coffee is processed at the Danche washing station. The coffee has undergone a 72 hour wet fermentation before beging washed and then soaked for a further 2 hours and dried over the course of 10 days. Unlike many Ethiopian coffees the cultivars have been identified as consisting of Wolicho and Kurume - this is a trend I am very in favour of and hope it becomes common practice.\n",
    "\n",
    "This Chelbesa is a coffee I have had a few times before from other roasters so I have a good idea of what to expect in the cup. Fortunately it is a coffee that I have enjoyed in the past so one I am looking forward to trying again.\n",
    "\n",
    "On the dry aroma I get the usual floral and stone fruit notes you associate with a washed Ethiopian coffee like this, however I also get lots of caramel and toffee notes too. I believe this is due to the coffee being a little more developed than you'd typically expect from a Nordic roaster. You can tell this is a more \"traditional\" roaster compared to some of the \"new kids on the block\" and there is nothing wrong with that.\n",
    "\n",
    "As a filter Chelbesa is very similar to how I remember it. I would describe the coffee as very \"soft\", I can't really think of a better word to use. While some Ethiopian coffees are vibrant, others are very perfumed, Chelbesa has a soft almost marshmallow quality to it. This is more a textural or sensory experience than it is a taste thing. In terms of flavours you have all the usual suspects coming to play: peaches, apricots, jasmine, floral, black tea - everything you want in a washed Ethiopian. It does not have much in the way of citrus like some however. It is a complex cup that really changes with temperature and it's one you can drink almost to the point of being \"cold\" and it doesn't become too harsh. It is relatively low in acidity (for an Ethiopian) and fairly sweet with a good amount of body. I wouldn't describe it as a \"typical washed Ethiopian\" but it is a nice twist on a theme.\n",
    "\n",
    "As an espresso there are a few things to note. The first of which is that owing to the \"soft\" and restrained quality of the coffee you can pull really concentrated shots without things getting harsh or muddled. The slightly more developed roast helps in this regard too as it makes it incredibly easy to extract. I stuck to the tradtional 1:2 with about 7s pre-infuse then a 27s pull with this one. It's not often I use a recipe like this. I did bump the temperature up a little bit which did seem to add a touch more vibrancy to the cup. The flavour profile is much like the filter: peaches, apricots, black tea and plenty of florals. If you imagine a sweet peach iced tea that you reduced down to a syrup you wouldn't be too far off. \n",
    "\n",
    "Overall I think I enjoyed this coffee more as an espresso than I did filter but both were enjoyable and had some interesting characteristics. Another good choice by KaffeBox and as always I'll look forward to the next month's offering.\n",
    "\n",
    "For the jazz this week I found myself reaching for a record released in 1989 - french pianist Michel Petrucciani's \"Music\". \n",
    "\n",
    "![](https://github.com/jazzcoffeestuff/blog/raw/master/images/069-Music/Music.jpg)\n",
    "\n",
    "Michel is quite an inspiring character, being born with osteogenesis imperfecta (\"brittle bone disease\") leading to him being short and often in a lot of pain - he still managed to become one of the greatest jazz pianists of his generation. Inspiring and influencing countless musicians during his relatively short career in the 80s and 90s.\n",
    "\n",
    "> youtube: https://youtu.be/dR7amlVCW6o\n",
    "\n",
    "Michel's style was particularly interesting for the period. During the 80s and early 90s fusion ruled the roost with many players ditching the acoustic instruments and playing rock inspired pieces. In contrast Michel was a bit of a throw back, he had a much more lyrical and contemplative and was often compared to Bill Evans. He was a more multi-faceted player than being just a straight Evans clone however, he also combined this with blazing virtuosity (and given the pain he experienced while playing this is no mean feat) along with wider influences from the sounds of Paris, Brazil and elsewhere. That's not to say he couldn't hang with the fusion boys too (for example on the fantastic \"Manhattan Project\" - which may appear in a future blog post at some point). \n",
    "\n",
    "Music marked the start of Michel's experimentation with synthesizers and richer and more expansive arrangements. Unlike other records from the era the use of synth is very tasteful and often features as an instrument that doubles a piano line or is deeper in the mix to just add depth. This avoids the album feeling and sounding \"dated\" by today's standards, which cannot be said for a lot of albums released in the late 80s (as much as I love some of them). \n",
    "\n",
    "The line-up on Music is fairly fluid, with musicians subbing in and out on the various tracks of the album. This does not stop it feeling like a single cohesive piece of work however, owing to the vision of Petrucciani. The line-up is not awash with \"big names\" (although this doesn't mean much, there are all-star line-up albums that are absolute rotters) but there are two familiar names that do appear: Lenny White on the drums - best known for his fusion work. And on the last track a tasty guest soprano sax solo from Joe Lovano (Petrucciani later appears on Lovano's seminal \"From the Soul\" album which we covered a few weeks back).\n",
    "\n",
    "It is hard to do an album like Music justice by just picking a few tunes to highlight. The album covers a lot of ground. At the start of this blog I embedded one of the most memorable pieces: \"My Bebop Tune\". This is a crazy piece with a complicated stop-start melody with lots of twists and turns. It almost comes across as Michel mocking the ardent be-bop community for their obsession with needless complexity. I have always felt the tune is a little tongue in cheek, but others may disagree with me there. Either way it is a very cool piece that really shows off Petrucciani's chops as both a composer and player.\n",
    "\n",
    "The highlight of the album is perhaps \"Lullaby\". This is an absolutely beautiful piece full of the most delectable lines and a heartfelt presentation. Jazz artists often (wrongly) get accused of focussing only on the technical aspects of the music are incapable of portraying real emotion, if presented with that challenge one only needs to present \"Lullaby\" to make the argument null and void. I think you'll struggle to find a piece in any genre with more heart.\n",
    "\n",
    "The final track \"Thinking of Wayne\" (below) features the Lovano guest solo part way through. This track is likely one of the more \"modern jazz\" sounding pieces on the album. Given some of the licks and compositional style I imagine this is a tribute to Wayne Shorter since this could have easily been a Shorter penned track on a Weather Report album. However I do not have anything to back this up as I no longer own a physical version of this album to check the liner notes. Regardless another very cool piece.\n",
    "\n",
    "This is only a very small selection of what Music has to offer. You also have the Brazillian inspired \"Brazilian Suite No. 2\" and the Parisian \"Memories Of Paris\" featuring another guest Gil Goldstein on accordian.\n",
    "\n",
    "In terms of \"rating\" I wouldn't quite place Music in the \"essential listening\" tier. It is a fantastic album that I always enjoy listening to but it is probably not quite an all-time classic. If you are already a fan of jazz and looking to expand your listening it is a good place to go to study Petrucciani's style. I think the music itself is quite approachable so it is worth listening to if this post has piqued your interest.\n",
    "\n",
    "> youtube: https://youtu.be/4hPFo32ugi0"
   ]
  },
  {
   "cell_type": "code",
   "execution_count": null,
   "metadata": {},
   "outputs": [],
   "source": []
  }
 ],
 "metadata": {
  "kernelspec": {
   "display_name": "Python 3",
   "language": "python",
   "name": "python3"
  },
  "language_info": {
   "codemirror_mode": {
    "name": "ipython",
    "version": 3
   },
   "file_extension": ".py",
   "mimetype": "text/x-python",
   "name": "python",
   "nbconvert_exporter": "python",
   "pygments_lexer": "ipython3",
   "version": "3.8.8"
  }
 },
 "nbformat": 4,
 "nbformat_minor": 2
}

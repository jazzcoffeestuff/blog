{
 "cells": [
  {
   "cell_type": "markdown",
   "metadata": {},
   "source": [
    "# \"Angel Song and Round Hill Samii Nensebo Refisa\"\n",
    "> \"In this blog post we look at a rather good washed Ethiopian coffee from Round Hill Roasters. We also look at the 1997 ECM album: 'Angel Song' by Kenny Wheeler.\"\n",
    "- toc: false\n",
    "- author: Lewis Cole (2020)\n",
    "- branch: master\n",
    "- badges: false\n",
    "- comments: false\n",
    "- categories: [Jazz, Coffee, Kenny-Wheeler, 1990s, Round-Hill, Ethiopia, Washed-Process, Wolisho, Krume]\n",
    "- hide: false\n",
    "- search_exclude: false\n",
    "- image: https://github.com/jazzcoffeestuff/blog/raw/master/images/015-Angel-Song/Angel-Song.jpg"
   ]
  },
  {
   "cell_type": "markdown",
   "metadata": {},
   "source": [
    "> youtube: https://youtu.be/vHejwS-Cgcs\n",
    "\n",
    "This week we are heading back to another favourite roaster of this blog: Round Hill Coffee Roasters located in Bath, England. Round Hill have long been one of my dependable roasters - it's rare I have coffees anything less than \"good\" from them. I was particuarly excited for this weeks coffee since it is a washed Ethiopian which is my favourite origin/processing combination.\n",
    "\n",
    "The coffee is called: \"Samii Nensebo Refisa #3\" and, as always, I opted for the filter roast despite using the coffee for espresso also. Refisa is the name of the washing station where the coffee has been processed. Samii is a classifier you see on many washed Ethiopian coffees, it is essentially a flavour description that denotes the coffee in question has a strong \"floral\" element to its flavour profile. Nensebo is a region located in the south-west corner of Ethiopia. This coffee scored a cupping score of 88 which is very high for a \"normal\" non-competition grade/gesha/the like (but recall from before that we shouldn't rely too heavily on cupping scores when choosing coffees). The varietals are listed as Wolisho and Krume - it is so nice to finally be able to list varietals on an Ethiopian coffee and not simply rely on the tired old \"heirloom varietal\" to describe them. Unfortunately however there is currently very little information out there (as of yet) about the qualities of the individual varietals and I have not yet had a large enough sample to really draw any conclusions about them.\n",
    "\n",
    "Moving onto getting this coffee into my cup! The dry aroma of the beans for me is quite spicy, a warming ginger-y sort of spice. But the more typical Ethiopian florals, tea and stone fruits are there too. A good dry aroma does not always lead to a good cup but in my experience a bad dry aroma never leads to a good cup - so at least we're starting on the right track. As usual starting with my usual filter with Chemex papers: first impression is this coffee is as clean as they come. No hint of any \"roasty\" notes (that never happens with Round Hill in my experience) and there are no \"dirty\" tastes at all (sometimes a bit of dirt can be nice however). A real test of a coffee, in my opinion, is how well it holds together as it cools and this one takes you on a journey. It starts off being a bit \"fizzy\" and bright - the note on the bag is \"lemon sherbert\" which I don't fundamentally disagree with. For me it is more like a really crisp lemonade however. As the cup cools the florals come out to play and the cup gets super complex and interesting, I would say the most apt descriptor for this stage would be \"candied lavendar\" at least that is what I think of when drinking it. As it cools down a little more it turns into juicy round peaches and sweet iced tea to finish. I'm not sure if it takes on another transformation as it gets even cooler it has never stuck around long enough for me to tell. As a filter it is everything you want in a washed Ethiopian.\n",
    "\n",
    "Before talking about the espresso I'm going to take a bit of a detour and talk about a very unglamorous part of espresso machine ownership: the cleaning. One of the biggest mistakes I see new home-baristas making (second only to using bad water) is not keeping the machine clean enough. It is basically impossible to \"clean too much\" and the more you keep the internals clean the more you will be rewarded in the cup and ultimately the longer the life of your machine. I am fortunate enough to own a Londinium R spring loaded lever machine which makes the cleaning ritual that much easier, back-flushing is not a thing in a lever machine (in fact you'll cause major damage if you try). Basically \"all\" I have to do is remove the screen and basket to soak in some coffee cleaner (I like Cafetto brand), raise the piston and use some of the coffee cleaner on a paper towel to scrub clean the chamber. Give everything a good scrub with a soft brush (I use an old toothbrush) and rinse everything very well and that's all that's really needed. I have to say it is my favourite part of owning this machine. I make sure I do this after every 4-6 shots pulled and between each shot I use an Espazolla group head cleaner to wash off any loose coffee grounds that may be stuck to the screen.\n",
    "\n",
    "![](https://github.com/jazzcoffeestuff/blog/raw/master/images/015-Angel-Song/espazzola.jpg \"Espazzola group head tool\")\n",
    "\n",
    "If all this sounds like too much work (and there is much more to do on a \"normal\" machine) then you probably don't want to get into the home espresso game. There is nothing worse than a dirty machine and you will notice it (or you will after you clean and realise how disgusting the taste was before!) As an aside it's a good way to judge a cafe, if you're sitting in for more than 15mins or so and you haven't seen them clean the machine it's probably time to find a new cafe! In most of the best cafes you'll probably see a timer stuck next to each group counting down, this is a reminder for the baristas that it's time to clean the machine again. I know some cafes use different ways of doing this but the timer is the most common in my experience.\n",
    "\n",
    "With a nice clean machine lets move onto putting Samii Nensebo Refisa through its paces as an espresso. I found this coffee to live a bit on a knife edge, to get a really great espresso required great care in dialing in and subsequently minor adjustments every day to keep it in tip top form. If you don't nail it you still end up with a tasty drink but it's just a bit flat flavour wise but when you nail it you're handsomely rewarded. As a filter roast, and a reasonably light one at that, my usual dial in \"rules\" applied. Keep everything hot and pull fast was the name of the day. I ended up with a 2.9:1 ratio in 21s as my preferred recipe for my setup/water. As you would expect with such a long pull there isn't a whole lot of body in the cup but I don't mind that. By giving up the body we get treated to a really complex espresso, if you enjoy picking out flavours you can have a field day. That spicy note from the dry aroma sits in the background, which is interesting since I didn't pick it up at all in the filter. It's quite hard for florals to come through in an espresso, a lot of the time they get overpowered by other more dominant flavours. Not in this case though, the florals are noticable. The major flavour note for me is that peach-tea quality, it keeps things very sweet and easy to drink since it balances the acidity nicely. It is one worth battling with for the \"god shots\" you can get out of it. I should say they also offer this as an espresso roast which I'm sure is much easier to dial in for those that don't want to battle.\n",
    "\n",
    "For our jazz this week we are looking at a 1997 album from Kenny Wheeler on the ECM record label called: \"Angel Song\".\n",
    "\n",
    "![](https://github.com/jazzcoffeestuff/blog/raw/master/images/015-Angel-Song/Angel-Song.jpg)\n",
    "\n",
    "Let's start by looking at the line up:\n",
    "\n",
    "- Kenny Wheeler - Trumpet, Flugelhorn\n",
    "- Lee Konitz - Alto Saxophone\n",
    "- Dave Holland - Double-Bass\n",
    "- Bill Frisell - Electric Guitar\n",
    "\n",
    "By whatever standard you care to use this is an \"all-star\" lineup. Each of these artists is worth writing a whole blog about by themselves. It is also interesting to note that this album does not feature any drums/percussion of any kind. It is all about the interaction between the musicians and allowing them to play off each other. It is a subtle album and to really find the beauty in it may take a few listens. Overall I consider it one of the gems on the ECM label.\n",
    "\n",
    "Starting with the title artist Wheeler. He is perhaps best known as a composer/arranger and for me that is where his talents lied. Nobody could (nor can) compose like Wheeler, he is instantly recognisable. His compositions maintain an ambient, mystical quality with a kind of haunting beauty. When paired with the right musicians it can be spectacular, as on \"Angel Song\". He also frequently played the flugelhorn which is my favourite instrument from a tonal/timbral perspective and works particularly well with his compositional voice.\n",
    "\n",
    "Lee Konitz can only be described as a jazz legend, he had a fruitful career spanning over 70 years before he died earlier this year. He was a key contributor to \"Birth of the Cool\" by Miles Davis and was a big figure in the whole \"cool\" movement. His style is very relaxed and lyrical, focussed very heavily on simple and pure melody. I was fortunate enough to see him perform a couple of years ago and he was still putting on a great show. There was a particular highlight where the band was playing \"Just Friends\" and after his solo Lee was clearly a little miffed so grabbed the guitarist (Jakob Bro) to one side and shouted at him: \"Why are you playing all that complicated stuff? Just play the damn tune!\" Which perfectly sums up the Konitz approach.\n",
    "\n",
    "Holland essentially takes the place of the \"rhythm section\" in this band, typically playing quite simple driving bass-lines to keep things moving. For my money he is one of the best touring musicians out there to this day and I always try and get tickets if I can. His persona comes across as understated and effortless cool which comes across in the music, very confident without the need to shout about it. I was once at Ronnie Scott's waiting to be seated when Dave walked past into the club - the lady on the desk panicked having no idea who he was and ran to stop him and said: \"Sorry, it's a private club you're not allowed in here\" to which he replied: \"But I am the act!\" to much laughter in the queue.\n",
    "\n",
    "As a guitarist, Bill Frisell is probably my biggest single influence. I find his comping style fascinating, he manages to do so much with so little. It's as if by holding back he holds up a mirror and the soloing musician ends up sounding even more like themselves. On this album this is really noticable since it is all about this interplay. Bill will never blow you away with chops or come at a tune with any ego, a lot of times you don't always notice what he is doing but if you removed his part a lot of the magic of a tune would be lost.\n",
    "\n",
    "For reasons I don't understand this album has a pitfully low AllMusic review (2/5) - I'm not sure if one of the musicians did something to the reviewer personally but it is baffling. This acts as a reminder not to focus on AllMusic ratings too much, as useful as it is as a resource.\n",
    "\n",
    "Ordinarily in these blogs I like to embed a few tunes to talk about, unfortunately I am not able to do this here since ECM are particularly good at removing their music from youtube. But with an album like this it kind of doesn't matter, since it is such a moody, ethereal experience the album really needs to be enjoyed in 1 go. Embedded at the start of this post are the 2 opening tracks \"Nicolette\" and \"Present Past\" which should give you a good feeling of what is to come on the rest of the album (although the sound quality on youtube is particularly bad and not representive of the album itself). If you are after atmospheric, haunting beauty you could do much worse than give this one a listen. I find it a highly thought provoking and really warrants some attention to get the most out of it. Yet equally it doesn't fight for your attention so in that sense it could be used as a background soundtrack to the rest of your day. If I had to pick a single track as a favourite it would likely be the 4th: \"Unti\" which I find to be the perfect example of haunting, imperfect beauty."
   ]
  }
 ],
 "metadata": {
  "kernelspec": {
   "display_name": "Python 3",
   "language": "python",
   "name": "python3"
  },
  "language_info": {
   "codemirror_mode": {
    "name": "ipython",
    "version": 3
   },
   "file_extension": ".py",
   "mimetype": "text/x-python",
   "name": "python",
   "nbconvert_exporter": "python",
   "pygments_lexer": "ipython3",
   "version": "3.7.4"
  }
 },
 "nbformat": 4,
 "nbformat_minor": 2
}

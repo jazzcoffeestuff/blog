{
 "cells": [
  {
   "cell_type": "markdown",
   "metadata": {},
   "source": [
    "# \"The Sound of Summer Running and Koppi\"\n",
    "> \"Another installment of the KaffeBox subscription this week with a superb pair of coffees from Sweden's Koppi. Alongside we have jazz from Marc Johnson's dual-guitar banger: 'The Sound of Summer Running'\"\n",
    "- toc: false\n",
    "- author: Lewis Cole (2021)\n",
    "- branch: master\n",
    "- badges: false\n",
    "- comments: false\n",
    "- categories: [Jazz, Coffee, Marc-Johnson, 1990s, Koppi, Caturra, Catuai, Washed, Colombia, Costa-Rica]\n",
    "- hide: false\n",
    "- search_exclude: false\n",
    "- image: https://github.com/jazzcoffeestuff/blog/raw/master/images/058-Sound-of-Summer/Sound-of-Summer.jpg"
   ]
  },
  {
   "cell_type": "markdown",
   "metadata": {},
   "source": [
    "> youtube: https://youtu.be/l8iNkhmoALs\n",
    "\n",
    "This blog post marks the next installment of my KaffeBox subscription. This time it features another of my favourite roasters: Koppi - located in Helsingborg, Sweden. They are perhaps one of the best known of the Scandinavian roasters and are highly acclaimed (and for good reason). I beleive they are also the originators of \"coffee tonic\" - a shot of espresso poured into a chilled tonic water with ice. With summer *potentially* around the corner it is a great choice for a drink on a hot day.\n",
    "\n",
    "As you may remember my KaffeBox subscription consists of 2 bags each of 125g of coffee. I split these one on espresso duty and one on filter duty, so that I get enough to dial in the espresso properly. This week I selected based on origin, I went for the origin I typically find easiest to dial in for the espresso and the other for the filter.\n",
    "\n",
    "Starting with the filter we have a Colombian coffee \"Finca El Prado\". The cultivar is Caturra and the coffee has been wet fermented followed by a full wash and raised bed drying. Diving right into the coffee itself: on the dry aroma there is an unmistakable strawberry note to this coffee, but this plays supporting cast to a sugar-syrup or light caramel note. As you would expect the roast level is fairly light here. In the cup the strawberry meets many other red berries: redcurrants, raspberries, cherry, you name it. It's a very fruity cup. There is a sharpness there too, the bag lists passionfruit but I would describe it more as a tart raspberry quality personally. The cup has a medium body and is quite juicy in its quality. It is definitely more on the complex end of things and the various red fruits come to the forefront as it cools. As I would expect from Koppi: a really well executed and tasty cup.\n",
    "\n",
    "On the espresso side we have a Costa Rican \"La Lia\" - a Catuai cultivar that has been fully washed. I am a big fan of Costa Rican coffee in espresso, I find it to typically be extremely forgiving and it's very difficult to mess up too much. This is true of this coffee also, the grind setting needed major adjustment from my previous espresso so my first shot had a 60s pull time - it was still delicious, albeit very intense. After dialing in I settled for a normale shot: 1:2 in 28s. This seemed to be the best compromise between mouthfeel and clarity for me. In terms of flavour note the predominant note is nuts, in particular hazelnuts and almonds. Alongside there is a crisp apple type acidity that cuts through and a stone fruit note. Overall it is not the most complex espresso in the world but it is very easy to drink, it's a coffee for when you just want a coffee. Again the execution is top level and it is truly a top class espresso.\n",
    "\n",
    "Alongside Koppi this week, since London has had its first glimpses of summer, I have been listening to the 1997 release from Marc Johnson: \"The Sound of Summer Running\"\n",
    "\n",
    "![](https://github.com/jazzcoffeestuff/blog/raw/master/images/058-Sound-of-Summer/Sound-of-Summer.jpg)\n",
    "\n",
    "Marc Johnson is a name that might not be instantly recognisable to many, he is not a household name and hasn't really had many \"hit\" records under his own name. However his back catalogue speaks for itself, having featured on albums from: Bill Evans, John Scofield, Lyle Mays, John Abercrombie and Stan Getz (plus many more). Having such an illustrious side-man career has clearly influenced his playing where you can hear the aforementioned (along with others) heavily in his playing.\n",
    "\n",
    "> youtube: https://youtu.be/skdwbRI2eXk\n",
    "\n",
    "\"The Sound of Summer Running\" (named after a Ray Bradbury story) is perhaps one of Johnson's best known recordings as a band-leader. Most likely due to the truly stellar cast of musicians on show:\n",
    "- Marc Johnson – double bass\n",
    "- Bill Frisell – electric and acoustic guitars\n",
    "- Pat Metheny – electric and acoustic guitars, 42-string Pikasso guitar\n",
    "- Joey Baron – drums, tambourine\n",
    "\n",
    "The \"dual guitar\" set-up is likely to be influenced by prior work with John Abercrombie who often makes use of such line-ups. It is not often you get to hear 2 of the jazz guitar titans playing together. It is also rare to hear Pat Metheny play a supporting role, aside from a few obvious exceptions in his early career, he is typically in the \"limelight\". On \"The Sound of Summer Running\" we see a different side to Metheny's playing that we don't often see. Then of course you have Bill Frisell, for my money one of the best guitar compers in the business. Hearing his interplay with Metheny is a joy on this album.\n",
    "\n",
    "Overall the album is quite a restrained affair, it is not so much about huge chops or crazy harmonizations but more about creating a \"mood\". While the Metheny and Frisell influences are on show it is really all about Johnson's voice as a composer: 7 out of 10 tunes being penned by him (with Frisell taking 2 of the remaining credits and Metheny 1). The \"Summer\" feel is quite clear throughout and it's an album that is very hard to dislike, it's a bit of a mystery why it is not more popular than it is.\n",
    "\n",
    "Some choice tracks include the opener \"Faith in You\" (embedded at the start of this post) which features a Metheny-ish main melody. The contrast in Metheny's and Frisell's solos is particularly interesting, Metheny being more at home but Frisell doing Frisell things. \"Union Pacific\" is another highlight (above) and perhaps the most \"straight-ahead\" with a strong swing and swagger. The main melody being played by Metheny and Frisell in unison is one of most memorable moments on the album for me and not something you get to hear very often.\n",
    "\n",
    "> youtube: https://youtu.be/T8BESnWlzoo\n",
    "\n",
    "My last pick is the Frisell tune \"Ghost Town\" - one of his signature tunes. Getting to hear Metheny solo on this piece is a joy, the structure and changes are very far away from a typical Metheny tune so it is very interesting to see how he approaches it. Of course Frisell is right at home and works his magic on the tune. This version is as good as any of the versions on Frisell's own albums in my view.\n",
    "\n",
    "While \"The Sound of Summer Running\" might not be considered \"essential\" listening by traditional standards, it is well worth hunting down a copy if you're after a no nonsense album that can fit into your day."
   ]
  },
  {
   "cell_type": "code",
   "execution_count": null,
   "metadata": {},
   "outputs": [],
   "source": []
  }
 ],
 "metadata": {
  "kernelspec": {
   "display_name": "Python 3",
   "language": "python",
   "name": "python3"
  },
  "language_info": {
   "codemirror_mode": {
    "name": "ipython",
    "version": 3
   },
   "file_extension": ".py",
   "mimetype": "text/x-python",
   "name": "python",
   "nbconvert_exporter": "python",
   "pygments_lexer": "ipython3",
   "version": "3.7.4"
  }
 },
 "nbformat": 4,
 "nbformat_minor": 2
}

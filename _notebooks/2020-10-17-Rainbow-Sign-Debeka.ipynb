{
 "cells": [
  {
   "cell_type": "markdown",
   "metadata": {},
   "source": [
    "# \"Rainbow Sign and Debeka\"\n",
    "> \"This week we stick with Curve and their natural Ethiopian Debeka which has an unusual Mundo Novo varietal. We also talk espresso puck prep. On the jazz side we look at Ron Miles album 'Rainbow Sign'\"\n",
    "- toc: false\n",
    "- author: Lewis Cole (2020)\n",
    "- branch: master\n",
    "- badges: false\n",
    "- comments: false\n",
    "- categories: [Jazz, Coffee, Ron-Miles, 2020s, Curve, Ethiopia, Natural-Process, Mundo-Novo]\n",
    "- hide: false\n",
    "- search_exclude: false\n",
    "- image: https://github.com/jazzcoffeestuff/blog/raw/master/images/026-Rainbow-Sign/Rainbow-Sign.jpg"
   ]
  },
  {
   "cell_type": "markdown",
   "metadata": {},
   "source": [
    "> youtube: https://youtu.be/iRRwSAoRX28\n",
    "\n",
    "\n",
    "On the blog this week we are staying in sunny Margate and sticking with the Curve Coffee Roasters. Yet again we're featuring another Ethiopian coffee, this time a natural process from the Debeka farm - another owned by Israel Degfa (this blog is becoming a bit predictable at this rate). Again we're in the Oromia region but this time the Borena zone (I believe a blog first). \n",
    "\n",
    "What makes this coffee particularly interesting however is the varietal: Mundo Novo. This is not a varietal one would usually associate with Ethiopia. Typically Mundo Novo is found in South American regions - most notably Brazil. It has also been introduced to Central America but you don't see it often there either, reportedly due to the farmers not liking how tall the plants become. In this case Israel received some plants from a friend on a trip to Brazil and decided to plant then at Debeka. Mundo Novo comes from the typica-bourbon lineage and is a natural mutation of a bourbon, as such it inherits a lot of bourbon characteristics: good cup quality but not particularly resistant to pests nor disease.\n",
    "\n",
    "Moving swiftly on to what matters: the coffee itself. The dry aroma consists of two main components for me: a syrupy rich sweet note like a honey and a soft delicate floral note - I would describe it as a white floral instead of a lavender/violet type floral. Overall it is fairly delicate and is not one that will blow you away on the nose.\n",
    "\n",
    "As usual we start with the filter. Here the \"soft\" and \"delicate\" descriptors certainly come to play. Although this is a natural process it is a very clean cup and you couldn't describe this one as a \"fruit bomb\" like some naturals. There are fruit notes however, the typcial apricot/peach notes you expect with Ethiopian coffees but also a hint of a tropical fruit from the processing. The taste notes on the bag call this pineapple, which I feel is fair. The whitefloral notes certainly come out to play in the aftertaste, it reminds me of the jasmine flowers that come out to bloom in early summer. This is a coffee I find very interesting and have enjoyed coming back to, it is so soft that it doesn't command your attention if you have other things to do but there's enough intrigue to keep you entertained. Another great filter cup from Curve.\n",
    "\n",
    "We'll move onto the espresso here, but before we talk taste notes I'm going to take a brief de-tour into the topic of \"puck-prep\". This something that seems to boggle the mind of a novice barista and internet message boards/youtube comments are filled with questions about it. You'll often find people coming up with increasingly complicated preparations to get a \"better\" shot. In my experience a lot of it amounts to chasing ghosts and simplicity is the best approach, you want to have something you can repeat day in day out without thinking about it. Your approach should match the equipment you have and the type of coffee you drink. For me WDT (Weiss distribution trick) is worth doing but the other prep types (e.g. the OCD spinner style) are a waste of time. To do WDT you essentially \"stir\" your grounds within the portafilter, this aims to break up any lumps and ensure that the grounds are well \"mixed\". Depending on your grinder you might find that the grind quality changes as you grind coffee (due to different weights of beans being above the burrs, popcorning etc.) You want the puck to be as homogeneous as possible so you give it a little stir. That's it, very simple... Yet many get this part wrong: first part to consider is the stirrer itself. You can pick these up from various places such as etsy if you search \"WDT tool\" - but not all tools are created equally.\n",
    "\n",
    "![](https://github.com/jazzcoffeestuff/blog/raw/master/images/026-Rainbow-Sign/WDT.jpg)\n",
    "\n",
    "In a WDT tool you want to find one with \"thin\" lugs, if they are made from thick pieces of metal you risk compressing the grinds more and leaving a \"hole\" when you remove the tool itself. The next thing to consider is the positioning of the lugs themselves, typically you'll see the lugs being parallel to each other pointing straight down. This gives the tool a very \"thin\" profile (like the picture above), this is not ideal for mixing the grounds. Instead it's best if you point the lugs outwards to give a \"wider\" profile, this will allow for much more efficient mixing. You can do this by gently bending the legs at the body of the tool. Ideally you want the lugs to touch the edges of your basket. With your good \"wide\" WDT tool it's time to start mixing, to do this you want to gently make a circular motion so that you bring grinds from the basket walls towards the centre and vice versa. You do not have to spend long doing this; I like to do 10 rotations in a clockwise direction then 10 in an anti-clockwise direction. After this remove the tool, tamp and go. It's that simple, it should only take a matter of seconds after you get the technique down. I see lots of people say WDT doesn't make a difference, but also lots of videos of people doing it badly - I do wonder if the two are linked!\n",
    "\n",
    "Looking at the coffee itself. Again this is the \"filter\" roasted version of this coffee as is my preference. The roast is fairly light and for filter I use a hand grinder so I can tell these beans are particularly hard. This usually means that a coffee can be a pain to dial in, but actually this one was a pleasure. It is very forgiving and with my setup almost impossible to get it too \"wrong\". Unsuprisingly I find it works best with a high temperature and a long pull (1:2.75) which I get through in about 25s. In the cup the same \"soft\" descriptors come through, it seems to pickup a \"melon\" type quality in the espresso which I did not notice in the filter. The mouthfeel is big and somewhat creamy in texture. Both acidity and sweetness are medium. In the aftertaste those familiar white florals come through, this seems to be this coffees \"signature\".\n",
    "\n",
    "Overall I'm very happy with this coffee and another solid showing from Curve. This is the last of my current batch from Curve but given the two I've had here I'm sure they will appear back on the blog at some point.\n",
    "\n",
    "\n",
    "\n",
    "For this weeks jazz we're looking at another 2020 recent release. This time we're going to Blue Note records and taking on the new Ron Miles album: \"Rainbow Sign\".\n",
    "\n",
    "![](https://github.com/jazzcoffeestuff/blog/raw/master/images/026-Rainbow-Sign/Rainbow-Sign.jpg)\n",
    "\n",
    "For those who have not come across Ron before he is a trumpet player and composer from Denver, Colorado. He first started making records in the late 1980s/early 1990s. He is perhaps best known for his collaborations with guitarist Bill Frisell with whom he has released many albums under both his own name and Bill's. The line up on \"Rainbow Sign\" is the same quintet as on the 2017 \"I Am A Man\" release, namely:\n",
    "\n",
    "- Ron Miles: Trumpet and Cornet\n",
    "- Jason Moran: Piano\n",
    "- Bill Frisell: Electric Guitar\n",
    "- Thomas Morgan: Bass\n",
    "- Brian Blade: Drums\n",
    "\n",
    "In terms of modern jazz this is pretty much an \"all star\" line-up. Each player being regarded as a premier artist in their own right.\n",
    "\n",
    "> youtube: https://youtu.be/p4-cnRUsIlQ\n",
    "\n",
    "Ron wrote started writing this album in 2018 while looking after his father at the end of his life. Rather than being a maudlin and sombre affair \"Rainbow Sign\" instead offers up a loving dedication. The album seems to reflect a spiritual awakening for the trumpeter as he comes to terms with his loss. It seems to offer up hope of eternal peace.\n",
    "\n",
    "As with many albums in the Miles and Frisell back catalogue it is hard to classify the music. The music seems to start off in one place and then gently transform into something completely different without the listener noticing. Really it is about letting the music take you to a different place rather than diving in to explore the technicalities in this author's opinion. Ron and Bill are completely on the same page and create new sonic landscapes for us to explore. I often describe the ultimate goal for any artist as creating their own universe and allowing their fans to explore this. I feel this is what separates the merely \"very good\" musicians to true artists. The Miles/Frisell partnership is capable of this.\n",
    "\n",
    "On the surface \"Rainbow Sign\" seems like an easy-going, simple record - one that can simply blend into your day without demanding much attention. However the more you concentrate the more the album gives, dancing between jazz, folk, blues, world-music and more.\n",
    "\n",
    "The title track (embedded at the top of this post) is one of the more \"jazz\" focussed pieces. It is characterised by Ron's beautifully clear and articulate tone giving the melody some weight. Brian Blade is given the chance to swing on this track, perhaps more so than any other track. Elsewhere Blade offers up subtle textures to his playing which is perhaps what he is known best for. Bill and Jason take on the comping duties, each relying on sparsity to give the piece space. It feels like more than a little nod towards Thelonious.\n",
    "\n",
    "This is followed by \"The Rumor\" which feels very much like a tune that could have featured in any number of Frisell recordings. The main melody is driven via Bill's guitar. It has the feel of an old Americana tune (albeit revisited through the lens of modern jazz). The second half of the tune features some of Miles most subtle playing, there's no hint of ego here - letting Bill take a bit of the limelight. This lifts the piece into a well rounded composition.\n",
    "\n",
    "The album ends with the piece \"A Kind Word\" which almost has a \"rock\" vibe. Knowing that this album is dedicated to his late father this piece feels a bit like a eulogy.\n",
    "\n",
    "> youtube: https://youtu.be/lJxzoS11z8c\n",
    "\n",
    "This is another great album released in 2020. It is well worth hunting down a copy!"
   ]
  },
  {
   "cell_type": "code",
   "execution_count": null,
   "metadata": {},
   "outputs": [],
   "source": []
  }
 ],
 "metadata": {
  "kernelspec": {
   "display_name": "Python 3",
   "language": "python",
   "name": "python3"
  },
  "language_info": {
   "codemirror_mode": {
    "name": "ipython",
    "version": 3
   },
   "file_extension": ".py",
   "mimetype": "text/x-python",
   "name": "python",
   "nbconvert_exporter": "python",
   "pygments_lexer": "ipython3",
   "version": "3.7.4"
  }
 },
 "nbformat": 4,
 "nbformat_minor": 2
}

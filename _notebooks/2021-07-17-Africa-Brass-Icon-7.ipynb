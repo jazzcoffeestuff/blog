{
 "cells": [
  {
   "cell_type": "markdown",
   "metadata": {},
   "source": [
    "# \"Africa Brass and Icon 7\"\n",
    "> \"Another Plot Icon series coffee - this time a Daterra Masterpiece lot from Brazil. An interesting Aramosa cultivar and a very unique cup all round. On the jazz side another icon and a first appearance on the blog for John Coltrane with his 1961 album 'Africa/Brass'.\"\n",
    "- toc: false\n",
    "- author: Lewis Cole (2021)\n",
    "- branch: master\n",
    "- badges: false\n",
    "- comments: false\n",
    "- categories: [Jazz, Coffee, John-Coltrane, 1960s, Plot, Aramosa, Anaerobic, Brazil]\n",
    "- hide: false\n",
    "- search_exclude: false\n",
    "- image: https://github.com/jazzcoffeestuff/blog/raw/master/images/064-Africa-Brass/Africa-Brass.jpg"
   ]
  },
  {
   "cell_type": "markdown",
   "metadata": {},
   "source": [
    "> youtube: https://youtu.be/LoK8PeQFvcg\n",
    "\n",
    "This week we have another coffee in the Icon series from the folks at Plot Coffee Roasting. This time we have an origin I rarely go for: Brazil. The stereotypes for Brazilian coffees are \"chocolatey\", \"heavy\", \"nutty\" and so on. These are not flavour notes I tend to favour. As you'd expect from an \"unobtainium\" coffee in the Icon series, this is not a typical coffee from Brazil.\n",
    "\n",
    "The coffee is from Daterra Coffee, located in Cerrado - the first \"A\" grade rainforest certified farm. Within Daterra coffee there is the \"Masterpiece Farm\" from which this particular lot was grown. Masterpiece is a dedicated research facility looking into the latest and greatest cultivars, processing methods and so on. Each lot is very small and they often achieve cup scores in excess of 90 (i.e. very good!).\n",
    "\n",
    "This particular coffee is a Aramosa cultivar - this is a \"pre-cultivar\" as its genetics are still being studied. Needless to say you don't see these very often and it is a first for me. The Aramosa is a cross between Arabica coffee and Racemosa coffee species. Nearly all the coffees on this blog are Arabica, Racemosa is harder to find - it brings with it naturally low caffeine and is drought and disease resistant. This is important for the future of coffee and so it is very interesting to see what happens with these latest \"cross\" cultivars.\n",
    "\n",
    "In addition to the cultivar this coffee is also an anaerobic processed lot. We have spoken about anaerobic processing in the past - the removal of oxygen in the fermentation process allows for different flavour compounds to develop. This coffee is therefore a full-house in the game of \"high end coffee bingo\".\n",
    "\n",
    "None of this fanciness means a thing unless the coffee tastes good however, so lets move onto the important stuff. As always with these Icon coffees the amounts are too low to reliably dial in espresso and taste as filter so this blog post is a filter coffee only post (normal espresso service to resume next week).\n",
    "\n",
    "On the dry aroma I get a very interesting profile, it is immediately recognisable as something different. I would describe it as sweet like, but old-fashioned sweets like parma violets, love hearts, etc. Quite a \"soft\" profile and almost a powder-y floralness to them. But there is also a bit of tropical funk there too but it is very restrained.\n",
    "\n",
    "In the cup the first thing to notice is a complete lack of bitterness. The coffees we feature on this blog are typically not bitter to begin with, but this is a noticable step down. I can only presume it is the reduced caffeine levels. I would describe this as a soft and delicate coffee, it is one that only gives up its flavours when you really look for them. The cup itself is very complex, there are a lot of florals packed in there. Alongside is the powder-y sherbet-type sweetness we got off the nose. I also notice a feint aniseed note when the cup reaches just the right temperature too. In terms of fruity notes it has some tropical notes there along with your stone fruits. The sweetness level is high and the mouthfeel gives the impression of stickyness.\n",
    "\n",
    "This is a very interesting cup, it is hard to describe because it is different to most other coffees I drink. It is one you really have to try for yourself to appreciate it. Yet again Plot manage to surprise with their Icon series, as always I look forward to see what the next month brings.\n",
    "\n",
    "As is customary on Icon coffee posts I pick a jazz icon to pair with it. Amazingly it has taken 64 blog posts for this musician to appear: welcome to the blog John Coltrane. We take a look at his 1961 studio release \"Africa/Brass\". \n",
    "\n",
    "![](https://github.com/jazzcoffeestuff/blog/raw/master/images/064-Africa-Brass/Africa-Brass.jpg)\n",
    "\n",
    "In terms of \"classic\" Coltrane recordings \"Africa/Brass\" might seem an \"odd\" first choice for the blog. While it is perhaps less well known than some of the other more successful recordings \"Africa/Brass\" is one of my favourite Coltrane recordings. I'm going to say something controversial here: but I don't particularly enjoy many of Coltranes albums under his own name. The ones that are good are fantastic, but I feel there is a lot of filler too and I'm not a fan of \"A Love Supreme\" or any of the \"spiritual\" albums that followed. I can only assume my membership to the jazz-bloggers union is going to be quickly revoked after posting such heresy. \n",
    "\n",
    "\"Africa/Brass\" was released on Impulse records - now a legendary record label, but \"Africa/Brass\" marks only the 6th release on Impulse. This was quite a bold move by the label all things considered. While Coltrane was a big name after hits such as the impressive \"Giant Steps\" and \"Blue Train\" which earned him the reputation of being an all time great - \"Africa/Brass\" strayed quite far from the Coltrane formula through the addition of a big-band orchestra. As if the 21 piece big-band wasn't strange enough even the instrumentation is quite weird through the use of french horns and euphoniums. This is quite a big risk for a fledgling label when they could have just churned out a \"cutting date\" with the Coltrane band and sold a lot of units. I'm glad they took the risk however, as \"Africa/Brass\" is really a special album.\n",
    "\n",
    "The album consists of just 3 tracks (modern reissues feature many more) and spans just 33 minutes in length (perhaps the one downside of the album). There are two Coltrane originals \"Africa\" and \"Blues Minor\" along with a reworking of \"Greensleeves\". The orchestration comes courtesy of pianist and long-time collaborator McCoy Tyner and (perhaps a bit left-field) Eric Dolphy. The Dolphy connection perhaps adds to some of the \"weirdness\" in the orchestration, but it certainly adds to the experience. \n",
    "\n",
    "With such long track lengths there is of course ample opportunity for extended soloing as you'd expect from a Coltrane record. John is on top form throughout his earlier \"sheets of sound\" firebreathing is still there but this is paired with the modal playing that dominated his later recordings. For me he catches just the right balance between the two. The contrast with the big band is also fascinating. I am also a huge fan of Coltrane on Soprano, I think he is if anything underated on this instrument as all the focus tends to be on his tenor magic.\n",
    "\n",
    "Although this is a big band record, the core of the album is still the Coltrane Quartet. At this time consisting of:\n",
    "- John Coltrane – soprano and tenor saxophone\n",
    "- McCoy Tyner – piano\n",
    "- Reggie Workman – bass\n",
    "- Elvin Jones – drums\n",
    "\n",
    "On the album McCoy does McCoy things and he is instantly recognisable. He is such a huge part of the Coltrane sound of this era. He provides the \"dream like\" feel that allows John to really express himself. And of course he is no slouch himself, providing some killer piano solos throughout. Then of course we have the core of any band, the drummer. In this case Elvin Jones keeps things grooving and drives the music forward. For me one of the greatest drummers of all time. His voice is totally unique and again adds to the Coltrane sound.\n",
    "\n",
    "With so few tracks it is hard to talk about \"top tracks\" so I have just embedded side 2 of the album in this post. To really appreciate this album, however, you should really listen from start to finish. I would recommend sticking to the \"original\" track listing rather than the extended re-issues as I don't think they add anything to the experience and really are just for the completist. If you have not heard \"Africa/Brass\" before you should definitely hunt down a copy, and if you have heard it before maybe it's time to give it another spin? As with many albums on this blog it is in the \"must listen\" category and well worth investing the time in.\n",
    "\n",
    "> youtube: https://youtu.be/dSJwSuekQO8"
   ]
  },
  {
   "cell_type": "code",
   "execution_count": null,
   "metadata": {},
   "outputs": [],
   "source": []
  }
 ],
 "metadata": {
  "kernelspec": {
   "display_name": "Python 3",
   "language": "python",
   "name": "python3"
  },
  "language_info": {
   "codemirror_mode": {
    "name": "ipython",
    "version": 3
   },
   "file_extension": ".py",
   "mimetype": "text/x-python",
   "name": "python",
   "nbconvert_exporter": "python",
   "pygments_lexer": "ipython3",
   "version": "3.8.8"
  }
 },
 "nbformat": 4,
 "nbformat_minor": 2
}

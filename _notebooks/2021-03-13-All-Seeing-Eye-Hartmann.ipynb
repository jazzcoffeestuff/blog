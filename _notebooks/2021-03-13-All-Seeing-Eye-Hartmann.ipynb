{
 "cells": [
  {
   "cell_type": "markdown",
   "metadata": {},
   "source": [
    "# \"The All Seeing Eye and Finca Hartmann Gesha\"\n",
    "> \"After a brief hiatus the Plot ICON series is back with a bang. This week we look at a natural Gesha coffee from Finca Hartmann in Panama. Alongside we have the 1966 release 'The All Seeing Eye' from another icon Wayne Shorter.\"\n",
    "- toc: false\n",
    "- author: Lewis Cole (2021)\n",
    "- branch: master\n",
    "- badges: false\n",
    "- comments: false\n",
    "- categories: [Jazz, Coffee, Wayne-Shorter, 1960s, Plot, Panama, Natural, Gesha]\n",
    "- hide: false\n",
    "- search_exclude: false\n",
    "- image: https://github.com/jazzcoffeestuff/blog/raw/master/images/047-All-Seeing-Eye/All-Seeing-Eye.jpg"
   ]
  },
  {
   "cell_type": "markdown",
   "metadata": {},
   "source": [
    "> youtube: https://youtu.be/xY2rNo9dUZs\n",
    "\n",
    "After a brief month hiatus the Plot Roasters ICON series subscription is back! Owing to Brexit related supply chain issues this coffee was due to be released in February but unfortunately got delayed until March. Let's see if good things do indeed come to those who wait.\n",
    "\n",
    "As a reminder this is the 3rd installment of the ICON series by Plot Roasters. This series is a relatively expensive series of rare and exciting coffees, it's for those who love coffee and don't mind paying to get access to the rare lots. In this installment we have a Gesha varietal from Panama. In the past we've talked about the rise of the Gesha varietal in the mid 2000s - and those with a good memory will recall that a particular lot from a Panamanian farm was responsible for causing the \"boom\". It is therefore always interesting to get hold of some Gesha from Panama.\n",
    "\n",
    "In this instance the Gesha was grown by the Hartmann family - one of the leading names in coffee in Panama, and their coffees always command high prices and achieve enviable cupping scores. The Hartmann family has owned farmland in Panama since the early 1900s, it now consists of many different coffee growing plots. The coffee we're talking about today is from the \"Roscosa Montana\" plot which translates to \"Rocky Mountain\" which borders the Parque Nacional de La Amistad rain forest.\n",
    "\n",
    "The coffee itself has been naturally processed - dried on raised African beds for a full 25 days. \n",
    "\n",
    "As with previous ICON installments this arrives in 150g bags only. As a result I don't use it for espresso since after a couple of shots to dial in I'd be left with very little to enjoy at its best! So it's a filter only blog-post this week. I have been drinking a great espresso alongside this one but I'll feature it next time in a dedicated post.\n",
    "\n",
    "Diving nose first into the dry aroma: the first thing to note is it smells incredible. The main hit is from tropical fruits, notably papaya and mango. But along with that there are caramel notes and a good floral bouquet. You can tell this is a very complex coffee before even taking a sip. Although it's a natural process there is not a hint of funkiness however, it seems very clean for a natural coffee.\n",
    "\n",
    "Moving into the filter: this coffee is truly exquisite. The supply chain delays seem irrelevant on first sip - it is well worth the wait. The first wave of flavour that hits is the tropical fruit notes from the nose. Papaya and Mango are most prevalent but there is also a sharpness to it too, perhaps a passionfruit. But in the supporting cast I also noted down wild strawberries and I could even be argued into agreeing the sharpness has a raspberry quality. What is so interesting about this coffee however is that the floral notes stand up to these big tropical fruit notes - I get strong violet and lavendar vibes from this one. It is very very rare to find a coffee where the florals don't get overwhelmed by the bigger bolder flavours. This makes for a super interesting and complex cup. As the cup cools down the balance between the fruit and the floral changes, the cooler you go the more florals you pick up. This is a coffee that demands you to savour and watch the flavour profiles develop, drinking this in a temperature controlled ember mug would be an absolute travesty!\n",
    "\n",
    "Yet again Plot have smashed it out of the park. Looking forward to see what is to come with future ICON releases.\n",
    "\n",
    "On the jazz side we're going to look at another icon: Wayne Shorter with his 1966 release \"The All Seeing Eye\".\n",
    "\n",
    "![](https://github.com/jazzcoffeestuff/blog/raw/master/images/047-All-Seeing-Eye/All-Seeing-Eye.jpg)\n",
    "\n",
    "At this point Wayne Shorter is certainly one of the elder-statesmen of jazz. Nearing in on his 90th birthday he has a career spanning around 70 years. During that time we has released solo works, been a member of both Art Blakey's Jazz Messengers (with whom he became the primary composer for the band) and Miles Davis' band - along with being a founding member of one of the greatest fusion groups of all time in Weather Report. \"Star studded career\" isn't nearly enough to describe what Shorter has achieved.\n",
    "\n",
    "At the very start of his career Shorter was seen as \"just another Coltrane tribute act\" - a label that (rather unfairly) was attributed to many tenor players of that era. As his career developed it was clear Wayne was anything but. Instead of relying on flashy, complicated, virtuosic playing (although he certainly had chops) - Shorter is now best known for his compositional voice. You can argue that he is one the greatest composers in all of jazz, if not all of music. His compostional style is focussed heavily on harmony, and using this to create a \"mood\". A few albums before \"The All Seeing Eye\" he released perhaps his most famous album \"Speak No Evil\" where he explores the modal jazz style. Although his later works can't really be considered \"modal\" in the same way you can tell the modal style of creating a mood for a piece stuck with Shorter.\n",
    "\n",
    "> youtube: https://youtu.be/ylc6_wPm6SA\n",
    "\n",
    "\"The All Seeing Eye\" marks Wayne's 9th solo outing, and to date his most ambitious. From the get-go it is clear this is not your run of the mill bop record but something new entirely. It makes some nods from the avant-garde and free movements but the compositions are much more structured than is often the case in those styles. It is a highly ambitious record that still sounds daring today.\n",
    "\n",
    "The opening title track (embedded at the start of this post) sets the tone for the rest of the record. In interviews Wayne has stated the entire album is an attempt to depict the meaning of life, creation and the nature of god. The solos on the title track thus represent \"the machinery involved in the process of creation\" - with other tracks on the album showing similar levels of symbolism.\n",
    "\n",
    "Perhaps the most \"traditional\" bop-sounding track on the album is \"Chaos\" (above) - living up to its name it's a chaotic fire-breathing sort of piece which allows the stellar cast to flex their chops. The supporting cast on the album features: Freddie Hubbard on trumpet/flugelhorn, Grachan Moncur III on trombone, James Spaulding on alto, Herbie Hancock on piano, Ron Carter on bass and Joe Chambers on drums (with a cameo from Wayne's brother Alan on one piece). This is an enviable line-up of talent and the quality shows throughout, although the music is highly daring and experimental it never feels out of control.\n",
    "\n",
    "\"The All Seeing Eye\" represents one of my favourite Wayne Shorter albums and it is well worth your time. It is likely music you'll have to put the effort in to appreciate however, and it commands your attention. But it is an album that will reward your effort so it's worth investigating."
   ]
  },
  {
   "cell_type": "code",
   "execution_count": null,
   "metadata": {},
   "outputs": [],
   "source": []
  }
 ],
 "metadata": {
  "kernelspec": {
   "display_name": "Python 3",
   "language": "python",
   "name": "python3"
  },
  "language_info": {
   "codemirror_mode": {
    "name": "ipython",
    "version": 3
   },
   "file_extension": ".py",
   "mimetype": "text/x-python",
   "name": "python",
   "nbconvert_exporter": "python",
   "pygments_lexer": "ipython3",
   "version": "3.7.4"
  }
 },
 "nbformat": 4,
 "nbformat_minor": 2
}

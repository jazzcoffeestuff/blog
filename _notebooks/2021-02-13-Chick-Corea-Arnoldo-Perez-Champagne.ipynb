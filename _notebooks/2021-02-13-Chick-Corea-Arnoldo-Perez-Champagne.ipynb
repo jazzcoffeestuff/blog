{
 "cells": [
  {
   "cell_type": "markdown",
   "metadata": {},
   "source": [
    "# \"Chick Corea and Arnoldo Perez Yeast Natural\"\n",
    "> \"This week we check out a super cool Champagne yeast maceration processed coffee from Finca la Senda Guatemala and roasted by Plot. Alongside we reminisce about Chick Corea RIP.\"\n",
    "- toc: false\n",
    "- author: Lewis Cole (2021)\n",
    "- branch: master\n",
    "- badges: false\n",
    "- comments: false\n",
    "- categories: [Jazz, Coffee, Chick-Corea, Plot, Guatemala, Yeast-Maceation, Pache]\n",
    "- hide: false\n",
    "- search_exclude: false\n",
    "- image: https://github.com/jazzcoffeestuff/blog/raw/master/images/043-Chick-Corea/Chick-Corea.jpg"
   ]
  },
  {
   "cell_type": "markdown",
   "metadata": {},
   "source": [
    "> youtube: https://youtu.be/sEhQTjgoTdU\n",
    "\n",
    "This week we are heading back to the fine folks at Plot Coffee Roasting ( https://plotroasting.com/ ) - now a near permanent fixture on the blog. Plot are consistently crushing it lately with great coffee after great coffee, definitely check them out if you have not already.\n",
    "\n",
    "This time we have a super interesting one, and possibly a first for me. The coffee is from a farm \"Finca la Senda\" located within the Acatenango region of Guatemala. In the past few years I've noticed the quality of Guatemalan coffee has increased exponentially, I've had some really special coffees from there. What makes this coffee particularly interesting is the \"yeast maceration\" processing method. Here Pache varietals are picked and the whole cherries are placed under carbonic maceration for 30 hours. Following this a specific strain of Champagne yeast is added to the mix and maceration continues for a further 36 hours, before being sun-dried for 30 days. This is a fairly long processing time which gives plenty of opportunity for complex flavours to develop. The introduction of a Champagne yeast is new to me - at least I can't remember trying a yeasted coffee before (but I try many so I may have simply forgtten). \n",
    "\n",
    "Let's just get down to business. On the dry aroma I don't get a huge bouquet, it is fairly quiet and refined in its presentation. There are fruity notes most notably orange and some delicate floral type notes but they're subtle. As I've stated many times in the past a lack of \"punch\" here does not always translate into the cup.\n",
    "\n",
    "Using my tried and tested filter recipe the first word that comes to mind for me is: Exceptional. This is an incredibly refined cup, I feel as though I should be sat in a tuxedo to do the coffee justice. The main flavour notes are oranges and citrus fruits. The mouthfeel is a little sticky and the slight floral hint gives the impression of elderflower or honeysuckle. What is really mindblowing however is the finish which is exactly like Champagne. You don't notice it initially but after the initial hit of flavour and particularly in the aftertaste you get that unmistakable Champagne drying quality and a really strong white grape punch. It is also super sensitive to temperature and it really evolves as the cup cools. I find it best on the cooler side of things as it allows the more delicate notes to pop.\n",
    "\n",
    "Moving onto the espresso: this coffee is definitely on the lighter side roast-wise so I was expecting a bit of a battle to get the best out of it (especially with the delicate flavour profile) - but it was a joy to dial in. I found it next to impossible to get a bad shot out of it - the only caveat being the machine needs to be blinding hot, too cold and some sourness creeps in. In the end I decided on a 1:2.25 ratio, this seemed to better preseve a silky mouthfeel that is otherwise lost. Going longer didn't increase the sweetness for me. The flavour profile is similar to the filter and that Champagne finish becomes even more intense.\n",
    "\n",
    "As both filter and espresso this coffee was fantastic and one I'm going to sorely miss. It may only be February but I feel this is a contender for \"coffee of the year\".\n",
    "\n",
    "On the jazz side this week I had intended to talk about a specific album, but on Thursday the jazz-world was shocked at news of the passing of Armando \"Chick\" Corea. So instead I thought I'd share my Chick stories.\n",
    "\n",
    "![](https://github.com/jazzcoffeestuff/blog/raw/master/images/043-Chick-Corea/Chick-Corea.jpg)\n",
    "\n",
    "The word \"legend\" gets thrown around quite a lot these days, but Chick is one of the few truly deserving of that title. His career started in the mid 1960s working with the likes of Stan Getz, Blue Mitchell and Herbie Mann. His \"big break\" however came when he joined the Miles Davis band and was instrumental in driving the \"fusion\" sound that Davis was chasing at the time. After the stint with Davis he started another fusion group: \"Return to Forever\" - one of the most successful fusion groups of all time. In addition to rock he brought inspiration from Latin-American music (something he also visited in solo album \"My Spanish Heart\"). He also formed the \"Chick Corea Elektric Band\" - a fusion supergroup with legions of fans and the offshoot \"Akoustic Band\" where they dropped the electric instruments in favour of acoustic instruments. Subsequent to this Chick spent a lot of his career doing more traditional projects until the formation of another fusion group \"Five Peace Band\" with John McLaughlin, Kenny Garrett, Christian McBride and Vinnie Colaiuta. Chick Corea is one of the few artists who can span any decade and any style - you can essentially pick up any one of his records and have a good time.\n",
    "\n",
    "I was never fortunate enough to meet Chick personally, but over the past 10 years or so I have seen him live countless times in many different contexts. One of the things you notice walking out of a Chick Corea gig is his warmth towards everybody. I remember one instance where he was playing a solo gig and the venue staff were keeping the doors closed while he was playing, only letting people get to their seats between tunes. Chick addressed this and said: \"what's going on? This is not a classical recital, let people come in and out as they want\" - there are not many artists around who would express such a sentiment.\n",
    "\n",
    "Then of course there is his use of the audience as a \"piano\" - whereby he'd get different sections of the audience each to sing a different note to create a chord to accompany his playing. This is something that others have tried but it usually feels uncomfortable and gimmicky, with Chick's enthusiasm and humour it totally works.\n",
    "\n",
    "Another time I saw him in a trio context with Christian McBride on bass and Brian Blade on drums. To date one of the best gigs I have ever seen. It came across that they didn't even have a set list they just decided what they were going to play on the spot and the mood take them wherever they wanted to go. I'm sure there was a setlist or at least a shortlist to choose from, but the carefree energy added to an already amazing show. During this one I remember distinctly them playing \"Work\" by Thelonious Monk. People often talk about Chick in terms of raw technique and crazy knowledge of harmony - but he more than anybody understands what Monk is all about. He managed to capture all of the nuance from Monk - the feel, time and even captured the mannerisms often getting up from the piano and walking around during others solos. It was truly a joy to behold.\n",
    "\n",
    "> youtube: https://youtu.be/EpVef_no_cw\n",
    "\n",
    "I also remember attending the Elektric band reunion concert where they played the entire first album. All the guys recognised that the 80s synth sounds are a bit dated now so they had some fun with it. Chick even broke out the keytar a few times in true 80s style. Even though the synth sounds are not particularly popular today looking past that some of the music on that album still stands the test of time.\n",
    "\n",
    "There was also the duet concert I saw between Chick and Herbie Hancock a couple of years ago. Even in his 70s Chick was still sprightly and energetic. He played some really daring music that night and one of the things I remember clearly is just seeing Herbie with a grin from ear to ear the entire time.\n",
    "\n",
    "In losing Chick we lost one of the few remaining artists from a golden era. A master, a genius, whatever superlative you wish to throw around Chick was all of those things. Right til the end he was still touring and playing some of the best jazz gigs you could ever see. He will be truly missed.\n",
    "\n",
    "> youtube: https://youtu.be/lagNpi1v5FY\n",
    "\n",
    "RIP Chick."
   ]
  },
  {
   "cell_type": "code",
   "execution_count": null,
   "metadata": {},
   "outputs": [],
   "source": []
  }
 ],
 "metadata": {
  "kernelspec": {
   "display_name": "Python 3",
   "language": "python",
   "name": "python3"
  },
  "language_info": {
   "codemirror_mode": {
    "name": "ipython",
    "version": 3
   },
   "file_extension": ".py",
   "mimetype": "text/x-python",
   "name": "python",
   "nbconvert_exporter": "python",
   "pygments_lexer": "ipython3",
   "version": "3.7.4"
  }
 },
 "nbformat": 4,
 "nbformat_minor": 2
}

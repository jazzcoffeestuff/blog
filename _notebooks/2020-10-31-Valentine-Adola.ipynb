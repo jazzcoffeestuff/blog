{
 "cells": [
  {
   "cell_type": "markdown",
   "metadata": {},
   "source": [
    "# \"Valentine and Adola\"\n",
    "> \"This week we stick with Drop coffee roasters, this time with the Ethiopian Adola coffee. We also look at the latest Bill Frisell album 'Valentine'\"\n",
    "- toc: false\n",
    "- author: Lewis Cole (2020)\n",
    "- branch: master\n",
    "- badges: false\n",
    "- comments: false\n",
    "- categories: [Jazz, Coffee, Bill-Frisell, 2020s, Drop, Ethiopia, Natural-Process, Heirloom]\n",
    "- hide: false\n",
    "- search_exclude: false\n",
    "- image: https://github.com/jazzcoffeestuff/blog/raw/master/images/028-Valentine/Valentine.jpg"
   ]
  },
  {
   "cell_type": "markdown",
   "metadata": {},
   "source": [
    "> youtube: https://youtu.be/TJxURT1NGro\n",
    "\n",
    "This week we are sticking with Drop coffee from Stockholm, who were featured last week on the blog. This time we are looking at a more \"reasonably priced\" coffee instead of a super expensive rare coffee. As is a trend on this blog it is a naturally processed coffee from Ethiopia. Again we are looking at the Guji zone within the Oromoia region - and yet again it is from a washing station owned by Israel Degfa's company. This blog might be becoming a bit predictable! The coffee takes its name from the washing station \"Adola\". In addition to running the washing station Israel has also built a school in the local area so that the children can get an education, Drop offer an \"extra\" version of this coffee which includes a donation directly to the school. To be honest the \"extra\" cost to a bag of coffee is negligible (about £2.50 at time of writing) in the scheme of things so it is worth opting for this version in my opinion.\n",
    "\n",
    "Unlike last week this coffee is one I could use as an espresso! In fact it was (mostly) what I was drinking as an espresso last week while using the Gesha as a filter. Usually I like to keep the same coffee on both filter and espresso as I like to see how the different characteristics come into play with each preparation method. For me it's rare I'll find a coffee that I love prepared one way but hate prepared another. I might prefer one to the other for a specific coffee but there's rarely a coffee that is only suited to one style. And as I have said multiple times on this blog I only ever opt for filter roasts or occassionally omni-roasts as I find these show off the coffees character most clearly.\n",
    "\n",
    "Onto the coffee itself. The first thing to notice is this is very light roast, one of the lightest I've had in a while. Grinding for filter on my handgrinder I could physically feel the difference in density compared to previous coffees. The dry aroma coming off the coffee is fairly subdued, there is a little natural processing funkiness and a bit of a floral note but that is about it. This is not a blow your socks off coffee on the nose.\n",
    "\n",
    "Moving on to the filter prepared in the usual way. the first thing that jumped out to me is the funk. If you're unsure of what I mean by \"funk\" - some natural coffees that have been left in their cherries for a long time essentially start to ferment and develop a flavour profile sometimes referred to as funk. Funk is almost like a \"gone off\" taste (but in a good way). For me I always associate the funky notes with 2 things: firstly bruised fruits (typically blueberry) and alcohol (particularly fortified alcohol). Adola is not super funky, but it is noticable - espescially if you're like me and don't tend to drink the funky stuff very often. With the funk I also get huge sweetness in the cup combined with the mouthfeel it gives a sticky syrupy kind of quality. In terms of flavour notes blueberry is the first thing that comes to mind. As the cup cools it totally transforms however and the tropical fruits come out to play - it actually reminds me of those old fashioned pineapple cube sweets. All the way through there is a background floral note that adds a lot of elegance to the cup. With this coffee you're also given a really long aftertaste which is great when the coffee tastes so good.\n",
    "\n",
    "you would naturally expect this coffee to be an absolute pig to dial in for espresso given how light the roast is but I actually found it surprisingly forgiving. As you would expect you want to whack up the temperature on your espresso machine to as high as it can reliably go and you want to pull longer shots. For a ratio something like 1:2.75 is a good place to start, I was pulling this one with a quick 3s or so pre-infuse then a 25s pull - so not super quick compared to some. As an espresso this coffee is truly fantastic. The sweet sticky syrupy quality from the filter just gets amplified and it's one of the sweetest cups you'll find. The funkiness is there but is not overbearing, combined with the florals it gives the cup elegance and keeps it interesting. The pineapple cube note is unfortunately nowhere to be found in the espresso but the long aftertaste is thankfully still there. This is a coffee I'd give to somebody unsure about lighter roast coffees for espresso, it is a slightly different experience to a more developed roast but I'd struggle to see how anybody could not find this delicious.\n",
    "\n",
    "Overall this is another fantastic coffee from Drop. I said it in my last post but I'll repeat it here: for my money Drop is in the truly \"elite\" level of coffee roasters. I don't think I've ever had a bad coffee from them, I just wish they were a bit easier to get hold of in the UK!\n",
    "\n",
    "For the jazz this week we're going to look at another relatively recent release (from August 2020). From the Blue Note record label it is Bill Frisell's latest: \"Valentine\".\n",
    "\n",
    "![](https://github.com/jazzcoffeestuff/blog/raw/master/images/028-Valentine/Valentine.jpg)\n",
    "\n",
    "Bill has appeared a couple of times on this blog but never with an album under his own name. I heard this album the day it was released and have been listening to it since. I am unapologetically a huge Frisell fan-boy so I have been a bit reluctant to feature this album on the blog - I wanted to make sure my fan-boy-ism wasn't causing me to overhype it. But after a few more listens I have come to the conclusion that it is actually that good and is up there with Bill's best.\n",
    "\n",
    "On Valentine Bill is joined by regular collaborators: Rudy Royston on the drums and Thomas Morgan on the bass. Although Bill has recorded with countless musicians in the past for his own projects he seems to have a small \"inner-circle\" with whom he collaborates regularly. I think this is an important part of the magic of some of his recordings/performances since it is very much focussed on interaction and intimacy between band members. In his post-ECM recordings he tends to take relatively simple tunes and elevate them to new levels. Often re-recording the same few tunes in different ways on his various projects. This is in some sense similar to Thelonious Monk who also had a relatively small repertoire but continually re-invented them (unlike say a Duke Ellington who wrote many pieces). Bill is in some sense similar to Monk in other ways too; he often focusses on rhythmic ideas and creating space when playing, and of course he has a history of playing Monk tunes with the Paul Motian band(s) earlier in his career. On this album the title track \"Valentine\" is quite clearly “an affectionate wink to Thelonious Monk\" (to use Bill's own terms) with its twisting time signatures, angular melody and humorous motifs.\n",
    "\n",
    "The track list will be familiar to the more seasoned Frisell fan. It features \"Winter Always Turns to Spring\" featured on \"Ghost Town\" and \"Levees\" from the Great Flood documentary. Along with familiar pieces such as \"What the World Needs Now\" and \"Baba Drame\" (off \"The Intercontinentals\") which he has done renditions of in the past. This habit of re-visiting pieces is very interesting as it allows us to see how Bill has matured and evolved over the years and it invites comparison. Often he will entirely re-work the piece for a new format so it never just feels like re-treading old ground.\n",
    "\n",
    "The album closes with the civil rights anthem \"We Shall Overcome\" (another tune that Bill has played many times in the past). This is embedded at the start of this blog, along with a great piece of animation in the music video (I would suggest watching it in its entirety at some point). In this version he sticks very closely to the melody and remaining faithful to the tune itself. Given the civil rights issues in the recent past it feels as though this was intentional. \n",
    "\n",
    "> youtube: https://youtu.be/zU0HS4aMqBg\n",
    "\n",
    "The latter part of the album features many tracks that seem aimed at the current world landscape: \"Winter Always Turns to Spring\", \"We Shall Overcome\", \"Where Do We Go?\" and a beautiful rendition of Bacharach's \"What The World Needs Now\" (embedded above is a live version from a recent socially distanced outdoor gig). The track titles combined with the dream like quality to the arrangement appears to be Bill's attempt at fostering hope going forward. He is not an artist you'd associate with making political statements typically but I guess that is what he is trying to do with \"Valentine\". Perhaps his recent work with Charles Lloyd, who is relatively outspoken, has rubbed off on him?\n",
    "\n",
    "Any writing I do about the music on this album will not do it justice, if you have heard any recording of Bill's from the past 20 years or so you'll know what to expect. This is not a particularly \"groundbreaking\" album but more of a solidification of the style built up over the past years. It is one of the most complete and polished offerings in the Frisell cannon so is well worthy of your time. The interplay between Frisell/Thomas/Royston is something to behold, it can easily go over your head the first few times you hear them but once you really start to pay attention you can see how well they work as a unit. There is no \"flashiness\" here just good solid performances all round. As it's incredibly rainy in London right now, I'd definitely recommend the album for some rainy afternoon listening.\n",
    "\n",
    "I'll end with a funny story I have about Bill: a few years ago I saw him live when he was touring the \"Guitar in the Space Age\" album where he was revisiting tunes from his childhood. It is probably the most \"pop\" or radio friendly album he has released. I was in the front row and sat next to a party of Americans visiting London. Those who know Frisell know that in addition to the \"pop\" style recordings on this album he also has his \"weird Bill\" mode where he uses effect pedals to create crazy sounds and feedback. At the end of one of the pieces you could see Bill get a grin across his face and he bent down to adjust some effect pedals and treated the audience to 60s or so of crazy oscillating feedback and noise (I guess he got a bit bored playing simple melodies every night). At the interval I heard the American party talking to each other saying: \"It was a shame about the technical issues with his guitar at the end of that tune\"... I'm sure Bill would have found that amusing."
   ]
  },
  {
   "cell_type": "code",
   "execution_count": null,
   "metadata": {},
   "outputs": [],
   "source": []
  }
 ],
 "metadata": {
  "kernelspec": {
   "display_name": "Python 3",
   "language": "python",
   "name": "python3"
  },
  "language_info": {
   "codemirror_mode": {
    "name": "ipython",
    "version": 3
   },
   "file_extension": ".py",
   "mimetype": "text/x-python",
   "name": "python",
   "nbconvert_exporter": "python",
   "pygments_lexer": "ipython3",
   "version": "3.7.4"
  }
 },
 "nbformat": 4,
 "nbformat_minor": 2
}

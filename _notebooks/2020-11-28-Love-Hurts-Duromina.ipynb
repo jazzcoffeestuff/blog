{
 "cells": [
  {
   "cell_type": "markdown",
   "metadata": {},
   "source": [
    "# \"Love Hurts and Duromina\"\n",
    "> \"This week we head back to the wonderful Round Hill Roastery with a washed Ethiopian called Duromina. On the jazz side we look at Julian Lage's 2019 release 'Love Hurts'.\"\n",
    "- toc: false\n",
    "- author: Lewis Cole (2020)\n",
    "- branch: master\n",
    "- badges: false\n",
    "- comments: false\n",
    "- categories: [Jazz, Coffee, Julian-Lage, 2010s, Round-Hill, Ethiopia, Washed-Process, Heirloom]\n",
    "- hide: false\n",
    "- search_exclude: false\n",
    "- image: https://github.com/jazzcoffeestuff/blog/raw/master/images/032-Love-Hurts/Love-Hurts.jpg"
   ]
  },
  {
   "cell_type": "markdown",
   "metadata": {},
   "source": [
    "> youtube: https://youtu.be/kmnAOu124g4\n",
    "\n",
    "This week on the blog we are heading back to our friends at Round Hill Roastery all the way in sunny Bath. Round Hill are an old favoruite of the blog and have featured many times in the past so need no real introduction.\n",
    "\n",
    "This time we are featuring a washed Ethiopian coffee called Duromina. This is a coffee I am very familiar with and have tried many times from many different roasters over the years. Duromina is a co-operative based in the town of Agaro within the Jimma zone of the West Oromia region. It was set up in 2011 and has helped develop specialty coffee production within the area. Previously farmers were producing lower quality coffees for use in blends, but the co-operative structure has allowed quality to increase and the farmers to earn a better premium for their work.\n",
    "\n",
    "Being a co-operative comprised of many smaller farmers there has not been much in the way of varietal tracing for this coffee and as such it is labelled as \"heirloom varietal\". This was standard practice for Ethiopian coffees for many years but recently some work has been done to trace the varietal types of each coffee. Hopefully this practice will become more adopted in time and we will be able to talk about the specificities of a Kume against a Wolisho varietal.\n",
    "\n",
    "Diving straight into the coffee itself: as usual from Round Hill I chose the \"filter roast\" version of this coffee. On the dry aroma I get a faint light caramel note combined with some peach-y and floral type notes as one would expect from a washed Ethiopian. Overall the aroma is stronger than one might expect for a coffee like this, they can often be shrinking violets (excuse the pun). There is some complexity here but it does not come across as a super complex coffee upon first sniff.\n",
    "\n",
    "Moving into a filter brew. The first thing I notice is the quintessential \"washed Ethiopian\" character, it is just a very good example of what to expect from this type of coffee. The major notes are peach iced tea and lavendar and violet style florals. The peach iced tea gives a delicate juicy flavour and lots of sweetness. The florals come in the finish and aftertaste and dry the palette just enough to want you to come back for more. This one is very drinkable - I always notice that I have far less left in the cup than I'd like. It is in fact quite a \"linear\" coffee in that, for me, the flavour profile doesn't change too much as the drink cools. This might be because recently I've had a number of coffees where this was a defining feature however. In terms of mouthfeel and body there is not a whole lot to talk about, which is not a problem for me as these are not characters I hunt down.\n",
    "\n",
    "In the espresso we have to work a little bit to get the most out of it. As we would expect: turn the temperature up very high and pull the shot long is a good starting point. I found ultimately a 1:2.75 ratio worked best for me and my set-up. The resulting espresso is very clean and has great clarity of flavour so I wanted to exemplify that by pulling longer. Going any shorter than this the flavour clarity suffered slightly and you don't gain any additional mouthfeel so it was not worth it for me. Even at a longer ratio the flavours were still punchy and strong: as in the filter peach iced tea and lavendar florals were the major tasting notes. The aftertaste is relatively shortlived but very clean.\n",
    "\n",
    "Overall another very good showing from Round Hill, but I would expect nothing less.\n",
    "\n",
    "\n",
    "For the jazz this week I've decided to cover a 2019 Mack Avenue records release from guitarist Julian Lage: \"Love Hurts\".\n",
    "\n",
    "![](https://github.com/jazzcoffeestuff/blog/raw/master/images/032-Love-Hurts/Love-Hurts.jpg)\n",
    "\n",
    "For those that do not know Julian, he started off as a \"child prodigy\": he was subject of a documentary film at 8 years old, played at the Grammy's aged 12 and was a jazz faculty member at Stanford at 15. I believe his first recorded work was with Gary Burton in 2004 (aged 16) and his first release under his own name in 2009. Unlike many child prodigies he did not make a name for himself for simply having crazy chops, basically from the beginning he had a very ature and sophisticated sense of melody and harmony. In jazz there is a relatively low conversion rate between the child prodigy to established artist, and I believe one of the main reasons is the focus on technique and chops - it is much harder to develop a good touch, phrasing and harmonic identity. Of course none of this comes from a vacuum and there are hints of other players within Julians playing, I would say that Bill Frisell is a major influence in Julian's style (at least his current style) given the ability to go from simple pure melodies through to the avant garde seemlessly.\n",
    "\n",
    "The cover art of \"Love Hurts\" shows a line of used matches, it is believed that this is meant to represent the feeling of \"burn-out\" of having the weight of expectation on his shoulders from a young age. It seems that in recent times Julian has become more at ease with these expectations judging by his interviews. He has always been a soft spoken, fairly shy character but he seems to relax much more in interviews now which nice to see.\n",
    "\n",
    "Another thing that sets Julian apart from other jazz guitarists out there is his tone. Jazz guitar is often synonymous with some pretty horrible guitar sounds (even for well established and respected artists). Julian does not follow the typical \"L5 into a Polytone with the tone rolled down\" cliche. Instead he adopts something closer to a rock/blues sound. He is perhaps best known for playing a telecaster (type guitar) into a cranked tweed champ or similar, although recently he has been playing a Gretsch duo-jet style guitars including a signature model made by Collings. His tone is on the edge of break-up so not totally clean and he can get a bit of grit when he digs in hard. This is not something you often here in jazz where pristine cleans are often sort after. Unlike Bill Frisell however, he rarely uses effect pedals or uses them very sparingly instead letting the guitar and amp sing together. It is a very unfussy setup but the simplicity adds to the music I feel.\n",
    "\n",
    "The title track of the album is \"Love Hurts\" (a live version embedded at the start of the post), a take on a ballad originally recorded by the Everly Brothers. On his Spotify channel Julian has a playlist of the \"original\" versions of the tracks he covered on this album and instead lists the Roy Orbison version of this track as the inspiration (a version I admit I had never heard before this morning not being a Roy Orbison fan.) Which once is pointed out makes a lot of sense with the arrangement Julian opted for. As with the rest of the album the arragements are stripped back, simple yet elegant. He seems to take the underlying meaning of the song and amplify it, I feel this version gets closer to capturing the spirit of the lyrics written by Boudleaux Bryant than any of the other versions of this song I have heard. \n",
    "\n",
    "> youtube: https://youtu.be/YYb7HUOpVi8\n",
    "\n",
    "The album features a large number of covers, of the 10 tracks only 2 are penned by Lage. This includes \"Tomorrow is the Question\" (a live version embedded above) originally by Ornette Coleman on an album of the same name from 1959. As one would expect playing an Ornette Coleman tune allows Julian much more freedom to improvise and take risks than on a ballad like the title track. This results in some truly mind-bending and finger-knotting lines being played throughout. When Julian is playing freely like this it feels as though he is able to completely disengage and play whatever lines he wants. With other players, even when playing free, you can notice certain lines/patterns occurring that stick to some basic structure. What makes Julian's playing so special is he is completely unpredictable, he can throw out a line that would take you months to analyse but then very quickly resolve it and bring you back to earth and move on to the next idea. I've not heard many guitarists (or musicians generally) who can do this so fluently. It is truly magnificent to behold.\n",
    "\n",
    "Other \"jazz covers\" on the album include \"The Windup\" from Keith Jarrett's \"Belonging\" album, \"Encore (A)\" also from Keith Jarrett on \"Eyes to the Heart\" and \"Trudgin\" off \"Jimmy Giuffre 3\" - Julian clearly went on a bit of an ECM records binge while recording this album. In addition there is the standard \"I'm Getting Sentimental Over You\" - on the Spotify covers playlist Julian selected the Thelonious Monk version as the inspiration, which to be honest I don't hear too much of in this rendition but I'll take Julian's word for it.\n",
    "\n",
    "That leaves a few more \"pop\" covers on the album including \"In Heaven\" - a song recorded by Peter Ivers and David Lynch that featured on the \"Eraserhead\" film soundtrack. Lastly we have \"Crying\" a Roy Orbison number, Julian obviously being a much bigger fan of Orbison than I am.\n",
    "\n",
    "The two tracks penned by Julian are titled \"In Circles\" and \"Lullaby\". On an album full of mostly covers it is often difficult to write tunes that stand up to the well established ones. It is kind of a double edged sword for jazz artists: if they write simple melodies that stick in your head they're accused of playing it safe or \"selling out\" yet if they throw every substitution and harmonic device they know at a piece they can become fairly forgettable. On this album Julian manages to write 2 pieces that can hold their own. \"In Circles\" features some really inventive playing based around a drone in the intro and follows it up with some really interesting rhythmic play later in the piece. In contrast \"Lullaby\", as the name suggests, is a much more simple affair yet Julian is still able to stretch his fingers and play some expressive lines.\n",
    "\n",
    "> youtube: https://youtu.be/e-vSkNOKXkY\n",
    "\n",
    "If you have not heard Julian before and are looking for something new to listen to that is interesting but not too challenging then you could do much worse than look at \"Love Hurts\". Be sure to pick up a copy from whichever channel you get your music from."
   ]
  },
  {
   "cell_type": "code",
   "execution_count": null,
   "metadata": {},
   "outputs": [],
   "source": []
  }
 ],
 "metadata": {
  "kernelspec": {
   "display_name": "Python 3",
   "language": "python",
   "name": "python3"
  },
  "language_info": {
   "codemirror_mode": {
    "name": "ipython",
    "version": 3
   },
   "file_extension": ".py",
   "mimetype": "text/x-python",
   "name": "python",
   "nbconvert_exporter": "python",
   "pygments_lexer": "ipython3",
   "version": "3.7.4"
  }
 },
 "nbformat": 4,
 "nbformat_minor": 2
}

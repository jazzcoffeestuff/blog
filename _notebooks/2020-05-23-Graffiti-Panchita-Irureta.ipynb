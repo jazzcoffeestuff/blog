{
 "cells": [
  {
   "cell_type": "markdown",
   "metadata": {},
   "source": [
    "# \"Graffiti and PLOT Panchita Irureta\"\n",
    "> \"This week we show some love towards tenor sax maestro JD Allen and his 2015 album 'Graffiti'. We also look at a Peruvian coffee from PLOT and talk about dialling in an espresso.\"\n",
    "- toc: true\n",
    "- author: Lewis Cole (2020)\n",
    "- branch: master\n",
    "- badges: false\n",
    "- comments: false\n",
    "- categories: [Jazz, Coffee, JD-Allen, 2010s, Plot, Peru, Washed-Process, Caturra]\n",
    "- hide: false\n",
    "- search_exclude: false\n",
    "- image: https://github.com/jazzcoffeestuff/blog/raw/master/images/006-Graffiti/Graffiti.jpg"
   ]
  },
  {
   "cell_type": "markdown",
   "metadata": {},
   "source": [
    "> youtube: https://youtu.be/yFtY19HRPks\n",
    "\n",
    "This weeks jazz album is the 2015 offering from JD Allen: Graffiti. I wanted to feature a more modern offering this time. In jazz it is all too easy to get caught up in history and yearn for the \"good old days\", as such many modern artists seem to get overlooked. JD Allen is one such example, in my opinion one of the greatest modern players who deserves much more recognition for the work he is putting out. (This is exemplified by his allmusic.com entry which is woefully sparse and is missing all of his releases post 2013!)\n",
    "\n",
    "![](https://github.com/jazzcoffeestuff/blog/raw/master/images/006-Graffiti/Graffiti.jpg)\n",
    "\n",
    "Seeing jazz being performed live is one of lifes great experiences, it is great listening to the old Blue Note records but nothing compares to the thrill of a great gig. I have seen JD a few times when he has performed in London, everytime a fantastic performance. Some artists rely on stage patter to lift performances, JD (and his group) does not instead letting the music speak for itself. This almost forces you to really pay attention to the music itself and the whole room feels \"part of something\". If he is performing in your neighbourhood I'd wholly recommend getting a ticket.\n",
    "\n",
    "The album itself (Graffiti) is one of my favourites from him. It features Rudy Royston on drums and Greg August on bass, this rhythm section featuring on many Allen recordings upto 2019s \"Barracoon\" where he brought in some fresh blood. \n",
    "\n",
    "The music on Graffiti walks that fine line between \"in\" and \"out\", sometimes straying to an almost \"free\" structure but then pulling you back into something more comfortable. However there is a strong backbone of blues to everything to keep you grounded. There is almost a sensation of movement to the music, you can feel yourself being pushed and pulled by some external force as the music weaves between the swinging and the chaotic.\n",
    "\n",
    "Many modern band leaders like to express themselves through dense harmonic structures, the music can feel somewhat rigid as a result as this closes off many avenues for improvisation since any solo has to essentially be a regimented tap dance to avoid falling down. This can be fun, but Graffiti instead keeps a looser feeling. Instead of relying on harmony for expression JDs music relies on rhythm to make a statement.\n",
    "\n",
    "One of my favourite cuts on the album is the 2nd track: \"Jawn Henry\". Allen's playing with the use of wolf tones in the main melody and the overall vibe reminds me of Joe Henderson (who is one of my all time favourite players). It has its own thing going however, there is the very evident JD DNA through the whole piece. Rudy's quite chaotic drumming helps fill the space in the composition and shows off some monster chops. Despite the technicality however Rudy manages to maintain a solid groove and swing which is no mean feat. With so much going on with the sax and drums you need a bedrock to keep things under control and this is where August comes in. You can tell this band is totally comfortable with each other, with music like this it can quickly turn into disaster if the band isn't tight. The track is a good illustration of the \"out but in\" vibe that JDs music is all about.\n",
    "\n",
    "All the tracks on the album are solid, it is very consistent start to finish. It does not feel like any track is there as filler to turn an EP into an LP. The closing track \"Disambiguation\" reprises the main theme from \"Jawn Henry\" and acts to tie the whole album together and acts as a resolution leaving the listener satisfied. Some other tracks I particularly enjoy on the album are \"Sonny Boy\" which has some real swagger to it (and based on the name I assume is a tribute to Sonny Rollins who is clearly an influence). Another piece that sticks out is \"Indigo (Blue Like)\", in the liner notes JD says: \"the most avant-garde thing that a jazz musician could do today is try to straight up and down swing\" and he is totally right. This tune swings hard but with some Monk inflections and humour thrown in along the way, you can tell they had great fun recording this.\n",
    "\n",
    "> youtube: https://youtu.be/_PyYkauCxVk\n",
    "\n",
    "If you're looking for some \"no-nonsense\" hard hitting modern jazz that respects the past but isn't a prisoner to it; check out \"Graffiti\" through whichever medium you use to purchase your music.\n",
    "\n",
    "The coffee this week is the last of my current batch from PLOT a Peruvian: \"Panchita Irureta Atipanaku Competition Lot\". It is a fully washed Caturra coffee. Peru is not an origin I naturally gravitate towards, but for any real reason. Maybe it's just their seasonality coinciding with other origins that I favour.\n",
    "\n",
    "As a filter you are greeted with a fairly rich and very sweet cup. Notes coming through cherry and a dark forest gateaux sort of vibe. There is also a reasonable amount of mouthfeel, texture and body to the cup. Both the flavour profile and the mouthfeel don't scream \"washed\" you would more naturally associate these things with some sort of natural processing, which is kind of interesting. On the acidity scale I would classify it as a medium, leaning more to sweetness than acidity on a sweet-acid scale. It's certainly an intriguing cup but despite the complexities it is (very) easy to drink and quite satisfying.\n",
    "\n",
    "I have to admit I have struggled to dial in a great espresso with this coffee. It's not that the coffee is \"unforgiving\" (like say a light roast washed Kenyan that ends up like battery acid if you're not careful) - it is fairly easy to get something nice to drink, but getting it to shine took a bit of work. I'm used to dialing in very light roasts (and this is a filter roast afterall and probably on the lighter end of filters even) - I eventually found something that works but it is a little counter-intuitive. Although this coffee is a light washed I found it better to think of it as a medium roast natural coffee (somewhat mimicking its flavour profile in the filter I guess).\n",
    "\n",
    "My espresso machine is a Londinium-R lever machine. It is a fairly simple machine based around a spring-loaded lever group. It has the addition of a digital pre-infusion module that allows you to vary the pressure of the pre-infusion stage which is akin to changing the temperature on some other machines. This pre-infusion pressure is the only variable you really have with this machine. Personally I think this is great, I am not a fan of profiling machines in general as I feel you always end up with a sense of \"if only I varied XXXX a bit I could make this better\" - which leads to a lot of wasted coffee.\n",
    "\n",
    "![](https://github.com/jazzcoffeestuff/blog/raw/master/images/006-Graffiti/Londinium.png \"Londinium-R\")\n",
    "\n",
    "For the bright filter roasts I use for espresso a general rule to follow for the best results is to get the machine very hot and pull a long shot (~2.5:1 typically) quickly (~22s). This does not work for this coffee however, following this procedure and you're left with something quite muted and flat. The major issue seems to be the heat, this coffee does not like heat at all! I dialed back to a temperature more suited to a medium roast espresso and things began to liven up. I than began to systematically fine the grind up a bit, reduce the volume of the shot and extend the time. I eventually settled on a \"typical\" espresso recipe of 2:1 in 27s. It's quite odd to pull a shot like this these days with the sorts of coffee I drink, usually the longest/slowest I'd go is 2.2:1 and 25s and even that is rare. The results of the espresso investigation led me to change my filter technique for this coffee too, I usually set my kettle hot and re-heat between pours. With this coffee I reduced the temperature by 5 degrees celcius and didn't re-heat, the coffee thanked me for it (but I doubt I'll be using these settings for my next bag of coffee!)\n",
    "\n",
    "Once dialled in however the coffee really speaks as an espresso, it's bold and vibrant with the black forest gateaux hitting you in the face with full force. As in the filter it's (very) sweet but there isn't a mountain of acidity. I could imagine this coffee not being too off-putting for those used to a more developed espresso roast, however being roast less means the flavours are incredibly clean. The mouthfeel is quite syrupy with lots of body, again it's a complex but satisfying affair.\n",
    "\n",
    "Overall of the 3 PLOT coffees I tried this was (eventually) my favourite espresso of the 3, which is some achievement as they were all great in their own ways. You might need to work at it a bit but I think it's worth the hassle for the results in the cup! And it is especially to suited to being consumed while listening to JD Allen's Graffiti."
   ]
  }
 ],
 "metadata": {
  "kernelspec": {
   "display_name": "Python 3",
   "language": "python",
   "name": "python3"
  },
  "language_info": {
   "codemirror_mode": {
    "name": "ipython",
    "version": 3
   },
   "file_extension": ".py",
   "mimetype": "text/x-python",
   "name": "python",
   "nbconvert_exporter": "python",
   "pygments_lexer": "ipython3",
   "version": "3.7.4"
  }
 },
 "nbformat": 4,
 "nbformat_minor": 2
}

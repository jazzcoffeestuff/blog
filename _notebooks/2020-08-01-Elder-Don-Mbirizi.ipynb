{
 "cells": [
  {
   "cell_type": "markdown",
   "metadata": {},
   "source": [
    "# \"Elder Don and Round Hill Mbirizi\"\n",
    "> \"In this blog post we look at another Round Hill coffee from Burundi called Mbirizi and we talk about drinking vessels for coffee. We also take things easy with a 1962 Blue Note soul-jazz record 'Elder Don' by Don Wilkerson\"\n",
    "- toc: false\n",
    "- author: Lewis Cole (2020)\n",
    "- branch: master\n",
    "- badges: false\n",
    "- comments: false\n",
    "- categories: [Jazz, Coffee, Don-Wilkerson, 1960s, Round-Hill, Burndi, Washed-Process, Bourbon]\n",
    "- hide: false\n",
    "- search_exclude: false\n",
    "- image: https://github.com/jazzcoffeestuff/blog/raw/master/images/016-Elder-Don/Elder_Don.jpg"
   ]
  },
  {
   "cell_type": "markdown",
   "metadata": {},
   "source": [
    "> youtube: https://youtu.be/NgYMCntcTBg\n",
    "\n",
    "This week we are sticking with the Round Hill Roastery with a filter roast from Burundi - an origin that has featured on the blog a few times in the past. This particular example is a washed Bourbon varietal, the coffee takes its name after the washing station where it was processed: Mbirizi. It is located in the north of the country close to the border with Rwanda. As far as I can tell this one has an SCA score of 87 and so we expect some quality in this cup!\n",
    "\n",
    "As in the previous post this coffee arrived in brown paper packaging instead of the usual baby blue you would expect from a Round Hill filter roast. As I stated I was never much of a fan of the blue/pink packaging so this was a welcome change. Yesterday however Round Hill announced a new packaging style (in the usual blue/pink colourways) - and I have to say I like it much more:\n",
    "\n",
    "![](https://github.com/jazzcoffeestuff/blog/raw/master/images/016-Elder-Don/roundhillbag.jpg)\n",
    "\n",
    "This gives the coffee a more modern and clean look which I really like. I'm a firm believer that packaging matters a lot with coffees, the moment you get the bag in your hand you subconciously begin to develop expectations. If the bag is not aesthetically pleasing or looks \"amateur\" it is hard to get rid of this when it comes round to tasting the coffee itself. So I am very happy to see this new packaging and will look forward to my next Round Hill order to see how it looks \"in the flesh\".\n",
    "\n",
    "In a similar way I also believe that the drinking vessel you use makes a big difference to how you perceive your coffee. I have tried a wide variety of cups for filter and demitasse for espresso and for me a few things seem to make a real difference. Firstly for filter I prefer a \"cup\" style with no handle as opposed to a mug, the hand warming sensation of grabbing a cup adds to the overall experience and feels more interactive. Secondly in terms of shape I tend to gravitate towards taller, thinner cups instead of shorter, squatter cups. The thin and tall nature of the cup means you have to tilt your head back slightly further to take a sip and so the aromatics can flow into the nostrils better, the sharper radius of the cup also means the coffee does not fill the mouth quite as much with each sip - you sacrifice a \"big mouthfeel\" but I find it easier to pick out more delicate acidic notes which are the ones I gravitate towards. I also like a thinner rim to drink from as an experience - this also helps the coffee cool quicker since there's less thermal mass. In terms of demitasse I go for much the same qualities really, although it is hard to find many thinner rim espresso cups since most want to keep the beverage hot for longer. Personally I'd rather the sensation of drinking from the thin rim in the knowledge I have to drink it quicker (since it's an espresso how long will it stick around anyway?) I also find sizing an issue with demitasse, many are larger than I would like since (I assume) they are designed in a way that allows you to make a macchiato/cortardo/etc. but I never bother with those. There is something upsetting about seeing an espresso barely make its way halfway up a cup! In terms of material I do not enjoy glass very much, although it is great to see the definition of the crema or clarity of the filter in them, so am usually looking for ceramic/porcelain. The \"earthenware\" style cups are nice to hold but again I do not like the drinking experience quite as much. And of course a paper takeaway cup is about the worst experience one can have, even without thinking about the environmental implication. But this is all personal preference so I'd suggest just trying a few different things and seeing what works for you and sometimes you may have recieved a cup as a gift and so you associate it with a loved one, in which case none of the \"technical\" stuff matters!\n",
    "\n",
    "Moving onto the coffee itself: as usual starting with the filter. This coffee is one of the most sensitive to temperature I think I've ever seen. First cup I made I took the first sip while it was still quite hot and thought I had made a big mistake. There was no flavour definition and it was just kind of muddled. However letting it cool down a few degrees and it really comes alive. The cup is fairly complex, there are orange and grapefruit citrus flavours there, I notice raspberries too and an almost red-wine like vibe to the whole thing. In the aftertaste I'm left with a tea-like floral quality that is very clean. Very nice and super interesting yet surprisingly easy to drink too. Unfortunately I find if it cools too much it starts to deteriorate and lose balance, so there's a relatively narrow temperature window for this coffee for me. I guess this would be a perfect coffee to use with a temperature controlled ember mug! As an espresso this coffee is an interesting one, based on the filter I was convinced I needed to use my \"typical\" filter roast espresso style, quick hot long pulls, but this wasn't right. By no means unpleasant but it seemed to lack a bit of punch. I dialed back to something closer to a \"traditional\" recipe and it really came alive. The red wine-y thing really jumped out at first, the citrus flavours were a little muted but that same aftertaste that I liked in the filter was still there - in fact it was a more intense aftertaste in the espresso which was certainly welcomed. Overall I enjoyed this one a lot and it is certainly quirky, I imagine with more time to play around I could uncover some more interesting things about this coffee.\n",
    "\n",
    "Moving swiftly onto this weeks jazz. This week has been a busy one in JazzCoffeeStuff HQ and so I've been craving simplicity in the music I've been listening to. One place I like to go for simplicity is the Blue Note \"Soul Jazz\" movement of the 1960s (which we have visited before with Lou Donaldson). In digging through the archives I re-discovered an oft-overlooked artist: Don Wilkerson. After much deliberation I decided to settle on the album \"Elder Don\" (but don't ask me tomorrow or I'll pick a different one from his trio of Blue Note recordings).\n",
    "\n",
    "![](https://github.com/jazzcoffeestuff/blog/raw/master/images/016-Elder-Don/Elder_Don.jpg)\n",
    "\n",
    "Don Wilkerson is not really a \"name\" in jazz, I would go as far as to say even some hardened jazz fans might not even recognise the name. He has very limited recorded output, he has 3 records on Blue Note (\"Elder Don\", \"Preach Brother\" and \"Shoutin'\") and an earlier record on Riverside (\"Texas Twister\"). However it is highly likely you will have heard him play: he recorded sax solos on some of Ray Charles biggest hits such as \"I Got a Woman\" and \"Hallelujah I Love Her So\". He is known for a powerful and confident tenor sound. This is about the limits of my knowledge about him, as I say he's very underappreciated.\n",
    "\n",
    "The line up on \"Elder Don\" is:\n",
    "- Don Wilkerson - tenor saxophone\n",
    "- John Acea - piano\n",
    "- Grant Green - guitar\n",
    "- Lloyd Trotman - bass\n",
    "- Willie Bobo - drums\n",
    "\n",
    "Who apart from Green (and maybe Bobo) are not what you would call \"big names\" in jazz. In fact I would struggle to name any other recrdings featuring Acea or Trotman at all. This doesn't matter however since on this album they are great.\n",
    "\n",
    "Embedded above is the 3rd track, closing side A of the record called \"Scrappy\", it is probably the most \"hard bop\" this record gets. The main melody comprising of a cool doubled line between Wilkerson and Green. The Wilkerson powerful tenor sound is there throughout his solo which is relatively simple melodically and harmonically but packs a punch. This is followed by a typical Grant Green masterclass in jazzy-blues. As a guitarist myself I've always respected the laid-back approch Green has, it's very easy for a guitarist to get \"too excited\" and throw too many notes around but Green never does this. I'm also a big fan of his guitar tone, many jazz guitarists have pretty questionable tone in my experience but Green's is always great - punchy and throaty sounding. I'm not sure but it sounds like he's using his Gibson 330 on this record.\n",
    "\n",
    "Despite \"just\" being a soul-jazz record \"Elder Don\" actually covers a lot of ground. The opening track \"Señorita Eula\", as the name suggests takes a latin influence to the soul-jazz or hard-bop sound. The main left hand riff of Acea also has a strong Professor Longhair influence to it. The record thus starts with a celebratory party atmosphere. The latin influence moves to Cuba in the 2nd track \"San Antonio Rose\" - these two tunes leaning into the Willie Bobo wheelhouse which gives a feeling of authenticity. The final track on the album \"Poor Butterfly\" is a soft slow ballad, very different from the preceeding tracks and gives the album some depth.\n",
    "\n",
    "> youtube: https://youtu.be/3Ui-6AryejQ\n",
    "\n",
    "My choice pick on the album however is \"Lone Star Shuffle\". As the name suggests this is a simple blues shuffle. As much as I love sophisticated jazz harmony sometimes a basic blues played with attitude is all you need. Both Wilkerson and Green are totally at home playing a shuffle, their playing will not blow you away with sophistication or complexity but it has its place.\n",
    "\n",
    "Overall the album is probably not a \"must listen, all time classic\" that you need to own in your collection. It does serve a purpose however when you don't want to think too much or perhaps you just need something on in the background there are certainly worse records to serve that purpose. There is often a bit of jazz snobbery whereby only the most complicated, sophisticated and groundbreaking records/artists get respect - but for me there's a time and place for the less adventurous stuff too."
   ]
  },
  {
   "cell_type": "code",
   "execution_count": null,
   "metadata": {},
   "outputs": [],
   "source": []
  }
 ],
 "metadata": {
  "kernelspec": {
   "display_name": "Python 3",
   "language": "python",
   "name": "python3"
  },
  "language_info": {
   "codemirror_mode": {
    "name": "ipython",
    "version": 3
   },
   "file_extension": ".py",
   "mimetype": "text/x-python",
   "name": "python",
   "nbconvert_exporter": "python",
   "pygments_lexer": "ipython3",
   "version": "3.7.4"
  }
 },
 "nbformat": 4,
 "nbformat_minor": 2
}

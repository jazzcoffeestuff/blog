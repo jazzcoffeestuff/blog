{
 "cells": [
  {
   "cell_type": "markdown",
   "metadata": {},
   "source": [
    "# \"Virtuoso and Icon 10\"\n",
    "> \"This week we have another Icon Series coffee from the folks at Plot Coffee Roasting. This time we have a super interesting Wush Wush cultivar that is processed with a Honey-Carbonic-Maceration. For the Iconic jazz we serve up Joe Pass' 1973 landmark release 'Virtuoso'.\"\n",
    "- toc: false\n",
    "- author: Lewis Cole (2021)\n",
    "- branch: master\n",
    "- badges: false\n",
    "- comments: false\n",
    "- categories: [Jazz, Coffee, Joe-Pass, 1970s, Plot, Wush-Wush, Honey, Carbonic-Maceration, Colombia]\n",
    "- hide: false\n",
    "- search_exclude: false\n",
    "- image: https://github.com/jazzcoffeestuff/blog/raw/master/images/078-Virtuoso/Virtuoso.jpg"
   ]
  },
  {
   "cell_type": "markdown",
   "metadata": {},
   "source": [
    "> youtube: https://youtu.be/wI0Fz8kUXmQ\n",
    "\n",
    "This week we have another \"Icon Series\" coffee from Plot Coffee Roasting in Woolwich, London. As you may recall the Icon series represents some of the more sort after and rare coffees available, and as part of the 10th installment in this series we have another special coffee.\n",
    "\n",
    "As with many of the Icon coffees its the cultivar that makes this coffee unique: in this case we have a \"Wush Wush\" cultivar. You can think of Wush Wush as the precocious younger brother to the Gesha cultivar. Like Gesha it has its origins in Ethiopia but has since been exported to other areas, with most (that I've seen at least) being grown in Colombia. Also like Gesha, Wush Wush is low yielding and quite difficult to grow - but the cup profile makes up for this. At date of writing the Wush Wush cultivars haven't quite gained the popularity of Gesha, and while not \"cheap\" they typically don't reach quite the stratospheric prices of the most prized Gesha coffees.\n",
    "\n",
    "In addition to cultivar this coffee is interesting for its processing which is described as a \"Honey, Carbonic Maceration\". The fruits are picked and fermented for 24 hours before being pulped and paced in a carbonic maceration tank to (anaerobically) ferment for another 24 hours. The coffee is then dried for a total of 20 days split between a drying structure and a poly-tunnel until the desired humidity levels are reached.\n",
    "\n",
    "But all of this is moot unless the resulting coffee tastes great, so let's dive into it. On the dry aroma the first thing I note is \"sweet\", upon opening the bag you can tell this one will be a very sweet one. I would describe the sweetness as being like a honey or quite a dark caramel type sweetness. Alongside there are some fruity notes but they're hard to pick out due to the honey being dominant. I also pick up some florality but again it's somewhat masked.\n",
    "\n",
    "As usual moving onto the filter cup: the sweetness I picked up on the nose is instantly noticable here. This is a very sweet cup indeed. Whereas a Gesha might lean more onto floral notes the Wush Wush is known for leaning more into sweetness. The fruity notes on the nose become clearer in the cup and I would desribe them as being like a pommegranate or sharp citrus. This is not a highly acidic cup but there is enough there to cut the sweetness. As the cup cools the cup becomes more complex and some of the floral notes come out. Elderflowers, jasmines and chamomile type notes are present as the cup cools. The tasting notes include \"lemongrass\" as a descriptor but this is not something I really notice personally. I would describe the body of the cup as being a medium, I've certainly had chewier cups but there is something there.\n",
    "\n",
    "As an espresso I found this coffee to be very strong also. I ultimately landed on a 1:2.5 sort of ratio in around 22s (as is typical with my new grinder). Again the major note in the cup is the honey sweetness. As an espresso you can really notice just how \"clean\" this coffee is too. Unfortunately some of the more complex notes are a little harder to pick up on but it is still a fantastic cup and very drinkable. I would say as a filter is where this coffee shines however.\n",
    "\n",
    "At this point the Plot Icon series has gone 10 for 10 in terms of picking some great coffees, I'm very interested to see if they close out the year with a bang.\n",
    "\n",
    "For the iconic jazz this week I found myself dusting off a 1973 release: \"Virtuoso\" by Joe Pass.\n",
    "\n",
    "![](https://github.com/jazzcoffeestuff/blog/raw/master/images/078-Virtuoso/Virtuoso.jpg)\n",
    "\n",
    "Joe Pass is widely considered to be one of the all time great jazz guitarists. He often played with the likes of Oscar Peterson and, perhaps most famously, Ella Fitzgerald. In addition he also recorded with the likes of Milt Jackson, Zoot Sims, Herb Ellis, Count Basie and many more. His discography reads like a \"who's who\" of the jazz world spanning from the early 1960s through to his death in 1994. He has inspired countless jazz guitarists (and other musicians) through the years and is one of the first names you'll hear if you ask anybody to name a jazz guitarist - and for good reason.\n",
    "\n",
    "> youtube: https://youtu.be/wgnaxuVv6Ag\n",
    "\n",
    "\"Virtuoso\" is considered one of the highlights of his career. We have to start by mentioning the title, it takes a certain amount of balls to release an album called \"Virtuoso\". In doing so you essentially put a target on your back and every other musician picking up the album listens with an attitude of \"oh really?\". This goes to show the ability of Joe, since nobody holds that against him (and in fact he even released follow up albums \"Virtuoso no.2\", \"Virtuoso no.3\" and \"Virtuoso no.4\"). In fact \"Virtuoso\" even became somewhat of a blue-print for how all future solo jazz guitar should be played. Even now we can hear the influence in (for example) a modern player like Pasquale Grasso.\n",
    "\n",
    "On \"Virtuoso\" Joe manages to combine his chord playing (although he didn't refer to them as chords rather: \"grips\") with single note lines. While his chops are, obviously, impressive - it is the musicality with which he plays that is the real star. The album is made up of (almost) entirely standards and so there's a certain amount of \"respecting the tune\" that is required. There is often a temptation, especially when playing solo, to just throw all your chops and re-harmonization ideas at a tune. When the album is called \"Virtuoso\" that temptation is likely even stronger. But Joe manages to toe the line perfectly, managing to show off his enviable abilities but at the same time create something that is enjoyable to listen to.\n",
    "\n",
    "The choice of tune on the album is fairly \"basic\": they're pretty much all \"crowd pleaser\" type standards that we all know and love. This adds another level of pressure to the performance since we've all heard these tunes performed in all variety of ways previously. There is one Joe Pass original on the album \"Blues for Alican\", which as one would expect is a swinging jazzy blues.\n",
    "\n",
    "Picking out my \"choice tunes\" on the album is very difficult here, each tune is a masterclass in jazz guitar and worthy of investigation. From the opening \"Night and Day\" which is pure Joe, through the improvised take on \"Cherokee\" featuring some manic single note lines, through the dark an pensive rendition of Monk's \"'Round Midnight\".\n",
    "\n",
    "Perhaps the highlight of the album, however, is the stunning take on \"All The Things You Are\" (embedded at the start of this post). Which manages to mix some beuatiful voicings on the main melody with some toe-tapping high tempo swing and dazzling single-note lines. When I think of \"Virtuoso\" this is usually the first tune I think of. Another track that comes to mind is \"Have You Met Miss Jones?\" (above) - partly because it's not a tune that I know many good renditions of, but also due to Joe's use of walking basslines throughout. The album closer \"The Song Is You\" (below) is another highlight owing to Joe's playful use of timing throughout.\n",
    "\n",
    "As with all of the \"Icon Series\" albums: \"Virtuoso\" is certainly in the \"essential listening\" category. If you are a fan of jazz guitar, or jazz in general, you owe it to yourself to check out Joe if he is new to you - and \"Virtuoso\" is possibly the best place to start.\n",
    "\n",
    "> youtube: https://youtu.be/0EnuWgTVQUU"
   ]
  },
  {
   "cell_type": "code",
   "execution_count": null,
   "metadata": {},
   "outputs": [],
   "source": []
  }
 ],
 "metadata": {
  "kernelspec": {
   "display_name": "Python 3",
   "language": "python",
   "name": "python3"
  },
  "language_info": {
   "codemirror_mode": {
    "name": "ipython",
    "version": 3
   },
   "file_extension": ".py",
   "mimetype": "text/x-python",
   "name": "python",
   "nbconvert_exporter": "python",
   "pygments_lexer": "ipython3",
   "version": "3.8.8"
  }
 },
 "nbformat": 4,
 "nbformat_minor": 2
}

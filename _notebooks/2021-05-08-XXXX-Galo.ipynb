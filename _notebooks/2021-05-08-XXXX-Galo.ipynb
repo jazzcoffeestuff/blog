{
 "cells": [
  {
   "cell_type": "markdown",
   "metadata": {},
   "source": [
    "# \"XXXX and Galo Semlantes Finca Santa Rosa\"\n",
    "> \"This week we have a Ecuadorian coffee from Exeter's Crankhouse Coffee Roasters. Alongside we look at the brand new free jazz wild ride: 'XXXX' by Wollny-Parisien-Lefebvre-Lillinger.\"\n",
    "- toc: false\n",
    "- author: Lewis Cole (2021)\n",
    "- branch: master\n",
    "- badges: false\n",
    "- comments: false\n",
    "- categories: [Jazz, Coffee, Wollny-Parisien-Lefebvre-Lillinger, 2020s, Crankhouse, Typica-Mejorado, Washed, Ecuador]\n",
    "- hide: false\n",
    "- search_exclude: false\n",
    "- image: https://github.com/jazzcoffeestuff/blog/raw/master/images/055-XXXX/XXXX.jpg"
   ]
  },
  {
   "cell_type": "markdown",
   "metadata": {},
   "source": [
    "> youtube: https://youtu.be/_D_bUSS64W4\n",
    "\n",
    "This week on the blog we feature a new roaster: Crankhouse Coffee - not a new roaster in general terms but a new roaster in terms of this blog. Crankhouse are based in Exeter and have been known for cranking out good quality and interesting coffees for many years. Unfortunately for them they are a roaster I often \"forget\" about and should really buy from more often.\n",
    "\n",
    "The coffee we're looking at today is \"Galo Semlantes Finca Santa Rosa\" it is an Ecuadorian, Typica Mejorado cultivar. We talked about this cultivar fairly recently in another post so we won't retread that ground again here. In addition to the origin/cultivar, which usually indicates a high quality cup, the processing of this coffee is intriguing. It is described as a \"washed double fermentation\". After being picked/selected cherries are placed in sealed fermentation tanks for 48 hours until an exact pH of 4.1 is achieved. They are then pulped and placed in open tanks for another 48 hours until the pH reaches 3.7. The coffee is then fully washed and dried on African beds to reach a humidity of 11%. Finally coffee is left in bags for a month to stabilise. This is clearly a complicated and exacting process. It is definitely nice to see processing develop through the years, when I first got into specialty the processing was described as: \"left to dry in the sun, turning occassionally\" - quite a far cry from the scientific approaches adopted today.\n",
    "\n",
    "No amount of complex processing and exotic cultivars matter unless the quality in the cup is also good. So let's dive straight in. On the dry aroma I do not get a huge bouquet or sillage. There are pleasant caramel notes and a delicate florality to the nose but it is not a heavy hitter. This comes across as a very polite, refined and complex coffee - the exact style that I tend to enjoy.\n",
    "\n",
    "As a filter I am reminded of a very specific product that likely nobody but me will remember: when I was very young there was a very sweet \"peach water\" that came in a frosted glass bottle. The intial flavour hit of this coffee is remarkebly similar to this. It has a sugary sweet syrupy taste and really delicate peach notes to it. There are also notes of sweet nectarine and a stick rosehip floral note also. This is kind of like an Ethiopian coffee with the volume turned up. The flavours are quite intense but still have a high level of clarity. It is a fairly \"linear\" coffee and the flavour profile doesn't really change much as the cup cools, this makes it very easy to drink.\n",
    "\n",
    "Moving onto the espresso: this coffee was one of the easier coffees to dial in. Fairly traditional recipes tend to work well with it and you can get some good syrupy mouthfeel out of it. The flavour profile is similar to the filter, but obviously much more concentrated. It's almost like a highly reduced necatarine syrup, extremely drinkable and in terms of pure flavour one of the most tasty. As an espresso some of the more interesting rosehip like florals get lost however, so it's not the most complex shot around, but there is a place for super tasty easy to drink espresso that does not require much brain power to enjoy.\n",
    "\n",
    "All in all a good showing from Crankhouse and a good reminder that I should order from them more often.\n",
    "\n",
    "On the jazz side this week we're going to take a first look at the new album \"XXXX\" from Wollny, Parisien, Lefebvre and Lillinger on the ACT record label.\n",
    "\n",
    "![](https://github.com/jazzcoffeestuff/blog/raw/master/images/055-XXXX/XXXX.jpg)\n",
    "\n",
    "We should probably start with fair warning: this is not an \"easy\" album to listen to. This one is comfortably within the avant-garde, free end of the spectrum. The music on show is almost entirely improvised (with the exception of one piece arranged by Wollny). It is very exploratory and pushes the boundaries, not something you would want to just \"put on in the background\".\n",
    "\n",
    "The album is listed under the names of all 4 players on the record, with pianist Michael Wollny taking \"headline\" spot. Wollny is more known for his \"straight ahead\" sensibilities typically in piano trio and duo formats. I have not heard everything he has ever recorded but I believe this is his first foray into fully free froms. I have seen Wollny live a few times in the past and my reaction has always been: \"that was good, but it didn't move me\". \"XXXX\" has certainly made me stop and take note. On the album he plays both acoustic, electric and synth instruments and there is extensive use of layering throughout. He definitely takes at least some inspiration from electronic and dance music and comparisons to Jean Michel Jarre instantly come to mind.\n",
    "\n",
    "> youtube: https://youtu.be/lRze7bfpFg0\n",
    "\n",
    "Alongside Wollny are regular stable mates: Soprano saxophonist Emile Parisien and bassist Tim Lefebvre. You can tell that these guys are completely comfortable playing with each other. In a free structureless setting you have to be completely comfortable that your bandmates will get you out of trouble otherwise the whole project can become a disaster. There is often a misconception that playing free is \"easy\" and you just \"make stuff up\" - this is definitely not the case, as evidenced by the countless dreadful free projects that have spun up over the years.\n",
    "\n",
    "The real driving force behind this album, however, is drummer Christian Lillinger. He brings such sheer energy to the music, it is almost impossible not to be swept up in it. He plays with such reckless abandon, but still manages to capture the right moment to bring the tempo down and when to sit out entirely. It is a truly incredible performance.\n",
    "\n",
    "The music takes many twists and turns it is almost impossible to cover everything. There are truly out there free jazz moments, followed by 70s rock-fusion, electronic dance music, heavy funk grooves and down tempo ballad like passages too. I find the album has almost a meditative or hallucinogenic quality even amidst the craziness. I'm clearly not alone in this since the cover-art features the chemical structure of psilocybin - the active component of magic mushrooms. It is an album best listened to start to finish as an entire piece so I have not mentioned individual tracks here (although you can find a few embedded in this post). \n",
    "\n",
    "While this album is not one for everybody it is a truly fantastic achievement and a release I'm thoroughly enjoying. If you want to hear some original modern jazz there are far worse places to start than \"XXXX\".\n",
    "\n",
    "\n",
    "> youtube: https://youtu.be/zcO77Q2bfVM"
   ]
  },
  {
   "cell_type": "code",
   "execution_count": null,
   "metadata": {},
   "outputs": [],
   "source": []
  }
 ],
 "metadata": {
  "kernelspec": {
   "display_name": "Python 3",
   "language": "python",
   "name": "python3"
  },
  "language_info": {
   "codemirror_mode": {
    "name": "ipython",
    "version": 3
   },
   "file_extension": ".py",
   "mimetype": "text/x-python",
   "name": "python",
   "nbconvert_exporter": "python",
   "pygments_lexer": "ipython3",
   "version": "3.7.4"
  }
 },
 "nbformat": 4,
 "nbformat_minor": 2
}

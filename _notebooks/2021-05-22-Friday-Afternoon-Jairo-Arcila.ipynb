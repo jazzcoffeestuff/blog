{
 "cells": [
  {
   "cell_type": "markdown",
   "metadata": {},
   "source": [
    "# \"Friday Afternoon in the Universe and Jairo Arcila\"\n",
    "> \"This week we head back to Crankhouse coffee with a wild and funky natural coffee from Colombia. Alongside we lookback to the mid 90s and Medeski Martin and Wood with their third album 'Friday Afternoon in the Universe'\"\n",
    "- toc: false\n",
    "- author: Lewis Cole (2021)\n",
    "- branch: master\n",
    "- badges: false\n",
    "- comments: false\n",
    "- categories: [Jazz, Coffee, Medeski-Martin-Wood, 1990s, Crankhouse, Castillo, Natural, Colombia]\n",
    "- hide: false\n",
    "- search_exclude: false\n",
    "- image: https://github.com/jazzcoffeestuff/blog/raw/master/images/057-Friday-Afternoon/Friday-Afternoon.jpg"
   ]
  },
  {
   "cell_type": "markdown",
   "metadata": {},
   "source": [
    "> youtube: https://youtu.be/9zz-WKAlTvQ\n",
    "\n",
    "On the blog this week we're heading back to Exeter and the folks at Crankhouse Coffee. A couple of weeks ago we looked at a rather elegant Ecuadorian cup from them, this week we are going much wilder with a coffee from Colombia.\n",
    "\n",
    "The coffee is called Jairo Arcila Villarazo Natural (EF2) - the farm is located in Quindio and the cultivar is Castillo. The suffix EF2 refers to \"extended fermentation 2 extra days\". As you may have guessed by now we're looking at a highly fermeneted natural coffee here. The process is described as: an initial 24 hours dry anaerobic fermentation. Following this the cherries are placed into bags and stored at 22 celcius (through use of a water tank) for an additional 60 hours. The cherries then dry on raised beds until an 18% moisture content before going back in the bags for 50 hours and dried on raised beds until the moisture is 10.5%. The sheer extent of the fermentation suggests this is going to be a very funky cup.\n",
    "\n",
    "Diving right into the coffee itself: on the dry aroma you get that unmistakable \"natural funk\" - it always reminds me of black forest gateaux, bruised fruits and sherry. To me this is not a \"tropical fruit\" type natural/anaerobic - more of a deeper boozy sort of natural. I do not typically go for these sorts of coffees but it is always nice to mix things up every now and again.\n",
    "\n",
    "Served as a filter using my usual method: the first thing to note is that although this coffee is fairly high on the funk-o-meter it still has a good deal of clarity in the cup. The finish is long lasting but is fairly \"clean\" in nature. For me the major flavour notes are: bruised blueberries and cherry brandy. There is also an acidity that almost cuts through I would describe it as perhaps like a pink grapefruit, it is fairly subtle but it's just present enough to stop the cup being too cloying. As you'd expect the sweetness is very high and there is quite a lot of body - although it's not one you'll have to chew.\n",
    "\n",
    "As an espresso this coffee really shines. The sheer amount of sweetness means you can really cut back on the ratio to make the most of the mouthfeel. I found good results down to around 1:1.5 - knocking on the door of being a ristretto. In such a concentrated shot you get huge intensity and a luscious body, it almost feels like a dessert. Most coffees I tend to go for don't perform well as ristretto (in my opinion at least) so it is nice to come across one every now and again. The flavour notes are much the same as in the filter although the acidity disappears and the boozy notes are amplified.\n",
    "\n",
    "Although outside of my typical coffee preferences I highly enjoyed drinking this one. It also goes to show the variety on offer at Crankhouse that you can have a super polite and refined washed Ecuadorian and this all-aboard-the-funky-bus natural Colombian from one roaster.\n",
    "\n",
    "For the jazz this week it feels only right to go down the funky route. I have chosen an old favourite of mine: the 1995 release \"Friday Night in the Universe\" by Medeski, Martin and Wood.\n",
    "\n",
    "![](https://github.com/jazzcoffeestuff/blog/raw/master/images/057-Friday-Afternoon/Friday-Afternoon.jpg)\n",
    "\n",
    "I've mentioned this a few times on the blog but Medeski, Martin and Wood (MMW) were one of the first jazz acts I got into heavily. Before them I had mostly been listening to the \"classics\" by (mostly) musicians who had passed long before I started listening to them. With MMW there was a band writing and performing new music who I could see live and I was all for it. They were also one of the first bands I can remember forming a new \"scene\". They were pretty much the first of the 90s/00s wave of bands lugging wurlitzers and hammonds around gigs and managed to capture a \"cool\" younger crowd with live shows focussed on dancing and partying as opposed to the typical quieter and more respectful jazz audiences. This of course spun up many copy-cat acts trying to capture the same vibe but none felt as authentic as MMw.\n",
    "\n",
    "> youtube: https://youtu.be/b1-5jmuUkvM\n",
    "\n",
    "Many years ago MMW were in fact one of the first acts I ever saw at Ronnie Scott's - but unfortunately it was not the best gig I've ever been to. Their setlist was pitfully short (max 30 minutes) and they didn't seem to be enjoying their time playing. It was quite a devastating gig given how much I was looking forward to seeing them live. Thankfully this was a one off and I saw them many times since and have not been disappointed (a gig with John Scofield was a particular highlight).\n",
    "\n",
    "It's interesting to see where \"Friday Night in the Universe\" sits within the MMW discography. Their first album \"Notes from the Underground\" does not feature the trademark organ sounds, it is a good album but does not \"feel\" like the MMW we know now. The second album \"It's a Jungle in Here\" begins to feature more organ sounds but is still heavily rooted in funk (of the Sly and the Family Stone type). Then came \"Friday Night in the Universe\" - here the organ sounds are expanded and the band started to play with the avant-garde. The avant-garde became a key component of the MMW sound, they would often switch from hard hitting funk to some of the most out there music in the blink of an eye. It's for that reason I consider \"Friday Night in the Universe\" the album were MMW hit their stride.\n",
    "\n",
    "Perhaps the biggest \"hit\" off the album is \"Chubb Sub\" (embedded at the start of this post) - it showcases the MMW funk grooves in full swing. John Medeski providing the hip organ sounds, Billy Martin playing with the laid-back rock grooves and Chris Wood holding the whole thing together with some really restrained upright bass lines. Some of the MMW avant-garde craziness is shown on the short track \"House Mop\" (above) - despite being fairly free form there is still a sense of groove. The avant-garde is something they lent into heavily with their later work with John Zorn. You also have pieces such as \"Last Chance to Dance Trance (Perhaps)\" (below) - here the focus is more on dancing/partying with a heavy latin influence to the meter. \n",
    "\n",
    "> youtube: https://youtu.be/qxSFlooNldQ\n",
    "\n",
    "With such a variety of tracks on \"Friday Night in the Universe\", the album becomes a microcosm of both \"old\" and \"new\" MMW. It in some sense bridges the gap between much of their other work. It is an album I often find myself coming back to and one well worth hunting down if you have not yet heard it."
   ]
  },
  {
   "cell_type": "code",
   "execution_count": null,
   "metadata": {},
   "outputs": [],
   "source": []
  }
 ],
 "metadata": {
  "kernelspec": {
   "display_name": "Python 3",
   "language": "python",
   "name": "python3"
  },
  "language_info": {
   "codemirror_mode": {
    "name": "ipython",
    "version": 3
   },
   "file_extension": ".py",
   "mimetype": "text/x-python",
   "name": "python",
   "nbconvert_exporter": "python",
   "pygments_lexer": "ipython3",
   "version": "3.7.4"
  }
 },
 "nbformat": 4,
 "nbformat_minor": 2
}

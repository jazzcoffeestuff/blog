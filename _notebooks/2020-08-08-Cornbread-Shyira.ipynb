{
 "cells": [
  {
   "cell_type": "markdown",
   "metadata": {},
   "source": [
    "# \"Cornbread and Assembly Shyira\"\n",
    "> \"In this blog post we head back to Assembly Coffee Roasters and their Rwandan Shyira coffee. On the jazz front we look at the 1967 Blue Note release 'Cornbread' from the truly fantastic Lee Morgan.\"\n",
    "- toc: false\n",
    "- author: Lewis Cole (2020)\n",
    "- branch: master\n",
    "- badges: false\n",
    "- comments: false\n",
    "- categories: [Jazz, Coffee, Lee-Morgan, 1960s, Assembly, Rwanda, Washed-Process, Red-Bourbon]\n",
    "- hide: false\n",
    "- search_exclude: false\n",
    "- image: https://github.com/jazzcoffeestuff/blog/raw/master/images/017-Cornbread/Cornbread.jpg"
   ]
  },
  {
   "cell_type": "markdown",
   "metadata": {},
   "source": [
    "> youtube: https://youtu.be/98IWJDnmSxU\n",
    "\n",
    "This week we're going to keep the blog post tight since I have been pretty busy and haven't had a lot of time to plan what I'm going to write. We are heading back to our friends at Assembly Coffee Roasters located in Brixton London. The coffee in question is called Shyira and is a red-bourbon varietal from Rwanda. Shyira is the name of the mill where the coffee is processed, it is located in the Nyabihu region of the country which shares a border with the Democratic Republic of Congo to the north.\n",
    "\n",
    "Earlier this year (May 7th 2020) Shyira and surrounding areas were subject to rather catastrophic landslides. As a result Assembly have very kindly decided to donate all profits from the sale of this coffee to the relief fund: https://www.gofundme.com/f/Rwandan-landslide - if you would like to help feel free to donate to the page or buy a bag of the coffee at: https://assemblycoffee.co.uk/collections/buy-coffee/products/rwanda-shyira\n",
    "\n",
    "As regular readers will know, Assembly decorate each coffee with a \"swirl\" which somewhat reflects the flavour profile of the coffee for this coffee we have:\n",
    "\n",
    "![](https://github.com/jazzcoffeestuff/blog/raw/master/images/017-Cornbread/shyira.jpg)\n",
    "\n",
    "Moving swiftly on to the coffee itself: the dry aroma gives hints of caramel and a slight spice but the over-arching quality is vibrant and zingy with plenty of citrus fruits. From the moment you open the bag you know it's going to be in for a lot of bright acidity here. As is customary in this blog we start with a filter coffee: the flavour notes on the bag are \"pink grapefruit\", \"lemonade\" and \"vibrant\" - and I certainly couldn't think of a better description than that, for me that is right on the money. The grapefruit is very much in your face from the getgo, the lemonade appears as a sweetness to balance but there is also an almost carbonated vibe to the coffee (not in as much as it's actually fizzy, but as a flavour as you get with carbonated water/drinks). Although acidity is the focus it is not over-bearing and is not like drinking vinegar at all, it is very well balanced. This is a truly expertly roasted coffee. In terms of mouthfeel and body it is relatively thin but not devoid of any body. The aftertaste is clean and fairly shortlived. Overall extremely enjoyable as a filter, one I very sadly miss now the bag is finished.\n",
    "\n",
    "One might assume with a light roast filter coffee that is very acidity focussed this would be an absolute nightmare to dial in as an espresso, I did not find this to be the case at all. It is surprisingly forgiving and I didn't have a single shot that was less than \"very good\" even when dialing in. I ultimately settled for a fairly \"traditional\" recipe of around a 2.2:1 ratio in about 27s. Usually a pull quite a bit longer than this for a lighter filter roast but with this one it could hold together at a shorter ratio and it didn't get too overbearing. It does like higher temperatures though and I was close to maxing out my machines temperature to get this shot. The flavour notes in the espresso are very much like in the filter, the grapefruit is the main quality and the lemonade is a little more subdued. The caramel, brown sugar sort of note that was picked up in the dry aroma rears its head in the espresso too, balancing the more wild grapefruit flavours. Being a relatively short shot we do get some body, but it's more silky than heavy. As before the aftertaste is relatively shortlived but is very clean and crisp. Just as with the filter this was very enjoyable and will be missed.\n",
    "\n",
    "Even without the donation to the landslide appeal I would say this coffee is worth tasting, given you can do some good and enjoy a great coffee I'd suggest buying a bag of this is a no-brainer.\n",
    "\n",
    "To pair with this great coffee we are going to have Cornbread. Not the southern US delicacy (although I'm sure it would go fantastically well with the coffee) but the 1967 Blue Note classic recorded by Lee Morgan.\n",
    "\n",
    "![](https://github.com/jazzcoffeestuff/blog/raw/master/images/017-Cornbread/Cornbread.jpg)\n",
    "\n",
    "Lee Morgan has featured on the blog before but never as a leader. He was, and still is, one of the heavyweights of the jazz world. Many considered him to be the next \"flag bearer\" of the genre before his life was cut tragically short. Netflix (in the UK at least) currently has a brilliant documentary from 2016 called: \"I Called Him Morgan\" available, if you do not know the Lee Morgan story I strongly suggest you add it to your list of things to watch. It features interviews from some big names (most notably Wayne Shorter). Be warned it is quite a sad and tragic story, so don't go in expecting lemon drops and rainbows.\n",
    "\n",
    "![](https://github.com/jazzcoffeestuff/blog/raw/master/images/017-Cornbread/ICalledHimMorgan.jpg)\n",
    "\n",
    "Lee's trumpet sound for me was always clean, clear and powerful and he always played with authority. This didn't go unnoticed and he joined Dizzy Gillespie's big band and just 18 years old. Shortly afterwards appearing on \"Blue Train\" by John Coltrane and later went on to be an integral member of Art Blakey's Jazz Messengers. Progressing from being \"just\" a sideman Morgan moved on to release records under his own name as a leader, some are rightly regarded as all time classics and feature heavily in \"best selling\" album lists.\n",
    "\n",
    "The personnel on Cornbread is:\n",
    "- Lee Morgan – Trumpet\n",
    "- Herbie Hancock – Piano\n",
    "- Billy Higgins – Drums\n",
    "- Jackie McLean – Alto sax\n",
    "- Hank Mobley – Tenor sax\n",
    "- Larry Ridley – Bass\n",
    "\n",
    "As with many albums on this blog any one of these artists can (and in most cases have) released successful albums under their own name. Herbie of course needs no introduction and we saw Mobley in action a few posts back - he and Lee had a particularly prolific period of collaboration and have appeared on many albums together. They seem particularly well suited to each other as musicians and seem to have a near perfect sense of what the other is trying to achieve. Jackie McLean is probably a name you'd more likely associate with the avant-garde/free side of jazz (or perhaps \"fusion\") - but on Cornbread we are all about the hard-bop and soul-jazz and he fits perfectly in this group also.\n",
    "\n",
    "The album kicks off with the title track (embedded at the start of this post). Within a matter of seconds it is clear that this album will be something special, you can hear the slight nervous energy and tension primed and waiting to be released. You can hear the obvious influence of Herbie in the arrangement - you feel as though this could easily feature on \"Takin Off\" or any of his other early works. There is a certain amount of Mobley in the DNA of the track too - but of course it is all about Lee Morgan. Lee takes the first solo on the track and throws it down, a lot of swagger and almost arrogance to what he's playing. As a listener it puts you completely at ease as you feel you're in safe hands. While it's not particularly \"outside\" in its approach that does not equate to \"harmonically boring\" and there's a lot to get excited about.\n",
    "\n",
    "> youtube: https://youtu.be/uRjshy_n_yE\n",
    "\n",
    "Another album highlight (for me) is the 3rd track \"Ceora\" - a beautiful ballad. I find ballads to be a real test for jazz artists, many fall down the trap of overplaying and throwing their ego at a tune. Others end up playing too \"inside\" and it just ends up a snooze-fest. Not here however, not only is the tune itself brilliantly written the solos are simply sublime. Lee in particular absolutely kills it with his solo; daring, interesting yet still simple and beautiful. Ballads are possibly not the first thing you think of when you here the \"Lee Morgan\" name but he is simply fantastic on this one. Herbie too takes a superb slow burning solo with real passion.\n",
    "\n",
    "Perhaps the greatest thing about this album is the sheer consistency. From start to finish every single track is fantastic and worthy of note. From the slightly sombre standard \"Ill Wind\" (the only track not composed by Morgan on the album) or the hard-bop soul-jazz swinging groove of \"Most Like Lee\". \n",
    "\n",
    "> youtube: https://youtu.be/8KQtco0UvHY\n",
    "\n",
    "\n",
    "The second track on the album is \"Our Man Higgins\" - penned as a reflection on drummer Billy Higgins (a legend in his own right). It is perhaps the most interesting of the tunes on this album, it relies heavily on chromaticism and is essentially a bridge between the \"free\" sound and the hard-bop sound. Higgins himself and of course McLean are well versed in the free side whereas Morgan and Mobley are more associated with the hard-bop side. This makes for some interesting tension throughout the piece as it sways between the styles depending on the soloist.\n",
    "\n",
    "We have covered a lot of Blue Note records on this blog so far, and for good reason - they are on the whole fantastic. But one piece of the puzzle we have overlooked so far is Rudy Van Gelder the sound engineer. I bring this up in this post because Cornbread is such a fantastic sounding album, it has the quintessential \"hard-bop\" sound which helps raise the music that much more.\n",
    "\n",
    "If there were such a thing as a list of \"essential\" jazz albums this is certainly one I would feature. If you are looking for some jazz to listen to you can do much worse than give this one 40 minutes of your time."
   ]
  },
  {
   "cell_type": "code",
   "execution_count": null,
   "metadata": {},
   "outputs": [],
   "source": []
  }
 ],
 "metadata": {
  "kernelspec": {
   "display_name": "Python 3",
   "language": "python",
   "name": "python3"
  },
  "language_info": {
   "codemirror_mode": {
    "name": "ipython",
    "version": 3
   },
   "file_extension": ".py",
   "mimetype": "text/x-python",
   "name": "python",
   "nbconvert_exporter": "python",
   "pygments_lexer": "ipython3",
   "version": "3.7.4"
  }
 },
 "nbformat": 4,
 "nbformat_minor": 2
}

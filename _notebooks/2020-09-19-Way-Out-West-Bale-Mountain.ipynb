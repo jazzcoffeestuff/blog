{
 "cells": [
  {
   "cell_type": "markdown",
   "metadata": {},
   "source": [
    "# \"Way Out West and Bale Mountain\"\n",
    "> \"After a week off the blog returns with another Ethiopian coffee from PLOT and as a (belated) birthday celebration to Sonny Rollins we look at 'Way Out West'\"\n",
    "- toc: false\n",
    "- author: Lewis Cole (2020)\n",
    "- branch: master\n",
    "- badges: false\n",
    "- comments: false\n",
    "- categories: [Jazz, Coffee, Sonny-Rollins, 1950s, Plot, Ethiopia, Natural-Process, Heirloom]\n",
    "- hide: false\n",
    "- search_exclude: false\n",
    "- image: https://github.com/jazzcoffeestuff/blog/raw/master/images/022-Way-Out-West/Way-Out-West.jpg"
   ]
  },
  {
   "cell_type": "markdown",
   "metadata": {},
   "source": [
    "> youtube: https://youtu.be/C6Oma0WOALU\n",
    "\n",
    "After a brief hiatus JazzCoffeeStuff is back! We are once again looking at a coffee from the fine folks at PLOT roasting - who are fast becoming a regular fixture on this blog. Like the preceeding two posts we have yet another coffee from the Israel Degfa company, again from Ethiopia - this time West Arsi Zone, Oromia - and another natural process. This one is called \"Bale Mountain\". This is a single farm coffee - that is every coffee bean here is from the Bale Mountain farm. This is fairly rare for Eithiopian coffees where it is common for a single washing station to process coffees from multiple individual farmers.\n",
    "\n",
    "We have mentioned Israel and his company a few times in the past weeks, it is about time we talk about this a little more. From what we have seen so far Israel owns many farms and washing stations in the area. You may have come to the conclusion that this is somehow \"big business\" and somehow exploitative. This is not the case, specialty coffee allows farmers to get more for their crops than they would via other avenues (I'm not saying specialty is the perfect system by any means, but compared to the alternatives it is better!) Israel and company also works directly with the local communities, offers finance to farmers to help them get started and also provides education and even builds schools in the local areas. While not a \"pure\" charity it does appear Israel does good for the people of Ethiopia and should be commended for that.\n",
    "\n",
    "Moving onto the coffee itself - this is a bit of a memory test for me since I no longer have this coffee in front of me. Usually I write these pieces while drinking the coffee itself but recently life has got in the way of the blog and so this comes a bit late - but this coffee was so special I had to give it some kudos. The dry aroma on the nose I get a lot of floral notes but also a good whack of really sweet fruitiness. The aroma is quite powerful so suggests we could be in for a flavour-bomb of a coffee. As usual diving into the filter, the first thing I notice is that it is not nearly as punchy as the dry aroma suggested. It is a refined and elegant cup, it's not a super funky boozy natural like you sometimes find with Ethiopians. The major flavour note for me is strawberry - PLOT decided to use a \"red\" colour scheme for the label of this one and it is clear to see why. There are other fruity notes too but strawberry is by far the most prominent. It is very very sweet, if you like sugary sweet coffees this one is for you! The label says \"honey\" as a flavour note but for me it is more of a cotton candy sweetness - I associate honey with the texture as much as the flavour and there is little in the way of syrupy mouthfeel on show here. In addition to this there is a perfumed floral note, particularly in the aftertaste, it is really quite noticable and makes the cup super interesting. The balance between fruit and floral changes significantly with temperature and you can spend ages trying to unpick the flavours if that is your thing. Equally it is not so complex that it is distracting either.\n",
    "\n",
    "Moving on to the espresso. It was fairly obvious where this one would like to be dialed in to, if you've read my advice on filter roasts used as espresso before you can guess what I'll suggest: pull long, pull fast, pull hot! This one didn't need to go super long into lungo territory but it was on the long side. The flavour profile was similar to the filter; strawberry at the front, floral at the back. Again it's super sweet and it is not too acidic. It has a sort of mellowness in the espresso, it's elegant and refined. This is what I really enjoy in (good) Ethiopian espressos. Overall  was very sad to see the back of this coffee. I guess you would expect a comparison to the previous Israel Degfa from PLOT (the Gelana gesha) - it's very hard to pick a favourite. They were both fantastic and really quite different prospects - if I had to choose I'd give the gesha the edge but you cannot go wrong with either and they're both worth buying if they're available as you read this.\n",
    "\n",
    "Moving onto the jazz this week. When JazzCoffeeStuff was on hiatus the jazz world was celebrating one of its greatest contributors: Sonny Rollins who turned 90 years old on September 7th. To celebrate this milestone this week we are looking at one of my favourite albums of all time: \"Way Out West\" released in 1957 on Contempary Records.\n",
    "\n",
    "![](https://github.com/jazzcoffeestuff/blog/raw/master/images/022-Way-Out-West/Way-Out-West.jpg)\n",
    "\n",
    "At this stage nothing needs to be said about Rollins and his legacy, I don't believe anybody would consider him anything other than an \"all time great\". His reputation far exceeds that of jazz, he's known as a commentator (very recently penning an interesting article in the NY Times about current global events and whether that leads to personal change) as well as a cultural icon - you have to have a certain level of recognition to be a major character in an episode of The Simpsons (and lets be honest: Bleeding Gums Murphy is himself a not so subtle homage to Rollins). With a recording and touring career spanning 65+ years he has played with just about every major artist in the post-bop era (and many from the be-bop era too) as well as having a string of albums under his own name.\n",
    "\n",
    "The album we're looking at here is \"Way Out West\" - one I always find myself coming back to.  It is a bit of an oddball in the Rollins back catalogue, he explores americana, country and western swing through the lens of be-bop. This gives the album its own personality which I like! It's a shame Sonny didn't revisit these ideas often but I guess any attempts to do this might feel a little forced.\n",
    "\n",
    "The album cover is one of my favourite album covers of all time. Sonny fully leans into the \"cowboy\" theme with gun holsters and a cowboy hat. The humour is something that is found throughout the album, the music is of course serious in terms of composition and harmony but it does not mean you can't have fun with it. Jazz has the impression of being \"serious\" so it is nice to listen to these \"lighter\" records on occassion. \"Way Out West\" does have provenance too however, it is the first album to feature a trio of the form: sax-bass-drums. This is now ubiquitous, it's hard to picture a time when this would have been considered ground-breaking. By forgoing an \"accompanying\" harmonic instrument such as piano or drums a lot of space is opened up in mix which allows Sonny to improvise much more freely - which for an improviser as prolific as Rollins is certainly a good thing!\n",
    "\n",
    "The album opens up with the track \"I'm An Old Cowhand\" (embedded at the start of this blog) which was originally penned by Johnny Mercer in 1936. While the woodblock \"horse\" sounds are a little cheesy the track itself is masterfully done. Rollins takes the main melody of the tune and looks at it through the lens of be-bop - the accents and timing are essentially textbook Charlie Parker. However he resists the temptation to up the tempo (as many would have) - this combined with the sparse arrangement of having only bass and drums in the rhythm section means Sonny can have complete freedom over the tune: he can lean into the groove at points but then breathe fire on a solo for effect. By all accounts this should just be a silly, gimmicky sort of tune to fill up space on an album - but the magic of Sonny is he can elevate this into something magical. For contrast you can see the original performance of \"I'm An Old Cowhand\" from 1936 in the film \"Rhythm on the Range\" (with Bing Crosby singing). It's a long way away from Sonny's interpretation!\n",
    "\n",
    "> youtube: https://youtu.be/jo-pApe1Kd0\n",
    "\n",
    "While the western vibe is prominent on 3 of the 5 album tracks (the track above, another western standard \"Wagon Wheels\" and the Rollins penned \"Way Out West\") - this is balanced with some simply sublime ballad playing. I've said it in this blog before: I consider being able to play ballads a real test of an improvisers skill. The second track on this album is a beautiful interpretation of Duke Ellington's 1934 \"(In My) Solitude\". This has been recorded multiple times over the years by a range of artists - but the version on \"Way Out West\" is the definitive version for me, the version I think of whenever anybody mentions the tune. Sonny manages to perfectly capture the haunting beauty in the piece while somehow providing just a glimmer of hope. It is an absolute masterclass in improvising over a ballad, and for me personally some of Sonny's best playing.\n",
    "\n",
    "> youtube: https://youtu.be/_D3zqnokaVI\n",
    "\n",
    "So far we have (rightly) been focussed on the man himself, but it is time to recognise the bass playing and \"give the drummer some\". \n",
    "\n",
    "On the bass we have Ray Brown - who is a legend in his own right. Having recorded with artists through the late big-band era, through be-bop then post-bop and beyond. He is perhaps best known for his work with Oscar Peterson and Ella Fitzgerald who he recorded with on multiple albums. He also has countless recordings as a leader/co-leader. Without a harmony instrument in the line-up the role of the bass player becomes crucial, often in larger ensembles the bass player has the function of keeping things grounded. In a small trio format like this that changes to driving the tune forward (which may otherwise fall to a piano player) - this was the first time anybody played in this way on record. Ray does it masterfully, I find his playing on Solitude in particular superb but he is consistently brilliant on every track. It would be very easy for this trio format to fall down by a bass player being too sparse, fortunately this is not the case here.\n",
    "\n",
    "The drummer on this album is Shelly Manne - again somebody who can be considered a legend in their own right. Manne is most associated with the west coast jazz scene. In the US during the 40s-60s (roughly) there was east and west coast schools of jazz (perhaps a pre-cursor to east and west coast rap?) The west coast typically focussed on the \"cool jazz\" sound, relaxed and laid back. But also the west gave rise to some of the more avant-garde artists too - Shelly played with both the cool and avant extensively. Aside from his own work he is probably remembered most for his work with Chet Baker. On \"Way Out West\" in addition to the \"horse sounds\" with the wood block he also unleashes pure swing. In this small trio format the bass player has to \"cover\" for the harmony instruments and so the swing is largely driven by the drummer - there are few as well equipped for this role than Shelly.\n",
    "\n",
    "> youtube: https://youtu.be/9XvpsxQAZjo\n",
    "\n",
    "The fearlessness of Sonny Rollins as a leader cannot be overstated here. Not only did he invent this new trio format (which has since been copied by pretty much every major sax player since at some point in their career) - he did so with 2 musicians in Brown and Manne who he hadn't worked with before. I think this adds to the spontaneous and playful atmosphere throughout the album.\n",
    "\n",
    "To finish I'll leave you with another country tune: \"Wagon Wheels\" - another examination of a piece of americana through the lens of be-bop.\n",
    "\n",
    "\"Way Out West\" is one of my favourite albums of all time, so I strongly suggest you pick up a copy via whichever medium you use to purchase your music!"
   ]
  },
  {
   "cell_type": "code",
   "execution_count": null,
   "metadata": {},
   "outputs": [],
   "source": []
  }
 ],
 "metadata": {
  "kernelspec": {
   "display_name": "Python 3",
   "language": "python",
   "name": "python3"
  },
  "language_info": {
   "codemirror_mode": {
    "name": "ipython",
    "version": 3
   },
   "file_extension": ".py",
   "mimetype": "text/x-python",
   "name": "python",
   "nbconvert_exporter": "python",
   "pygments_lexer": "ipython3",
   "version": "3.7.4"
  }
 },
 "nbformat": 4,
 "nbformat_minor": 2
}

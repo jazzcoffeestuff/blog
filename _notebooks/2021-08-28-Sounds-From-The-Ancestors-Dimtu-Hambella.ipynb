{
 "cells": [
  {
   "cell_type": "markdown",
   "metadata": {},
   "source": [
    "# \"Sounds From The Ancestors and Dimtu Hambella\"\n",
    "> \"This time we have another offering from Plot and an Israel Degfa owned washing station Dimtu Hambella. It is an absolute gem of a washed Ethiopian coffee. Alongside we take a first listen to the brand knew Kenny Garrett release 'Sounds From The Ancestors'.\"\n",
    "- toc: false\n",
    "- author: Lewis Cole (2021)\n",
    "- branch: master\n",
    "- badges: false\n",
    "- comments: false\n",
    "- categories: [Jazz, Coffee, Kenny-Garrett, 2020s, Plot, Heirloom, Washed, Ethiopia]\n",
    "- hide: false\n",
    "- search_exclude: false\n",
    "- image: https://github.com/jazzcoffeestuff/blog/raw/master/images/070-Ancestors/Ancestors.jpg"
   ]
  },
  {
   "cell_type": "markdown",
   "metadata": {},
   "source": [
    "> youtube: https://youtu.be/GN91tbUnFEg\n",
    "\n",
    "This week we head back to the fine folks at Plot coffee roasting, I always seem to be raving about them on this blog but they continue to knock it out of the park. \n",
    "\n",
    "In the past I have talked about how much I enjoy washed Ethiopian coffees, if I see one on a cafe's bean selection it will take something special to draw me away from trying it. We are now heading into the part of the year when all the washed Ethiopian coffees are starting to land, I believe this was actually the inspiration for the Andy Williams song: \"It's The Most Wonderful Time Of The Year\" (citation needed). This brings a lot of excitement to JazzCoffeeStuffHQ but also lots of headaches in trying to decide which ones I want to buy and from which roasters. Plot is sort of a no brainer option to kick off the season.\n",
    "\n",
    "This particular coffee is from a washing station owned by Israel Degfa - an inpsiring man who does a lot of amazing work for the community in Ethiopia, we have talked about him at length in previous posts so we won't re-tread the same ground here. The location of the washing station is in Hambella Dhekbor within the Guji zone of the Oromia region. Each region/zone of Ethiopia has its own \"flavour profile\" so those more familiar with Ethiopian coffee might know what to expect from a washed Guji. The cultivars for this coffee have not been identified and are simply listed as \"landrace varieties\", it would have been nice to get some more detail but this is not always possible. For those who worry about altitude of the area is at 1850-2200 MASL - so certainly on the higher end!\n",
    "\n",
    "Let's not waste any more time and get straight into the coffee itself. On the dry aroma I don't get a particularly intense bouquet. As you would expect on the nose it is quite delicate and restrained but with a lot of floral complexity. It is quite hard to pick out individual notes because the aroma is so feint. As I've said before I don't believe a \"weak nose\" means \"weak in the cup\", I think it's a false equivalency many new to coffee make. I think the reverse might actually be true, the more volatiles given off leave less to be in the bean to be extracted - but this is just my supposition, I have no evidence to back this up.\n",
    "\n",
    "Going in as a filter: the first sip I had made me sit back and take note. This is a very striking coffee, it is vibrant, zingy, sparkly, clean and extremely tasty. It also has a boat load of complexity and really changes character through the lifetime of the cup. The main flavour notes I get are a really crisp dry lemonade, green apples, lime along with a ton of floral character in the back: lavendar, jasmine and violet. The peach or apricot note you often get is a little overpowered by the heavier acidic fruit flavours here and it doesn't have a strong black-tea note like some. This makes it quite a neat take on a washed Guji and keeps it very interesting.\n",
    "\n",
    "As an espresso I've found this one is really quite forgiving on my set-up. I ultimately settle for 1:2.5 in around 25s which is a fairly typical recipe for me, I generally start there but with this one I found no reason to experiment any further. Unlike some floral coffees the floral notes are still at the forefront in the concentrated form, this makes for one of the more complex espresso shots you're likely to taste. Based on the acidity in the filter one might expect the espresso to be prone to \"battery acid\" but this is really not the case, it is certainly a crisp acidic espresso but it was not once overbearing. It is not likely to be a shot for those chasing the big bodied chewy traditional espresso styles but I think it is one that can appeal to those starting to stray into the more acidic lighter roast realms.\n",
    "\n",
    "All in all another knock out by Plot (not that I'd expect anything less). These sorts of coffees are really my favourites, I love tasting the \"unobtainium\" hyper-coffees with crazy processing and cultivars: but there's something special about finding really tasty coffees at reasonable enough prices. If I operated a cafe I would be very happy to make this one my \"house\" option while it is available.\n",
    "\n",
    "In addition to the washed Ethiopian coffee season: another event that adds an air of excitement to the JazzCoffeeStuffHQ is a new album from Kenny Garrett. This is what we're going to take a look at today: \"Sounds From The Ancestors\"\n",
    "\n",
    "![](https://github.com/jazzcoffeestuff/blog/raw/master/images/070-Ancestors/Ancestors.jpg)\n",
    "\n",
    "This album was released yesterday, so this blog will very much just be my initial impressions rather than any deep takes on the pieces. I've done this with a couple of albums in the past, at one point I might go back and do a retrospective to compare my initial thoughts to how I feel after more serious listening.\n",
    "\n",
    "Kenny has featured on the blog previously so if you'd like more a background on him there's a good place to go. For my money Kenny is the most reliable jazz performer in the world today. His live shows are simply fantastic, he doesn't have a huge \"stage persona\", he doesn't relay stories or jokes to the crowd, he doesn't use light shows or expansive backdrops and he doesn't ham it up with over-exaggerated mannerisms to elicit a response from the crowd. Instead he just gets to work, serves the music and has the audience eating out of the palm of his hand. If you have not had a chance to go to one of his shows I strongly suggest going.\n",
    "\n",
    "> youtube: https://youtu.be/QOH8tlpe9bY\n",
    "\n",
    "So let's get into \"Sounds From The Ancestors\" a bit. As the name suggests the whole album feels a bit like a nod to those that came before him. If you have heard an album from Kenny in the past decade or so you'll know he has been taking more and more of an influence from \"non-jazz\" music (but make no mistake he is still a jazz heavyweight). This is noticable on the album, you have influences from hip-hop, afro-cuban jazz, Asian classical music, soul/rnb along with a whole host of other jazz influences. My ear is quite attuned to the melodic minor scales that make up a large part of Kenny's playing (he loves the Mix flat 6 in particular over dominant chords), but I see him playing more and more with what I believe is the Hirajoshi or \"Japanese Pentatonic\" scale in his later work.\n",
    "\n",
    "This album is also noticable for the inclusion of vocalists, something Kenny hasn't really used too much in the past (aside from the odd piece or the throat singing on \"Pushing the World Away\"). The vocalists don't really sing \"songs\" however, the voices are used as additional instruments in the arrangement. They are often doubling lines or providing additional harmony to extend the depth of the mix. I can imagine live this will lead to a lot of audience interaction with Kenny essentially playing the audience as a \"piano\" of sorts.\n",
    "\n",
    "It is also fantastic to hear Kenny further expand rhythmically (the tracks contain tributes to legendary jazz drummers Art Blakey and Tony Allen). On the last few albums he began to dip his toe into poly-rhythms but he has taken this much further. This is perhaps most noticable on \"For Art's Sake\" where the drum and percussion players lay down a really complex but grooving meter. There is a really mind blowing section of poly-rhythm which I believe is something in 6 played over something in 7, but I'll need to listen to this more to get my ear in and really nail down what is going on.\n",
    "\n",
    "One of the stand-out pieces for me is the second track \"Hargrove\" (clearly a tribute to late trumpeter Roy Hargrove). He captures the vibe of the jazz-hip-hop crossover that characterised the Hargrove sound, however he still manages to inject the Garrett sound. I believe this track could act as an incredibly powerful \"gateway drug\" for those in the neo-soul and jazz-hip-hop scene looking to start their journey into the heavier end of jazz.\n",
    "\n",
    "The track \"It's Time to Come Home\" captures the afro-cuban side to Kenny's playing perfectly. It feels like a modern update to the sound of another great Kenny: Dorham. For the hardcore Garrett fans it also features some cool little throwback licks to older pieces in his repertoire.\n",
    "\n",
    "> youtube: https://youtu.be/rAUrNahEg7o\n",
    "\n",
    "Overall \"Sounds From The Ancestors\" is incredibly complex, exciting and even to this day Kenny is pushing into new ground. Despite all the complexity (you can really spend an age trying to work out what's going on with some of these pieces) it is surprisingly approachable and you don't require a music degree to enjoy the music (something that can't be said for some modern jazz). I feel this is an album worthy of the hype and I'm sure it's one I'll keep coming back to, but this is hardly a surprise from a Kenny Garrett album."
   ]
  },
  {
   "cell_type": "code",
   "execution_count": null,
   "metadata": {},
   "outputs": [],
   "source": []
  }
 ],
 "metadata": {
  "kernelspec": {
   "display_name": "Python 3",
   "language": "python",
   "name": "python3"
  },
  "language_info": {
   "codemirror_mode": {
    "name": "ipython",
    "version": 3
   },
   "file_extension": ".py",
   "mimetype": "text/x-python",
   "name": "python",
   "nbconvert_exporter": "python",
   "pygments_lexer": "ipython3",
   "version": "3.8.8"
  }
 },
 "nbformat": 4,
 "nbformat_minor": 2
}

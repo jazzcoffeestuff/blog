{
 "cells": [
  {
   "cell_type": "markdown",
   "metadata": {},
   "source": [
    "# \"Lester Young with the Oscar Peterson Trio and Round Hill Spring Claude\"\n",
    "> \"A look at the seminal meeting of Lester Young and Oscar Peterson on the 'Lester Young with the Oscar Peterson Trio' album. Along with a special coffee from the folks at Round Hill Roastery with their Spring Claude offering.\"\n",
    "- toc: true\n",
    "- author: Lewis Cole (2020)\n",
    "- branch: master\n",
    "- badges: false\n",
    "- comments: false\n",
    "- categories: [Jazz, Coffee, Lester-Young, Oscar-Peterson, 1950s, Round-Hill, Colombia, Washed-Process]\n",
    "- hide: false\n",
    "- search_exclude: false\n",
    "- image: https://github.com/jazzcoffeestuff/blog/raw/master/images/002-Lester-Oscar/Lesteroscar.jpg"
   ]
  },
  {
   "cell_type": "markdown",
   "metadata": {},
   "source": [
    "In this blog post I'm going to write about 2 main themes: the first being contentious opinions.\n",
    "\n",
    "I'm just going to come out and say it: I don't like Oscar Peterson. I know admitting this will cause the jazz police to come over to my house and beat down my door, but it's true. I find his playing to rely on too many flashy tricks played at break-neck speed. The music, in my opinion, tends to suffer as a result. Don't get me wrong I can appreciate what he could do and of course he played with some amazing artists (Lester Young being one such example) - but he just ends up leaving me cold and so I never normally reach for one of his albums. I think in the jazz world we do get caught up in \"hero worship\" a bit too much, certain players get elevated to god status and can do no wrong. Miles Davis for example, the early stuff is obviously fantastic and he deserves all the praise he gets. But some of the later synthy-pop stuff? You'd be hard pressed to argue some of that has much artistic merit - a player without his reputation would be crucified for it.\n",
    "\n",
    "On the coffee side I also have a rather contentious opinion: I tend to not be overly impressed with Colombian origins. For me there are (obviously) some great ones but a large number of the coffees strike me as rather \"meh\". Also certain areas in Colombia are renowned for their big body, nutty sort of flavour notes - these are not what I favour at all. I look for delicate florals and fruit notes first and foremost. As such it is rare I will order a bag of a Colombian origin given the choice.\n",
    "\n",
    "This leads me onto the second theme of the day: pleasant surpirses (when they really shouldn't be surprising at all).\n",
    "\n",
    "In 1954 Lester Young stepped into the studio with Oscar Peterson (and others) to record the album: \"Lester Young with the Oscar Peterson Trio\".\n",
    "![](https://github.com/jazzcoffeestuff/blog/raw/master/images/002-Lester-Oscar/Lesteroscar.jpg)\n",
    "A fun fact about this recording: it featured the Oscar Peterson Quartet rather than the trio as the name would suggest. Originally released as 3 seperate albums but has since been combined into 1 volume. Given my relationship with Oscar Peterson I did not listen to this album for years, despite Lester Young being one of my all time favourite artists - more fool me, since the album is fantastic from start to finish.\n",
    "\n",
    "Lester Young was a curious fellow, he had a rather natty dress sense (with a particular perchant for pork-pie hats). While some of his contemporaries relied on technique and muscling their way through the changes, Lester took a much more laid back approach, sitting right in the pocket and playing relatively few notes with a more lyrical style. This was perfectly exemplified on his recordings with Billie Holiday, their styles blending perfectly. This laid back sax vibe was a reflection of his persona too, very laid back and \"cool\" - he was known for creating much of the jazz \"lingo\" of the time which is still being used today (including the term \"hipster\"). His friends call him \"Prez\" or \"the president\".\n",
    "\n",
    "The record itself poses an interesting counterpoint: Oscar wanting to up the tempo and play fancy lines while Lester wanting to sit in the pocket. The result is each player compromises - Lester plays some of his fastest most intricate lines on this record and Oscar dials back. It all just works, I would love to have sat in on the session I could have easily seen this going off the rails one way or the other.\n",
    "\n",
    "We shouldn't just focus on the 2 named artists however, the \"backing\" band is also fantastic (and could have lead other dates) featuring Ray Brown on bass, JC Hoard on drums and Barney Kessell on guitar. As a guitarist Barney is one of my favourites, he was very clearly in the Charlie Christian school of jazz guitar (which is no bad thing). On this record he plays some great solos for example on \"Tea for Two\". Barney also had one of the best guitar tones I ever heard with his Charlie-Christian pickuped guitars and you can tell he is using one here.\n",
    "\n",
    "The album itself is almost entirely made up of standards from \"On the Sunny Side of the Street\", \"There Will Never be Another You\" and \"Stardust\". On modern reissues there is also a cool outtake \"(It Takes) Two to Tango\" which features Lester singing (as far as I'm aware the only recorded track of him doing so). If I had to pick one tune to exemplify this recording though I would pick \"Just You, Just Me\":\n",
    "\n",
    "> youtube: https://youtu.be/0JmGh_bjZJE\n",
    "\n",
    "Focussing now on this week's coffee; as you may have guessed it is a Colombian origin from La Vega in Tarqui, Huila. The coffee in question is roasted by Round Hill Roastery ( https://roundhillroastery.com/ ) and is their \"Spring Claude\" offering. Every season (I beleive) the folks at Round Hill release a \"special\" coffee in special packages under the \"Claude\" name. Claude being a cat:\n",
    "![](https://github.com/jazzcoffeestuff/blog/raw/master/images/002-Lester-Oscar/claude.png)\n",
    "You can follow Claude's exploits on his instagram: https://www.instagram.com/monsieur_claude\n",
    "\n",
    "As always I opt for the filter roast, I prefer the less developed roasts even for espresso and given a choice I will opt for the filter roast even if it is to be used as an espresso. This coffee is roasted particularly light, I don't have an agtron/tonino (yet) to measure this however\n",
    "\n",
    "As a filter you're not greeted with a very pungent aroma, there are gentle berry type smells but they're quite mellow. On first sip however you get smacked round the face with sweetness. This is one of the sweetest coffees I've had in a while, it has a candy-floss or sugar-syrup vibe. There is also a hit of red berry type flavours, I would describe as a raspberry. It is very easy to drink, a cup can disappear before you've even noticed - which is always a good sign. There is some balancing acidity to the sweetness but predominently it is all about the candy.\n",
    "\n",
    "Being a lighter roast pulling an espresso can be a bit of an issue. With coffees such as these I recommend pulling shots slighltly longer (around 2.25-2.75:1 sort of range) at a higher temperature than normal and quickly! However this coffee is fairly forgiving, it is not particularly acidic so I didn't end up with any super-sour shots. When dialed in the sugary goodness comes through, however you also have a reasonable amount of body coming through. It really gives off a syrupy vibe. The raspberry note is still there too.\n",
    "\n",
    "I enjoyed this coffee a lot, more than I expected to given the origin.\n",
    "\n",
    "However I should really not be surprised by my enjoyment from either the album or the coffee. Lester Young constantly provides inspiration and I find Round Hill one of the most consistently great roasters in the UK. It goes to show that sometimes preconceptions can get in the way."
   ]
  },
  {
   "cell_type": "code",
   "execution_count": null,
   "metadata": {},
   "outputs": [],
   "source": []
  }
 ],
 "metadata": {
  "kernelspec": {
   "display_name": "Python 3",
   "language": "python",
   "name": "python3"
  },
  "language_info": {
   "codemirror_mode": {
    "name": "ipython",
    "version": 3
   },
   "file_extension": ".py",
   "mimetype": "text/x-python",
   "name": "python",
   "nbconvert_exporter": "python",
   "pygments_lexer": "ipython3",
   "version": "3.7.4"
  }
 },
 "nbformat": 4,
 "nbformat_minor": 2
}

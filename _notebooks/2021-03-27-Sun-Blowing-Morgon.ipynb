{
 "cells": [
  {
   "cell_type": "markdown",
   "metadata": {},
   "source": [
    "# \"Sun Blowing and Morgon\"\n",
    "> \"This week marks another installment of the KaffeBox coffee subscription, featuring one of my favourite roasters: Morgon. On the jazz side we cover the 2016 release 'Sun Blowing' from Lars Danielsson, Marius Neset and Morten Lund.\"\n",
    "- toc: false\n",
    "- author: Lewis Cole (2021)\n",
    "- branch: master\n",
    "- badges: false\n",
    "- comments: false\n",
    "- categories: [Jazz, Coffee, Lars-Danielsson, 2010s, Morgon, Ethiopia, Colombia, Washed, Heirloom, Caturra]\n",
    "- hide: false\n",
    "- search_exclude: false\n",
    "- image: https://github.com/jazzcoffeestuff/blog/raw/master/images/049-Sun-Blowing/Sun-Blowing.jpg"
   ]
  },
  {
   "cell_type": "markdown",
   "metadata": {},
   "source": [
    "> youtube: https://youtu.be/iZxqTWYV7w4\n",
    "\n",
    "This week we are back with another installment of the KaffeBox subscription. Recall the KaffeBox subscription highlights a different Scandinavian roaster each month. This month was particularly exciting for me since it featured one of my all time favourite roasters: Morgon Coffee Roasters - who I do not buy from nearly enough due to the logistics of getting the coffee here to London. The roastery is located in Gotherburg, Sweden.\n",
    "\n",
    "The first thing that I noticed about Morgon is their aesthetic vision. Everything from their website, to instagram account to the bags themselves are really well put together. Each bag is blue in colour and features a picture depicting the flavour profile of the coffee inside. The images are really works of art in themselves, and this gives the impression of great quality even before opening the bag. As an example, here is an image from one of the bags we are looking at today:\n",
    "\n",
    "![](https://github.com/jazzcoffeestuff/blog/raw/master/images/049-Sun-Blowing/Ferney-Cruz.png)\n",
    "\n",
    "Certainly some of the best looking packaging out there in my mind. As with previous KaffeBox subscriptions I have 2 different 125g bags to play around with. This is not enough to dial in an espresso and make filter coffees with so I split the coffees - one for espresso duties and one for filter duties. This time I did it at random, when making the first filter coffee I just reached for a bag on the shelf and that's how it was assigned. Note that both coffees are \"filter\" roast.\n",
    "\n",
    "Let's start with the filter option: we have a washed Ethiopian coffee from the Uraga Raro washing station located in the Guji zone - an area that crops up frequently on this blog. Morgon don't provide much more information than that, which is not a problem - we can move swiftly on to what matters: the coffee itself. On the dry aroma you get your \"typical\" washed Ethiopian qualities: citrus fruits and florals. As you would expect it is not a really punchy hard hitting coffee on the nose. In the cup you get everything you expect from a coffee like this: elegant earl-grey tea-like flavours, citrus-y blood orange and grapefruit sharpness and a very refined balance to the cup. This is just a top drawer example of what washed Ethiopian coffees are all about, there is so much clarity it allows the complexity to come through and allows you to enjoy the cup at the cooler temperatures. This is what I like and respect about the Morgon offerings I've had in the past - they're just completely dependable. They seem to respect the origin and each one is a top quality example of what a particular region is all about. No nonsense, just really good quality.\n",
    "\n",
    "On the espresso side we have a washed Caturra from Colombia - Ferney Cruz. Again not a whole lot of information here so we'll dive right in. On the nose I get hits of sweet \"red\" fruits like strawberry, raspberry and rhubarb, again it's not a big hitter but certainly enough to draw you in. Dialing this one in for espresso was a bit of a pain, this is a coffee where you need to set your grinder very fine. I was just past the point of burrs touching and I could just about wrestle a 1:2 in 27s sort of profile out of it. Being a filter roast however, it seems to benefit from a bit of a longer pull. 1:2.5 seems to work best in around 25s with the machine at full temperature. The resulting shot is syrupy sweet. The flavour profile is full of raspberry and rhubarb - if you imagine a pineapple cube sweet but made with rhubarb I don't think you'd be far off the mark. Again the coffee is very clean, especially in the aftertaste - qualities I like in a coffee. Again it is just a very very good example of a clean washed coffee.\n",
    "\n",
    "I was very happy to drink some more Morgon coffees this month, it reminds me that I should order from them more often. If you're after \"fireworks\", crazy processing, loud punchy flavours - Morgon probably aren't the ones to go to (at least in my experience). But if you want complete quality and elegant clean cups Morgon are certainly up there with the best.\n",
    "\n",
    "On the jazz side this week I found myself digging out an album from 2016 by the trio of Lars Danielsson, Marius Neset and Morten Lund on the ACT label - \"Sun Blowing\". \n",
    "\n",
    "![](https://github.com/jazzcoffeestuff/blog/raw/master/images/049-Sun-Blowing/Sun-Blowing.jpg)\n",
    "\n",
    "The story behind this album is that Danielsson, Neset and Lund met by chance on a train in 2012 - they had not met each other before, let alone played together. Two years after this happy accident they decided to record \"Sun Blowing\" - representing an \"intial encounter\" in the studio. The line-up here represents a \"tenor-sax-trio\" format with Neset on tenor, Danielsson on bass and Lund on drums. We have spoken about trio formats like this in the past on this blog - many sax players try and play in this context but few succeed. With so much space and freedom it really exposes the sax so you need to be on top of your game. Neset, however, is no ordinary sax player. A bit of a \"prodigy\" and one of the most accomplished young sax players out there. In contrast to his solo work which typically contains large ensembles, it is rare to see Neset play in such an intimate setting.\n",
    "\n",
    "> youtube: https://youtu.be/EqCQnjVxXQE\n",
    "\n",
    "Being a \"first encounter\" there is a lot of energy and vibrancy on show on the album. As you'd expect from a trio of this format there is a big influence from the tenor greats: Coltrane, Rollins, Brecker, Henderson and so on. However there is also a lot of influence from the avant-garde and free sides too particularly from the early ECM records. While it would be easy to release an album of Neset just blowing over changes and showing off his chops, the guys here have worked on creating actual tunes. I think of Neset as a very thematic player, although he has chops his primary focus seems to be on creating themes and movements in the music. This gives his playing a \"story-telling\" sort of quality, this makes the tunes very memorable and they often stick in your head for days after hearing them.\n",
    "\n",
    "The album kicks off with \"Little Jump\" (embedded at the start of this post), here Neset's playing is somewhere between Sonny Rollins and Michael Brecker. In the rhythm section Danielsson plays some of the grooviest, funkiest bass lines on the album and drives the tune forward. Behind it all however is Lund's modulating drum beat, he pulls and drags the time throughout masterfully. The interplay between Danielsson and Lund throughout is incredible also, it almost feels like a live gig with the energy flowing between the trio. \n",
    "\n",
    "Another tune of note on the album is \"Up North\" (above), the main theme of which has a folk/Americana sort of vibe. This is an influence that comes up a few times throughout the album, this is even in reflected in the title of one of the pieces \"Folksong\". On \"Up North\" there is more than a hint of Joe Henderson to Neset's playing - if you're familiar with this blog you'll know I see this as no bad thing.\n",
    "\n",
    "> youtube: https://youtu.be/h_FPZZx0oos\n",
    "\n",
    "\"Sun Blowing\" is comprised entirely of original pieces apart from the Don Grolnick penned \"The Cost of Living\" (above) which closes the album. This is one of the lower tempo pieces on the album and it features some beautiful soloing from Danielsson. We are also treated to a masterclass from Lund who builds the energy just enough to punctuate the crescendo of each solo before bringing us back down again.\n",
    "\n",
    "If you're looking for a jazz album you may have missed in the last decade, \"Sun Blowing\" is definitely worth your time. It's a little hard to believe this album is 5 years old (7 since it was recorded) - but it still sounds fresh. Given the energy and \"story-telling\" nature of the tunes it is an easy listen that does not require too much attention. Well worth hunting down a copy."
   ]
  },
  {
   "cell_type": "code",
   "execution_count": null,
   "metadata": {},
   "outputs": [],
   "source": []
  }
 ],
 "metadata": {
  "kernelspec": {
   "display_name": "Python 3",
   "language": "python",
   "name": "python3"
  },
  "language_info": {
   "codemirror_mode": {
    "name": "ipython",
    "version": 3
   },
   "file_extension": ".py",
   "mimetype": "text/x-python",
   "name": "python",
   "nbconvert_exporter": "python",
   "pygments_lexer": "ipython3",
   "version": "3.7.4"
  }
 },
 "nbformat": 4,
 "nbformat_minor": 2
}

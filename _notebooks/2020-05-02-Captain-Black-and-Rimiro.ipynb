{
 "cells": [
  {
   "cell_type": "markdown",
   "metadata": {},
   "source": [
    "# \"The Intangible Between and Round Hill Rimiro Natural\"\n",
    "> \"A first listen to the new Orrin Evans Captain Black Big Band record: 'The Intangible Inbetween' and a quick taste of another Round Hill Roastery offering the Burudi 'Rimiro Natural'.\"\n",
    "- toc: true\n",
    "- author: Lewis Cole (2020)\n",
    "- branch: master\n",
    "- badges: false\n",
    "- comments: false\n",
    "- categories: [Jazz, Coffee, Orrin-Evans, 2020s, Round-Hill, Burundi, Natural-Process]\n",
    "- hide: false\n",
    "- search_exclude: false\n",
    "- image: https://github.com/jazzcoffeestuff/blog/raw/master/images/002-Orrin-Evans/Orrin-Evans-The-Intangible-Between.jpg"
   ]
  },
  {
   "cell_type": "markdown",
   "metadata": {},
   "source": [
    "A bit of an experimental blog post today; yesterday (May 1st 2020) marked the release of the new record from Orrin Evans Captain Black Big Band on Smoke Sessions records: \"The Intangible Between\". I'm going to blog my reaction to hearing this album for the first time. If you are looking for a more detailed review this is not going to be it.\n",
    "\n",
    "![](https://github.com/jazzcoffeestuff/blog/raw/master/images/002-Orrin-Evans/Orrin-Evans-The-Intangible-Between.jpg)\n",
    "\n",
    "The Captain Black Big Band project is quite interesting to me. Big bands have largely fallen out of favour, there aren't many bands out there making records. I assume it's a financially motivated thing: touring with 12 musicians is more expensive than with a trio - you can't charge four times as much on the door! It makes big band records such as this exciting. The first Captain Black album was released in 2011 and I believe they have 3 out previously before this one. I've always been a fan, they tend to be quite a rambunctious group heading towards the \"freer\" side than your traditional big band. The influence of the Mingus big bands is clearly evident. Around the mid 2010s Orrin Evans joined the Smoke Sessions record label who have put out some of the best jazz of recent years in my opinion. I was a little dis-heartened to see Orrin had joined The Bad Plus, who I'm indifferent towards, but glad to see he's still releasing music under his own name. As such I am excited to see what this album has in store.\n",
    "\n",
    "My liquid accompaniment for these preceedings is a naturally processed Burundi called Rimiro, another coffee from the fine folks at the Round-Hill roastery. I normally favour \"clean\" tastes so I sometimes struggle with naturals that are too funky. Thankfully there is no issue of funk here, it is on the elegant end of the spectrum. Flavour wise in the filter I get a big hit of red-wine, the natural processing leading to the familiar \"boozy\" notes as they often do. It is fairly refined as a drinking experience with a lot of fruit and acidity in the cup. As an espresso you gain a big mouthfeel and tonnes of body, the red wine is still prominent but there's a candy-bubblegum sort of vibe that takes over - paired with the mouthfeel it reminds me of a milkshake! A very cool coffee indeed, I have found Burundis have really improved over the past few years. Now it's one of my favourite origins and often really impresses. Overall I think I marginally preferred the Claude but you cannot go wrong with either of these coffees. Hopefully this is a good omen for the jazz.\n",
    "\n",
    "The album kicks off with \"Proclaim Liberty\", opening with a fairly traditional brass arragement - quickly subsiding into the main theme led by bass and piano. The band makes use of its full ensemble with a lot of rich harmony but as with other Captain Black records when soloing many musicians drop out leaving the soloist space to express themselves. As he usually does Orrin plays with his choppy stacatto piano style. Towards the end of the piece the tempo raises and things get a little more out there, overall a positive start to the album. Listening I couldn't help but notice a certain similarity to some of the Frank Zappa jazzier offerings (such as \"The Grand Wazoo\" and \"Waka/Jawaka\") in some of the melodies - no bad thing.\n",
    "\n",
    "The second track \"This Little Light of Mine\" again makes use of the number of brass instruments, big lush full harmony washes over you. As the name suggests this is a reworking of the gospel classic. The drumming brings a frenetic quality to the whole affair though. This is mirrored in the opening sax solo which has some cool angular lines. Orrin carries on the urgency with an athletic piano solo spanning the instruments range. The outside playing does not feel forced however, it always feels natural. Something that cannot be said for a lot of modern jazz players - it feels modern yet at the same time could have been released at any time.\n",
    "\n",
    "> youtube: https://youtu.be/Bk_RI7OtD-8\n",
    "\n",
    "\n",
    "\"A Time for Love\" is the third track, as a stark contrast to the raw energy of the previous number it's time to slow things down. The only word to describe the melody here is beautiful. Nobody is overplaying on this piece, with down-tempo numbers there is sometimes a tendency to throw too much technique at the tune - not the case here. The use of a fender rhodes mid-tune just fits the mood perfectly. This is a very accomplished take on a standard.\n",
    "\n",
    "The previous tune is just the calm before the storm however as \"That Too\" starts with a powerful Mingus-esque melody full of attitude and swagger. Again I here some Zappa-isms in the arrangment. At this point in the album, approximately a quarter of the way through, you can tell that they really went for it on this album. This is not a safe album, they're taking risks and trying to really make a statement - so far it is working.\n",
    "\n",
    "The next tune is instantly recognisable as \"Off Minor\" by Thelonious Monk. Orrin's playing has always reminded me a little of Monk - it's very rhythmic and choppy in contrast to many other players who play smooth flowing sort of styles. I tend to think covering Monk brings out a lot of joy in the musicians and gives them a chance to playful. That does not seem to be the modus-operandi here however - again they seem to want to make a point. So far this is the most free and outside of the tunes on this album. The tempo modulates up and down through the piece and there is some wild soloing throughout. Very cool!\n",
    "\n",
    "> youtube: https://youtu.be/Xi1MKmGuf3A\n",
    "\n",
    "\"Into Dawn\" brings us back down to reality again, starting off with some much less challenging harmony. The arrangment feels largely similar to the Roy Hargrove original - of course the musicians here throwing the \"Captain Black\" spin on things. Given the recent (tragic) passing of Roy Hargrove this feels a particularly fitting tribute.\n",
    "\n",
    "The extended take \"Tough Love\" begins with a poem - one doesn't have to look very hard to see the obvious Mingus influence here. The references to black-lives matter, school-shootings and general hate strike a mournful tone, the suggestion the poem suggests that letting in love, while challenging, could change everything. I don't want to try and unpick the deeper meaning here as I'm unlikely to do this justice on a first listen. I think this will provide a challenging and thought-provoking quality to any future listening.\n",
    "\n",
    "The last tune on the album is \"I'm so Glad I Got to Know You\" - it doesn't take much to uncover the underlying theme of this piece. Evans penned this as a tribute to Lawrence Lo’ Leathers who the jazz community also lost far too early. Starting with a contemplative solo piano intro it breaks into a more upbeat swinging big-band arragement - I presume illustrating the nature of loss. The tune ends with a chorus singing the tracks title - a very fitting and heartwarming end to the album.\n",
    "\n",
    "> youtube: https://youtu.be/vEAwZAvhSp4\n",
    "\n",
    "Overall this album has been a moving and sometimes challenging listen, but the quality is unmistakable. It is certainly worth hunting down through whatever medium you consume your music. I will be giving this another listen (or two) in the coming days. Walking the line between free and more traditional styles is tricky, especially as a big band, but this album shows Orrin knows how to do it."
   ]
  }
 ],
 "metadata": {
  "kernelspec": {
   "display_name": "Python 3",
   "language": "python",
   "name": "python3"
  },
  "language_info": {
   "codemirror_mode": {
    "name": "ipython",
    "version": 3
   },
   "file_extension": ".py",
   "mimetype": "text/x-python",
   "name": "python",
   "nbconvert_exporter": "python",
   "pygments_lexer": "ipython3",
   "version": "3.7.4"
  }
 },
 "nbformat": 4,
 "nbformat_minor": 2
}

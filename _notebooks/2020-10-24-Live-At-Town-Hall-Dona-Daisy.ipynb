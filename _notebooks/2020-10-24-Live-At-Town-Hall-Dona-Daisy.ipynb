{
 "cells": [
  {
   "cell_type": "markdown",
   "metadata": {},
   "source": [
    "# \"Live at Town Hall and Doña Daisy\"\n",
    "> \"This week we feature a super expensive Gesha from Drop Coffee Roasters (as filter only - no espresso this week on the blog!). Paired with this we go to the Town Hall with the inimitable Thelonious Monk.\"\n",
    "- toc: false\n",
    "- author: Lewis Cole (2020)\n",
    "- branch: master\n",
    "- badges: false\n",
    "- comments: false\n",
    "- categories: [Jazz, Coffee, Thelonious-Monk, 1950s, Drop, Costa-Rica, Natural-Process, Gesha]\n",
    "- hide: false\n",
    "- search_exclude: false\n",
    "- image: https://github.com/jazzcoffeestuff/blog/raw/master/images/027-Live-At-Town-Hall/Live-At-Town-Hall.jpg"
   ]
  },
  {
   "cell_type": "markdown",
   "metadata": {},
   "source": [
    "> youtube: https://youtu.be/cd5rGoDqTyE\n",
    "\n",
    "\n",
    "This week we take a bit of a different turn with our coffee. We are for the first time stepping away from roasters located in the UK and moving our sights to Sweden. In particular we are looking at Drop Coffee Roasters located in Stockholm. This has been one of my favourite roasters for many years but getting their coffee to the UK is often expensive (as is true with most of the Scandi roasters). I noticed they had a \"free shipping\" offer however so wanted to make the most of it.\n",
    "\n",
    "Now the coffee itself is a bit different for this blog too. In browsing the online shop for which coffees to purchase this one jumped out at me. It was a bit expensive so I had my doubts but thought it had been a while since I bought a higher end coffee so went for it. Unfortunately it wasn't until I had ordered that I noticed it was a half-bag size instead of a full-bag size. So what was initially \"a bit expensive\" turned out to be \"very expensive\"! So this will be by far the most expensive coffee featured on this blog so far.\n",
    "\n",
    "The coffee itself is from San Jose in Central Valley, Costa Rica. The farm is called Finca Don Pepe and the coffee is called Doña Daisy. The farm is a result of a partnership between Daisy and Pepe Fallas who decided to grow coffee in their garden relatively recently - this is not a coffee from a big farming conglomerate!\n",
    "\n",
    "As you'd guess from being an expensive coffee (at this level) we are looking at a Gesha varietal - something we have talked about previously in the blog. Gesha is finnicky to grow and finnicky to work with, it requires absolute attention at every stage to get the most out of it. I can't recall seeing a Costa Rican Gesha before this so it is interesting to see how it behaves.\n",
    "\n",
    "The processing on this coffee is listed as a natural process by Drop but is described more as a \"white honey\" process in their literature. We have talked about Honey/Pulped-Natural processing before, the \"colour\" preceeding the \"honey\" is used as a descriptor for how much of the cherry is left on the seed. White representing the least amount of cherry left (i.e. the closest to a \"washed\") - so I am expecting quite a clean elegant cup profile. Following the honey stage the coffee has been left for 25-32 days to dry, which is fairly long for this processing style. This may help to increase the cup complexity - but only the producer will know for sure why they opt for a longer drying style.\n",
    "\n",
    "Since I only have a half bag of this coffee I did not try to pull an espresso with it - at the price I did not want to risk a \"sink job\" with a poorly pulled shot when dialing in. Don't worry however! There was still plenty of espresso being consumed at JazzCoffeeStuff towers, the coffees in question may appear in next weeks post.\n",
    "\n",
    "After all that build up let's get on to the coffee itself. First thing to note about this (and other Drop coffees) is how light the roast is. It is certainly lighter than most other coffees around, if you are more of a medium-light or medium fan this might be a bit much for you. But if like me you enjoy the lighter roasts Drop are always worth a shout. On the dry aroma I get lots of notes, the first thing that came to mind was tangerine. Along with this there are floral notes of jasmine and bergamot and hints of that honey sweetness you get from a pulped.\n",
    "\n",
    "As usual the filter comes from my Hamasi brewer with (bleached) chemex papers. What is striking about this coffee is its complexity. There is so much going on in the cup. As with a lot of these complex coffees they come alive as they cool. Unfortunately since the roast is so light you need to brew with very hot water. This leaves you like a kid on christmas eve staring at their presents unable to open them, quite a torturous affair. If you don't let the cup cool enough everything gets a bit muddled and it is difficult to get any flavour separation. If you can hold off long enough you are treated with a truly amazing cup of coffee. In a blind cupping you would likely guess this is an Ethiopian coffee given the major flavour notes are peach and florals. However there is more to it than that, the sweetness is very high - syrupy even. This syrupy character carries through to the mouthfeel too. The tangerine note we had on the nose also comes into play too and gives a big juicy and fruity character to the coffee. As you'd expect with Gesha the florals are ever present too, they come more to the forefront the longer you leave the coffee to cool. The coffee also has a strikingly long aftertaste too described on the tasting notes as \"strawberry lemonade\" - which is an absolutely perfect description.\n",
    "\n",
    "Overall this is a great coffee. Whether it is worth the price of admission is up to you - at around 5 times the price of the other coffees featured on this blog, is it really 5 times the coffee? Probably not, but this is true with most \"premium\" items.\n",
    "\n",
    "\n",
    "Trying to pick some jazz to pair with such a special coffee is no easy task. In the end I decided to pick Thelonious Monk with his 1959 album \"The Thelonious Monk Orchestra at Town Hall\"\n",
    "\n",
    "![](https://github.com/jazzcoffeestuff/blog/raw/master/images/027-Live-At-Town-Hall/Live-At-Town-Hall.jpg)\n",
    "\n",
    "This is Monk's first appearance on this blog, I wanted to save him for a special occassion. For me no other artist sums up what jazz is all about more than Thelonious Monk. More than that he transcends the genre to become, in my opinion, one of the greatest artists on any medium. It takes a matter of seconds to know you're listening to Thelonious, even if people try their best to replicate him they never quite nail it - they always sound like a karaoke impersonation.\n",
    "\n",
    "As some readers to this blog may be relatively new to jazz it is worth giving a brief re-cap on Monk's history. He first came to prominence in the 1940s as one of the leading fore-fathers of the be-bop movement. Along with Dizzy Gillespie and Charlie Parker he helped work out how be-bop could be played - most notably in after hours gigs at Minton's jazz club in Harlem (if you gave me a time machine this is one of the places/times I would visit just to hear some of those gigs). A little while later during his career he and fellow pianist Bud Powell were caught in a car with drugs in it. Thelonious refused to rat on his friend and so the police took away his cabaret card. Monk apparently heeded the aphorism \"snitches get stitches\". By losing his card he was unable to play in the main jazz clubs in NY (any club serving alcohol). This allowed Monk to be effectively shielded from the jazz scene and develop his own sound. Another consequence was it allowed him the opportunity to collaborate with John Coltrane and create some truly great music. In the latter stages of his career he was plagued by mental illness/neurological issues and his behaviour became more and more erratic before his death in 1982.\n",
    "\n",
    "Monk's compositions (and playing style) are characterised by their twisting rhythmic constructions and angular sounding melodies. I have to admit the first time I heard Monk I didn't \"get\" it, I heard him too early on in my jazz journey and it was just too much of a stretch at the time. I revisted Monk a few years later and he blew my mind, from then on he became (probably) my favourite jazz artist.\n",
    "\n",
    "Another big part of the Monk vibe is the humour, there are very few other artists who use humour in the same way. Not only in the sometimes cartoon-ish playful melodies but also when performing. He would often get up and dance while others were soloing, sometimes interrupting his dancing to add a chord stab at an opportune moment without missing a beat. He was also renowned for his fashion/style being particularly associated with hats - this is also picked up on the tribute to Monk by Eric Dolphy in the tune \"Hat and Beard\". \n",
    "\n",
    "The \"Town Hall\" album was recorded in Feb 1959, it is one of the rare opportunities to hear Monk in a \"big band\" context. Most of his other works are in quartet and small-band formats. Here he revisits some of his previous tunes but uses the wider soundscape available to him. You can also hear, perhaps most clearly, his love of Duke Ellington being in this context.\n",
    "\n",
    "There are a number of \"behind the scenes\" recordings from the concert which give a real insight into Monk's approach, the particularly interested can hunt these down and you can hear Monk describe the tunes to the band and it is very illuminating. I also remember hearing a story that in the rehearsals for this album one of the musicians was unable to lock into the rhythm and so Thelonious pulled him to one side and preceeded to dance in front of him as a way of portraying the rhythm. This gives a great insight into how to think about these tunes, and with that in mind it gives you a whole fresh perspective on the pieces.\n",
    "\n",
    "There are 10 musicians appearing on this album so we will not mention all of them. However it is worth noting that this album features a relatively young Donald Byrd on the trumpet, Art Taylor on the drums and is the first collaboration between Monk and Charlie Rouse who played tenor with various Thelonious bands for 10 years.\n",
    "\n",
    "It's hard to pick out choice tracks on this recording as all 6 tunes are fantastic. Perhaps the most revered on this album is \"Little Rootie Tootie\" (embedded at the start of this post). This is quintessetially Monk featuring a twisting rhythmic melody that is both silly yet also completely logical. \n",
    "\n",
    "> youtube: https://youtu.be/G9Nf2qOqhoE\n",
    "\n",
    "Up to now we have mostly talked about the fun playful side of Monk, but lest we forget he was also a master at writing hauntingly beautiful sombre tunes. On this album \"Monk's Mood\" is probably the best example of this. It manages to conjure up great sadness but at the same time just the right amount of happiness and hope. It is a melody that can rattle around your head for weeks after listening to it and the extended band arrangment adds to the weight behind the melody.\n",
    "\n",
    "Overall this album belongs in the \"essential\" category of jazz albums for me. If you have not heard it before do yourself a favour and hunt down a copy (I'd recommend the original 6 track listing above the extended reissues which don't really add much in my view). "
   ]
  },
  {
   "cell_type": "code",
   "execution_count": null,
   "metadata": {},
   "outputs": [],
   "source": []
  }
 ],
 "metadata": {
  "kernelspec": {
   "display_name": "Python 3",
   "language": "python",
   "name": "python3"
  },
  "language_info": {
   "codemirror_mode": {
    "name": "ipython",
    "version": 3
   },
   "file_extension": ".py",
   "mimetype": "text/x-python",
   "name": "python",
   "nbconvert_exporter": "python",
   "pygments_lexer": "ipython3",
   "version": "3.7.4"
  }
 },
 "nbformat": 4,
 "nbformat_minor": 2
}

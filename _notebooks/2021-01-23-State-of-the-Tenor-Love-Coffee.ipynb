{
 "cells": [
  {
   "cell_type": "markdown",
   "metadata": {},
   "source": [
    "# \"State of the Tenor and Love Coffee\"\n",
    "> \"In this blog post we take a look at Joe Henderson's 1985 live release 'State of the Tenor' and serve this alongside a pair of coffees from Love Coffee.\"\n",
    "- toc: false\n",
    "- author: Lewis Cole (2021)\n",
    "- branch: master\n",
    "- badges: false\n",
    "- comments: false\n",
    "- categories: [Jazz, Coffee, Joe-Henderson, 1980s, Love-Coffee, Colombia, Eithopia, Washed-Process, Natural-Process, Heirloom, Colombia-Varietal]\n",
    "- hide: false\n",
    "- search_exclude: false\n",
    "- image: https://github.com/jazzcoffeestuff/blog/raw/master/images/040-State-of-the-Tenor/State-of-the-Tenor.jpg"
   ]
  },
  {
   "cell_type": "markdown",
   "metadata": {},
   "source": [
    "> youtube: https://youtu.be/AdTFoK7NZmU\n",
    "\n",
    "This week on the blog we make use of my brand new KaffeBox subscription. For those that do not know KaffeBox are based in Norway and do a subscription service sourcing coffees from the best roasters in Scandanavia. You can read more about them [here!](https://www.kaffebox.no/scandinavian-nordic-roast-coffee-subscription/) Unfortunately due to the christmas period, Covid lockdowns and Brexit delays these coffees arrived to me a little late (roast date 26th November) - so I'm taking this in mind in this review. While the 8 or so weeks is not very old for a coffee (especially for a light filter roast) the flavours might pop a little more if I'd had them a little earlier. And to be perfectly clear, this is not KaffeBox's fault.\n",
    "\n",
    "The coffee themselves is from a roaster in Lund, Sweden called \"Love Coffee\". This roaster is completely new to me, I have never tried their coffee before (at least I can't remember if I have). The first thing that strikes me is the packaging, which is very nice. The bag features a black and white cartoon of a coffee shop on the front and a roaster on the back. It's always nice to see roasters put some effort into their packaging designs.\n",
    "\n",
    "![](https://github.com/jazzcoffeestuff/blog/raw/master/images/040-State-of-the-Tenor/Love-Coffee.jpg)\n",
    "Credit: https://www.instagram.com/lovecoffeelund\n",
    "\n",
    "In this case I recieved 2 smaller 125g bags of coffee: one being a washed Colombian 'La Esperanza' and a natural Ethiopian 'Buku'. These are very \"classic\" origins and processing methods so a good introduction to a new roaster. I used both of these coffees as espresso exclusively (as I was using last week's Plot ICON as my filter alongside them) - so filter fans will need to wait until next week for their fix.\n",
    "\n",
    "Let's start with the Colombian La Esperanza. The farm is located in Nariño, Colobmbia - a location I'm not overly familiar with. It is a washed coffee that is made up of at least 70% of the \"yellow Colombia\" varietal - as the name suggests a yellow cherry fruit. I can't really find much more information on this one so let's dive straight into the espresso.\n",
    "\n",
    "As is often the case on this blog we are making espresso with \"filter\" roasts which tend to be quite light. This can often make the dialing in process fiddly. However, in this case it was very easy. The coffee was extremely forgiving with my setup. I found that it actually liked to be around a 1:2 ratio with a fairly ordinary recipe. This accentuates the natural body and mouthfeel in this coffee and is more pleasant to drink. In the flavour notes I got a very nutty quality underlying some top notes of a sweet red apple. The sweetness is fairly high and the acidity muted in this one. This is the sort of coffee that is a pleasure to drink, you don't have to think about it too muich and it just leaves you satisfied.\n",
    "\n",
    "Next we have the Ethiopian Buku. This coffee takes its name from the washing station where the coffee was processed. The station is located in the Guji zone in the southern part of the country - an area very familiar to those who have read some of my previous postings. The varietals are listed as \"heirloom\" which is something we have covered in the past so I will not re-tread old ground.\n",
    "\n",
    "This one was not quite as easy to dial in as the Colombian, but it was not particularly difficult either. Pulling the shots too short introduced a bit of harshness in the finish so I pulled slightly longer to around 1:2.25 in the end. There is plenty of natural sweetness and the acidity is not too high so there was not a huge benefit in pulling any longer than this. This coffee absolutely loves high temperatures though and I had to set my machine to its hottest setting for optimal results. This results in an intensely perfumed cup, I get strong notes of lavendar and bergamot first and foremost. This is combined with the \"bruised blueberry\" note you often get with a natural Guji. On the funk-o-meter it is fairly low however, it is refined and fairly clean tasting. There is some body in the cup but it is not a \"huge\" coffee. I found this coffee really enjoyable, these highly perfumed coffees are my favourite ones to use as an espresso so this one was a lot of fun, I wish I had a bit more of it.\n",
    "\n",
    "Overall a strong showing from Love Coffee, a roaster I'll certainly keep an eye out for in the future.\n",
    "\n",
    "On the jazz side this week I have been listening to the live double album from Joe Henderson: \"State of the Tenor\" recorded at the Village Vanguard in 1985 and released in 1986 on Blue Note Records.\n",
    "\n",
    "![](https://github.com/jazzcoffeestuff/blog/raw/master/images/040-State-of-the-Tenor/State-of-the-Tenor.jpg)\n",
    "\n",
    "Originally this album was released as 2 seperate LPs: \"State of the Tenor Vol. 1\" and \"State of the Tenor Vol. 2\" - but subsequently were combined into a double LP. There are so many stellar tunes on this album perhaps I could have seperated them.\n",
    "\n",
    "In the mid 80s jazz was in a bit of a funny place. At this point fusion was really the \"hip\" thing to be playing (although that trend in itself was coming to an end) and playing more straight ahead was considered a bit dull and boring. I consider \"State of the Tenor\" to be Joe throwing down the gauntlet and showing just how creative you can be with a basic acoustic trio of: tenor, bass and drums. The original liner notes to the album states that the recorded concerts were effectivly \"saxaphone lessons\" owing to the sheer number of sax players in attendence.\n",
    "\n",
    "> youtube: https://youtu.be/P4sA09U-8Og\n",
    "\n",
    "I am a huge Joe Henderson fan, I make no apologies about this. He features regularly on this blog as a result. For me he is, perhaps, the greatest improviser of all time. Some players can play flashier more complicated lines and others may play with a bigger rounder sax sound but Joe captures \"something\" when he's improvising. In terms of lineage he is clearly in the Sonny Rollins school first and foremost, their playing is quite similar in many regards (even the trio format on this album is something you could link back to Rollins). But Joe takes it a step further, he will stray further \"outside\" than Rollins ever will. Not only will he play outside harmony we will stray outside in his timing also. His \"natural\" rhythmic device is to lead the band, it almost feels as if he is pulling the other band members along at times. For effect he'll also play really loose and instinctively, the timing of his lines doesn't \"fit\" in the true sense but it works because of the overall mood he manages to create.\n",
    "\n",
    "Then of course we have Henderson's virtuosity. John Coltrane is often a name synonymous with tenor virtuosity, he plays incredibly fast and harmonically complicated lines (at least before his modal/spiritual journey). These lines all fall relatively comfortably under the fingers however, it still requires immense practice to play that way but the lines usually feel \"comfortable\". In contrast some of the lines Joe plays are hideous under the fingers, for anybody but Joe they feel wrong and unintuitive. He might not (often) reach Coltrane's break neck speeds but I argue these lines are way more difficult to play, especially the way Joe does with the odd note groupings and accents. You sometimes here others try and play \"Henderson licks\" but they are never that convincing nor sound as fluid as Joe.\n",
    "\n",
    "The album itself features a combination of Henderson originals and standards by the likes of Parker, Silver, Mingus and Ellington. The album opens with \"Beatrice\" penned by Sam Rivers (embedded at the start of this post). Continuing the theme of \"jazz education\" I've always felt that this take was a heavy influence on some of the current crop of tenor players; most notably JD Allen - on many of his albums I notice bass/sax interplay that always makes me think of this take.\n",
    "\n",
    "It is also worth noting the rest of the cast on this album. On the bass we have Ron Carter - even trying to summarise his recorded output would take up multiple blog posts. Not much more needs to be said about Ron, definitely a legend and one of the greatest bass players in the history of jazz. Rounding out the line-up is Al Foster on drums - again somebody who has played with just about anybody you care to mention. Overall an absolutely incredible line-up for a trio format, it would have been great to hear this band live.\n",
    "\n",
    "The second track I picked for this post is \"Boo Boo's Birthday\" - a piece penned by Thelonious Monk (embedded above). Thelonious is clearly a big influence for Joe, his sense of timing can certainly be described as \"Monk-like\". Of course, he also has the tune \"Isotope\" (originally on \"Inner Urge\" but a version also appears on this album) which he describes as a tribute to Monk. I find Monk tunes a great canvas for improvisers, the tunes are often very playful which helps the musicians relax. Jazz improvisation is often seen as very \"serious\" so it's nice to hear musicians having fun from time to time. Of course Monk's arrangements also tend to be quite spacious which allows for more experimentation.\n",
    "\n",
    "> youtube: https://youtu.be/8FvyANqV80g\n",
    "\n",
    "The last tune I want to highlight from this album (although they're all stellar) is the Henderson penned: \"Y Ya La Quiero\" (above). Continuing the theme of education and influence: to me it is clear to see how this influence Kenny Garrett in quite a profound way. When this was recorded Kenny would have just been starting his career and had not quite yet found his signature sound. His early to mid 90s sound is very reminiscent of this \"Y Ya La Quiero\" and I am always reminded of Kenny when this tune plays. As a Henderson tune it is a bit of an outlier, it is not what you would consider a \"typical\" arrangement for him which makes it quite a nice addition to this album.\n",
    "\n",
    "As with most albums on this blog you really cannot go wrong with this one. My only slight complaint is that on some releases of this album the sound is all over the show, some tunes quiet some tunes really loud. I don't know exactly which releases are the ones to avoid (the \"bad\" version I had was on a CD) but it's worth keeping in mind."
   ]
  },
  {
   "cell_type": "code",
   "execution_count": null,
   "metadata": {},
   "outputs": [],
   "source": []
  }
 ],
 "metadata": {
  "kernelspec": {
   "display_name": "Python 3",
   "language": "python",
   "name": "python3"
  },
  "language_info": {
   "codemirror_mode": {
    "name": "ipython",
    "version": 3
   },
   "file_extension": ".py",
   "mimetype": "text/x-python",
   "name": "python",
   "nbconvert_exporter": "python",
   "pygments_lexer": "ipython3",
   "version": "3.7.4"
  }
 },
 "nbformat": 4,
 "nbformat_minor": 2
}

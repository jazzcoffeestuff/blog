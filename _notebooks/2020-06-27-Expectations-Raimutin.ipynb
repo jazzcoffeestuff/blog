{
 "cells": [
  {
   "cell_type": "markdown",
   "metadata": {},
   "source": [
    "# \"Expectations and Assembly Raimutin\"\n",
    "> \"In this blog we head back to the Assembly roastery in London with their Raimutin from Timor Leste. Paired with this we look at the 1972 classic by Keith Jarrett 'Expectations'\"\n",
    "- toc: false\n",
    "- author: Lewis Cole (2020)\n",
    "- branch: master\n",
    "- badges: false\n",
    "- comments: false\n",
    "- categories: [Jazz, Coffee, Keith-Jarrett, 1970s, Assembly, Timor-Leste, Natural-Process, Timor, Typica, Moka]\n",
    "- hide: false\n",
    "- search_exclude: false\n",
    "- image: https://github.com/jazzcoffeestuff/blog/raw/master/images/011-Expectations/Expectations.jpg"
   ]
  },
  {
   "cell_type": "markdown",
   "metadata": {},
   "source": [
    "> youtube: https://youtu.be/W27fqMOaun0\n",
    "\n",
    "In this blog post we're heading back to Assembly coffee roasters located in Brixton, London. For my money Assembly are consistently one of the best roasters in the country and one of my favourites since they seem to share very similar taste preferences to me - no matter what I buy from them I'm always left impressed.\n",
    "\n",
    "The coffee this week is called Raimutin, it is naturally processed and is made up of a lend of Timor, moka and typica varietals. In a previous blog post we learned that \"most coffee varietals can trace their lineage back to either typica or bourbon\" - in this case that is not true. To understand the Timor varietal we need to take a step further back in coffees history. Coffee plants can be split into two broad camps: Arabica and Robusta (there are a few others but they're rare and for arguments sake this is a good description). The \"typica-bourbon\" lineage exists in the arabica side. Arabica is typically favoured for higher cup quality and depth of flavour - specialty coffee is almost entirely dominated by Arabica. The \"downsides\" of arabica are lower yields and lower caffeine content. The Timor varietal is essentially a hybrid between arabica and robusta. It retains a lot of the robusta hardiness and is more resistant to leaf-rust, pests, etc. while retaining some of the arabica cup quality.\n",
    "\n",
    "Raimutin is from the country of Democratic Republic of Timor-Leste. You would be forgiven for not having heard of this country before since it only found its sovereignty in 2002. It shares a small island with Indonesian-Timor to its south-west. It is located in south-east Asia - between Indonesia and Australia. For those who enjoy a pub quiz it is also the only Asian country to be entirely located in the southern hemisphere. In recent years coffee production in Timor-Leste has increased and every now and again their coffees pop up in quality roasteries.\n",
    "\n",
    "I have to admit I am not usually a fan of Asian coffees, I tend to find them a bit heavy for my taste and they often seem to have \"smokey\" or \"tobacco\" style notes I personally do not care for (although I understand why people love them). I have heard through the grapevine that the \"best\" Asian coffees do not leave the area and you have to travel to the area to really try the best the area has to offer. Having never travelled there let alone tasted coffee there I don't know if there is any truth to this. Since this coffee was roasted by Assembly I thought I'd try it however as I've yet to have a coffee from them I disliked (in fact this is my second bag of this coffee - I ordered a \"mystery bundle\" of a random selection of coffees and this one was included.)\n",
    "\n",
    "I can't mention the Assembly roastery without mentioning the packaging, the most stylish beautifully designed packaging I have ever seen! Plus they're not foil backed bags so they're easy to recycle which is a positive. I know many will say packaging doesn't make a difference, but I disagree entirely. From the moment you pick up a bag of coffee you make subconcious assessments about it. These definitely carry over to the cup. Unfortunately with current world events it appears they are struggling to source their usual bags so the coffee arrived in \"interim packaging\" (their phrasing) which is still quite nice (but not quite as elegant as the usual offering). What I really like about the Assembly aesthetic is their \"paint swirl\" logo designs. For this particular coffee this is:\n",
    "\n",
    "![](https://github.com/jazzcoffeestuff/blog/raw/master/images/011-Expectations/Raimutin.jpg)\n",
    "\n",
    "I don't know if I have a very mild form of synesthesia or what but I definitely taste \"in colour\" - by which I mean the first thing that pops into my head when tasting anything is \"this tastes green\" or \"this tastes yellow\", it then takes me a while to translate this \"green\" into a grape or the \"yellow\" into a banana flavour note. I tend to find the paint swirls for individual coffees to be a good match to the flavour notes of the coffee inside.\n",
    "\n",
    "Starting off in the usual way with a pour-over filter brew: the first thing that hits me in the face is \"purple\" - in this case for me this is shows as plum and cherry brandy. I tend to find some natural processed coffees to have this \"boozy\" fortified alcohol sort of quality to them and this one certainly has that. However it is not a super-funky natural, there is some funk there but it is more a Bruno Mars pop record influenced by funk rather than a full blown George Clinton and Parliament Funkadelic. The mouthfeel of the coffee is big and juicy yet it still remains fairly \"clean\" tasting for a coffee of this style. There is some acidity cutting through the sweetness and body however, for me it takes the form of a lime sharpness and it really helps balance everything out. I find this one needs to cool down a bit before it really comes alive.\n",
    "\n",
    "Moving onto the espresso (in the last blog post we didn't touch on espresso so it's nice to bring it back) - for me this is where it really shines. The big body really comes to the forefront and you are left with a really pleasing thick shot even when you pull it slightly longer (which is recommended). The boozy notes are still there in force and it is really rich and indulgent. The acidity is still there but it's just there for ballast to support the bigger bolder notes. For a fairly light roast coffee I find this one of the easiest to pull espressos out there, it is super forgiving and you can really swing the grind settings around and still get super tasty shots out of it. My \"recipe\" for this one was 16.5g of coffee in to 38.0g of coffee out. I set the temperature of my machine to almost as high as it goes. I pre-infuse for around 5-10s and then my shot time comes in at around 22-24s. For me this is the sweetspot - you still get the lovely indulgent mouthfeel but it's long enough that the flavours don't get too lost. \n",
    "\n",
    "Overall a super fun enjoyable coffee! In both filter and espresso there is a (very) long aftertaste which is satisfying, it pretty much mimics the flavours in the cup itself and is clean and pleasant, no hint of any sourness or acrid qualities that sometimes come with these long aftertastes.\n",
    "\n",
    "To pair with this coffee I have settled on an album from 1972 from Keith Jarrett called \"Expectations\"\n",
    "\n",
    "![](https://github.com/jazzcoffeestuff/blog/raw/master/images/011-Expectations/Expectations.jpg)\n",
    "\n",
    "The album was released on the Columbia record label, Jarrett having recorded with Miles Davis on this label previously. It is Jarrett's only record on Columbia under his own name. He then moved onto the ECM label and played a large part in the success of that label.\n",
    "\n",
    "At JazzCoffeeStuff I try and not be negative but I am going to break that rule today. Not through the music on this album or Jarrett's music in general which is fantastic, but about the man himself. Jarrett has always tried to paint himself as a \"saviour\" or \"holier than thou\" sort of figure which I've personally never taken to. As a result he essentially bans any extraneous noise in his concerts, as a result they have an atmosphere more akin to a morgue than to a place of enjoyment. For me the community aspect and audience \"participation\" of a jazz concert is part of the magic, cutting that out kills the music. I know he's trying to elevate the music to that of \"high art\", and I get that, but for me it loses all that is important about the art form. I remember a few years ago he was playing at the London Jazz Festival (I didn't go to that particular concert) and through a friend I understand he heard a \"whirring\" in the audience so stormed off stage - it turned out to be a person in a wheelchair. Eventually he was persuaded to come back on stage but offered nothing in the way of an apology. I have heard plenty of other \"horror stories\" about his concerts, it's a real shame.\n",
    "\n",
    "My second complaint with Jarrett is the \"Jarrett grunts\" - when improvising he will very loudly grunt and it is completely atonal and has nothing to do with what he's playing. He doesn't need to do it because I've heard him play many times without doing so, I'm not really sure why he does this. You can here some of this in the clip below (but take nothing away from the sheer quality of the piano playing)\n",
    "\n",
    "> youtube: https://youtu.be/LWEe1JKY7mI\n",
    "\n",
    "With those rants out of the way lets get onto the album itself. Thankfully in 1972 Jarrett hadn't yet gone \"full grunt\" and so there isn't a whole lot of this to distract on the album. After a short introduction piece the album kicks off proper with \"Common Mama\" (embedded at the start of this blog post) - and what a start it is. Keith is joined by Paul Motian on drums, Charlie Haden on the Bass, Sam Brown on guitar, Dewey Redman on tenor sax and Airto Moreira on percussion. In addition there are uncredited string and brass sections. The main melody of Common Mama is so strong you can be humming it for weeks after hearing it. By having both drums and percussion the rhythm section is really grooving and it allows Dewey a chance to really let loose and get wild! The combination of Motian/Haden/Redman is something you're more likely to hear on a purely \"free\" album, it is interesting to hear them in the context of \"prettier\" music.\n",
    "\n",
    "The free side doesn't stay hidden for long however and by track 4 \"Roussillion\" we're treated to a piece that wouldn't be out of place on an Ornette Coleman album. In fact the main melody itself does have a tinge of \"Lonely Woman\" about it. Motian is absolutely in his element here driving the complex melody throughout and directing the soloists with ease. Motian is one of my favourite drummers in that respect and is probably deserving of more kudos than he gets.\n",
    "\n",
    "> youtube: https://youtu.be/9Ci3jq0aY1A\n",
    "\n",
    "Being a double album there is a lot of music on show, and it is an extremely eclectic mix. Ranging from the more latin world-music influences of the opening number, through more typical \"Jarrett\" classically inspired pieces through to the rampant free-jazz. Along the way there's also glimmers of soul-jazz and jazz-rock fusion and at points even \"calypso\". As a result this is quite a hard record to \"classify\", it is almost a microcosm all to itself. That is probably why this is an often overlooked album in the Jarrett back-catalogue. However it shows what a tremendous talent Jarrett has as a band leader, composer and improviser. For my money it should be celebrated as a masterpiece and one record that is surely worth your time. We'll end with the beautiful title track which is definitely the \"most Jarrett\" piece on the album:\n",
    "\n",
    "> youtube: https://youtu.be/Od2z6yDhBnY"
   ]
  },
  {
   "cell_type": "code",
   "execution_count": null,
   "metadata": {},
   "outputs": [],
   "source": []
  }
 ],
 "metadata": {
  "kernelspec": {
   "display_name": "Python 3",
   "language": "python",
   "name": "python3"
  },
  "language_info": {
   "codemirror_mode": {
    "name": "ipython",
    "version": 3
   },
   "file_extension": ".py",
   "mimetype": "text/x-python",
   "name": "python",
   "nbconvert_exporter": "python",
   "pygments_lexer": "ipython3",
   "version": "3.7.4"
  }
 },
 "nbformat": 4,
 "nbformat_minor": 2
}

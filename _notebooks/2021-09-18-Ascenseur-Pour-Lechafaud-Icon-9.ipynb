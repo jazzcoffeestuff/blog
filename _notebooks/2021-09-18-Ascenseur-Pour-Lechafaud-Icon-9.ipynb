{
 "cells": [
  {
   "cell_type": "markdown",
   "metadata": {},
   "source": [
    "# \"Ascenseur Pour L'échafaud and Icon 9\"\n",
    "> \"This week we head back to Plot coffee roasters and their Icon series. It features another coffee from Diego Bermudez, a complicated and careful processing of a humble Castillo cultivar. For the iconic jazz we do things a bit differently and look at the 1958 film 'Ascenseur Pour L'échafaud' and the fantastic improvised soundtrack from Miles Davis.\"\n",
    "- toc: false\n",
    "- author: Lewis Cole (2021)\n",
    "- branch: master\n",
    "- badges: false\n",
    "- comments: false\n",
    "- categories: [Jazz, Coffee, Miles-Davis, 1950s, Plot, Castillo, Washed, Thermal-Shock, Colombia]\n",
    "- hide: false\n",
    "- search_exclude: false\n",
    "- image: https://github.com/jazzcoffeestuff/blog/raw/master/images/073-Miles/Miles.jpg"
   ]
  },
  {
   "cell_type": "markdown",
   "metadata": {},
   "source": [
    "> youtube: https://youtu.be/icJw9HXXoXA\n",
    "\n",
    "This week we take another trip back to the Plot Roasting Icon Series - this is the 9th instalment of this coffee subscription that has so far offered up some fantastic coffees. As you may remember the Icon series is meant to represent the best, most interesting and rare coffees that Plot offer.\n",
    "\n",
    "The coffee featured is another from Diego Bermudez - a farmer who has featured many times on the blog previously. One of the true masters of the \"alternative processing\" methods. This time the coffee showcases how a careful processing can elevate even the most humble of cultivars: in this case a Castillo lot. The Castillo is the result of years of experimentation to develop a cultivar that is suitably resistant to leaf rust. It can trace its lineage through the \"Colombia\" cultivar which is itself a hybrid of robusta and arabica (specifically the hybrid of Timor Hybrid and Caturra). The Castillo (named after researcher Jamie Castillo) is favoured for its resistance but the cup quality is not quite as sought after as some other cultivars - if careful processing can make a big difference to cup quality this offers many positives for the future of coffee.\n",
    "\n",
    "The process undertaken on this \"Red Plum\" lot is: an initial fermentation at 19 celcius for 28 hours followed by a pulping and another fermentation for 40 hours at 21 celcius. The seeds then undergo a \"thermal shock\" washing first at 40 celcius then at 12 celcius. The coffee is then dried for 28 hours at 42 celcius and a relative humidity of 25% until the moisture content is 10-11%. It is no wonder that coffees from Diego Bermudez end up costing so much.\n",
    "\n",
    "Unlike earlier Icon offerings this coffee was offered in a reasonable sized bag which means I was able to dial in both espressos and filter coffees this week.\n",
    "\n",
    "Diving right into the dry aroma: as you would expect from the processing the intial hit is sweet tropical fruits. This is certainly a \"fruit bomb\" style aroma that is very punchy and intense. The smell when grinding is also incredible and fills the room, who needs an essential oil diffuser?\n",
    "\n",
    "In the filter the first thing I noticed was the intense sweet-candy quality to this coffee. The flavour notes on the bag say: \"like a bag of skittles\" and frankly that is a perfect descriptor. You also get a candy-floss sort of quality too, it's quite a \"clean\" sweetness of candy-floss as opposed to say a caramel. Alongside you also get the tropical fruit notes on the nose: watermelon and papaya are the two I wrote down, the official flavour notes say strawberry and pineapple. The sweetness is balanced with some acidity but it is note a battery acid coffee by any means. The body and mouthfeel are low, some might even say a bit hollow. If you're a fan of more traditional \"big\" feeling coffees this won't be one for you.\n",
    "\n",
    "Onto the espresso: I had one issue here, this coffee grinds very coarse - so even at the minimum setting on my grinder I could only get to a 1:2.5 ratio in about 25s. Thankfully this is where this coffee liked to be so it was not a big issue, but with different equipment I could see this coffee being a real hassle. When dialed in however you're left with a more intense and concentrated version of the filter coffee - full of candy and tropical fruits. \n",
    "\n",
    "Overall I prefered this one slightly more as a filter but it was still great as an espresso. Plot knocked it out of the park again with the Icon series and I'll be eagerly awaiting what the 10th edition holds.\n",
    "\n",
    "For the iconic jazz this week I decided to introduce Miles Davis to the blog.\n",
    "\n",
    "![](https://github.com/jazzcoffeestuff/blog/raw/master/images/073-Miles/Miles.jpg)\n",
    "\n",
    "Miles is somebody who I've been in two minds about including on this blog. The first reason being that the world doesn't need yet another recommendation for \"Kind of Blue\" (although it is fantastic). Miles is so well known and there's so much information out there already I'm not sure I have much to add. The second reason is: personally I do not enjoy anything Miles released from \"Bitches Brew\" and beyond.\n",
    "\n",
    "Instead I have decided to take a bit of a different track with this post and talk about: \"Ascenseur Pour L'échafaud\" - both the album/soundtrack and the film itself (in the English speaking world this is typically referred to as: \"Elevator to the Gallows\" or sometimes \"Lift to the Scaffold\").\n",
    "\n",
    "> youtube: https://youtu.be/GUb9MOeQBGo\n",
    "\n",
    "\"Elevator to the Gallows\" is a 1958 film from Louis Malle adapted from a 1956 novel of the same name by Noël Calef. Outside of jazz and coffee I also enjoy classic film-noir - \"Elevator to the Gallows\" is not strictly a noir but it does have many elements that could be considered noir. As a film it also helped establish some of stylistic elements of French New Wave and New Modern Cinema.\n",
    "\n",
    "The plot revolves around a pair of lovers Florence and Julien who decide to kill Florence's husband. Julien does this by climbing via a rope into the husband's office, shooting him, then leaving the scene to look like a suicide. Unfortunately he leaves the rope outside and so has to re-enter the building to retreive it. It is at this time he boards the elevator just as the security man turns off the power to the building for the evening and so Julien is stuck in the elevator between floors. As this is happening Julien's getaway car gets stolen by low level crooks who then find themselves accidentally (and unbeknownst to them) involved in a murder. The film follows how this whole situation begins to spiral out of control. \n",
    "\n",
    "It is clear to see why many associate this film with \"noir\" given the plot-line, however stylistically it is very different. It is shot in a much more \"artistic\" way than a typical noir - some might even say more \"pretentious\". It is certainly a style that will divide people, but personally I think the blend of the noir and new wave is seamless. The biggest departure from typical noir however is the soundtrack from Miles.\n",
    "\n",
    "The soundtrack is fairly brief, in its original form around 26 minutes in length (with alternate takes and so on current releases are much longer). The magic of the soundtrack however is the fact the entire thing was improvised when watching the film. This in itself is quite remarkable, but add to that the soundtrack also features some incredible jazz and memorable hooks that stick with you. It is really a testament to how good of a musician Miles really was, he manages to capture the mood of the film perfectly. Without his soundtrack I do wonder how good this film would be, often film soundtracks just fade into the background - but in this case it is an integral part of the whole vibe the film gives off.\n",
    "\n",
    "In terms of choice tracks the most memorable is likely \"Générique\" which accompanies Jeanne Moreau walking through the French streets (embedded at the start of this post). It creates the perfect melancholy and loneliness that required and truly transforms the scene. As a result this has become one of the most iconic and best loved scenes in film history, without Miles it would not have this acclaim. Another piece that stands out to me is \"Sur l'autoroute\" (above) - a frantic bop inspired piece that captures the spirit of a getaway drive. My other choice track is the below \"Chez le photographe du motel\" - which features at the films climax (which I shall not give spoilers to). It manages to encompass the entire film's feeling and provide a resolution and closure.\n",
    "\n",
    "> youtube: https://youtu.be/wAscNqX8uqA\n",
    "\n",
    "Ordinarily I talk about \"essential listening\" in these Icon series posts, in this case we have \"essential watching\" - as great as the soundtrack is as a standalone piece of work, to truly appreciate it I think you need to watch the film to see how it all fits together. So if you've exhausted Netflix and are looking for a piece of classic cinema to watch you could do much worse than hunting down \"Elevator to the Gallows\"."
   ]
  },
  {
   "cell_type": "code",
   "execution_count": null,
   "metadata": {},
   "outputs": [],
   "source": []
  }
 ],
 "metadata": {
  "kernelspec": {
   "display_name": "Python 3",
   "language": "python",
   "name": "python3"
  },
  "language_info": {
   "codemirror_mode": {
    "name": "ipython",
    "version": 3
   },
   "file_extension": ".py",
   "mimetype": "text/x-python",
   "name": "python",
   "nbconvert_exporter": "python",
   "pygments_lexer": "ipython3",
   "version": "3.8.8"
  }
 },
 "nbformat": 4,
 "nbformat_minor": 2
}

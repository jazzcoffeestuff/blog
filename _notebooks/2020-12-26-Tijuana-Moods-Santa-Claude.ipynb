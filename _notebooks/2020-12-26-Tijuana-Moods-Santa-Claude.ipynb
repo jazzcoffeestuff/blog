{
 "cells": [
  {
   "cell_type": "markdown",
   "metadata": {},
   "source": [
    "# \"Tijuana Moods and Santa Claude\"\n",
    "> \"For our festive special we look at this years Christmas coffee from Round Hill in the form of 'Santa Claude' where we are brewing with the cat. On the jazz side we look at the outstanding 'Tijuana Moods' by the angry man of jazz Charles Mingus.\"\n",
    "- toc: false\n",
    "- author: Lewis Cole (2020)\n",
    "- branch: master\n",
    "- badges: false\n",
    "- comments: false\n",
    "- categories: [Jazz, Coffee, Charles-Mingus, 1950s, Round-Hill, Colombia, Washed-Process, Caturra, Castillo]\n",
    "- hide: false\n",
    "- search_exclude: false\n",
    "- image: https://github.com/jazzcoffeestuff/blog/raw/master/images/036-Tijuana-Moods/Tijuana-Moods.jpg"
   ]
  },
  {
   "cell_type": "markdown",
   "metadata": {},
   "source": [
    "> youtube: https://youtu.be/Kw1BWwiPJCY\n",
    "\n",
    "In this festive special we are going to look at a \"christmas coffee\" from the folks at Round Hill Roasters. Long time readers may remember earilier in the year we featured \"Spring Claude\" - which was a rather special coffee. For the holiday season this time we have \"Santa Claude\" and I have high hopes based on previous showing.\n",
    "\n",
    "This coffee gets its name from a cat named Claude, pet of one of the guys at the Round Hill Roastery. You can see him with a bag of this weeks coffee below (credit to: www.instagram.com/monmonsieur_claude/ ):\n",
    "![](https://github.com/jazzcoffeestuff/blog/raw/master/images/036-Tijuana-Moods/Santa-Claude.jpg)\n",
    "\n",
    "To be perfectly honest I've never had a \"christmas coffee\" that has particularly reminded me of christmas so I'm not judging this coffee with that in mind (it would fail that test) - instead I'm just hoping for a good all round coffee.\n",
    "\n",
    "The technical specs of this coffee are that is a washed Colombian coffee consisting of Caturra and Castillo varietals - and as always I selected the \"filter roast\" option. It is grown at 1900masl by a community of farmers within the Yacuanquer area. This is in the south-west corner of the country, not too far from the border with Ecuador. This is not an area I see many coffees from so I'm happy to give it a try - doubly so after the \"Spring Claude\" which is one of my favourite coffees of 2020.\n",
    "\n",
    "I'll try and keep the blog tight this week so everybody can get back to their festivities - so lets dive straight into looking at the coffee itself. On the dry aroma I get a lot of dark and rich caramel notes first of all, combined with this there is the unmistakable blackcurrant note too, to be honest if I was given this blind I might have guessed it was a Kenyan.\n",
    "\n",
    "Moving swiftly on to the filter coffee: here the major note is blackcurrant. It is a huge juicy coffee and it is a bit like drinking hot ribena - albeit less sweet. There is a good amount of acidity in the cup and it provides just the right amount of \"mouth drying\" in the finish. It is not the most complicated cup I've ever had but it is certainly delicious and very drinkable, in fact it always seems to disappear faster than I expect. If you want an accompanyment to a mince pie/sausage roll/whatever your festive snack of choice is you could do much worse!\n",
    "\n",
    "As an espresso I find that this coffee needs to be ground extremely fine, I ended up not too far away from the minimum my grinder would allow. Otherwise it is a coffee very prone to \"gushers\". Thankfully once you reach a certain point it has a very large sweet spot though which makes it a breeze to dial in. I ended up with a very traditional 1:2 ratio in 30s with a medium heat. This results in a thick viscous juicy shot that bashes you round the head with blackcurrant. It is almost a bit like cough mixture (but in a good way). Certainly a tasty shot that is very easy to drink, the acidity is there but is not overpowering and there is a lot of sweetness. It's just a no-nonsense quality espresso.\n",
    "\n",
    "Overall a rather successful \"christmas coffee\", and I'll likely hunt down the 2021 Santa Claude next year.\n",
    "\n",
    "\n",
    "For the jazz this week I feel like we need something special for the festive season. I've resisted going down the \"christmas songs\" route because they tend to be \"good for christmas music\" rather than good in general. Instead we are going to welcome the inimitable Charles Mingus to the blog for the first time, with his 1957 (or 1962) album \"Tijuana Moods\".\n",
    "\n",
    "![](https://github.com/jazzcoffeestuff/blog/raw/master/images/036-Tijuana-Moods/Tijuana-Moods.jpg)\n",
    "\n",
    "Mingus is one of my all time favourite artists, for me his music transcends jazz and is something much bigger. I find that with Mingus it is not music you want to put on while doing other things, it commands your entire attention. There is so much going on technically and there is so much raw emotion it is just too intense to have as background music. As a result I don't listen to him as much as some other artists, but I do make sure to find time to do so.\n",
    "\n",
    "Choosing an album from the Mingus back catalogue is tricky, there are so many good ones to choose from. The obvious place to start would be \"Mingus Ah Um\" - which is as near to perfect as it's possible for a jazz album to be. Or perhaps \"Black Saint and the Sinner Lady\" - for being art at the absolute highest level. However my favourite, and the one I find myself coming back to, is \"Tijuana Moods\". For me it is the perfect balance between his compositional prowess and the free improvisation. At one time Mingus described this as his \"best album\" but it often gets a bit overshadowed by others (which is not a bad problem to have as an artist.)\n",
    "\n",
    "> youtube: https://youtu.be/9x1l3tZbXx8\n",
    "\n",
    "\"Tijuana Moods\" is a \"fusion\" album of sorts, managing to blend traditional Mexican music with American jazz and blues sensibilities. More than anything else it seems like the musicians are just having a blast recording this music - something you can't often say about Charles, he isn't known as \"the angry man of jazz\" for nothing! For those new to Mingus there are many famous stories of him chasing musicians off stage, ripping strings of grand pianos and even attacking band members. There is also of course the famous \"Mingus light\" at the Village Vanguard where he threw his bass into it (reportedly they never fixed it in tribute to the great man).\n",
    "\n",
    "In jazz, and even society at large, we do have a problem of fetishizing the concept of the \"troubled artist\" or \"tortured genius\" - but for Charles Mingus this label certainly fits. If you are interested I highly recommend his autobiography \"Beneath the Underdog\" (although it is not a happy or easy-going read). He often described himself as a \"mongrel\" - since he felt too \"black\" to be accepted by the \"white community\" and too \"white\" to be accepted by the \"black community\". It appears a lot of his anger came from this feeling, and understandably so. Of course his later career was also riddled with illness where he suffered from ALS (\"Lou Gehrig's disease\") - we can only imagine how much more great music he could have released given the chance.\n",
    "\n",
    "Originally the album was released with \"Charlie Mingus\" on the cover, a name Charles despised saying \"Charlie is not a man's name, it's the name of a horse\". Later it was repackaged with alternate takes as \"New Tijuana Moods\" - but to be honest I'm not a fan of these \"extended\" releases, I want to hear the music the artist was happy with an wanted to showcase not additional takes that weren't considered as good at the time. I feel like I'm alone in this as every year we get re-releases of these great albums with newly discovered takes and I just don't see the appeal. So I'd recommend you stick to the original \"Tijuana Moods\" release which comes in at a quick 40 minutes or so.\n",
    "\n",
    "> youtube: https://youtu.be/z0fLC1CTSGs\n",
    "\n",
    "You'll notice I've not even tried to describe the music too much here. I feel whatever I do will not do the album justice and you're better off just listening for yourself. There is so much going on in some of the arrangements that you'll likely uncover something different to me anyway. You will find a wide range of musical styles on display however, from the mariachi band inspired sections, through to real swinging jazz and gospel blues. There will be dissonant parts followed by sweet melodies you will be humming for days afterwards. It is really a treat for the ears. It remains shocking to me how Mingus is not considered one of the greatest composers of all time, unfortunately I believe a lot of this is down to how African-American people are viewed in the states.\n",
    "\n",
    "So if you're at a loss for music to listen to over the festive period and you've never heard Charles Mingus (or \"Tijuana Moods\") before it is well worth your time. If you do know the album; perhaps it's time to give it another listen?"
   ]
  },
  {
   "cell_type": "code",
   "execution_count": null,
   "metadata": {},
   "outputs": [],
   "source": []
  }
 ],
 "metadata": {
  "kernelspec": {
   "display_name": "Python 3",
   "language": "python",
   "name": "python3"
  },
  "language_info": {
   "codemirror_mode": {
    "name": "ipython",
    "version": 3
   },
   "file_extension": ".py",
   "mimetype": "text/x-python",
   "name": "python",
   "nbconvert_exporter": "python",
   "pygments_lexer": "ipython3",
   "version": "3.7.4"
  }
 },
 "nbformat": 4,
 "nbformat_minor": 2
}

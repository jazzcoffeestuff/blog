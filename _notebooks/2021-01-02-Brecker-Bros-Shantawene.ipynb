{
 "cells": [
  {
   "cell_type": "markdown",
   "metadata": {},
   "source": [
    "# \"The Brecker Bros and Shantawene\"\n",
    "> \"For the first blog post of 2021 we take a look at a washed Ethiopian coffee roasted by the folks at Assembly. Along with this we go for a fusion classic courtesy of The Brecker Brothers.\"\n",
    "- toc: false\n",
    "- author: Lewis Cole (2021)\n",
    "- branch: master\n",
    "- badges: false\n",
    "- comments: false\n",
    "- categories: [Jazz, Coffee, Brecker-Brothers, 1970s, Assembly, Ethiopia, Washed-Process, Setami, Mikicho, 72/158, 74/110]\n",
    "- hide: false\n",
    "- search_exclude: false\n",
    "- image: https://github.com/jazzcoffeestuff/blog/raw/master/images/037-Brecker-Bros/Brecker-Bros.jpg"
   ]
  },
  {
   "cell_type": "markdown",
   "metadata": {},
   "source": [
    "> youtube: https://youtu.be/jhDl4IDfYOg\n",
    "\n",
    "Welcome to the first JazzCoffeeStuff blog post of2021. Usually the new year is the time for people to turn over a new leaf, try something new or make a life change. At JazzCoffeeStuff we are not doing this: we are once again featuring a blog favourite: Assembly Coffee Roasters - with a coffee of theirs hailing from Ethiopia. And of course served with a side of jazz.\n",
    "\n",
    "Assembly have featured on this blog multiple times in the past - I always list them as one of my favourite UK based roasters and always find myself coming back to them. They have made a small change to their presentation however in removing the roast date and replacing it by a \"Best Before\" (which is 12 months after roast) - which personally I am not a fan of. I would prefer to see the roast date itself and a \"best before\" for me would be 3 months at most. For the seasoned coffee person the best before date doesn't really matter, but for those getting into specialty it might be a bit misleading and prevent them getting the most from their coffee. This is the most minor of gripes however and does not stop me buying from them.\n",
    "\n",
    "Onto the coffee itself: what drew me to this particular coffee was the list of varietals: Setami, Mikicho, 72/158, 74/110. I'm glad that Ethiopian coffees are slowly but surely beginning to discover the varietals that constitute \"Heirloom\". In this instance this list of varietals does not help me too much as I have no experience with any of them (by name) - but it forms a \"first data point\" in understanding them. Hopefully I can get my hands on some more in the future. The processing method is washed and the coffee is called: Shantawene - after the village where the wet mill is located and this coffee is made up of produce from multiple smallholders.\n",
    "\n",
    "Moving swiftly on to what matters: on the dry aroma I get a hit of a caramel and a crisp green apple. Alongside is a heavier fruit note: a date or prune. It is quite a fragrant coffee, often washed Ethiopians can be quite mellow and restrained but that does not seem to be the case here.\n",
    "\n",
    "This week my filter coffee process had to be adjusted slightly: I have been unable to locate my usual chemex filter papers so I am using boxed Hario filters instead. These papers are (much) thinner than the chemex, this has the effect of allowing more of the coffee oils to get through - this increases body and sacrifices a bit of clarity. Which you prefer is personal preference, as long as you make sure you buy the correct Hario filters: the Holland based factory does not produce good filters at all. The boxed filters are the best of the lot (they have 3 different factories) and so I only bother with those. You can make a \"faux-chemex\" by double bagging the Hario filters but it is not quite the same.\n",
    "\n",
    "Through an act of serendipity the changed filters actually work well with this particular coffee. There is a lot of texture and mouthfeel on show and the Hario filters amplify this. The body is very big and it is certainly a heavy hitter, not what I was expecting at all to be honest. In the Assembly tasting notes they describe this as \"concentrated\" which is fair, personally \"intense\" is one of the first words I wrote down. I think \"intense\" fits better with my experience because of the absolute punch this coffee gives. The overarching flavour is blackcurrant, it has a sort of Kenyan vibe to it but without the excess acidity. As an Ethiopian you also get the usual peach/apricot flavours coming through too. The florals are less than you might expect but they do pop out in the long lingering aftertaste.\n",
    "\n",
    "As an espresso this coffee really shines for me. The thick viscous mouthfeel is really amplified through this method and you end up with a big and punchy shot. Despite the (very) light roast level of this coffee I ended up with a very traditional: 1:2 in 30s type profile at a medium heat. This seemed to highlight the viscosity and massive mouthfeel. I tried going even shorter to ristretto type levels to boost this even more but this seemed to introduce a little harshness in the finish which I didn't care for. Flavour wise it is all about the blackcurrant and stone fruit - it's almost like one of those \"superfood shots\" you can get at trendy smoothie bars.\n",
    "\n",
    "Overall a great start to coffee in 2021, if you can I'd recommend picking up a bag.\n",
    "\n",
    "On the jazz side this week I dug out an old fusion record from 1975 courtesy of The Brecker Brothers with their (semi)eponymous \"The Brecker Bros.\" album.\n",
    "\n",
    "![](https://github.com/jazzcoffeestuff/blog/raw/master/images/037-Brecker-Bros/Brecker-Bros.jpg)\n",
    "\n",
    "Fusion records are not something I listen to particularly often. There are plenty of albums and artists I love in that style but I often struggle with the recording styles, tones and production values. Many of these records end up sounding pretty dated today. Unfortunately this record is one of them, however it is well worth battling through as the music is top draw. It is particularly worth a listen if Snarky Puppy were your gateway into the murky world of jazz since The Brecker Brothers were certainly a big influence in developing the Snarky sound.\n",
    "\n",
    "As their name suggests The Brecker Brothers consist of brothers: Randy and Michael Brecker. Those with good memories may remember that Michael Brecker featured on the blog previously as a sideman on the Pat Metheny album 80/81. Michael was best known for his virtousity and ability to play extremely complicated fast lines with complete precision, this is on full display on this album. The opening track \"Some Skunk Funk\" (embedded at the start of the blog) is a prime example of this, although he doesn't quite reach the dizzying diminished, whole-tone scale wizardry of some of his later recordings. The track \"Rocks\" (below) is another that Michael Brecker highlight.\n",
    "\n",
    "> youtube: https://youtu.be/Q2-NEwoaR8k\n",
    "\n",
    "While he never had quite the \"star power\" of his brother it's important not to overlook Randy Brecker too. In addition to the Brecker Brothers records (where I feel he was the main driving force to be honest, these records have a very different vibe to Michael's solo work) Randy has a number of solo records under his belt and has appeared alongside many of the greats such as George Benson, Jaco Pastorious and Horace Silver. Outside of the jazz world he has also done a lot of session work, appearing on hugely commercially successful albums like Donald Fagen's \"The Nightfly\", \"Graceland\" by Paul Simon, \"Brothers in Arms\" by Dire Straits, and Chaka Khan's \"Chaka Khan\" (in addition to countless others). On this album Randy also provides vocals on the track \"Oh My Stars\" - I've always found this track a little strange and it sticks out on the album. It feels as though this is a concession to a record company to try and write a radio friendly \"hit\" but for me it's a bit wide of the mark and it's a track I almost always skip.\n",
    "\n",
    "The album also features a relatively fresh faced David Sanborn on alto. Sanborn has, rather unfairly, been associated with \"smooth jazz\" since some of his records have had commercial success and he has done some crossover R&B type work. He has still recorded with many of the greats in more \"serious\" settings too and while his solo records are not ones I gravitate towards it's a little unfair to lump him in the \"smooth\" camp. His playing on this record alone shows he certainly has the chops and it is quite cool to hear him in this setting as it's not something you hear from him often. \n",
    "\n",
    "> youtube: https://youtu.be/jV2AZ63cUqk\n",
    "\n",
    "Overall this is really quite a fun \"jazz-funk\" fusion record. It is certainly \"of a time\" but you cannot deny the sheer musical ability of all involved. If you want to hear chops there are worse places to go, assuming you can live with the rather dated production values. Regardless it is worth a listen from a \"jazz history\" standpoint to hear one of the directions jazz-fusion was heading in the mid 1970s. For Michael Brecker fans this album also provides great insight into how his playing was developing at this time."
   ]
  },
  {
   "cell_type": "code",
   "execution_count": null,
   "metadata": {},
   "outputs": [],
   "source": []
  }
 ],
 "metadata": {
  "kernelspec": {
   "display_name": "Python 3",
   "language": "python",
   "name": "python3"
  },
  "language_info": {
   "codemirror_mode": {
    "name": "ipython",
    "version": 3
   },
   "file_extension": ".py",
   "mimetype": "text/x-python",
   "name": "python",
   "nbconvert_exporter": "python",
   "pygments_lexer": "ipython3",
   "version": "3.7.4"
  }
 },
 "nbformat": 4,
 "nbformat_minor": 2
}

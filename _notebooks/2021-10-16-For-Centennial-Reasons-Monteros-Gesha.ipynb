{
 "cells": [
  {
   "cell_type": "markdown",
   "metadata": {},
   "source": [
    "# \"For Centennial Reasons and Montero Gesha\"\n",
    "> \"This week we have a bit of a special coffee, a Costa Rican Gesha roasted by Gothenburg based Morgon. This is one you probably won't want to miss. Alongside we serve up the 2019 Nat King Cole tribute from jazz-guitarist John Pizzarelli - 'For Centennial Reasons'.\"\n",
    "- toc: false\n",
    "- author: Lewis Cole (2021)\n",
    "- branch: master\n",
    "- badges: false\n",
    "- comments: false\n",
    "- categories: [Jazz, Coffee, John-Pizzarelli, 2010s, Morgon, Gesha, Natural, Costa-Rica\n",
    "- hide: false\n",
    "- search_exclude: false\n",
    "- image: https://github.com/jazzcoffeestuff/blog/raw/master/images/077-Centennial-Reasons/Centennial-Reasons.jpg"
   ]
  },
  {
   "cell_type": "markdown",
   "metadata": {},
   "source": [
    "> youtube: https://youtu.be/VBSTuXo6OOM\n",
    "\n",
    "This week we have a bit of a special coffee on show. Whenever a gesha cultivar ends up in JazzCoffeeStuff HQ it is always a cause for celebration, but in this case the excitement doubles since it is from one of my favoruite coffee roasters (and one I don't get to purchase from as much as I'd like) - Morgon, located in Gothenburg, Sweden. Unfortunately this means there is a high level of expectation behind this coffee so let's see if it can live up to it.\n",
    "\n",
    "We have featured Gesha cultivars a few times in the blog before. As a quick reminder for those unfamiliar: the Gesha varietal quickly became the \"in\" cultivar during the mid-2010s owing to a coffee competition in Panama. This combined with how difficult it is to grow has led to prices reaching stratospheric levels. Of course as the popularity and demand increase there is also an increase in \"lower grade\" Gesha cropping up. These don't have the subtlety and flavour profiles of the top Gesha coffees and you're a bit beholden on importers/roasters to pick out the best lots.\n",
    "\n",
    "Fortunately the roaster in question this week is Morgon. They have featured a few times in the blog in the past and are an all time favourite of mine. I've yet to have anything less than stellar from them and I've had some of my favourite coffees of the past few years from them. What I particularly respect is their \"no nonsense\" approach to coffee roasting, they don't try and claim there's any \"magic\" in what they're doing. They just pick good green coffee, treat it with respect and let it speak for itself. I was particularly interested in trying a Gesha from them because this slightly goes against the ethos I associate with them.\n",
    "\n",
    "The coffee itself was grown in Tarrazu, Costa Rica. I have a bit of a soft spot for Costa Rican coffee as one of the first coffees that made me take specialty seriously was a Costa Rican. In this case the coffee comes from a farm owned by Carlos Montero - one of the most respected growers in Costa Rica. The processing is described as being \"natural\" but I do not have the exact details behind this.\n",
    "\n",
    "So let's just dive in: as usual starting with the dry aroma I get the sophisticated floral bouquet you associate with Gesha. It is not a heavy hitter in this regard (nor would you expect it to be) - but it gives a hint towards the complexity in the cup. Alongside florals I get a sticky-fruity type of sweetness on the nose, perhaps reminiscent of boiled sweets.\n",
    "\n",
    "As a filter using my trusted method: the first thing I notice is the sweetness of this coffee. This is not something I normally associate with Gesha, but I guess it is the \"Costa-Rica-ness\" coming through. I would describe the sweetness as being apricot or peach like and the bag descriptor of \"strawberry fields\" also seems relvant. Alongside of course you also have all the floral notes you would expect, these seem to come to the fore as the cup cools down a touch. The cup itself is very clean with just enough acidity to avoid being cloying.\n",
    "\n",
    "Moving onto the espresso: for this coffee I found I had to grind very fine on the dial. With my new grinder I still had enough play to get to reasonable levels but I could forsee some grinders struggling to get fine enough to produce a good shot. Ultimately I landed with a 1:2.5 ratio is about 22s for best results on my set up. The flavour profile is essentially the same as the filter just more concentrated. Whereas the filter might be \"apricot juice\" the espresso is \"apricot syrup\". As is typical with these sorts of coffees some of the more complex floral notes are lost at the more concentrated levels of espresso.\n",
    "\n",
    "While the espresso is very good, for me the extra complexity from the filter makes it the more natural choice for this coffee. Despite the very high expectation levels I had for this coffee it certainly lives up to it. Morgon once again showing they know their stuff when it comes to coffee roasting and green selection.\n",
    "\n",
    "For this weeks jazz we're hopping back to 2019 with the John Pizzarelli Trio and their tribute to Nat King Cole: \"For Centennial Reasons\".\n",
    "\n",
    "![](https://github.com/jazzcoffeestuff/blog/raw/master/images/077-Centennial-Reasons/Centennial-Reasons.jpg)\n",
    "\n",
    "This album is a bit different to others featured on this blog: it is the first album that (prominently) features singing. (The more eagle eared will note that there are some previously featured albums that do have \"singing\" but these tend to be 1 or 2 tracks on the album as opposed to the majority). This is simply down to my preference, I tend not to listen to many jazz vocalists.\n",
    "\n",
    "> youtube: https://youtu.be/cHBvegYWsYQ\n",
    "\n",
    "John Pizzarelli is perhaps best known as being the son of jazz guitar legend Bucky Pizzarelli. Bucky was one of the true pioneers and one of the first (along with the likes of George Van Eps) to push the use of a 7 string guitar for jazz - something that John has since carried the torch for. John started his career in the early 1980s often working with his father. After releasing a string of albums under his own name he has gone on to work with the likes of Paul McCartney and James Taylor. He also has a brother Martin Pizzarelli - a double bassist who appears on much of his recorded works.\n",
    "\n",
    "John has also listed Nat King Cole as the main influence on his career. As such \"For Centennial Reasons\" is not the first tribute album he has recorded. There is also the 1994 release \"Dear Mr Cole\" and the 1996 follow up \"PS Mr Cole\", you will also find countless Nat King Cole songs (or songs associated with him) dotted around his other albums. Following a couple of decades of career development and working on his craft I feel \"For Centennial Reasons\" is the most polished and complete of these however.\n",
    "\n",
    "As a first vocalist to appear on this blog John Pizzarelli might appear a bit of an odd choice. He does not have a particularly strong nor unique voice, but what he does have is bags of charisma and charm to pull it off. As a live act he is one of the most enjoyable around and always puts on a great performance consisting of great music interspersed with jokes and anecdotes. I remember seeing an interview with him a few years ago where the reporter asks: \"on the New York scene your music isn't viewed as very cool, have you ever thought about changing your style?\" to which John responds: \"If you want to listen to a certain kind of music: my band is the best around. What can be cooler than that?\"\n",
    "\n",
    "As you would expect from a tribute album the majority of the material comes from the Nat King Cole canon. John does however pen 2 original pieces: \"A Hundred Years from Now\" which one could certianly mistake for an undiscovered Nat King Cole recording. And also \"Nat King Cool\" one of two instrumental pieces on the album where John and the band can flex their chops.\n",
    "\n",
    "The rest of the album is all about the swing however, over the years John has clearly fine-tuned every piece to find the optimal tempo and groove. With the focus being on swinging his way through a bunch of well known (and some less well known) tunes it is easy to overlook just how good a guitar player John is too. Some of the guitar solos and his trademark guitar-scat style is mindblowing on this album.\n",
    "\n",
    "For the selected tracks this week I have taken the 3 tunes that John recorded promo videos for (each embedded in this blog). First we have the album opener \"Straighten Up and Fly Right\" - here John plays with the tempo and note accents of the original to make a track that really swings. Compared to his earlier recordings of this tune the version here just feels more polished and allows more of his personality to come through. This is one of the highlights of the album. Next we have the signature tune \"Get Your Kicks on Route 66\" - a signature tune for both Cole and Pizzarelli. Again by just subtly tweaking the timings and groove the song takes on a new life and it becomes an instant crowd-pleaser. The last select tune is \"It's Only a Paper Moon\" - perhaps a tune that one wouldn't necessarily associate with Nat King Cole, but it is one of my favourites. It is also one that features heavily in the John Pizzarelli repertoire. The version on the album represents the arrangement of the tune that John has been using live for the past decade or so and I think the only studio version he has of this arrangement so it is nice to get this one of disc.\n",
    "\n",
    "\"For Centennial Reasons\" is a record well worth hunting down if you've not heard it before. If you're a Nat King Cole fan you'll recognise a lot of the tunes here (even if you're not you'll recognise a few). If you're new to jazz or come from a \"pop\" background and sometimes struggle with the density of some of the instrumental music featured on this blog this might be a good record to use as a \"gateway drug\" into jazz.\n",
    "\n",
    "> youtube: https://youtu.be/JtIdpTLoYSo"
   ]
  },
  {
   "cell_type": "code",
   "execution_count": null,
   "metadata": {},
   "outputs": [],
   "source": []
  }
 ],
 "metadata": {
  "kernelspec": {
   "display_name": "Python 3",
   "language": "python",
   "name": "python3"
  },
  "language_info": {
   "codemirror_mode": {
    "name": "ipython",
    "version": 3
   },
   "file_extension": ".py",
   "mimetype": "text/x-python",
   "name": "python",
   "nbconvert_exporter": "python",
   "pygments_lexer": "ipython3",
   "version": "3.8.8"
  }
 },
 "nbformat": 4,
 "nbformat_minor": 2
}

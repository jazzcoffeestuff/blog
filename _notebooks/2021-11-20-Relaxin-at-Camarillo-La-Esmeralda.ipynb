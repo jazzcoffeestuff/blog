{
 "cells": [
  {
   "cell_type": "markdown",
   "metadata": {},
   "source": [
    "# \"Relaxin at Camarillo and La Esmeralada Special Gesha\"\n",
    "> \"This week we feature a very special coffee: a washed Gesha from Hacienda La Esmeralda roasted by Coffee Collective in Denmark. Alongside we serve up the 1979 recording 'Relaxin at Camarillo' by Joe Henderson.\"\n",
    "- toc: false\n",
    "- author: Lewis Cole (2021)\n",
    "- branch: master\n",
    "- badges: false\n",
    "- comments: false\n",
    "- categories: [Jazz, Coffee, Joe-Henderson, 1970s, Coffee-Collective, Gesha, Washed, Panama]\n",
    "- hide: false\n",
    "- search_exclude: false\n",
    "- image: https://github.com/jazzcoffeestuff/blog/raw/master/images/082-Relaxin-at-Camarillo/Relaxin-at-Camarillo.jpg"
   ]
  },
  {
   "cell_type": "markdown",
   "metadata": {},
   "source": [
    "> youtube: https://youtu.be/KF_aC4QshTU\n",
    "\n",
    "This week we have a very special coffee featured on the blog. The coffee was roasted by Denmark's Coffee Collective - this is reason to celebrate in itself since they are one of the greatest coffee roasters out there. But what really makes this coffee special is it is a Gesha cultivar from Hacienda La Esmeralda in Boquete, Panama.\n",
    "\n",
    "In some sense this is the \"Gesha that launched a thousand Geshas\" - as you may recall from prior blog posts: the Gesha cultivar was just an obscure cultivar until the \"best of Panama\" competition in 2005 whereby a Gesha grown by the Peterson family at Hacienda La Esmeralda shattered the competition and achieved record prices for green coffee. Through the rest of the 2000s and 2010s Gesha became the \"in\" cultivar and reached unprecedented demand, leading to ever climbing prices. Without Hacienda La Esmeralda we may have never witnessed the \"Gesha boom\".\n",
    "\n",
    "This particular coffee was grown in the \"Mario 5\" lot on the farm and the cherries were allowed to fully ripen to a deep red colour before being picked. Only a few of the lots grown get labeled with \"Esmeralda Special\" status - and this is one of them. So it is indeed a \"best of the best\" sort of coffee. After picking the coffee undergoes a fully washed process, the farm also has lots that undergo other processing methods. For me, however, washed is king. Especially with a special coffee like this: I want to taste the coffee/terroir not the process!\n",
    "\n",
    "As you would expect a coffee like this does not come cheap, and as a result the bag weight is only 120g. Because of this I decided not to play around with espresso with this one, the thought of having a \"sink job\" shot is too painful. So this week we only have filter coffee on the blog, normal espresso service will presume next week.\n",
    "\n",
    "Diving into the coffee itself: the dry aroma gives off subtle floral notes. This is what we have come to expect from Gesha, they tend to be understated but complex. There are also the characteristic bergamot notes there too, in Gesha that has undergone more \"exotic\" processing methods often miss this note so it's nice to see it so prevalent here.\n",
    "\n",
    "Moving onto what's important: the cup itself. The first thing that stands out is how clean the cup is. There is an insane amount of clarity in the brew. Despite the rather delicate nose on the dry aroma the cup itself is fairly intense for a Gesha. There is a high level of sweetness in the cup that I would describe as being quite \"sticky\" like a particularly ripe peach. Alongside, of course, comes the florals we come to expect. It is a very perfumed cup that evolves and changes as the cup cools. The bergamot note comes through in the finish and lingers on through the aftertaste. I would describe the length of the aftertaste as being medium - not super long, but not shortlived either. You can also miss the aftertaste all together because the cup is so clean. \n",
    "\n",
    "This was a coffee I was really looking forward to so it is great that it lived up to my internal hype. Of course it is not an \"everyday\" sort of coffee but a special \"once in a while\" experience. A big thanks to Coffee Collective for making this coffee available and doing such a good job roasting. It is often difficult for \"the general public\" to get hold of coffees such as these as they often end up being used for barista competitions and the like.\n",
    "\n",
    "Alongside this rather special coffee we are heading back to 1979 and Joe Henderson's \"Relaxin at Camarillo\".\n",
    "\n",
    "![](https://github.com/jazzcoffeestuff/blog/raw/master/images/082-Relaxin-at-Camarillo/Relaxin-at-Camarillo.jpg)\n",
    "\n",
    "The first thing to note about the album is the fantastic cover art - the silhouette of Joe smoking, wearing his trademark glasses against the vivid red background is certainly one of the coolest and most iconic album covers of the era. At least for my money.\n",
    "\n",
    "> youtube: https://youtu.be/OX0SL3Zs6Zo\n",
    "\n",
    "Long time readers of the blog will know that Joe Henderson is a firm JazzCoffeeStuff favourite and he often appears on the blog. \"Relaxin at Camarillo\" is one of his more \"obscure\" recordings - he's much better known for his standout Blue Note recordings or even his Milestone or Verve releases later in his career. \"Relaxin at Camarillo\" appears on the Contemporary label - Joe's only release on this label. What makes this album particularly noteworthy however is the addition of Chick Corea on piano (who also appears on another \"obscure\" Henderson recording \"Mirror Mirror\").\n",
    "\n",
    "Of course Chick himself needs no introduction, being a true jazz legend in his own right. On \"Relaxin at Camarillo\" he eschews the electric keyboards and synths in favour of an acoustic piano. This gives the album an \"organic\" feel to it, something that Joe seemed to favour as his records rarely feature electric instruments. It is always a pleasure to hear Chick playing acoustic, on electric instruments he tends to play very technically while acoustically we get to really appreciate his phrasing.\n",
    "\n",
    "The record consists of 2 recording dates, Chick (and obviously Joe) appear on both dates which bass and drum duties are split between: Richard Davis and Tony Dumas (on bass) and Peter Erskine and Tony Williams (on drums). While there is not a huge difference in bass styles (although you can notice the difference) the two drummers have very different approaches which adds to the albums intrigue. Williams certainly swings harder and is a much \"louder\" drummer wheras Erskine is much more restrained.\n",
    "\n",
    "Somewhat unusually Chick takes writing credit for 2 out of the 5 tracks on the album with Joe taking just 1 of 5 (the remaining being comprised of a standard and the Charlie Parker track from which the album gets its name). Joe clearly buying into the mantra: \"hire good people, then get out of their way\".\n",
    "\n",
    "With a relatively short track listing it is quite hard to pick out \"choice tracks\" since every one of them is worthy of a listen. The album opens with the Henderson penned \"Y Todavia La Quiero\" (embedded at the start of this post) which has all the hallmarks of a Henderson composition. A modern jazz vibe combined with an afro-cuban rhythm. This gives Joe a chance to show off his soloing prowess as he pushes and pulls the meter with ease as he darts from the lowest to the highest register of his horn. \n",
    "\n",
    "Another highlight is the Chick Corea penned \"Crimson Lake\" (above). This piece walks the line between hard-bop and free-jazz that Joe does so well, it gives him ample opportunity to pull out his trill and ghost note trickery while still remaining somewhat \"inside\" with his soloing. The drumming from Tony Williams is really a standout here too, he is a bundle of energy and manages to push Joe to play more and more \"outside\" before switching to an audacious swing for Chick's bop-inspired solo.\n",
    "\n",
    "Lastly the album closes with \"Relaxin at Camarillo\" (below) - a take on the Charlie Parker piece of the same name. Of course Joe has reworked the tune to impart his character to it. While the original has a swinging nature to the main theme, Joe's take has a much more syncopated feel. And while Parker punctuates his slippery be-bop lines with blues like phrasing - Joe's solo is firmly in hard-bop territory and at times strays very much outside before finding his way back home. It is a really cool and interesting take on the original and so it is easy to see why the album was named after the piece.\n",
    "\n",
    "While \"Relaxin at Camarillo\" might not be the first on the list of Joe Henderson recordings to check out, it is certainly worth hunting down if you are a fan of either Henderson or Corea. \n",
    "\n",
    "> youtube: https://youtu.be/q0UD9x89bU4"
   ]
  },
  {
   "cell_type": "code",
   "execution_count": null,
   "metadata": {},
   "outputs": [],
   "source": []
  }
 ],
 "metadata": {
  "kernelspec": {
   "display_name": "Python 3",
   "language": "python",
   "name": "python3"
  },
  "language_info": {
   "codemirror_mode": {
    "name": "ipython",
    "version": 3
   },
   "file_extension": ".py",
   "mimetype": "text/x-python",
   "name": "python",
   "nbconvert_exporter": "python",
   "pygments_lexer": "ipython3",
   "version": "3.8.8"
  }
 },
 "nbformat": 4,
 "nbformat_minor": 2
}

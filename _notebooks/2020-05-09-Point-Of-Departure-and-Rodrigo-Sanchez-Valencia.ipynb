{
 "cells": [
  {
   "cell_type": "markdown",
   "metadata": {},
   "source": [
    "# \"Point Of Depatrure and PLOT Rodrigo Sanchez Valencia\"\n",
    "> \"In this blog post we go all experimental: a Colombian from relatively new London roaster PLOT with a rare varietal and an innovative processing. Paired with a free-avant-garde classic from Blue Note records: Andrew Hill - Point of Departure.\"\n",
    "- toc: true\n",
    "- author: Lewis Cole (2020)\n",
    "- branch: master\n",
    "- badges: false\n",
    "- comments: false\n",
    "- categories: [Jazz, Coffee, Andrew-Hill, 1960s, Plot, Colombia, Cold-Ferment-Process]\n",
    "- hide: false\n",
    "- search_exclude: false\n",
    "- image: https://github.com/jazzcoffeestuff/blog/raw/master/images/004-Point-Of-Depature/andrew-hill.jpg"
   ]
  },
  {
   "cell_type": "markdown",
   "metadata": {},
   "source": [
    "The main impetus behind this blog post is a new coffee I have been drinking recently.\n",
    "\n",
    "The coffee in question is from the folks at PLOT Roasting ( https://plotroasting.com/ ). I believe they are a relatively new roaster on the scene, starting around the mid-end of 2019 based in Woolwich east London. I'm usually quite suspicious of new roasters and usually like to try their offerings in cafes before purchasing a whole bag. The past few years quite a few sub-par roasters have appeared in London. What made me try PLOT then? For one their website suggested they know what they're doing and there appeared to be a coherent brand and aim - not a list of specialty cliches. The service was good with quick delivery and a hand written thank you note, which although doesn't change the drinking experience I appreciate when I see it. The packaging is very nice also, you build up your expectations prior to even viewing the beans so it's nice to see nice well thought out packaging (although packaging alone will not save a subpar coffee of course!)\n",
    "\n",
    "The coffee itself I'm writing about today is from Huila, Colombia and is called: Rodrigo Sanchez Valencia. There are 2 main pieces of interest on the spec sheet: the first the varietal is (entirely) pink bourbon - a hybrid between red and yellow bourbons (there also exists another hybrid orange bourbon). This varietal is super-rare and hard to produce so you don't often see it and when you do it tends to be expensive. PLOT however price this, in my opinion, fairly reasonably - higher than average but not to crazy-Geisha levels. The second point of interest is the processing method: a washed cold fermented processing. Essentially the coffee is picked and pulped then stored to ferment at a low temperature for a few days and then treated as a fully washed coffee would be. This is the first coffee of this processing type I have tried to the best of my knowledge, my instinct tells me to expect the funky notes of a natural but without the \"body\" and \"dirt\" you get with a natural. I have to admit I am not a big fan of some of these fancy new processing techniques, while interesting and different I don't find many to be particularly enjoyable - I often find a certain \"hollowness\" or \"emptiness\" to these coffees that sort of reminds me a decaf.\n",
    "\n",
    "![](https://github.com/jazzcoffeestuff/blog/raw/master/images/004-Point-Of-Depature/banner.jpg \"Credit: PLOT Roasting\"Rodrigo)\n",
    "\n",
    "Into the cup we go, starting with the filter - using my goto rig of the OE Apex, Hasami brewer and chemex paper. The ground beans have a different texture between the fingers from the last few coffees I've had, a more jagged and \"dry\" feeling - I'm not sure if this is directly attributable to the processing, varietal or just coincidence. On the nose the beans give off a very wiry almost vinegar aroma - certainly \"different\" but not unpleasant. Brewing to my usual recipe the first thing I notice in the cup is a cider smell - like a cloudy \"craft\" cider as opposed to a mass produced cider. This carries through to the cup, there is a fair amount of acidity present. The sweetness is there but it's certainly on the acidic end of the scale. The boozy funkiness from the fermentation only amplifies the cider comparisons. The body and mouthfeel are very light and thin, it is certainly an odd experience since the funky notes tend to come with increased body. As an espresso I get much the same qualities, this is certainly not an espresso for those looking for a more traditional and developed espresso (note: I believe PLOT only suggests this for filter - but I like low development espressos). There are some light other fruity notes present with this coffee (the tasting notes suggest pineapple and melon - I'm not sure I really pick out those at least in the first few cups I've had so far).\n",
    "\n",
    "Overall a very interesting, somewhat challenging coffee. I'm certainly glad to have tried this one. I'm also glad that PLOT appears to be a very high-level establishment, I could easily see this coffee being destroyed by a less capable roaster. I'm sure I will be ordering from them again, it's nice to find another high quality roaster especially in London - I hope they achieve success.\n",
    "\n",
    "Thinking of an album to pair with this coffee has been a bit of a struggle, I try and somehow link my album recommendation to the coffee somehow - through an idea/thought or through some indirect means. Given the coffee's qualities in the cup I feel a more avant-garde offering is appropriate - challenging but rewarding. I finally settled upon one of my favourite offerings in this style: Andrew Hill's Point Of Departure.\n",
    "\n",
    "![](https://github.com/jazzcoffeestuff/blog/raw/master/images/004-Point-Of-Depature/andrew-hill.jpg)\n",
    "\n",
    "This album was recorded by Rudy Van Gelder, like many of the great Blue Note records. Released in 1965 it features a blockbuster line-up that would challenge any album you care to mention in terms of prestige: Andrew Hill (piano), Kenny Dorham (trumpet), Eric Dolphy (alto sax and flute), Joe Henderson (tenor sax), Richard Davis (bass) and Tony Williams (drums). This is ilustrated by Reid Miles' inimitable artwork where title, artist and supporting cast are given equal size fonts. While not the most creative or iconic Blue Note artwork it certainly still packs a punch.\n",
    "\n",
    "The music on this cut is typical Andrew Hill - slightly chaotic, partly dense and partly sparse. The opening theme on \"Refuge\" is a twisting and turning affair that lets you are not in for a \"typical\" Blue Note hard-bop romp. As was the style for the earlier \"free\" recordings there is still a fair amount of structure to the composition rather than just a free-for-all -typically following a form of: a theme/phrase to open, an extended modal static section for soloing and then closing with a variation on the opening theme. The themes themselves, however, are looser and more angular than typcially found on bop records often having more dissonance, extended voicings and odd timings.\n",
    "\n",
    "Of the soloists, as expected, Hill and Dolphy are in their element. The latter in particular producing, in my opinion, some of his best soloing - wild and on the edge of completely losing control yet still having a sense of swing. Dorham in contrast is not somebody who you would expect to see on a date like this, he is best known for his understated deeply melodic and lyrical style. He still brings that quality here but the magic of Hill's compositions are that this still fits - by dialing back the crazy at some parts and turning it up at others it allows all the musicians to find their voice. This is something that is difficult to do, especially on dates where there are a lot of \"star names\" vying for the limelight. If you have read my first blog post you'll know I'm a big Joe Henderson fan, he is allowed to be looser and freerer here than he is on other records - but being surrounded by Hill and Dolphy he acts as a transition between the frenetic of these two and the soulful mastery of Dorham. As he always does showing his mastery as a side-man a fitting into any role you throw at him.\n",
    "\n",
    "Perhaps the underrated star of this record that pulls the whole thing together is Tony Williams (credited as \"Anthony Williams\" as he was earlier in his career). During recording of this record he would have only been 19 years old (the other members being in their 30s-40s), which shows what a prodigious talent he was. Williams is probably best known for his later work in jazz-fusion settings where he devloped a very forceful driving drumming style which later influenced Billy Cobham and the likes. On Point Of Depature however he offers up a much more fluid loose style, while not a strong driving sound he controls the mood masterfully - the chemistry with Hill and Dolphy is fantastic having just recorded the equally seminal \"Out to Lunch\" under Dolphy's name only a month prior.\n",
    "\n",
    "My choice track is the opening to side 2 on the vinyl recording: \"Spectrum\". The playing and composition are incredible and there is a certain Monk-esque humour to the theme. Coming up to 60 years old this recording sounds like it could have come from any time period. While not the easiest start into the world of jazz it certainly rewards those that make an effort.\n",
    "\n",
    "> youtube: https://youtu.be/cCWuT5MFzog\n",
    "\n",
    "If you are looking for comforting or easy the coffee and jazz on offer today will not satisfy you. However if you want to open yourself up to something a bit challenging, new and possibly exciting you could do a lot worse than give either of these a try!\n"
   ]
  }
 ],
 "metadata": {
  "kernelspec": {
   "display_name": "Python 3",
   "language": "python",
   "name": "python3"
  },
  "language_info": {
   "codemirror_mode": {
    "name": "ipython",
    "version": 3
   },
   "file_extension": ".py",
   "mimetype": "text/x-python",
   "name": "python",
   "nbconvert_exporter": "python",
   "pygments_lexer": "ipython3",
   "version": "3.7.4"
  }
 },
 "nbformat": 4,
 "nbformat_minor": 2
}

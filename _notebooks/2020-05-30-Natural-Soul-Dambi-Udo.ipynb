{
 "cells": [
  {
   "cell_type": "markdown",
   "metadata": {},
   "source": [
    "# \"The Natural Soul and Long and Short Dambi Udo\"\n",
    "> \"This week we look at all things natural. A natural Ethiophian coffee from the folks at Long and Short, and a slightly under the radar Blue-Note soul-jazz recording from Lou Donaldson: 'The Natural Soul'\"\n",
    "- toc: true\n",
    "- author: Lewis Cole (2020)\n",
    "- branch: master\n",
    "- badges: false\n",
    "- comments: false\n",
    "- categories: [Jazz, Coffee, Lou-Donaldson, 1960s, LongandShort, Ethiopia, Natural-Process, Heirloom]\n",
    "- hide: false\n",
    "- search_exclude: false\n",
    "- image: https://github.com/jazzcoffeestuff/blog/raw/master/images/007-Natural-Soul/The_Natural_Soul.jpg"
   ]
  },
  {
   "cell_type": "markdown",
   "metadata": {},
   "source": [
    "> youtube: https://youtu.be/OtBEP48y0H4\n",
    "\n",
    "In this blog post we're going \"natural\". At the moment I'm finding most of the interesting coffees out there, at least the ones catching my eye, are naturals so it seems only fitting to embrace that.\n",
    "\n",
    "To those that may be new to the coffee world by \"natural\" we are referring to how the coffee is processed before being roasted. A coffee \"bean\" is in fact a seed inside a coffee cherry fruit. The job of processing is to remove this fruit so that the beans are dried and ready to roast (and ultimately end up in tasty and delicious drinks). One option is \"washed\" processing where, as the name suggests, the coffee cherry is removed with water. Of all the processing methods this produces the \"cleanest\" cup since (essentially) all the cherry is removed. A \"natural\" processing method however involves leaving the bean inside the coffee cherry longer, typically in the sun. The natural sugars in the fruit ferment during this time. Eventually the fruit is seperated from the seed, producers have some control over how long the drying stage takes which can impact the qualities in the cup. Typically natural coffees are more complex, have bolder and wilder flavour profiles typically at the expense of being \"clean\". In some cases where the fermentation stage is particularly long the coffee can take on \"funky\" characteristics, I tend to associate these with \"bruised fruit\" or \"fortified alcohol\" flavour notes. In the extreme they can taste slightly \"rotten\" which is a bit of a marmite thing, I've not found many really funky naturals for a few years though.\n",
    "\n",
    "The coffee in question this week comes from the Long and Short ( https://longandshort.london/ ) team in Walthamstow East London. I've never purchased from these guys before but what caught my eye was an understated aesthetic and some rather high-quality coffees for reasonable prices. Coffee quality is often assessed using an SCA cupping score ranging from 0-100, to be called specialty the coffee needs a score of at least 80. The cupping score is not perfect but I find is a reasonable benchmark if looking at a new roaster. Typically I'll look for a score of around 87 or higher, this seems a good yardstick for me - going into the 90s typically means spending much much more dropping down to near 80 does not reduce the cost too much, it is a bit of a sweetspot in the diminishing return curve. To sweeten the deal Long and Short offer 20% off a first order if you sign up to their newsletter. Their regular prices are fair but 20% off is unbelievable - I don't think you'll get much more bang for your buck, they must be selling at cost with the discount.\n",
    "\n",
    "![](https://github.com/jazzcoffeestuff/blog/raw/master/images/007-Natural-Soul/Longandshort.png \"Credit: https://www.instagram.com/longandshortcoffee/\")\n",
    "\n",
    "\n",
    "The coffee I selected was called Dambi Udo, it is an Ethiopian from the Guji region and has an SCA score of 89. It is worth noting however that a single score like this cannot tell you anything about the flavour profile or even if you'll enjoy a coffee. If you hate really bright acidic cup profiles regardless of the SCA score a washed Kenyan might not be the one for you! Ethiopian naturals are really a \"tale of 2 halves\" in my experience - on the one side you get some really elegant fairly clean cups and on the other you can end up with complete madness (one of my most memorable cups of coffee ever was a particularly funky Yirgacheffe natural, it was right on the edge of being too \"rotten\" tasting but was a really smash in the face of flavours). The Dambi Udo is definitely on the more polite and elegant end of things.\n",
    "\n",
    "in the interests of honesty this coffee is roasted slightly darker than my typical coffees. It is by no means dark, a medium-light is more of a fair description but I tend to go light to very light in my preferences. However by developing a bit further the acidity can be managed slightly. The result here is a very easy to drink cup that is very balanced, I'm not feeling as though I'm sacrificing anything by going a touch darker than usual. This also makes pulling espresso shots so much easier, I find this coffee incredibly forgiving - it's basically impossible to pull a bad shot if you get at least within the ballpark of a reasonable \"recipe\". I find this one likes to be ground a bit coarser than others (like many natural Ethiopians in my experience) and only a medium sort of heat. I have had good results from pulling very short (1.85:1) to fairly long (2.5:1) - living up to the Long and Short name!\n",
    "\n",
    "Onto the cup itself. After grinding the beans have a caramel and jammy sort of vibe on the nose for me along with some very delicate floral notes, very enticing. On the eyes the beans are quite clearly natural (I find there is a certain \"look\" to natural coffees) but on the nose there isn't a typical natural funk. In the filter we find the natural processing imparting body and mouthfeel which is really satisfying. The flavour profile is fruity though and through, there are tropical fruits like mangos and watermelons but also a blueberry type note. The caramel on the nose goes more to a sugar-syrup or jam in the cup, there isn't a hint of a \"roasty\" note. In the espresso I find this coffee amps up the jam even more both in texture and flavour. The floral notes also come out to play, if I had to describe the type I'd suggest elderflower is an apt descriptor. The acidity is not too high at all in my opinion, I could see this being a good gateway for those that find African espresso too acidic.\n",
    "\n",
    "If you're looking for a satisfying cup that is complex yet not too challenging I'd certainly recommend the Dambi Udo. Especially for the discounted price it is truly exceptional. I also want to make a couple of shout-outs about Long and Short:\n",
    "- They win the record for the quickest turnaround of an order I can remember. From placing the order I got the tracking information for delivery within 17mins. Very very good!\n",
    "- It is nice to see packaging that is recyclable, many coffee bags are a pain to recycle but these bags can go into regular recycling (with the 2-way valve removed)\n",
    "\n",
    "The album in this blog is one slightly (but not massively) under the radar the 1962: \"The Natural Soul\" by Lou Donaldson.\n",
    "![](https://github.com/jazzcoffeestuff/blog/raw/master/images/007-Natural-Soul/The_Natural_Soul.jpg)\n",
    "\n",
    "The cover art is fairly typical in style with the black/white picture being brought to life with a flash of colour and the impactful block lettering. Lou Donaldson albums are somewhat synonomous with featuring beautiful women on the covers, but I believe this is the first one (jazz historians feel free to correct this!) \"The Natural Soul\" would have been all the more striking at the time for featuring an African-American woman with a \"natural\" afro hairstyle, kudos to Blue Note records for being willing to create cover art like this.\n",
    "\n",
    "The music on this album represents one of the first \"Soul-Jazz\" records that came in the post-bop era for which Lou Donaldson was a major artist. Soul-Jazz focussed less on intense musicianship and blistering lead lines and more on groove taking inspiration from soul and r'n'b. The tunes were mostly variations on a blues or simply a one-chord vamp and the solos were all about blues-y lyricism.\n",
    "\n",
    "The line-up on this album is simply incredible, Lou on alto, Tommy Turretine on trumpet, Grant Green on guitar, Big John Patton on organ and Ben Dixon on the drums. The Green/Patton/Dixon trio at the time being one of the pre-eminent organ trios around with a reputation for being one of the funkiest/grooviest.\n",
    "\n",
    "The music presented is firmly in the Soul-Jazz tradition but with more than a foot remaining rooted in the blues. The opening track \"Funky Mama\" (embedded at the start of this post) is a perfect example with a hard hitting Soul-Jazz groove based around a 12 bar-blues. Most of the compositions take the form of a turnaround - for any musicians wanting to navigate a turnaround this album (along with many in the Donaldson catalogue) is a great place to start. Lou uses simple pentatonic blues phrases to great effect throughout, Green uses his minimalist style to keep the groove going and Big John Patton acts as the rock keeping things moving. To simply label the playing as \"simple blues\" is a mistake however, there is still plenty of bop virtuosity on display for example in the opening of side 2 \"Sow Belly Blues\" where the soloists let loose a bit more.\n",
    "\n",
    "> youtube: https://youtu.be/VO5SKRN0-hI\n",
    "\n",
    "Lou Donaldson (nickname \"Sweet Papa\") was also known for his humour and this is certainly on display throughout the album with upbeat progressions and jokey expressions (although the music is anything but a joke). I was fortunate enough to see him live a few years ago, at the time he was nearing 90 years old but still put in a hell of a show. He may have needed to sit down, rest and take trips back stage while others were soloing but it was still a memorable gig. His humour was on display that night and he said 2 things that I will always remember:\n",
    "1. \"This next tune is a Miles Davis number... You know, back when he actually played jazz.\"\n",
    "2. A long talk about how in his old age his \"performance\" was suffering and his experiments with viagra (some of which cannot be printed in a family oriented blog like this!)\n",
    "\n",
    "A great character, great performer and all around nice guy. He no longer performs live (at 93 years old at time of writing) so I feel fortunate to have got a chance to see him.\n",
    "\n",
    "So if you're in search of something fairly easy to listen to that doesn't compromise on musicianship while providing fat grooves: \"The Natural Soul\" is not a bad way to go about it."
   ]
  }
 ],
 "metadata": {
  "kernelspec": {
   "display_name": "Python 3",
   "language": "python",
   "name": "python3"
  },
  "language_info": {
   "codemirror_mode": {
    "name": "ipython",
    "version": 3
   },
   "file_extension": ".py",
   "mimetype": "text/x-python",
   "name": "python",
   "nbconvert_exporter": "python",
   "pygments_lexer": "ipython3",
   "version": "3.7.4"
  }
 },
 "nbformat": 4,
 "nbformat_minor": 2
}

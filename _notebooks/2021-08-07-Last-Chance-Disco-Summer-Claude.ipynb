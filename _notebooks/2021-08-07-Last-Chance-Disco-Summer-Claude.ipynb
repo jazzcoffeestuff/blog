{
 "cells": [
  {
   "cell_type": "markdown",
   "metadata": {},
   "source": [
    "# \"Last Chance Disco and Summer Claude\"\n",
    "> \"This week we have a coffee selected by Monsieur Claude the cat (with a little help from Round Hill Roastery) in the form of a washed Ethiopian Nano Challa. On the jazz side we jump back to the mid '00s to remember the British jazz-punk movement in the form of Acoustic Ladyland's 'Last Chance Disco'.\"\n",
    "- toc: false\n",
    "- author: Lewis Cole (2021)\n",
    "- branch: master\n",
    "- badges: false\n",
    "- comments: false\n",
    "- categories: [Jazz, Coffee, Acoustic-Ladyland, 2000s, Round-Hill, Heirloom, Washed, Ethiopia]\n",
    "- hide: false\n",
    "- search_exclude: false\n",
    "- image: https://github.com/jazzcoffeestuff/blog/raw/master/images/067-Last-Chance-Disco/Last-Chance-Disco.jpg"
   ]
  },
  {
   "cell_type": "markdown",
   "metadata": {},
   "source": [
    "> youtube: https://youtu.be/bDfui9FHhSM\n",
    "\n",
    "This week we're heading back to a favourite roaster of mine: Round Hill Roastery located in Bath, England. Round Hill have been around for a long time (in terms of specialty coffee in the UK) and I consider them one of the most reliable roasters around. The pricing is fair and the coffee top quality, they tend not to deal in \"unobtainium\" coffees. Instead they focus on more \"every day\" coffees that still taste fantastic.\n",
    "\n",
    "The coffee this week is a \"limited edition\" offering from Round Hill and is called \"Summer Claude\". Long time readers may remember \"Spring Claude\" appearing on the blog previously, but for those that are newer readers: Monsieur Claude ( https://www.instagram.com/monsieur_claude/ ) is a cat who every now and again selects the best coffees to be released under his name. I've had most of the Claude offerings (perhaps even all of them?) and they don't disappoint.\n",
    "\n",
    "![](https://github.com/jazzcoffeestuff/blog/raw/master/images/067-Last-Chance-Disco/Summer-Claude.jpg)\n",
    "\n",
    "The coffee selected for the summer offering is a washed Ethiopian from the Nano Challa washing station. This is a very popular coffee and one that I have tried many (many) times in the past. This is the first time I have seen or bought it in 2021 however, and so one I have been looking forward to.\n",
    "\n",
    "Let's dive right into the coffee itself: on the dry aroma I get the \"typical\" bouquet of a washed Ethiopian - full of florals and stone fruits a-plenty. There is also a bit of a honey or caramel vibe to it too, but the immediate hit is from heady floral notes. These are the sort of aromas that get me excited to try the coffee itself.\n",
    "\n",
    "As a filter made in the usual way the floral and stone-fruit combo is really evident. The cup is complex and you get the \"peach-iced tea laced with jasmine\" vibe that you get from washed Ethiopians. This one is fairly \"intense\" compared to others, sometimes these sorts of coffees can be really delicate whereas Summer Claude packs a bit of a punch. As one would expect the mouthfeel and body is fairly low, the sweetness and acidity are both fairly high. The aftertaste is clean but lingering (quite a nice combination). As with many complex cups this one is sensitive to cup temperature and it takes you on a journey as the cup cools, but not in a way that grabs your attention - it is perfect for those moments when you \"just want a cup\" while doing something else.\n",
    "\n",
    "Moving onto the espresso side of things. As always I went for the filter roasted option (you can also get an espresso roast option) - as this is my preference for espresso. My comments might not translate to the espresso roast option. Dialing in this coffee was interesting, it is fairly forgiving but what was immediately apparent was Summer Claude likes longer pulls. In the end I settled for about a 10-15s preinfuse followed by a 36-38s pull for a 1:2 ratio. This is unheard of for me and I rarely get anywhere near to these times. Claude could take this sort of punishment however and was better for it. The mouthfeel and body was improved and there wasn't a hint of bitter/overextraction. The shot becomes essentially a very concentrated version of the filter, these was still flavour separation but also a lot of intensity. A really fun shot of espresso.\n",
    "\n",
    "Overall another killer offering from Claude and Round Hill, just a very good example of a washed Ethiopian. I'll look forward to the next Claude!\n",
    "\n",
    "On the jazz side this week I found myself dusting off an album from 2005 - the second recording of the Acoustic Ladyland group \"Last Chance Disco\".\n",
    "\n",
    "![](https://github.com/jazzcoffeestuff/blog/raw/master/images/067-Last-Chance-Disco/Last-Chance-Disco.jpg)\n",
    "\n",
    "Let's step back to the mid 2000s for a moment. There were a few jazz trends going on around the world, you had the jazz-funk-avant sound of Medeski Martin and Wood (and those they influenced) still going strong and in Europe you had the Esbjorn Svensson Trio (and the millions of copy cat acts). In the UK however we had a bit of a trend in the form of \"Jazz-Punk\". One of the best acts in that genre (in my opinion at least) were Acoustic Ladyland. The band consisted of British musicians:\n",
    "\n",
    "> youtube: https://youtu.be/bbXISucyPME\n",
    "\n",
    "- Pete Wareham – saxophones\n",
    "- Tom Cawley – keyboards\n",
    "- Tom Herbert – bass\n",
    "- Sebastian Rochford – drums\n",
    "\n",
    "As you would guess by the name: Acoustic Ladyland started off interpreting the music of Jimi Hendrix (on acoustic instruments). By \"Last Chance Disco\" (about 3-4 years after their debut) they went to electric instruments and began writing their own music. Founder Pete Wareham describes the inspiration for the album being his \"frustration with jazz and desire to infuse the ethic and fun of punk\". My memory of the timelines are a little hazy but it is certainly one of the first albums I remember taking on the \"Jazz-Punk\" label which was later picked up by bands like \"(Get) The Blessing\" and \"Led Bib\" amongst others.\n",
    "\n",
    "As you would expect from the \"punk\" label, a large focus of the music is on energy and attitude. This is not an album to pick up if you're after refined and elegant harmony - instead it's perhaps closer to instrumental rock music in its conception. The majority of the tunes are built around relatively simple melodies that act as the hook. These are usually built around rather simple chord changes and progressions and the interest comes from the change in dynamics, timing and all out aggression.\n",
    "\n",
    "One of the highlights of \"Last Chance Disco\" (and other Acoustic Ladyland recordings) is the inclusion of drummer Seb Rochford. We have talked about Seb briefly in the Sons of Kemet blog post. His drumming style is unique and is generally quite easy to spot. While many jazz drummers are what I would call \"cymbal focussed\", Seb tends to work the toms more and brings in influences and beats you might be more likely to hear in world music by the way of death metal. I also got to meet Seb at a gig before and he's a thoroughly nice chap to boot.\n",
    "\n",
    "Usually at this point I like to disect some of the tracks on the album a little bit to talk about what makes them great, that doesn't really feel in the punk spirit of Acoustic Ladyland so I have instead embedded a few choice tracks and let the attitude and vibe speak for itself. I have tried to make picks that highlight the breadth of what's on offer: from the heavy-metal carnage of \"Iggy\" (at the start of this post). Through to the funk and noise-rock oddity of \"Of You\" (above). And the anthemic closing track \"Nico\" (below) which became a bit of a signature track for the band.\n",
    "\n",
    "> youtube: https://youtu.be/GL2VUsHCqA4\n",
    "\n",
    "While \"Last Chance Disco\" might not quite be worthy of \"essential listening\" status, it sure is a fun listen and is certainly \"of a time\". This was music best enjoyed live though (preferably at a small, sweaty \"rock\" type venue with a party atmosphere). I'm not sure if the \"jazz-punk\" thing made it out of the UK, it was a very short-lived trend amongst UK based bands. I'd be interested to hear from any European of Transatlantic readers whether jazz-punk found its way to your shores."
   ]
  },
  {
   "cell_type": "code",
   "execution_count": null,
   "metadata": {},
   "outputs": [],
   "source": []
  }
 ],
 "metadata": {
  "kernelspec": {
   "display_name": "Python 3",
   "language": "python",
   "name": "python3"
  },
  "language_info": {
   "codemirror_mode": {
    "name": "ipython",
    "version": 3
   },
   "file_extension": ".py",
   "mimetype": "text/x-python",
   "name": "python",
   "nbconvert_exporter": "python",
   "pygments_lexer": "ipython3",
   "version": "3.8.8"
  }
 },
 "nbformat": 4,
 "nbformat_minor": 2
}

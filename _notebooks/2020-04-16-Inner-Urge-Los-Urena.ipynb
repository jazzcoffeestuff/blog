{
 "cells": [
  {
   "cell_type": "markdown",
   "metadata": {},
   "source": [
    "# \"Inner Urge - Joe Henderson and Assembly Los Urena\"\n",
    "> \"A look at Joe Henderson's 1964 album 'Inner Urge' and Assembly Coffee's Los Urena from the Tarrazu region of Costa Rica\"\n",
    "- toc: true\n",
    "- author: Lewis Cole (2020)\n",
    "- branch: master\n",
    "- badges: false\n",
    "- comments: false\n",
    "- categories: [Jazz, Coffee, Joe-Henderson, Inner-Urge, Hard-Bop, 1960s, Assembly, Costa-Rica, Typica, Honey-Process]\n",
    "- hide: false\n",
    "- search_exclude: false\n",
    "- image: https://github.com/jazzcoffeestuff/blog/raw/master/images/001-inner-urge/InnerUrge.jpg"
   ]
  },
  {
   "cell_type": "markdown",
   "metadata": {},
   "source": [
    "In my bleary-eyed haze of an early morning I paw at the laptop trying to get some music to play.  Before my morning coffee my creativity levels are low; I reach for an old favourite: “Inner Urge” by Joe Henderson. This album holds a special place in my heart, it is perhaps the most important album in my jazz appreciation. It was the album that converted my thinking from: “this jazz stuff is quite cool” to a full-blown obsession. I’m not one to believe in fate or superstition but this album was recorded on my birthday (albeit many years before I was born) – which is kind of a neat coincidence. \n",
    "\n",
    "![](https://github.com/jazzcoffeestuff/blog/raw/master/images/001-inner-urge/InnerUrge.jpg)\n",
    "\n",
    "It starts with the title track; McCoy Tyner’s powerful opening chord stab sets the tone for the rest of the album. A dark and brooding, contemplative album throughout, all the time walking the fine line between sophisticated bop and chaotic free jazz – Joe with his albums from the mid-60s seamlessly blended these ideas like no one else.\n",
    "\n",
    "As the music is playing I grab a bag of coffee off the shelf, today’s offering is a Costa Rican from the folks at Assembly Coffee ( https://assemblycoffee.co.uk/ ). The coffee is called Los Urena and is a honey processed typica from the Tarrazu region. Opening the bag (some of the nicest packaging in the business for my money), I’m greeted with a warming floral honey aroma. I doubt that this is going to be a big “punch in the face” sort of flavour bomb of a coffee, it is more a refined easy drinking elegance. I move onto preparing the beans.\n",
    "\n",
    "![](https://github.com/jazzcoffeestuff/blog/raw/master/images/001-inner-urge/20200213-Los-Urena_720x.jpg)\n",
    "\n",
    "The second track is now playing: \"Isotope\". This is perhaps my favourite track on the album – it has a joyful playfulness yet angular ugliness to it. When I first heard this, I’d not heard anything like it – little did I know it was penned as a tribute to Thelonious Monk who I got (really) into many years later. Listening back now the Monk-isms are unmistakable an absolute joy to listen to. As the track ends I finish preparing the filter coffee.\n",
    "\n",
    "> youtube: https://youtu.be/ud0HIA-sEfQ\n",
    "\n",
    "Giving the cup a cursory sniff, I get mostly the same notes as from the beans – a sweet rich honey and some light florals. I wait a little for the cup to cool down and let the Latin influence of “El Barrio” cries out, Joe’s improvisation is incredible on this track. Others from the era might have played faster or had a more sophisticated sense of harmony but for my money Joe is the best improviser (possibly ever) – his lines are never neat or fall nicely under the fingers, it’s as though there is zero resistance between mind and the instrument.\n",
    "\n",
    "The first sip of coffee acts like a big warm comforting liquid hug. This coffee will never go down as one of the most complex cups, but it is sophisticated. The thing that often strikes me about Assembly roasts is they tend to be very clean (which is a quality I always look for in a coffee) – these honey processed Americans can often get a bit “blurry” tasting but not here, everything is refined and elegant. I am thoroughly enjoying this cup.\n",
    "\n",
    "Through my years of drinking specialty I usually find that during each year there is one origin that is particularly spectacular, I can only assume that it is down to particular weather patterns in each region – much like certain wine vintages are so sort after. This year it seems like it is going to be Tarrazu Costa Ricans, this is the 2nd this year that has been great.\n",
    "\n",
    "Finishing up the cup and the next tune begins, a change of pace and a beautiful ballad called “You Know I Care” penned by Duke Pearson. I often think ballads are underappreciated, playing over ballads requires just as much skill as blowing over crazy bop changes. Here Joe shows his lyricism, you can feel every single note and phrase. Not content with playing it straight he throws in a few more angular phrases but they never feel out of place.\n",
    "\n",
    "It’s now time to test how this coffee behaves as an espresso. This coffee is intended to be used as a filter I believe; it is a light but not super-light roast. Being a honey processed American it is quite easy to extract and fairly forgiving. The espresso has some body to it but is not syrup monster like a darker roast would be. Like the filter it is not a flavour bomb but refined and clear, the florals pop a bit more and there is a bit of fruity acidity coming through overall fairly balanced. The flavour notes from Assembly say “Molasses, Blood Orange, Mellow” – I don’t get the blood orange too strongly but don’t disagree with their assessment.\n",
    "\n",
    "With the clean coffee aftertaste lingering for a few moments the final track is playing: a Cole Porter classic: “Night and Day”. This is not your typical take on the standard though, an up-tempo fire-breathing hard-bop romp through the changes. As the music fades and I’m suitably caffeinated I finally feel ready for the day ahead.\n",
    "\n",
    "> youtube: https://youtu.be/8hFsKbEh4OI"
   ]
  }
 ],
 "metadata": {
  "kernelspec": {
   "display_name": "Python 3",
   "language": "python",
   "name": "python3"
  },
  "language_info": {
   "codemirror_mode": {
    "name": "ipython",
    "version": 3
   },
   "file_extension": ".py",
   "mimetype": "text/x-python",
   "name": "python",
   "nbconvert_exporter": "python",
   "pygments_lexer": "ipython3",
   "version": "3.7.4"
  }
 },
 "nbformat": 4,
 "nbformat_minor": 2
}

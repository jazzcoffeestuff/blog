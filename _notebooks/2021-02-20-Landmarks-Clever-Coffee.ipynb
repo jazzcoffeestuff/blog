{
 "cells": [
  {
   "cell_type": "markdown",
   "metadata": {},
   "source": [
    "# \"Landmarks and Clever Coffee\"\n",
    "> \"Another KaffeBox week featuring a pair of coffees from Clever Coffee in Denmark. We also talk Brian Blade and The Fellowship Band with their 2014 release 'Landmarks'\"\n",
    "- toc: false\n",
    "- author: Lewis Cole (2021)\n",
    "- branch: master\n",
    "- badges: false\n",
    "- comments: false\n",
    "- categories: [Jazz, Coffee, Brian-Blade, 2010s, Clever-Coffee, Costa-Rica, Brazil, Black-Honey, Anaerobic, Catuai, Mundo-Novo]\n",
    "- hide: false\n",
    "- search_exclude: false\n",
    "- image: https://github.com/jazzcoffeestuff/blog/raw/master/images/044-Landmarks/Landmarks.jpg"
   ]
  },
  {
   "cell_type": "markdown",
   "metadata": {},
   "source": [
    "> youtube: https://youtu.be/rMcyjco69z4\n",
    "\n",
    "This blog post marks a return to my KaffeBox subscription. This time it features a pair of coffees from Danish coffee roaster Clever Coffee. Not to be confused with the \"clever dripper\" brewer manufactured by a totally different company. I have to admit I'd never heard of Clever Coffee prior to receiving these coffees, part of the joy of a subscription service like KaffeBox.\n",
    "\n",
    "Packaging wise they opt for quite a minimalist aesthetic with plain white packages and green labels. For each coffee there is a different shade of green so I assume they might have other colours for other coffees. Overall I don't mind the presentation but it is not as eye-catching as some other packaging I've seen.\n",
    "\n",
    "As with the previous KaffeBox offerings I received 2 bags of 125g each, I decide to dedicate one to filter and one to espresso so I have a chance to dial in and get the best out of them. This time I decided which coffee to use for each preparation completely at random - it was whichever I picked up first when brewing the first filter coffee.\n",
    "\n",
    "On the filter side this week we have La Catarata - a red catuai varietal from Costa Rica. The processing method is described as \"black honey\" - I've covered honey processing in previous posts so won't retread old ground there. But the \"black\" designation is used to refer to the amount of fruit/mucilage left on the seed as part of the honey process. Very loosely: a white honey means that a lot of the cherry is removed (\"closer to a washed\") and black honey means more cherry is left attached (\"closer to a natural\").\n",
    "\n",
    "The first thing to notice about this coffee is that it's certainly on the lighter end roast wise. On the dry aroma I get hints of caramel and honey along with a fig fruity note. It has a heft to the nose but it is not something you'll smell across a room when somebody opens the bag. In the cup the first thing to note is how balanced the cup is; acidity and sweetness are in perfect harmony. In terms of flavours I get apples and caramels most of all. You get the crisp sharpness of a green apple followed by the sweetness of the caramel. In terms of body I would describe this as a medium, given the roast level it has more body that you would expect. The aftertaste is very clean and fairly short lived. It is not the most complex coffee you'll ever drink and you don't really get anything in the way of progression as the cup cools. It is a very reliable no-nonsense sort of cup.\n",
    "\n",
    "On the espresso side we have Fazenda Samambaia - a Mundo Novo varietal from Brazil. What is interesting here is that it is an anaerobically processed coffee, I don't remember seeing many Brazilian coffees with this processing method. However, Brazil is not an origin I spend much time with typically. On opening the bag again I notice the light roast level and on the nose I get caramel notes but overall it is a pretty subtle affair.\n",
    "\n",
    "In terms of dialing this coffee in I have to admit it was a bit of a challenge (this is a light filter roast so that is not a complaint). This coffee is prone to getting a bit acidic so to combat that I had to set the machine to maximum temperature. Pulling the shot long helped with this also but the coffee has a great body that is sacrificed so I preferred to keep it more in the 1:2.5 range. When it's right it is fantastic and super interesting. I would describe the sensation as being like those traditional pineapple cube sweets - that sort of tropical fruit note combined with huge sweetness. I find that the mouthfeel starts off kind of thin but the body \"blooms\" and you're left satisfied. If you don't have it dialed in or your puck prep is not quite right you do end up with a \"battery acid\" shot however. This is one for somebody experienced at making espresso and doesn't mind a bit of work, but you will be rewarded for it in the end.\n",
    "\n",
    "For this weeks jazz we're jumping back to 2014 with Brian Blade and The Fellowship Band and their Landmarks recording.\n",
    "\n",
    "![](https://github.com/jazzcoffeestuff/blog/raw/master/images/044-Landmarks/Landmarks.jpg)\n",
    "\n",
    "Landmarks is the fourth release from The Fellowship Band having released their debut album in 1998. The heart of the band features Brian Blade on drums, Jon Cowherd on piano, Myron Walden on alto sax and bass clarinet, Melvin Butler on soprano and tenor sax and Chris Thomas on bass. They also feature the occassional \"guest\" spots notably in the guitarist spot - on this album we have Marvin Sewell and Jeff Parker who replace Kurt Rosenwinkel\n",
    "\n",
    "> youtube: https://youtu.be/aEcLf-uoqAA\n",
    "\n",
    "Drummer Brian Blade is of course the \"headline act\" for this band and, arguably, the most famous musician on the recording. He is perhaps best known as a sideman and particularly through being \"Wayne Shorter's drummer\" for many years. He has also been a long time member of the Chick Corea trio and has appeared alongside more modern greats such as Joshua Redman and Kenny Garrett, as well as appearing on Joni Mitchell records. \n",
    "\n",
    "Brian's drumming style is both interesting and distinctive. A big part of his vibe is his use of dynamics when playing, it is very musical and makes everybody he plays with sound better. I have to say that live this comes at a cost however. I have seen him live a few times where he has ruined the gig by not playing the room correctly. The drastic change in dynamics can become jarring and quite distracting in my experience. But on record and on dates where the room can support his style he is incredible however and few can compare.\n",
    "\n",
    "Of all the Fellowship records Landmarks has long been my favourite of the lot. I feel that at this point the band is so familiar with each other that they are completely free to express themselves. The record prior to this one are great and I still enjoy listening to them, but as a complete statement Landmarks is where they nail it. While taking a nod to jazz artists that come before them the Fellowship band really thrives at bringing in elements from Gospel and American Folk like lyricism. It is more about an overall atmopshere and feeling than it is technicality, each member adds texture upon texture to create a landscape. This is an album where it's best to just let it wash over you, and it may take a few listens to truly appreciate it.\n",
    "\n",
    "Selecting tracks on an album like this is difficult as I feel it's best to listen from start to finish. At the start of this post I embedded the title track \"Landmarks\" which features a bass led folk-like motif as its main theme. There is a spiritual quality to the piece with it almost feeling like a hymn. The interplay between Blade and Walden is also a particular highlight. \"He Died Fighting\"  (embedded above) in contrast features a rootsy bluesy theme driven by Cowherd's piano followed by some gutsy blues influenced soloing. While the soloists clearly exhibit virtuosic ability that is not what is important here, the focus is always on the tune - the band is almost completely devoid of ego which is part of the magic.\n",
    "\n",
    "> youtube: https://youtu.be/UuKjBpYzsQk\n",
    "\n",
    "The album closes with the shorter piece \"Embers\" (above) based around a country-like theme but featuring gospel-like sensibilities.\n",
    "\n",
    "Overall Landmarks represents a truly original and fresh take on modern jazz. It takes influence from the past but is not beholden to it while not trying to be modern for the sake of it. The Fellowship Band have created a sonic universe that is all their own hopefully we will see many more releases from them."
   ]
  },
  {
   "cell_type": "code",
   "execution_count": null,
   "metadata": {},
   "outputs": [],
   "source": []
  }
 ],
 "metadata": {
  "kernelspec": {
   "display_name": "Python 3",
   "language": "python",
   "name": "python3"
  },
  "language_info": {
   "codemirror_mode": {
    "name": "ipython",
    "version": 3
   },
   "file_extension": ".py",
   "mimetype": "text/x-python",
   "name": "python",
   "nbconvert_exporter": "python",
   "pygments_lexer": "ipython3",
   "version": "3.7.4"
  }
 },
 "nbformat": 4,
 "nbformat_minor": 2
}

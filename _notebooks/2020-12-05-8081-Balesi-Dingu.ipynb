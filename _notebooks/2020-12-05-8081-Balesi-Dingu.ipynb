{
 "cells": [
  {
   "cell_type": "markdown",
   "metadata": {},
   "source": [
    "# \"80/81 and Balesi Dingu\"\n",
    "> \"In this blog we have another Ethiopian from Round Hill from farmer Balesi Dingu. With this we look at the 1980 release '80/81' from Pat Metheny.\"\n",
    "- toc: false\n",
    "- author: Lewis Cole (2020)\n",
    "- branch: master\n",
    "- badges: false\n",
    "- comments: false\n",
    "- categories: [Jazz, Coffee, Pat-Metheny, 1980s, Round-Hill, Ethiopia, Natural-Process, Heirloom]\n",
    "- hide: false\n",
    "- search_exclude: false\n",
    "- image: https://github.com/jazzcoffeestuff/blog/raw/master/images/033-8081/8081.jpg"
   ]
  },
  {
   "cell_type": "markdown",
   "metadata": {},
   "source": [
    "> youtube: https://youtu.be/xMniT5qhKio\n",
    "\n",
    "This week on the blog we are sticking with the Round Hill coffee roastery for a second week in a row. I've talked many times about Round Hill in the past so won't cover the same ground again - but if this is your first time reading the blog the concise version is: \"buy coffee from Round Hill\".\n",
    "\n",
    "It will come as no surprise that we are looking at another Ethiopian coffee. Ethiopia is my favourite origin and so I end up buying/drinking a lot of it. Usually I head towards the washed coffees but this one is a natural process instead. This coffee is a single farmer lot, this is something a little out of the ordinary within Ethiopian coffee. A lot of the time farmers will lack the distribution chain to be able to connect with importers/exporters/roasters and instead have to deal with a washing station. These deals are typically for a fixed price and their lot will be blended with other lots and so there will be a lack of tracebility. In this case the coffee takes its name from the farmer himself: Balesi Dingu.\n",
    "\n",
    "Diving straight in to the coffee itself: on the dry aroma I do not get a whole lot to be honest. There are hints of citrus and a nudge of florals but overall it is quite tame. From this I gather that this will not be a very \"natural\" natural and we are in for a relatively clean cup profile.\n",
    "\n",
    "As usual we start with a filter. With this coffee I found I had to adjust my grind size to the coarser side, which is quite interesting. Usually I don't recommend changing grind size for filter coffees as you end up losing a lot of time and effort for minimal gain. However in this case with my usual setting I was noticing a bit of harsh bitterness in the finish which I did not enjoy, by knocking the grinder 1 step coarser the whole coffee came alive. The major flavours are the peach and apricot notes one would expect, combined with a grapefruit type acidity and some florals on the back end. Earl Grey tea/bergamot would be a good way to describe the florals in my opinion. This is quite a clean cup but the natural processing method brings in some more body to the cup. I would describe it as a creamy body, it is not a super chew-y huge mouthfeel but it is noticable and adds to the cup enjoyment.\n",
    "\n",
    "Moving onto the espresso. Again this is the \"filter roast\" option of this coffee and so all my usual advice applies. In the end I settled for 1:2.75 in about 22s at a high heat - basically what you would expect for a coffee of this style. Unfortunately this sacrifices some of the mouthfeel I noticed in the filter but in my opinion the extra sweetness opens the espresso up. It becomes a very sweet peach iced tea in espresso form, very drinkable. The grapefruit acidity is there but it is not overbearing, in fact I would say it is perhaps medium or even medium-low acidity. This could be one that would surprise those who think this roast style is \"too light\" for espresso.\n",
    "\n",
    "Again another solid showing from Round Hill, for my money one of the most dependable roasters out there and for the money one of the best value. Hats off to the boys and girls from Bath once again.\n",
    "\n",
    "On the jazz side this week we are going all Pat Metheny. This time we are looking at the 1980 release called: \"80/81\".\n",
    "\n",
    "![](https://github.com/jazzcoffeestuff/blog/raw/master/images/033-8081/8081.jpg)\n",
    "\n",
    "The eagle eyed among you will have noticed that the tune embedded at the start of this blog is not actually from 80/81 but a later release from the Pat Metheny Unity Group. This was not a mistake, 80/81 was released on ECM records who are particularly vigilant about removing any YouTube videos of their recordings. As such it is next to impossible to find things to embed for this blog, instead I have taken re-recordings or live versions of some of the tunes off the album. For the full effect get a copy of the album itself, it is well worth your time.\n",
    "\n",
    "With that out of the way let's talk about Pat. Pat needs no introduction - he is one of the biggest jazz artists in the world today; his gigs always sell out, he has countless Grammy wins, gold records and has worked with just about anybody you could possibly think of. If you are looking for a jazz gig that would convert somebody onto jazz I can't think of many better gigs to go to, Pat always puts on a fantastic show! I have been lucky enough to see him live numerous times and have yet to be disappointed.\n",
    "\n",
    "Why then did I pick 80/81? There were many albums I could have picked here, he has recorded some all time classics over the years. 80/81 is one that I continually find myself coming back to however. Pat's style is typically fairly polished and produced, his albums are typically highly composed and in recent years have become increasingly complicated. 80/81 in contrast feels more \"organic\", it is just a few guys in a room playing tunes and having fun. Pat doesn't do his synth guitar wailing, there is no Lyle Mays beautifully rich harmonies, it is the closest thing to a \"straight ahead\" album from Pat.\n",
    "\n",
    "\n",
    "> youtube: https://youtu.be/xMniT5qhKio\n",
    "\n",
    "It is worth looking at the line-up on this album:\n",
    "- Pat Metheny - Guitar\n",
    "- Charlie Haden - Bass\n",
    "- Jack Dejohnette - Drums\n",
    "- Dewey Redman - Tenor Sax\n",
    "- Michael Brecker - Tenor Sax\n",
    "\n",
    "This is an absolutely all-star cast, every member here is a legend in their own right with countless records and acolades to their name. Reportedly Metheny wrote the tunes on this album with these members in mind, he had a clear vision of exactly how he wanted the band to sound together. What is remarkable about this is that none of the 4 other members had recorded together previously. I had to double check this regarding Charlie and Jack as I found it very hard to believe. In addition this is the first album where Metheny played with any reed players - deciding to double up with a Redman-Brecker duo on this record. They tend to split tenor duties on the record however, they only appear together on 3 of the 9 tracks.\n",
    "\n",
    "The album kicks off with \"Two Folk Songs\" - perhaps the most well known of the albums tracks (the Unity Group version from 2016 embedded at the start of the post). This is perhaps one of the most iconic opening tracks of any jazz album period, it is a relatively simple melody that will stick in your head for days. However the Jack Dejohnette drum work, for me, really brings the track to life - he manages to find a groove yet still push the music forward at the same time, no mean feat. It also features some sublime tenor work from Brecker. In some sense this was a turning point in Brecker's career and marked a slight change in approach for him and really opened up his vocabulary to become one of the greatest tenors of all time.\n",
    "\n",
    "Another highlight is the tune \"The Bat\" which is quintessential Metheny. A slow meandering ballad full of Metheny-isms albeit with a different tonal-pallete thanks to the use of the tenor sax. It is refreshing to hear Pat's music in this format, as much as I love the other 80s recordings from him, some of the synth work does sound a bit dated now. \"The Bat\" in contrast sounds timeless to me.\n",
    "\n",
    "> youtube: https://youtu.be/v6LHo3Tnmcw\n",
    "\n",
    "When recording this album it became apparent that Metheny had written too much music. A decision was made to instead turn this into a double-album (thankfully). The band then decided to take on the Ornette Coleman piece \"Turnaround\" - Charlie Haden being a long term collaborator with Ornette. It feels as though this was largely done on the fly and there is a great moment at the end of the tune where you can hear Charlie say \"Woah boy! Jack Dejohnette man!\". \n",
    "\n",
    "Another highlight of the album (and perhaps the most famous track on the album after \"Two Folk Songs\") is the ballad \"Every Day (I Thank You)\" - which Pat wrote with Michael Brecker in mind. Brecker is best known for his wild Coltrane inspired diminished style lines and crazy up-tempo numbers, however he is also an exceptional on ballads. On this track (a live version embedded above) we get to hear Brecker at his most expressive and heartfelt, certainly not something to be missed.\n",
    "\n",
    "80/81 is such a solid album you could pick any of the tunes to write about, each has a story, envokes a feeling and is all around just fun to listen to. I'd highly recommend you find a copy and just listen to it start to finish. It will be time well spent and one you'll likely find yourself coming back to time and time again."
   ]
  },
  {
   "cell_type": "code",
   "execution_count": null,
   "metadata": {},
   "outputs": [],
   "source": []
  }
 ],
 "metadata": {
  "kernelspec": {
   "display_name": "Python 3",
   "language": "python",
   "name": "python3"
  },
  "language_info": {
   "codemirror_mode": {
    "name": "ipython",
    "version": 3
   },
   "file_extension": ".py",
   "mimetype": "text/x-python",
   "name": "python",
   "nbconvert_exporter": "python",
   "pygments_lexer": "ipython3",
   "version": "3.7.4"
  }
 },
 "nbformat": 4,
 "nbformat_minor": 2
}

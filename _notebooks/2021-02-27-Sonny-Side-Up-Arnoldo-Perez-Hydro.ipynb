{
 "cells": [
  {
   "cell_type": "markdown",
   "metadata": {},
   "source": [
    "# \"Sonny Side Up and Arnoldo Perez Hydro Natural\"\n",
    "> \"Back with Plot Coffee Roasting we look at another coffe from Finca La Senda in Guatemala - this time their hydro-natural processed lot. Alongside we take a look at Dizzy Gillespie's 1957 'Sonny Side Up' release featuring Sonny Stitt and Sonny Rollins.\"\n",
    "- toc: false\n",
    "- author: Lewis Cole (2021)\n",
    "- branch: master\n",
    "- badges: false\n",
    "- comments: false\n",
    "- categories: [Jazz, Coffee, Dizzy-Gillespie, 1950s, Plot, Guatemala, Hydro-Natural, Pache]\n",
    "- hide: false\n",
    "- search_exclude: false\n",
    "- image: https://github.com/jazzcoffeestuff/blog/raw/master/images/045-Sonny-Side-Up/Sonny-Side-Up.jpg"
   ]
  },
  {
   "cell_type": "markdown",
   "metadata": {},
   "source": [
    "> youtube: https://youtu.be/Iz0CcsmAelw\n",
    "\n",
    "This week we're heading back to Plot Coffee Roasting again. A few blog posts ago we featured the rather special Champagne yeast processed coffee from Finca La Senda in Guatemala - this time we feature another experimental processed coffee from the very same farm. As before the coffee is of the Pache varietal.\n",
    "\n",
    "The process is described as a \"hydro-natrual\" - the cherries are picked and dried in the sun for 4 days before being soaked in water overnight. This \"rehydrates\" the cherries which are then dried in the shade for another 28-30 days. The folks at Finca La Senda are certainly experimental and they should be commended for it. I think processing variation is likely to be the key to unlocking new flavour potential in coffee. Of course genetic diversity of coffee plants can lead to variation but this is a slow process driven by evolution (aside from the rare \"freak discovery\" of an unknown varietal) - processing is something that has a shorter feedback loop and so is a more commercially viable for the farmer.\n",
    "\n",
    "I have to admit however I'm not a fan of all the experimental processings I've had. In fact I have a rather low hit rate of enjoyment from them, I often find them unbalanced or just plain odd. Based on the Champagne yeast processed coffee I have high hopes for this one however.\n",
    "\n",
    "Lets just dive straight into the coffee itself. Like the Champagne yeast offering Plot have opted for a pretty light roast, maybe a hair darker than the Champagne yeast but I never compared them side by side. On the dry aroma it is clear this is a very different beast. The first thing that I notice is the red berry note - it also has a sort of bramble note too, it reminds me of a fruit picking farm. In the background there is just a hint of tropical fruit, but it is not your typical \"fruit bomb\". \n",
    "\n",
    "As usual we start with a filter brew: just as on the nose the primary thing I notice is the red berry flavours. The label lists blueberry and raspberry, which I don't disagree with. The tropical fruit flavours are also more prominent in the cup, mango being the predominant note. On the acidity scale this one comes in quite high but it is balanced with a lot of sweetness. It also has quite a big mouthfeel and body. Interestingly I find this coffee is better at higher cup temperatures, usually I find the flavours difficult to distinguish at the higher temperatures but this coffee keeps its clarity. At lower cup temperatures the acidity can take over a bit.\n",
    "\n",
    "Moving onto espresso: as you'd expect for a light roast the machine temp is set to maximum. For a ratio I found 1:2.5 works best but I prefered to pull a bit slower than usual at around 30-32s. This allowed more of the body to come through and added some intensity to the shot. I didn't find this added any bitterness at all and everything balanced nicely. The flavour profile was much the same as the filter brew: mangos and raspberries. Despite being a fairly acidic light roast it is surprisingly easy to drink as an espresso and one I have enjoyed. The only downside to the espresso compared to the filter is less of the complexity comes through.\n",
    "\n",
    "Overall another great offering. For me the Champagne yeast version was more up my street, but I could easily see others having the opposite preference. Drinking two coffees from the same farm with different processings is always interesting as you can see what a huge difference there is in the cup. These coffees are night and day different, in a blind tasting I don't think I'd be able to identify they were from the same farm. Plot offer a third processing from Finca La Senda (carbonic maceration) but unfortunately at the time I couldn't justify getting all three since I already had too much coffee to be getting on with. If it's still available next time I do a Plot order I'll pick up a bag.\n",
    "\n",
    "On the jazz side this week we're heading back to an all time classic from 1957. The seminal \"Sonny Side Up\" from Dizzy Gillespie.\n",
    "\n",
    "![](https://github.com/jazzcoffeestuff/blog/raw/master/images/045-Sonny-Side-Up/Sonny-Side-Up.jpg)\n",
    "\n",
    "Dizzy has featured on the blog in the past as a co-headliner but this is his first showing in his own right. Dizzy of course needs no introduction - one of the forefathers of be-bop, he is one of the few jazz artists who became known outside of the jazz community. Potentially down to his look: often sporting a beret, horn-rimmed glasses and of course the puffed out cheeks when playing. Or possibly down to his jovial and light hearted personality. But, there is no doubting his musical pedigree.\n",
    "\n",
    "> youtube: https://youtu.be/Rezdck_Roog\n",
    "\n",
    "By 1957 be-bop had pretty much run its course, it had become fairly \"mainstream\" in jazz by then so just playing be-bop was not enough to gain recognition. Jazz artists were beginning to look at the new \"post-bop\" world and where they could make their mark. For somebody like Dizzy who was one of the originators this could present a problem, it is often easy for an artist to get stuck in their stylistic box and unable to adapt with the times. To combat this Dizzy apointed two tenor saxophonists to help him out: Sonny Stitt and Sonny Rollins.\n",
    "\n",
    "Besides just providing am easy pun for the album's title the tenor pair provided the necessary artistic direction for the album. Both Sonny's were clearly disciples of Gillespie's buddy Charlie Parker - but instead of simply copying Bird licks they each developed upon the Parker framework in different ways. Stitt was most directly compared to Parker, originally playing alto he was often labelled a \"Parker Clone\". To combat this he made the switch to the tenor and developed a more forceful approach, however he still adopted the belly-fire of Parker and made use of the wild lines we associate with be-bop. In contrast Rollins adapted the Parker ethos in a different way, he made use of the be-bop framework but explored thematic and motif led ideas. You could argue it is more of an intellectual approach, often adopting more complex harmonic devices and crafting lines that fall further from typical be-bop. Hearing the two tenor-men back-to-back is part of the joy of this album. You could never mistake one for the other since their styles are so different (although I believe one version of the liner notes did just that, stating that a Rollins solo appears first or vice versa) Yet both players serve the music being played and neither sounds out of place.\n",
    "\n",
    "With three titans in Gillespie, Rollins and Stitt - it would be easy to overlook the rest of the band: Ray Bryant on piano, Tommy Bryant on bass and Charlie Persip on drums. While these guys may not be \"headline acts\" as the others they do add to the quality of the album - so many albums featuring \"heavyweights\" fall down with poor supporting casts. This is particularly true for an album such as \"Sonny Side Up\" where you have two tenor players battling each other for supremacy, the rhythm section needs to be tight and stay out of their way and that is certainly achieved here.\n",
    "\n",
    "\"Sonny Side Up\" is afterall however a Dizzy Gillespie album so it is worth exploring a little bit of his role. The album is itself essentially a \"live\" studio album, all tracks were recorded in one take in a \"cutting session\" style. Reportedly before the date Dizzy did his best to rile up the rivalry between the Sonny's - important work to get the best out of the band. This all came to a head in the stand out tenor-duel on the track \"Eternal Triangle\". For me this is Dizzy Gillespie's true talent: getting the best out of people. I do not believe Charlie Parker would have been nearly as revered as he is today without Gillespie. Dizzy worked out a lot of the harmonic complexities of be-bop which allowed Parker (and to a lesser extent Monk) to flourish.\n",
    "\n",
    "> youtube: https://youtu.be/8afBciyvAeA\n",
    "\n",
    "Dizzy is of course no slouch on the trumpet either, this is particularly clear on his killer solo on \"After Hours\". He manages to pull of an effortlessly cool and laidback blues led solo. Not something you instantly think of when you think of a Dizzy solo. Then of course you cannot ignore the trademark Gillespie humour and wit - on this album coming through in the opening track \"On the Sunny Side of the Street\". Here Gillespie completely reworks the standard both melodically and rhythmically to create a fresh take on a well-trodden classic. We also get to hear Dizzy stretch his vocal chords which is always intresting too. I can see many parallels between his vocal phrasing on this tune and the phrasing used in rap music.\n",
    "\n",
    "The downside to this album is its brevity - clocking in at just over 30 minutes. It would have been great to have another cut or two on the album but it doesen't take away from the enjoyment. For the jazz historians and those interested in the progression of be-bop it is a very interesting recording, but it is also a great listen for those that just want to hear a great old-fashioned cutting session."
   ]
  },
  {
   "cell_type": "code",
   "execution_count": null,
   "metadata": {},
   "outputs": [],
   "source": []
  }
 ],
 "metadata": {
  "kernelspec": {
   "display_name": "Python 3",
   "language": "python",
   "name": "python3"
  },
  "language_info": {
   "codemirror_mode": {
    "name": "ipython",
    "version": 3
   },
   "file_extension": ".py",
   "mimetype": "text/x-python",
   "name": "python",
   "nbconvert_exporter": "python",
   "pygments_lexer": "ipython3",
   "version": "3.7.4"
  }
 },
 "nbformat": 4,
 "nbformat_minor": 2
}

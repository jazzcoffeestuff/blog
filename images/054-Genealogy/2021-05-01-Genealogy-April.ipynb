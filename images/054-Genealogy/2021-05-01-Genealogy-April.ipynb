{
 "cells": [
  {
   "cell_type": "markdown",
   "metadata": {},
   "source": [
    "# \"Genealogy and April Coffee\"\n",
    "> \"This week we look at the latest installment of my Kaffebox subscription with a pair of coffees from April Coffee Roasters. Alongside we look at the 2021 debut album from 'Code Quartet' - 'Genealogy'.\"\n",
    "- toc: false\n",
    "- author: Lewis Cole (2021)\n",
    "- branch: master\n",
    "- badges: false\n",
    "- comments: false\n",
    "- categories: [Jazz, Coffee, Code-Quartet, 2020s, April, Bourbon, H17, Washed, Honey, Ethiopia, Costa-Rica]\n",
    "- hide: false\n",
    "- search_exclude: false\n",
    "- image: https://github.com/jazzcoffeestuff/blog/raw/master/images/054-Genealogy/Genealogy.jpg"
   ]
  },
  {
   "cell_type": "markdown",
   "metadata": {},
   "source": [
    "> youtube: https://youtu.be/WKUlpo4qaLk\n",
    "\n",
    "This week  marks the next installment in the KaffeBox subscription series. The April installment features April Coffee Roasters (I see what they did there, very punny). April are a roaster based in Copenhagen, Denmark. They are a roaster I've wanted to try for a while but the shipping costs/times mean I rarely stray outside of UK based roasters and when I do I like to stick to roasters I know and love. I was therefore very happy to see April coffees arrive this month.\n",
    "\n",
    "As you may recall my Kaffebox subscription consists of 2 different 125g bags of coffee each month (both roasted for filter). This is not enough to dial in both filter and espresso comfortably so I dedicate one to filter duty and one to espresso duty. This month I selected based on origin and what I tend to prefer for each coffee style.\n",
    "\n",
    "Starting off with the filter side of things we have a washed coffee from Ethiopia. It is from the Arsosala washing station in Guji, and what is interesting about this coffee is it is a Bourbon cultivar. Typically with Ethiopia you get \"heirloom\" or \"mixed landrace\" cultivars (although the specific cultivars are increasingly being identified). On the dry aroma I get caramel and candy notes along with the typical florals you would expect from a washed Ethiopian. In the cup we are treated to a very clean profile, it is refined and delicate. We have a very perfumed and floral cup with a lot of complexity that evolves as the temperature cools. Alongside we have lemon-y citrus notes and a sweet sugar-syrup vibe. The aftertaste and finish are extremely clean and fairly short lived, body is low and the acidity level is medium. It is a very good example of what a washed Guji Ethiopian should be, and the sort of coffee I can drink by the pint and still enjoy.\n",
    "\n",
    "On the espresso side we have a Costa Rican coffee from the Volcan Azul farm. The cultivar in question is H17 which is a hybrid cultivar. It is not one I am familiar with (I have had H3 a few times) and I can't find out many details about the exact genetic make-up. The coffee has undergone a yellow honey processing. This coffee has really blown me away as an espresso. I find honey processed Costa Ricans the most forgiving bean for espresso typically but this was a whole different level of forgiving - every single thing I tried was fantastic. It made choosing an \"ideal\" recipe next to impossible. In the end I just went to a regular 1:2 ratio so I could appreciate the thicker rich mouthfeel. The flavours on show were hazelnut, almond, honey, sugar-syrup and plum. It is not the most complicated coffee I've ever had but it is incredibly drinkable and enjoyable - it is just a great example of what espresso can be. Again like with the filter the coffee is very clean and the aftertaste is fairly shortlived.\n",
    "\n",
    "Overall 2 very strong showings from April, I'll certainly be on the lookout for coffees from them in the past. When I'm feeling flush I might splash out on some of their more exclusive Gesha offerings.\n",
    "\n",
    "On the jazz side we are taking a first look at a 2021 release from Code Quartet - \"Genealogy\".\n",
    "\n",
    "![](https://github.com/jazzcoffeestuff/blog/raw/master/images/054-Genealogy/Genealogy.jpg)\n",
    "\n",
    "Code Quartet are a relatively new project and \"Genealogy\" represents their debut which was released on April 23rd 2021. The band formed 4 years ago in Montreal, Canada. The idea behind the project was to explore \"chord-less\" music and they cite the Ornette Coleman groups from the 1950s as a primary influence. They also list the work of Fletcher Henderson, Charlie Haden and Paul Bley as influencing their work.\n",
    "\n",
    "The quartet is made up of:\n",
    "\n",
    "- Christine Jensen - saxophones\n",
    "- Lex French - trumpet\n",
    "- Adrian Vedady - acoustic bass\n",
    "- Jim Doxas - drums\n",
    "\n",
    "By forgoing instruments with the ability to play chords they open up many possibilities within the music. The roles of \"lead\" and \"rhythm\" players become a little harder to define and it becomes more about the interplay between instruments. On this particular project there seems to be around a 50:50 split between the compositional and improvisational aspects and it is evident that the musicians are very comfortable playing with each other, this allows them to take plenty of risks and push the boundaries.\n",
    "\n",
    "Despite the influences listed above the opening track \"Tipsy\" (embedded at the start of the post) sounds more like a tune you'd hear on a Hank Mobley record than an Ornette Coleman one, but this is no bad thing. The focus of the tune is the funky-soul jazz swing. Jensen taking a tasty Rollins inspired solo part way through. It is not the most complex or original piece you'll ever hear but it is a style that you don't hear explored much anymore so it is a nice surprise to open the album.\n",
    "\n",
    "> youtube: https://youtu.be/yELcAAU_p40\n",
    "\n",
    "Perhaps the most complex piece on the album is \"Wind Up\" (above), here the band strays more into the Coleman inspired \"free\" style. The tune is based around quite a complicated rhythmic figure but Doxas manages to keep things grooving and it doesn't sound like a \"music degree show piece\" like many modern jazz pieces do. Over the top we have a twisting harmonic idea which shows the Jensen-French interplay off to full effect. Each player manages to serve the music and each other but there is still a sense of individual expression: Jensen going for a wilder outside staccato playing style while French sticks to more inside flowing legato ideas. The contrast works well together and it never feels like a \"jam session\" comprised of a random set of musicians.\n",
    "\n",
    "What really makes this album interesting however is the sheer variety of music on show. The two tracks listed above are very different but share the same \"DNA\". This is echoed throughout the entire album - we have the (very clearly) Coleman influenced title track which would have fit right in on a 50s album from Ornette. Alongside we have the more angular modern jazz influenced \"Watching It All Slip Away\". The track \"Day Moon\" feels like it was inspired by \"Tijuana Moods\" era Charles Mingus and the album closes with \"Beach Community\" which has a Carribean-lilt which shows more than a passing resemblence to the Rollins classic \"St Thomas\". The quartet covers quite a wide variety of jazz history in just the 51 minute play time of the album, however do not think of this as a \"covers band\" - there is a very definitely \"Code Quartet\" sound on show.\n",
    "\n",
    "Overall this is a strong debut album. It is definitely a little \"rough around the edges\" in places but this kind of adds to its charm. Unlike many modern jazz offerings they do not let perfection be the enemy of the good. \"Code Quartet\" will definitely be a group I'll keep an ear-out for in the future as this debut shows a lot of promise."
   ]
  },
  {
   "cell_type": "code",
   "execution_count": null,
   "metadata": {},
   "outputs": [],
   "source": []
  }
 ],
 "metadata": {
  "kernelspec": {
   "display_name": "Python 3",
   "language": "python",
   "name": "python3"
  },
  "language_info": {
   "codemirror_mode": {
    "name": "ipython",
    "version": 3
   },
   "file_extension": ".py",
   "mimetype": "text/x-python",
   "name": "python",
   "nbconvert_exporter": "python",
   "pygments_lexer": "ipython3",
   "version": "3.7.4"
  }
 },
 "nbformat": 4,
 "nbformat_minor": 2
}
